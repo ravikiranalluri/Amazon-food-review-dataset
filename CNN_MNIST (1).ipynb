{
 "cells": [
  {
   "cell_type": "markdown",
   "metadata": {},
   "source": [
    "# ---------------- CNN on MNIST DATA -------------------"
   ]
  },
  {
   "cell_type": "markdown",
   "metadata": {},
   "source": [
    "## 3-Layered CNN + sigmoid + relu + Adadelta"
   ]
  },
  {
   "cell_type": "code",
   "execution_count": 1,
   "metadata": {
    "colab": {
     "base_uri": "https://localhost:8080/",
     "height": 591
    },
    "colab_type": "code",
    "id": "H9EU0e8yzFOm",
    "outputId": "14419b5e-e553-414c-ae09-9afa1d81ecaf"
   },
   "outputs": [
    {
     "name": "stderr",
     "output_type": "stream",
     "text": [
      "C:\\ProgramData\\Anaconda3\\lib\\site-packages\\h5py\\__init__.py:36: FutureWarning: Conversion of the second argument of issubdtype from `float` to `np.floating` is deprecated. In future, it will be treated as `np.float64 == np.dtype(float).type`.\n",
      "  from ._conv import register_converters as _register_converters\n",
      "Using TensorFlow backend.\n"
     ]
    },
    {
     "name": "stdout",
     "output_type": "stream",
     "text": [
      "x_train shape: (60000, 28, 28, 1)\n",
      "60000 train samples\n",
      "10000 test samples\n",
      "y_train.shape : (60000, 10)\n",
      "y_test.shape : (10000, 10)\n",
      "Train on 60000 samples, validate on 10000 samples\n",
      "Epoch 1/12\n",
      "60000/60000 [==============================] - 17s 278us/step - loss: 1.5111 - acc: 0.4434 - val_loss: 0.6490 - val_acc: 0.8652\n",
      "Epoch 2/12\n",
      "60000/60000 [==============================] - 9s 145us/step - loss: 1.0271 - acc: 0.6257 - val_loss: 0.5225 - val_acc: 0.8444\n",
      "Epoch 3/12\n",
      "60000/60000 [==============================] - 9s 146us/step - loss: 0.9079 - acc: 0.6727 - val_loss: 0.4120 - val_acc: 0.9147\n",
      "Epoch 4/12\n",
      "60000/60000 [==============================] - 9s 145us/step - loss: 0.8363 - acc: 0.7039 - val_loss: 0.3882 - val_acc: 0.9224\n",
      "Epoch 5/12\n",
      "60000/60000 [==============================] - 9s 145us/step - loss: 0.7888 - acc: 0.7250 - val_loss: 0.3680 - val_acc: 0.9223\n",
      "Epoch 6/12\n",
      "60000/60000 [==============================] - 9s 145us/step - loss: 0.7597 - acc: 0.7362 - val_loss: 0.3257 - val_acc: 0.9400\n",
      "Epoch 7/12\n",
      "60000/60000 [==============================] - 9s 145us/step - loss: 0.7301 - acc: 0.7467 - val_loss: 0.3274 - val_acc: 0.9331\n",
      "Epoch 8/12\n",
      "60000/60000 [==============================] - 9s 144us/step - loss: 0.7136 - acc: 0.7550 - val_loss: 0.2926 - val_acc: 0.9470\n",
      "Epoch 9/12\n",
      "60000/60000 [==============================] - 9s 145us/step - loss: 0.6863 - acc: 0.7639 - val_loss: 0.3045 - val_acc: 0.9456\n",
      "Epoch 10/12\n",
      "60000/60000 [==============================] - 9s 144us/step - loss: 0.6840 - acc: 0.7676 - val_loss: 0.2631 - val_acc: 0.9508\n",
      "Epoch 11/12\n",
      "60000/60000 [==============================] - 9s 145us/step - loss: 0.6655 - acc: 0.7777 - val_loss: 0.2731 - val_acc: 0.9508\n",
      "Epoch 12/12\n",
      "60000/60000 [==============================] - 9s 145us/step - loss: 0.6478 - acc: 0.7809 - val_loss: 0.2384 - val_acc: 0.9556\n",
      "Test loss: 0.23841434007883072\n",
      "Test accuracy: 0.9556\n"
     ]
    }
   ],
   "source": [
    "# Credits: https://github.com/keras-team/keras/blob/master/examples/mnist_cnn.py\n",
    "\n",
    "\n",
    "from __future__ import print_function\n",
    "import keras\n",
    "from keras.datasets import mnist\n",
    "from keras.models import Sequential\n",
    "from keras.layers import Dense, Dropout, Flatten\n",
    "from keras.layers import Conv2D, MaxPooling2D\n",
    "from keras import backend as K\n",
    "from keras.layers.normalization import BatchNormalization\n",
    "\n",
    "batch_size = 128\n",
    "num_classes = 10\n",
    "epochs = 12\n",
    "\n",
    "# input image dimensions\n",
    "img_rows, img_cols = 28, 28\n",
    "\n",
    "# the data, split between train and test sets\n",
    "(x_train, y_train), (x_test, y_test) = mnist.load_data()\n",
    "\n",
    "if K.image_data_format() == 'channels_first':\n",
    "    x_train = x_train.reshape(x_train.shape[0], 1, img_rows, img_cols)\n",
    "    x_test = x_test.reshape(x_test.shape[0], 1, img_rows, img_cols)\n",
    "    input_shape = (1, img_rows, img_cols)\n",
    "else:\n",
    "    x_train = x_train.reshape(x_train.shape[0], img_rows, img_cols, 1)\n",
    "    x_test = x_test.reshape(x_test.shape[0], img_rows, img_cols, 1)\n",
    "    input_shape = (img_rows, img_cols, 1)\n",
    "\n",
    "x_train = x_train.astype('float32')\n",
    "x_test = x_test.astype('float32')\n",
    "x_train /= 255\n",
    "x_test /= 255\n",
    "print('x_train shape:', x_train.shape)\n",
    "print(x_train.shape[0], 'train samples')\n",
    "print(x_test.shape[0], 'test samples')\n",
    "\n",
    "# convert class vectors to binary class matrices\n",
    "y_train = keras.utils.to_categorical(y_train, num_classes)\n",
    "print('y_train.shape :',y_train.shape)\n",
    "y_test = keras.utils.to_categorical(y_test, num_classes)\n",
    "print('y_test.shape :',y_test.shape)\n",
    "model = Sequential()\n",
    "model.add(Conv2D(50, kernel_size=(20, 20),strides=(2, 2),\n",
    "                 activation='relu', input_shape=input_shape))\n",
    "model.add(BatchNormalization())\n",
    "model.add(Conv2D(25, (3, 3), activation='sigmoid'))\n",
    "model.add(MaxPooling2D(pool_size=(2, 2)))\n",
    "model.add(Dropout(0.4))\n",
    "model.add(Conv2D(30, (1, 1), activation='relu'))\n",
    "model.add(Dropout(0.7))\n",
    "model.add(Conv2D(10,(1,1)))\n",
    "model.add(BatchNormalization())\n",
    "model.add(Flatten())\n",
    "model.add(Dense(128, activation='relu'))\n",
    "model.add(Dropout(0.5))\n",
    "model.add(Dense(num_classes, activation='softmax'))\n",
    "\n",
    "model.compile(loss=keras.losses.categorical_crossentropy,\n",
    "              optimizer=keras.optimizers.Adadelta(),\n",
    "              metrics=['accuracy'])\n",
    "\n",
    "value = model.fit(x_train, y_train,\n",
    "          batch_size=batch_size,\n",
    "          epochs=epochs,\n",
    "          verbose=1,\n",
    "          validation_data=(x_test, y_test))\n",
    "score = model.evaluate(x_test, y_test, verbose=0)\n",
    "print('Test loss:', score[0])\n",
    "print('Test accuracy:', score[1])"
   ]
  },
  {
   "cell_type": "code",
   "execution_count": 2,
   "metadata": {},
   "outputs": [],
   "source": [
    "import matplotlib.pyplot as plt\n",
    "import numpy as np\n",
    "import time\n",
    "# https://gist.github.com/greydanus/f6eee59eaf1d90fcb3b534a25362cea4\n",
    "# this function is used to update the plots for each epoch and error\n",
    "def plt_dynamic(x, vy, ty, ax, colors=['b']):\n",
    "    ax.plot(x, vy, 'b', label=\"Validation Loss\")\n",
    "    ax.plot(x, ty, 'r', label=\"Train Loss\")\n",
    "    plt.legend()\n",
    "    plt.grid()\n",
    "    fig.canvas.draw()"
   ]
  },
  {
   "cell_type": "code",
   "execution_count": 3,
   "metadata": {},
   "outputs": [
    {
     "name": "stdout",
     "output_type": "stream",
     "text": [
      "Test score: 0.23841434007883072\n",
      "Test accuracy: 0.9556\n"
     ]
    },
    {
     "data": {
      "image/png": "[encoded data removed]",
      "text/plain": [
       "<Figure size 432x288 with 1 Axes>"
      ]
     },
     "metadata": {},
     "output_type": "display_data"
    }
   ],
   "source": [
    "score = model.evaluate(x_test, y_test, verbose=0)\n",
    "print('Test score:', score[0])\n",
    "print('Test accuracy:', score[1])\n",
    "   \n",
    "fig,ax = plt.subplots(1,1)\n",
    "ax.set_xlabel('epoch') ; ax.set_ylabel('Categorical Crossentropy Loss')\n",
    "    \n",
    "    # list of epoch numbers\n",
    "x = list(range(1,epochs+1))\n",
    "vy = value.history['val_loss']\n",
    "ty = value.history['loss']\n",
    "plt_dynamic(x, vy, ty, ax)"
   ]
  },
  {
   "cell_type": "markdown",
   "metadata": {},
   "source": [
    "## 3-Layered CNN+ sigmoid +relu+BN+adagrad"
   ]
  },
  {
   "cell_type": "code",
   "execution_count": 13,
   "metadata": {},
   "outputs": [
    {
     "name": "stdout",
     "output_type": "stream",
     "text": [
      "Train on 60000 samples, validate on 10000 samples\n",
      "Epoch 1/15\n",
      "60000/60000 [==============================] - 5s 78us/step - loss: 0.3542 - acc: 0.9028 - val_loss: 0.1824 - val_acc: 0.9454\n",
      "Epoch 2/15\n",
      "60000/60000 [==============================] - 4s 64us/step - loss: 0.1446 - acc: 0.9574 - val_loss: 0.1398 - val_acc: 0.9574\n",
      "Epoch 3/15\n",
      "60000/60000 [==============================] - 4s 67us/step - loss: 0.1206 - acc: 0.9642 - val_loss: 0.1220 - val_acc: 0.9617\n",
      "Epoch 4/15\n",
      "60000/60000 [==============================] - 4s 72us/step - loss: 0.1058 - acc: 0.9684 - val_loss: 0.1228 - val_acc: 0.9607\n",
      "Epoch 5/15\n",
      "60000/60000 [==============================] - 4s 72us/step - loss: 0.0961 - acc: 0.9711 - val_loss: 0.1084 - val_acc: 0.9672\n",
      "Epoch 6/15\n",
      "60000/60000 [==============================] - 4s 69us/step - loss: 0.0889 - acc: 0.9730 - val_loss: 0.1071 - val_acc: 0.9670\n",
      "Epoch 7/15\n",
      "60000/60000 [==============================] - 4s 67us/step - loss: 0.0845 - acc: 0.9746 - val_loss: 0.1019 - val_acc: 0.9680\n",
      "Epoch 8/15\n",
      "60000/60000 [==============================] - 4s 62us/step - loss: 0.0785 - acc: 0.9763 - val_loss: 0.1069 - val_acc: 0.9661\n",
      "Epoch 9/15\n",
      "60000/60000 [==============================] - 4s 62us/step - loss: 0.0744 - acc: 0.9777 - val_loss: 0.0996 - val_acc: 0.9693\n",
      "Epoch 10/15\n",
      "60000/60000 [==============================] - 4s 62us/step - loss: 0.0717 - acc: 0.9778 - val_loss: 0.1034 - val_acc: 0.9686\n",
      "Epoch 11/15\n",
      "60000/60000 [==============================] - 4s 67us/step - loss: 0.0685 - acc: 0.9796 - val_loss: 0.0946 - val_acc: 0.9717\n",
      "Epoch 12/15\n",
      "60000/60000 [==============================] - 4s 62us/step - loss: 0.0654 - acc: 0.9806 - val_loss: 0.0978 - val_acc: 0.9707\n",
      "Epoch 13/15\n",
      "60000/60000 [==============================] - 4s 62us/step - loss: 0.0637 - acc: 0.9813 - val_loss: 0.0972 - val_acc: 0.9708\n",
      "Epoch 14/15\n",
      "60000/60000 [==============================] - 4s 62us/step - loss: 0.0621 - acc: 0.9814 - val_loss: 0.0955 - val_acc: 0.9719\n",
      "Epoch 15/15\n",
      "60000/60000 [==============================] - 4s 62us/step - loss: 0.0597 - acc: 0.9820 - val_loss: 0.0962 - val_acc: 0.9706\n",
      "Test loss: 0.09622555249566213\n",
      "Test accuracy: 0.9706\n"
     ]
    }
   ],
   "source": [
    "model = Sequential()\n",
    "model.add(Conv2D(10, kernel_size=(20, 20),strides=(2, 2),\n",
    "                 activation='relu', input_shape=input_shape))\n",
    "model.add(BatchNormalization())\n",
    "model.add(Conv2D(25, (3, 3), activation='sigmoid'))\n",
    "model.add(MaxPooling2D(pool_size=(2, 2)))\n",
    "model.add(Conv2D(30, (1, 1), activation='relu'))\n",
    "model.add(Conv2D(40,(1,1)))\n",
    "model.add(BatchNormalization())\n",
    "model.add(Flatten())\n",
    "model.add(Dense(128, activation='sigmoid'))\n",
    "model.add(Dense(64, kernel_initializer='random_normal'))\n",
    "model.add(Dense(num_classes, activation='softmax'))\n",
    "\n",
    "model.compile(loss=keras.losses.categorical_crossentropy,\n",
    "              optimizer=keras.optimizers.Adagrad(),\n",
    "              metrics=['accuracy'])\n",
    "\n",
    "value = model.fit(x_train, y_train,\n",
    "          batch_size=batch_size,\n",
    "          epochs=epochs,\n",
    "          verbose=1,\n",
    "          validation_data=(x_test, y_test))\n",
    "score = model.evaluate(x_test, y_test, verbose=0)\n",
    "print('Test loss:', score[0])\n",
    "print('Test accuracy:', score[1])"
   ]
  },
  {
   "cell_type": "code",
   "execution_count": 14,
   "metadata": {},
   "outputs": [
    {
     "name": "stdout",
     "output_type": "stream",
     "text": [
      "Test score: 0.09622555249566213\n",
      "Test accuracy: 0.9706\n"
     ]
    },
    {
     "data": {
      "image/png": "[encoded data removed]",
      "text/plain": [
       "<Figure size 432x288 with 1 Axes>"
      ]
     },
     "metadata": {},
     "output_type": "display_data"
    }
   ],
   "source": [
    "score = model.evaluate(x_test, y_test, verbose=0)\n",
    "print('Test score:', score[0])\n",
    "print('Test accuracy:', score[1])\n",
    "   \n",
    "fig,ax = plt.subplots(1,1)\n",
    "ax.set_xlabel('epoch') ; ax.set_ylabel('Categorical Crossentropy Loss')\n",
    "    \n",
    "    # list of epoch numbers\n",
    "x = list(range(1,epochs+1))\n",
    "vy = value.history['val_loss']\n",
    "ty = value.history['loss']\n",
    "plt_dynamic(x, vy, ty, ax)"
   ]
  },
  {
   "cell_type": "markdown",
   "metadata": {},
   "source": [
    "## 3-Layered CNN+ tanh +relu+ Dropout + adam"
   ]
  },
  {
   "cell_type": "code",
   "execution_count": 15,
   "metadata": {},
   "outputs": [
    {
     "name": "stdout",
     "output_type": "stream",
     "text": [
      "Train on 60000 samples, validate on 10000 samples\n",
      "Epoch 1/15\n",
      "60000/60000 [==============================] - 6s 96us/step - loss: 1.3161 - acc: 0.5267 - val_loss: 0.3451 - val_acc: 0.9089\n",
      "Epoch 2/15\n",
      "60000/60000 [==============================] - 5s 78us/step - loss: 0.6603 - acc: 0.7823 - val_loss: 0.1934 - val_acc: 0.9430\n",
      "Epoch 3/15\n",
      "60000/60000 [==============================] - 4s 74us/step - loss: 0.5166 - acc: 0.8360 - val_loss: 0.1439 - val_acc: 0.9541\n",
      "Epoch 4/15\n",
      "60000/60000 [==============================] - 5s 76us/step - loss: 0.4423 - acc: 0.8601 - val_loss: 0.1286 - val_acc: 0.9584\n",
      "Epoch 5/15\n",
      "60000/60000 [==============================] - 4s 75us/step - loss: 0.4008 - acc: 0.8744 - val_loss: 0.1102 - val_acc: 0.9659\n",
      "Epoch 6/15\n",
      "60000/60000 [==============================] - 5s 78us/step - loss: 0.3689 - acc: 0.8844 - val_loss: 0.1105 - val_acc: 0.9658\n",
      "Epoch 7/15\n",
      "60000/60000 [==============================] - 4s 73us/step - loss: 0.3452 - acc: 0.8915 - val_loss: 0.1082 - val_acc: 0.9665\n",
      "Epoch 8/15\n",
      "60000/60000 [==============================] - 4s 72us/step - loss: 0.3252 - acc: 0.8985 - val_loss: 0.0881 - val_acc: 0.9732\n",
      "Epoch 9/15\n",
      "60000/60000 [==============================] - 5s 75us/step - loss: 0.3107 - acc: 0.9038 - val_loss: 0.0807 - val_acc: 0.9738\n",
      "Epoch 10/15\n",
      "60000/60000 [==============================] - 5s 85us/step - loss: 0.3072 - acc: 0.9067 - val_loss: 0.0834 - val_acc: 0.9742\n",
      "Epoch 11/15\n",
      "60000/60000 [==============================] - 5s 88us/step - loss: 0.2930 - acc: 0.9082 - val_loss: 0.0772 - val_acc: 0.9763\n",
      "Epoch 12/15\n",
      "60000/60000 [==============================] - 5s 80us/step - loss: 0.2810 - acc: 0.9119 - val_loss: 0.0767 - val_acc: 0.9768\n",
      "Epoch 13/15\n",
      "60000/60000 [==============================] - 5s 76us/step - loss: 0.2789 - acc: 0.9141 - val_loss: 0.0702 - val_acc: 0.9780\n",
      "Epoch 14/15\n",
      "60000/60000 [==============================] - 4s 74us/step - loss: 0.2742 - acc: 0.9127 - val_loss: 0.0678 - val_acc: 0.9799\n",
      "Epoch 15/15\n",
      "60000/60000 [==============================] - 5s 82us/step - loss: 0.2743 - acc: 0.9139 - val_loss: 0.0677 - val_acc: 0.9792\n",
      "Test loss: 0.06771625264753821\n",
      "Test accuracy: 0.9792\n"
     ]
    }
   ],
   "source": [
    "model = Sequential()\n",
    "model.add(Conv2D(5, kernel_size=(10, 10),strides=(2, 2),\n",
    "                 activation='relu', input_shape=input_shape))\n",
    "model.add(Conv2D(25, (5,5 ), activation='tanh'))\n",
    "model.add(MaxPooling2D(pool_size=(3, 3)))\n",
    "model.add(Dropout(0.4))\n",
    "model.add(Conv2D(30, (2, 2), activation='tanh'))\n",
    "model.add(Dropout(0.7))\n",
    "model.add(Conv2D(10,(1,1)))\n",
    "model.add(Flatten())\n",
    "model.add(Dense(128, activation='relu'))\n",
    "model.add(Dense(64, kernel_initializer='RandomUniform'))\n",
    "model.add(Dropout(0.5))\n",
    "model.add(Dense(num_classes, activation='softmax'))\n",
    "\n",
    "model.compile(loss=keras.losses.categorical_crossentropy,\n",
    "              optimizer=keras.optimizers.Adam(),\n",
    "              metrics=['accuracy'])\n",
    "\n",
    "value = model.fit(x_train, y_train,\n",
    "          batch_size=batch_size,\n",
    "          epochs=epochs,\n",
    "          verbose=1,\n",
    "          validation_data=(x_test, y_test))\n",
    "score = model.evaluate(x_test, y_test, verbose=0)\n",
    "print('Test loss:', score[0])\n",
    "print('Test accuracy:', score[1])"
   ]
  },
  {
   "cell_type": "code",
   "execution_count": 16,
   "metadata": {},
   "outputs": [
    {
     "name": "stdout",
     "output_type": "stream",
     "text": [
      "Test score: 0.06771625264753821\n",
      "Test accuracy: 0.9792\n"
     ]
    },
    {
     "data": {
      "image/png": "[encoded data removed]",
      "text/plain": [
       "<Figure size 432x288 with 1 Axes>"
      ]
     },
     "metadata": {},
     "output_type": "display_data"
    }
   ],
   "source": [
    "score = model.evaluate(x_test, y_test, verbose=0)\n",
    "print('Test score:', score[0])\n",
    "print('Test accuracy:', score[1])\n",
    "   \n",
    "fig,ax = plt.subplots(1,1)\n",
    "ax.set_xlabel('epoch') ; ax.set_ylabel('Categorical Crossentropy Loss')\n",
    "    \n",
    "    # list of epoch numbers\n",
    "x = list(range(1,epochs+1))\n",
    "vy = value.history['val_loss']\n",
    "ty = value.history['loss']\n",
    "plt_dynamic(x, vy, ty, ax)"
   ]
  },
  {
   "cell_type": "markdown",
   "metadata": {},
   "source": [
    "## 5-layered CNN+  relu + sig + BN + Dropouts + adam"
   ]
  },
  {
   "cell_type": "code",
   "execution_count": 4,
   "metadata": {
    "colab": {
     "base_uri": "https://localhost:8080/",
     "height": 554
    },
    "colab_type": "code",
    "id": "8UDXqBT2kcZi",
    "outputId": "136f0fec-90f9-410d-82f3-e22e54e832f9"
   },
   "outputs": [
    {
     "name": "stdout",
     "output_type": "stream",
     "text": [
      "x_train shape: (60000, 28, 28, 1)\n",
      "60000 train samples\n",
      "10000 test samples\n",
      "y_train.shape : (60000, 10)\n",
      "y_test.shape : (10000, 10)\n",
      "Train on 60000 samples, validate on 10000 samples\n",
      "Epoch 1/12\n",
      "60000/60000 [==============================] - 38s 630us/step - loss: 0.5976 - acc: 0.8084 - val_loss: 0.0953 - val_acc: 0.9704\n",
      "Epoch 2/12\n",
      "60000/60000 [==============================] - 36s 602us/step - loss: 0.1887 - acc: 0.9422 - val_loss: 0.0674 - val_acc: 0.9778\n",
      "Epoch 3/12\n",
      "60000/60000 [==============================] - 36s 607us/step - loss: 0.1447 - acc: 0.9562 - val_loss: 0.0545 - val_acc: 0.9841\n",
      "Epoch 4/12\n",
      "60000/60000 [==============================] - 37s 611us/step - loss: 0.1312 - acc: 0.9616 - val_loss: 0.0555 - val_acc: 0.9827\n",
      "Epoch 5/12\n",
      "60000/60000 [==============================] - 37s 612us/step - loss: 0.1172 - acc: 0.9652 - val_loss: 0.0421 - val_acc: 0.9869\n",
      "Epoch 6/12\n",
      "60000/60000 [==============================] - 37s 618us/step - loss: 0.1084 - acc: 0.9675 - val_loss: 0.0432 - val_acc: 0.9861\n",
      "Epoch 7/12\n",
      "60000/60000 [==============================] - 38s 627us/step - loss: 0.1017 - acc: 0.9703 - val_loss: 0.0511 - val_acc: 0.9838\n",
      "Epoch 8/12\n",
      "60000/60000 [==============================] - 38s 626us/step - loss: 0.0995 - acc: 0.9715 - val_loss: 0.0387 - val_acc: 0.9870\n",
      "Epoch 9/12\n",
      "60000/60000 [==============================] - 38s 627us/step - loss: 0.0934 - acc: 0.9735 - val_loss: 0.0383 - val_acc: 0.9885\n",
      "Epoch 10/12\n",
      "60000/60000 [==============================] - 38s 627us/step - loss: 0.0908 - acc: 0.9736 - val_loss: 0.0377 - val_acc: 0.9877\n",
      "Epoch 11/12\n",
      "60000/60000 [==============================] - 38s 632us/step - loss: 0.0913 - acc: 0.9733 - val_loss: 0.0639 - val_acc: 0.9806\n",
      "Epoch 12/12\n",
      "60000/60000 [==============================] - 39s 647us/step - loss: 0.0903 - acc: 0.9743 - val_loss: 0.0381 - val_acc: 0.9883\n",
      "Test loss: 0.038053290646988897\n",
      "Test accuracy: 0.9883\n"
     ]
    }
   ],
   "source": [
    "print('x_train shape:', x_train.shape)\n",
    "print(x_train.shape[0], 'train samples')\n",
    "print(x_test.shape[0], 'test samples')\n",
    "print('y_train.shape :',y_train.shape)\n",
    "print('y_test.shape :',y_test.shape)\n",
    "model_1 = Sequential()\n",
    "model_1.add(Conv2D(5, kernel_size=(2, 2),activation='tanh',input_shape=input_shape))\n",
    "model_1.add(BatchNormalization())\n",
    "model_1.add(Conv2D(10,(3,3),activation='sigmoid'))\n",
    "model_1.add(Conv2D(30,(5,5),activation='relu'))\n",
    "model_1.add(Dropout(0.6))\n",
    "model_1.add(Conv2D(10,(10,10),activation='relu'))\n",
    "model_1.add(MaxPooling2D(pool_size=(2, 2)))\n",
    "model_1.add(Conv2D(5,(5,5),activation = 'tanh'))\n",
    "model_1.add(BatchNormalization())\n",
    "model_1.add(Flatten())\n",
    "model_1.add(Dropout(0.4))\n",
    "model_1.add(Dense(128, activation='relu'))\n",
    "model_1.add(Dense(num_classes, activation='softmax'))\n",
    "\n",
    "model_1.compile(loss=keras.losses.categorical_crossentropy,\n",
    "              optimizer=keras.optimizers.Adam(),\n",
    "              metrics=['accuracy'])\n",
    "\n",
    "value = model_1.fit(x_train, y_train,\n",
    "          batch_size=batch_size,\n",
    "          epochs=epochs,\n",
    "          verbose=1,\n",
    "          validation_data=(x_test, y_test))\n",
    "score = model_1.evaluate(x_test, y_test, verbose=0)\n",
    "print('Test loss:', score[0])\n",
    "print('Test accuracy:', score[1])"
   ]
  },
  {
   "cell_type": "code",
   "execution_count": 5,
   "metadata": {},
   "outputs": [
    {
     "name": "stdout",
     "output_type": "stream",
     "text": [
      "Test score: 0.23841434007883072\n",
      "Test accuracy: 0.9556\n"
     ]
    },
    {
     "data": {
      "image/png": "[encoded data removed]",
      "text/plain": [
       "<Figure size 432x288 with 1 Axes>"
      ]
     },
     "metadata": {},
     "output_type": "display_data"
    }
   ],
   "source": [
    "score = model.evaluate(x_test, y_test, verbose=0)\n",
    "print('Test score:', score[0])\n",
    "print('Test accuracy:', score[1])\n",
    "   \n",
    "fig,ax = plt.subplots(1,1)\n",
    "ax.set_xlabel('epoch') ; ax.set_ylabel('Categorical Crossentropy Loss')\n",
    "    \n",
    "    # list of epoch numbers\n",
    "x = list(range(1,epochs+1))\n",
    "vy = value.history['val_loss']\n",
    "ty = value.history['loss']\n",
    "plt_dynamic(x, vy, ty, ax)"
   ]
  },
  {
   "cell_type": "markdown",
   "metadata": {},
   "source": [
    "## 5-layered CNN+  tanh + sig + BN  + SGD"
   ]
  },
  {
   "cell_type": "code",
   "execution_count": 18,
   "metadata": {},
   "outputs": [
    {
     "name": "stdout",
     "output_type": "stream",
     "text": [
      "x_train shape: (60000, 28, 28, 1)\n",
      "60000 train samples\n",
      "10000 test samples\n",
      "y_train.shape : (60000, 10)\n",
      "y_test.shape : (10000, 10)\n",
      "Train on 60000 samples, validate on 10000 samples\n",
      "Epoch 1/15\n",
      "60000/60000 [==============================] - 45s 747us/step - loss: 1.5723 - acc: 0.6920 - val_loss: 1.1275 - val_acc: 0.8711\n",
      "Epoch 2/15\n",
      "60000/60000 [==============================] - 44s 726us/step - loss: 0.8746 - acc: 0.9079 - val_loss: 0.6286 - val_acc: 0.9403\n",
      "Epoch 3/15\n",
      "60000/60000 [==============================] - 45s 746us/step - loss: 0.5063 - acc: 0.9478 - val_loss: 0.3778 - val_acc: 0.9604\n",
      "Epoch 4/15\n",
      "60000/60000 [==============================] - 46s 765us/step - loss: 0.3293 - acc: 0.9623 - val_loss: 0.2589 - val_acc: 0.9680\n",
      "Epoch 5/15\n",
      "60000/60000 [==============================] - 47s 775us/step - loss: 0.2385 - acc: 0.9697 - val_loss: 0.1936 - val_acc: 0.9742\n",
      "Epoch 6/15\n",
      "60000/60000 [==============================] - 47s 788us/step - loss: 0.1870 - acc: 0.9741 - val_loss: 0.1613 - val_acc: 0.9780\n",
      "Epoch 7/15\n",
      "60000/60000 [==============================] - 48s 794us/step - loss: 0.1540 - acc: 0.9776 - val_loss: 0.1327 - val_acc: 0.9801\n",
      "Epoch 8/15\n",
      "60000/60000 [==============================] - 49s 813us/step - loss: 0.1311 - acc: 0.9804 - val_loss: 0.1122 - val_acc: 0.9832\n",
      "Epoch 9/15\n",
      "60000/60000 [==============================] - 49s 816us/step - loss: 0.1148 - acc: 0.9820 - val_loss: 0.1017 - val_acc: 0.9832\n",
      "Epoch 10/15\n",
      "60000/60000 [==============================] - 49s 815us/step - loss: 0.1019 - acc: 0.9837 - val_loss: 0.0941 - val_acc: 0.9842\n",
      "Epoch 11/15\n",
      "60000/60000 [==============================] - 49s 814us/step - loss: 0.0918 - acc: 0.9847 - val_loss: 0.0832 - val_acc: 0.9867\n",
      "Epoch 12/15\n",
      "60000/60000 [==============================] - 49s 814us/step - loss: 0.0839 - acc: 0.9853 - val_loss: 0.0758 - val_acc: 0.9864\n",
      "Epoch 13/15\n",
      "60000/60000 [==============================] - 49s 814us/step - loss: 0.0770 - acc: 0.9869 - val_loss: 0.0711 - val_acc: 0.9873\n",
      "Epoch 14/15\n",
      "60000/60000 [==============================] - 49s 815us/step - loss: 0.0715 - acc: 0.9876 - val_loss: 0.0675 - val_acc: 0.9868\n",
      "Epoch 15/15\n",
      "60000/60000 [==============================] - 49s 815us/step - loss: 0.0665 - acc: 0.9882 - val_loss: 0.0625 - val_acc: 0.9880\n",
      "Test loss: 0.0625388405263424\n",
      "Test accuracy: 0.988\n"
     ]
    }
   ],
   "source": [
    "print('x_train shape:', x_train.shape)\n",
    "print(x_train.shape[0], 'train samples')\n",
    "print(x_test.shape[0], 'test samples')\n",
    "print('y_train.shape :',y_train.shape)\n",
    "print('y_test.shape :',y_test.shape)\n",
    "model_1 = Sequential()\n",
    "model_1.add(Conv2D(15, kernel_size=(2, 2),activation='tanh',input_shape=input_shape))\n",
    "model_1.add(BatchNormalization())\n",
    "model_1.add(Conv2D(20,(3,3),activation='sigmoid'))\n",
    "model_1.add(BatchNormalization())\n",
    "model_1.add(Conv2D(30,(5,5),activation='tanh'))\n",
    "model_1.add(Conv2D(10,(10,10),activation='tanh'))\n",
    "model_1.add(MaxPooling2D(pool_size=(2, 2)))\n",
    "model_1.add(Conv2D(15,(5,5),activation = 'tanh'))\n",
    "model_1.add(BatchNormalization())\n",
    "model_1.add(Flatten())\n",
    "model_1.add(Dense(128, activation='sigmoid'))\n",
    "model.add(Dense(100, kernel_initializer='Identity'))\n",
    "model_1.add(Dense(num_classes, activation='softmax'))\n",
    "\n",
    "model_1.compile(loss=keras.losses.categorical_crossentropy,\n",
    "              optimizer=keras.optimizers.SGD(),\n",
    "              metrics=['accuracy'])\n",
    "\n",
    "value = model_1.fit(x_train, y_train,\n",
    "          batch_size=batch_size,\n",
    "          epochs=epochs,\n",
    "          verbose=1,\n",
    "          validation_data=(x_test, y_test))\n",
    "score = model_1.evaluate(x_test, y_test, verbose=0)\n",
    "print('Test loss:', score[0])\n",
    "print('Test accuracy:', score[1])"
   ]
  },
  {
   "cell_type": "code",
   "execution_count": 19,
   "metadata": {},
   "outputs": [
    {
     "name": "stdout",
     "output_type": "stream",
     "text": [
      "Test score: 0.0625388405263424\n",
      "Test accuracy: 0.988\n"
     ]
    },
    {
     "data": {
      "image/png": "[encoded data removed]",
      "text/plain": [
       "<Figure size 432x288 with 1 Axes>"
      ]
     },
     "metadata": {},
     "output_type": "display_data"
    }
   ],
   "source": [
    "score = model_1.evaluate(x_test, y_test, verbose=0)\n",
    "print('Test score:', score[0])\n",
    "print('Test accuracy:', score[1])\n",
    "   \n",
    "fig,ax = plt.subplots(1,1)\n",
    "ax.set_xlabel('epoch') ; ax.set_ylabel('Categorical Crossentropy Loss')\n",
    "    \n",
    "    # list of epoch numbers\n",
    "x = list(range(1,epochs+1))\n",
    "vy = value.history['val_loss']\n",
    "ty = value.history['loss']\n",
    "plt_dynamic(x, vy, ty, ax)"
   ]
  },
  {
   "cell_type": "markdown",
   "metadata": {},
   "source": [
    "## 5-layered CNN+  tanh + relu + Dropouts  + adadelts"
   ]
  },
  {
   "cell_type": "code",
   "execution_count": 20,
   "metadata": {},
   "outputs": [
    {
     "name": "stdout",
     "output_type": "stream",
     "text": [
      "x_train shape: (60000, 28, 28, 1)\n",
      "60000 train samples\n",
      "10000 test samples\n",
      "y_train.shape : (60000, 10)\n",
      "y_test.shape : (10000, 10)\n",
      "Train on 60000 samples, validate on 10000 samples\n",
      "Epoch 1/15\n",
      "60000/60000 [==============================] - 55s 917us/step - loss: 0.4242 - acc: 0.8694 - val_loss: 0.1191 - val_acc: 0.9634\n",
      "Epoch 2/15\n",
      "60000/60000 [==============================] - 53s 891us/step - loss: 0.1384 - acc: 0.9573 - val_loss: 0.0756 - val_acc: 0.9762\n",
      "Epoch 3/15\n",
      "60000/60000 [==============================] - 53s 891us/step - loss: 0.1016 - acc: 0.9696 - val_loss: 0.0701 - val_acc: 0.9776\n",
      "Epoch 4/15\n",
      "60000/60000 [==============================] - 53s 891us/step - loss: 0.0824 - acc: 0.9750 - val_loss: 0.0500 - val_acc: 0.9836\n",
      "Epoch 5/15\n",
      "60000/60000 [==============================] - 53s 891us/step - loss: 0.0733 - acc: 0.9777 - val_loss: 0.0499 - val_acc: 0.9851\n",
      "Epoch 6/15\n",
      "60000/60000 [==============================] - 54s 892us/step - loss: 0.0663 - acc: 0.9797 - val_loss: 0.0442 - val_acc: 0.9858\n",
      "Epoch 7/15\n",
      "60000/60000 [==============================] - 53s 891us/step - loss: 0.0608 - acc: 0.9805 - val_loss: 0.0474 - val_acc: 0.9845\n",
      "Epoch 8/15\n",
      "60000/60000 [==============================] - 53s 892us/step - loss: 0.0557 - acc: 0.9832 - val_loss: 0.0460 - val_acc: 0.9857\n",
      "Epoch 9/15\n",
      "60000/60000 [==============================] - 54s 892us/step - loss: 0.0499 - acc: 0.9846 - val_loss: 0.0389 - val_acc: 0.9879\n",
      "Epoch 10/15\n",
      "60000/60000 [==============================] - 53s 891us/step - loss: 0.0483 - acc: 0.9849 - val_loss: 0.0383 - val_acc: 0.9869\n",
      "Epoch 11/15\n",
      "60000/60000 [==============================] - 53s 891us/step - loss: 0.0459 - acc: 0.9850 - val_loss: 0.0387 - val_acc: 0.9881\n",
      "Epoch 12/15\n",
      "60000/60000 [==============================] - 53s 891us/step - loss: 0.0432 - acc: 0.9867 - val_loss: 0.0395 - val_acc: 0.9879\n",
      "Epoch 13/15\n",
      "60000/60000 [==============================] - 53s 887us/step - loss: 0.0420 - acc: 0.9869 - val_loss: 0.0346 - val_acc: 0.9890\n",
      "Epoch 14/15\n",
      "60000/60000 [==============================] - 51s 858us/step - loss: 0.0385 - acc: 0.9881 - val_loss: 0.0336 - val_acc: 0.9893\n",
      "Epoch 15/15\n",
      "60000/60000 [==============================] - 51s 850us/step - loss: 0.0384 - acc: 0.9879 - val_loss: 0.0410 - val_acc: 0.9874\n",
      "Test loss: 0.04097759123484138\n",
      "Test accuracy: 0.9874\n"
     ]
    }
   ],
   "source": [
    "print('x_train shape:', x_train.shape)\n",
    "print(x_train.shape[0], 'train samples')\n",
    "print(x_test.shape[0], 'test samples')\n",
    "print('y_train.shape :',y_train.shape)\n",
    "print('y_test.shape :',y_test.shape)\n",
    "model_1 = Sequential()\n",
    "model_1.add(Conv2D(15, kernel_size=(2, 2),activation='tanh',input_shape=input_shape))\n",
    "model_1.add(Dropout(0.5))\n",
    "model_1.add(Conv2D(20,(3,3),activation='relu'))\n",
    "model_1.add(Dropout(0.4))\n",
    "model_1.add(Conv2D(30,(5,5),activation='tanh'))\n",
    "model_1.add(Conv2D(10,(10,10),activation='tanh'))\n",
    "model_1.add(MaxPooling2D(pool_size=(2, 2)))\n",
    "model_1.add(Conv2D(15,(5,5),activation = 'tanh'))\n",
    "model_1.add(Dropout(0.2))\n",
    "model_1.add(Flatten())\n",
    "model_1.add(Dense(128, activation='relu'))\n",
    "model.add(Dense(100, kernel_initializer='glorot_normal'))\n",
    "model_1.add(Dense(num_classes, activation='softmax'))\n",
    "\n",
    "model_1.compile(loss=keras.losses.categorical_crossentropy,\n",
    "              optimizer=keras.optimizers.adadelta(),\n",
    "              metrics=['accuracy'])\n",
    "\n",
    "value = model_1.fit(x_train, y_train,\n",
    "          batch_size=batch_size,\n",
    "          epochs=epochs,\n",
    "          verbose=1,\n",
    "          validation_data=(x_test, y_test))\n",
    "score = model_1.evaluate(x_test, y_test, verbose=0)\n",
    "print('Test loss:', score[0])\n",
    "print('Test accuracy:', score[1])"
   ]
  },
  {
   "cell_type": "code",
   "execution_count": 21,
   "metadata": {},
   "outputs": [
    {
     "name": "stdout",
     "output_type": "stream",
     "text": [
      "Test score: 0.04097759123484138\n",
      "Test accuracy: 0.9874\n"
     ]
    },
    {
     "data": {
      "image/png": "[encoded data removed]",
      "text/plain": [
       "<Figure size 432x288 with 1 Axes>"
      ]
     },
     "metadata": {},
     "output_type": "display_data"
    }
   ],
   "source": [
    "score = model_1.evaluate(x_test, y_test, verbose=0)\n",
    "print('Test score:', score[0])\n",
    "print('Test accuracy:', score[1])\n",
    "   \n",
    "fig,ax = plt.subplots(1,1)\n",
    "ax.set_xlabel('epoch') ; ax.set_ylabel('Categorical Crossentropy Loss')\n",
    "    \n",
    "    # list of epoch numbers\n",
    "x = list(range(1,epochs+1))\n",
    "vy = value.history['val_loss']\n",
    "ty = value.history['loss']\n",
    "plt_dynamic(x, vy, ty, ax)"
   ]
  },
  {
   "cell_type": "markdown",
   "metadata": {},
   "source": [
    "## 7- Layered CNN + relu + tanh + sig + adagrad"
   ]
  },
  {
   "cell_type": "code",
   "execution_count": 6,
   "metadata": {
    "colab": {},
    "colab_type": "code",
    "id": "XCFgqvS_IJWl"
   },
   "outputs": [
    {
     "name": "stdout",
     "output_type": "stream",
     "text": [
      "x_train shape: (60000, 28, 28, 1)\n",
      "60000 train samples\n",
      "10000 test samples\n",
      "y_train.shape : (60000, 10)\n",
      "y_test.shape : (10000, 10)\n"
     ]
    }
   ],
   "source": [
    "batch_size = 250\n",
    "num_classes = 10\n",
    "epochs = 15\n",
    "\n",
    "# input image dimensions\n",
    "img_rows, img_cols = 28, 28\n",
    "\n",
    "# the data, split between train and test sets\n",
    "(x_train, y_train), (x_test, y_test) = mnist.load_data()\n",
    "\n",
    "if K.image_data_format() == 'channels_first':\n",
    "    x_train = x_train.reshape(x_train.shape[0], 1, img_rows, img_cols)\n",
    "    x_test = x_test.reshape(x_test.shape[0], 1, img_rows, img_cols)\n",
    "    input_shape = (1, img_rows, img_cols)\n",
    "else:\n",
    "    x_train = x_train.reshape(x_train.shape[0], img_rows, img_cols, 1)\n",
    "    x_test = x_test.reshape(x_test.shape[0], img_rows, img_cols, 1)\n",
    "    input_shape = (img_rows, img_cols, 1)\n",
    "\n",
    "x_train = x_train.astype('float32')\n",
    "x_test = x_test.astype('float32')\n",
    "x_train /= 255\n",
    "x_test /= 255\n",
    "print('x_train shape:', x_train.shape)\n",
    "print(x_train.shape[0], 'train samples')\n",
    "print(x_test.shape[0], 'test samples')\n",
    "\n",
    "# convert class vectors to binary class matrices\n",
    "y_train = keras.utils.to_categorical(y_train, num_classes)\n",
    "print('y_train.shape :',y_train.shape)\n",
    "y_test = keras.utils.to_categorical(y_test, num_classes)\n",
    "print('y_test.shape :',y_test.shape)"
   ]
  },
  {
   "cell_type": "code",
   "execution_count": 23,
   "metadata": {
    "colab": {
     "base_uri": "https://localhost:8080/",
     "height": 470
    },
    "colab_type": "code",
    "id": "SddKtdEZIO3s",
    "outputId": "7bc211f7-04b8-466a-800b-bc8ef49a0a27"
   },
   "outputs": [
    {
     "name": "stdout",
     "output_type": "stream",
     "text": [
      "Train on 60000 samples, validate on 10000 samples\n",
      "Epoch 1/15\n",
      "60000/60000 [==============================] - 22s 361us/step - loss: 2.1071 - acc: 0.1939 - val_loss: 1.7350 - val_acc: 0.3777\n",
      "Epoch 2/15\n",
      "60000/60000 [==============================] - 20s 335us/step - loss: 1.6117 - acc: 0.3768 - val_loss: 1.2282 - val_acc: 0.6031\n",
      "Epoch 3/15\n",
      "60000/60000 [==============================] - 20s 334us/step - loss: 1.4056 - acc: 0.4524 - val_loss: 1.0894 - val_acc: 0.5994\n",
      "Epoch 4/15\n",
      "60000/60000 [==============================] - 20s 337us/step - loss: 1.3008 - acc: 0.4944 - val_loss: 0.9853 - val_acc: 0.6589\n",
      "Epoch 5/15\n",
      "60000/60000 [==============================] - 20s 337us/step - loss: 1.2322 - acc: 0.5279 - val_loss: 0.8829 - val_acc: 0.7711\n",
      "Epoch 6/15\n",
      "60000/60000 [==============================] - 20s 336us/step - loss: 1.1641 - acc: 0.5658 - val_loss: 0.7746 - val_acc: 0.7986\n",
      "Epoch 7/15\n",
      "60000/60000 [==============================] - 20s 338us/step - loss: 1.0781 - acc: 0.6115 - val_loss: 0.6614 - val_acc: 0.8425\n",
      "Epoch 8/15\n",
      "60000/60000 [==============================] - 20s 340us/step - loss: 1.0094 - acc: 0.6416 - val_loss: 0.5787 - val_acc: 0.8417\n",
      "Epoch 9/15\n",
      "60000/60000 [==============================] - 21s 344us/step - loss: 0.9459 - acc: 0.6709 - val_loss: 0.5150 - val_acc: 0.8589\n",
      "Epoch 10/15\n",
      "60000/60000 [==============================] - 21s 343us/step - loss: 0.9035 - acc: 0.6886 - val_loss: 0.4672 - val_acc: 0.8643\n",
      "Epoch 11/15\n",
      "60000/60000 [==============================] - 21s 347us/step - loss: 0.8670 - acc: 0.7031 - val_loss: 0.4379 - val_acc: 0.8666\n",
      "Epoch 12/15\n",
      "60000/60000 [==============================] - 21s 346us/step - loss: 0.8452 - acc: 0.7099 - val_loss: 0.4079 - val_acc: 0.8696\n",
      "Epoch 13/15\n",
      "60000/60000 [==============================] - 21s 346us/step - loss: 0.8161 - acc: 0.7206 - val_loss: 0.3946 - val_acc: 0.8703\n",
      "Epoch 14/15\n",
      "60000/60000 [==============================] - 21s 346us/step - loss: 0.8017 - acc: 0.7263 - val_loss: 0.3872 - val_acc: 0.8684\n",
      "Epoch 15/15\n",
      "60000/60000 [==============================] - 21s 351us/step - loss: 0.7894 - acc: 0.7286 - val_loss: 0.3731 - val_acc: 0.8761\n",
      "Test loss: 0.37306189494132996\n",
      "Test accuracy: 0.8761\n"
     ]
    }
   ],
   "source": [
    "model_1st = Sequential()\n",
    "model_1st.add(Conv2D(5, kernel_size=(2, 2),strides=(2, 2),\n",
    "                 activation='tanh', input_shape=input_shape))\n",
    "model_1st.add(BatchNormalization())\n",
    "model_1st.add(Conv2D(50, (3, 3), activation='sigmoid'))\n",
    "model_1st.add(Dropout(0.4))\n",
    "model_1st.add(BatchNormalization())\n",
    "model_1st.add(Conv2D(20, (2, 2), activation='relu'))\n",
    "model_1st.add(Conv2D(30, (4, 4), activation='tanh'))\n",
    "model_1st.add(Dropout(0.6))\n",
    "model_1st.add(Conv2D(10, (6, 6), activation='sigmoid'))\n",
    "model_1st.add(MaxPooling2D(pool_size=(3, 3)))\n",
    "model_1st.add(Conv2D(40, (1, 1), activation='tanh'))\n",
    "model_1st.add(Conv2D(50, (1, 1), activation='relu'))\n",
    "model_1st.add(Dropout(0.7))\n",
    "model_1st.add(BatchNormalization())\n",
    "model_1st.add(Conv2D(5, (1, 1), activation='relu'))\n",
    "model_1st.add(Flatten())\n",
    "model_1st.add(Dense(128, activation='relu'))\n",
    "model_1st.add(Dropout(0.5))\n",
    "model_1st.add(Dense(num_classes, activation='softmax'))\n",
    "\n",
    "model_1st.compile(loss=keras.losses.categorical_crossentropy,\n",
    "              optimizer=keras.optimizers.Adagrad(),\n",
    "              metrics=['accuracy'])\n",
    "\n",
    "value = model_1st.fit(x_train, y_train,\n",
    "          batch_size=batch_size,\n",
    "          epochs=epochs,\n",
    "          verbose=1,\n",
    "          validation_data=(x_test, y_test))\n",
    "score = model_1st.evaluate(x_test, y_test, verbose=0)\n",
    "print('Test loss:', score[0])\n",
    "print('Test accuracy:', score[1])"
   ]
  },
  {
   "cell_type": "code",
   "execution_count": 24,
   "metadata": {},
   "outputs": [
    {
     "name": "stdout",
     "output_type": "stream",
     "text": [
      "Test score: 0.37306189494132996\n",
      "Test accuracy: 0.8761\n"
     ]
    },
    {
     "data": {
      "image/png": "[encoded data removed]",
      "text/plain": [
       "<Figure size 432x288 with 1 Axes>"
      ]
     },
     "metadata": {},
     "output_type": "display_data"
    }
   ],
   "source": [
    "score = model_1st.evaluate(x_test, y_test, verbose=0)\n",
    "print('Test score:', score[0])\n",
    "print('Test accuracy:', score[1])\n",
    "   \n",
    "fig,ax = plt.subplots(1,1)\n",
    "ax.set_xlabel('epoch') ; ax.set_ylabel('Categorical Crossentropy Loss')\n",
    "    \n",
    "    # list of epoch numbers\n",
    "x = list(range(1,epochs+1))\n",
    "vy = value.history['val_loss']\n",
    "ty = value.history['loss']\n",
    "plt_dynamic(x, vy, ty, ax)"
   ]
  },
  {
   "cell_type": "markdown",
   "metadata": {},
   "source": [
    "## 7- Layered CNN  + tanh + sig + Dropout +adadelta"
   ]
  },
  {
   "cell_type": "code",
   "execution_count": 28,
   "metadata": {},
   "outputs": [
    {
     "name": "stdout",
     "output_type": "stream",
     "text": [
      "Train on 60000 samples, validate on 10000 samples\n",
      "Epoch 1/15\n",
      "60000/60000 [==============================] - 25s 417us/step - loss: 7.7395 - acc: 0.0981 - val_loss: 7.8721 - val_acc: 0.0980\n",
      "Epoch 2/15\n",
      "60000/60000 [==============================] - 24s 394us/step - loss: 7.8229 - acc: 0.0988 - val_loss: 8.1010 - val_acc: 0.0980\n",
      "Epoch 3/15\n",
      "60000/60000 [==============================] - 24s 394us/step - loss: 7.5686 - acc: 0.0984 - val_loss: 8.1010 - val_acc: 0.0980\n",
      "Epoch 4/15\n",
      "60000/60000 [==============================] - 24s 400us/step - loss: 7.7022 - acc: 0.1000 - val_loss: 9.8465 - val_acc: 0.0980\n",
      "Epoch 5/15\n",
      "60000/60000 [==============================] - 24s 408us/step - loss: 7.1644 - acc: 0.0971 - val_loss: 1.1921e-07 - val_acc: 0.0980\n",
      "Epoch 6/15\n",
      "60000/60000 [==============================] - 24s 408us/step - loss: 1.1921e-07 - acc: 0.0987 - val_loss: 1.1921e-07 - val_acc: 0.0980\n",
      "Epoch 7/15\n",
      "60000/60000 [==============================] - 25s 409us/step - loss: 1.1921e-07 - acc: 0.0987 - val_loss: 1.1921e-07 - val_acc: 0.0980\n",
      "Epoch 8/15\n",
      "60000/60000 [==============================] - 24s 408us/step - loss: 1.1921e-07 - acc: 0.0987 - val_loss: 1.1921e-07 - val_acc: 0.0980\n",
      "Epoch 9/15\n",
      "60000/60000 [==============================] - 25s 415us/step - loss: 1.1921e-07 - acc: 0.0987 - val_loss: 1.1921e-07 - val_acc: 0.0980\n",
      "Epoch 10/15\n",
      "60000/60000 [==============================] - 25s 412us/step - loss: 1.1921e-07 - acc: 0.0987 - val_loss: 1.1921e-07 - val_acc: 0.0980\n",
      "Epoch 11/15\n",
      "60000/60000 [==============================] - 25s 418us/step - loss: 1.1921e-07 - acc: 0.0987 - val_loss: 1.1921e-07 - val_acc: 0.0980\n",
      "Epoch 12/15\n",
      "60000/60000 [==============================] - 25s 419us/step - loss: 1.1921e-07 - acc: 0.0987 - val_loss: 1.1921e-07 - val_acc: 0.0980\n",
      "Epoch 13/15\n",
      "60000/60000 [==============================] - 25s 420us/step - loss: 1.1921e-07 - acc: 0.0987 - val_loss: 1.1921e-07 - val_acc: 0.0980\n",
      "Epoch 14/15\n",
      "60000/60000 [==============================] - 25s 421us/step - loss: 1.1921e-07 - acc: 0.0987 - val_loss: 1.1921e-07 - val_acc: 0.0980\n",
      "Epoch 15/15\n",
      "60000/60000 [==============================] - 25s 420us/step - loss: 1.1921e-07 - acc: 0.0987 - val_loss: 1.1921e-07 - val_acc: 0.0980\n",
      "Test loss: 1.1920930376163597e-07\n",
      "Test accuracy: 0.098\n"
     ]
    }
   ],
   "source": [
    "model_1st = Sequential()\n",
    "model_1st.add(Conv2D(5, kernel_size=(2, 2),strides=(2, 2),\n",
    "                 activation='tanh', input_shape=input_shape))\n",
    "model_1st.add(Conv2D(50, (3, 3), activation='sigmoid'))\n",
    "model_1st.add(Dropout(0.4))\n",
    "model_1st.add(Conv2D(60, (2, 2), activation='tanh'))\n",
    "model_1st.add(Conv2D(30, (4, 4), activation='tanh'))\n",
    "model_1st.add(Dropout(0.3))\n",
    "model_1st.add(Conv2D(10, (6, 6), activation='sigmoid'))\n",
    "model_1st.add(MaxPooling2D(pool_size=(3, 3)))\n",
    "model_1st.add(Conv2D(20, (1, 1), activation='tanh'))\n",
    "model_1st.add(Conv2D(20, (1, 1), activation='sigmoid'))\n",
    "model_1st.add(Dropout(0.7))\n",
    "model_1st.add(Conv2D(5, (1, 1), activation='tanh'))\n",
    "model_1st.add(Flatten())\n",
    "model_1st.add(Dense(128, activation='tanh'))\n",
    "model_1st.add(Dropout(0.4))\n",
    "model_1st.add(Dense(num_classes, activation='softmax'))\n",
    "model_1st.add(Dense(10, kernel_initializer='glorot_uniform'))\n",
    "\n",
    "model_1st.compile(loss=keras.losses.categorical_crossentropy,\n",
    "              optimizer=keras.optimizers.Adadelta(),\n",
    "              metrics=['accuracy'])\n",
    "\n",
    "value = model_1st.fit(x_train, y_train,\n",
    "          batch_size=batch_size,\n",
    "          epochs=epochs,\n",
    "          verbose=1,\n",
    "          validation_data=(x_test, y_test))\n",
    "score = model_1st.evaluate(x_test, y_test, verbose=0)\n",
    "print('Test loss:', score[0])\n",
    "print('Test accuracy:', score[1])"
   ]
  },
  {
   "cell_type": "code",
   "execution_count": 29,
   "metadata": {},
   "outputs": [
    {
     "name": "stdout",
     "output_type": "stream",
     "text": [
      "Test score: 1.1920930376163597e-07\n",
      "Test accuracy: 0.098\n"
     ]
    },
    {
     "data": {
      "image/png": "[encoded data removed]",
      "text/plain": [
       "<Figure size 432x288 with 1 Axes>"
      ]
     },
     "metadata": {},
     "output_type": "display_data"
    }
   ],
   "source": [
    "score = model_1st.evaluate(x_test, y_test, verbose=0)\n",
    "print('Test score:', score[0])\n",
    "print('Test accuracy:', score[1])\n",
    "   \n",
    "fig,ax = plt.subplots(1,1)\n",
    "ax.set_xlabel('epoch') ; ax.set_ylabel('Categorical Crossentropy Loss')\n",
    "    \n",
    "    # list of epoch numbers\n",
    "x = list(range(1,epochs+1))\n",
    "vy = value.history['val_loss']\n",
    "ty = value.history['loss']\n",
    "plt_dynamic(x, vy, ty, ax)"
   ]
  },
  {
   "cell_type": "markdown",
   "metadata": {},
   "source": [
    "## 7- Layered CNN  + tanh + sig +relu + BN+ adam"
   ]
  },
  {
   "cell_type": "code",
   "execution_count": 32,
   "metadata": {},
   "outputs": [
    {
     "name": "stdout",
     "output_type": "stream",
     "text": [
      "Train on 60000 samples, validate on 10000 samples\n",
      "Epoch 1/15\n",
      "60000/60000 [==============================] - 19s 313us/step - loss: 0.7928 - acc: 0.7382 - val_loss: 0.1968 - val_acc: 0.9455\n",
      "Epoch 2/15\n",
      "60000/60000 [==============================] - 17s 275us/step - loss: 0.1216 - acc: 0.9669 - val_loss: 0.0805 - val_acc: 0.9774\n",
      "Epoch 3/15\n",
      "60000/60000 [==============================] - 17s 279us/step - loss: 0.0745 - acc: 0.9785 - val_loss: 0.0735 - val_acc: 0.9789\n",
      "Epoch 4/15\n",
      "60000/60000 [==============================] - 17s 281us/step - loss: 0.0565 - acc: 0.9832 - val_loss: 0.0610 - val_acc: 0.9824\n",
      "Epoch 5/15\n",
      "60000/60000 [==============================] - 17s 280us/step - loss: 0.0459 - acc: 0.9870 - val_loss: 0.0506 - val_acc: 0.9838\n",
      "Epoch 6/15\n",
      "60000/60000 [==============================] - 17s 280us/step - loss: 0.0415 - acc: 0.9874 - val_loss: 0.0663 - val_acc: 0.9807\n",
      "Epoch 7/15\n",
      "60000/60000 [==============================] - 17s 279us/step - loss: 0.0388 - acc: 0.9880 - val_loss: 0.0477 - val_acc: 0.9863\n",
      "Epoch 8/15\n",
      "60000/60000 [==============================] - 17s 280us/step - loss: 0.0326 - acc: 0.9897 - val_loss: 0.0629 - val_acc: 0.9816\n",
      "Epoch 9/15\n",
      "60000/60000 [==============================] - 17s 279us/step - loss: 0.0262 - acc: 0.9918 - val_loss: 0.0583 - val_acc: 0.9837\n",
      "Epoch 10/15\n",
      "60000/60000 [==============================] - 17s 286us/step - loss: 0.0246 - acc: 0.9925 - val_loss: 0.0452 - val_acc: 0.9873\n",
      "Epoch 11/15\n",
      "60000/60000 [==============================] - 17s 286us/step - loss: 0.0247 - acc: 0.9919 - val_loss: 0.0548 - val_acc: 0.9859\n",
      "Epoch 12/15\n",
      "60000/60000 [==============================] - 17s 286us/step - loss: 0.0218 - acc: 0.9929 - val_loss: 0.0681 - val_acc: 0.9816\n",
      "Epoch 13/15\n",
      "60000/60000 [==============================] - 17s 285us/step - loss: 0.0199 - acc: 0.9937 - val_loss: 0.0580 - val_acc: 0.9859\n",
      "Epoch 14/15\n",
      "60000/60000 [==============================] - 17s 285us/step - loss: 0.0193 - acc: 0.9942 - val_loss: 0.0486 - val_acc: 0.9857\n",
      "Epoch 15/15\n",
      "60000/60000 [==============================] - 17s 286us/step - loss: 0.0195 - acc: 0.9936 - val_loss: 0.0401 - val_acc: 0.9894\n",
      "Test loss: 0.0400684581379639\n",
      "Test accuracy: 0.9894\n"
     ]
    }
   ],
   "source": [
    "model_1st = Sequential()\n",
    "model_1st.add(Conv2D(5, kernel_size=(2, 2),strides=(2, 2),\n",
    "                 activation='tanh', input_shape=input_shape))\n",
    "model_1st.add(BatchNormalization())\n",
    "model_1st.add(Conv2D(50, (3, 3), activation='sigmoid'))\n",
    "model_1st.add(BatchNormalization())\n",
    "model_1st.add(Conv2D(20, (2, 2), activation='relu'))\n",
    "model_1st.add(Conv2D(30, (4, 4), activation='tanh'))\n",
    "model_1st.add(Conv2D(10, (6, 6), activation='sigmoid'))\n",
    "model_1st.add(MaxPooling2D(pool_size=(3, 3)))\n",
    "model_1st.add(Conv2D(40, (1, 1), activation='tanh'))\n",
    "model_1st.add(Conv2D(50, (1, 1), activation='relu'))\n",
    "model_1st.add(BatchNormalization())\n",
    "model_1st.add(Conv2D(5, (1, 1), activation='relu'))\n",
    "model_1st.add(Flatten())\n",
    "model_1st.add(Dense(128, activation='relu'))\n",
    "model_1st.add(Dense(num_classes, activation='softmax'))\n",
    "model_1st.compile(loss=keras.losses.categorical_crossentropy,\n",
    "              optimizer=keras.optimizers.Adam(),\n",
    "              metrics=['accuracy'])\n",
    "\n",
    "value = model_1st.fit(x_train, y_train,\n",
    "          batch_size=batch_size,\n",
    "          epochs=epochs,\n",
    "          verbose=1,\n",
    "          validation_data=(x_test, y_test))\n",
    "score = model_1st.evaluate(x_test, y_test, verbose=0)\n",
    "print('Test loss:', score[0])\n",
    "print('Test accuracy:', score[1])"
   ]
  },
  {
   "cell_type": "code",
   "execution_count": 33,
   "metadata": {},
   "outputs": [
    {
     "name": "stdout",
     "output_type": "stream",
     "text": [
      "Test score: 0.0400684581379639\n",
      "Test accuracy: 0.9894\n"
     ]
    },
    {
     "data": {
      "image/png": "[encoded data removed]",
      "text/plain": [
       "<Figure size 432x288 with 1 Axes>"
      ]
     },
     "metadata": {},
     "output_type": "display_data"
    }
   ],
   "source": [
    "score = model_1st.evaluate(x_test, y_test, verbose=0)\n",
    "print('Test score:', score[0])\n",
    "print('Test accuracy:', score[1])\n",
    "   \n",
    "fig,ax = plt.subplots(1,1)\n",
    "ax.set_xlabel('epoch') ; ax.set_ylabel('Categorical Crossentropy Loss')\n",
    "    \n",
    "    # list of epoch numbers\n",
    "x = list(range(1,epochs+1))\n",
    "vy = value.history['val_loss']\n",
    "ty = value.history['loss']\n",
    "plt_dynamic(x, vy, ty, ax)"
   ]
  },
  {
   "cell_type": "markdown",
   "metadata": {
    "colab_type": "text",
    "id": "rrjalwxEs4wA"
   },
   "source": [
    "## conclution"
   ]
  },
  {
   "cell_type": "code",
   "execution_count": 34,
   "metadata": {},
   "outputs": [
    {
     "name": "stdout",
     "output_type": "stream",
     "text": [
      "+------------------------+------------------------------------+----------+\n",
      "| ï»¿No of hidden layers |               model                | accuracy |\n",
      "+------------------------+------------------------------------+----------+\n",
      "|        3-layers        |     sigmoid + relu + Adadelta      |  95.93   |\n",
      "|        3-layers        |      sigmoid +relu+BN+adagrad      |  97.06   |\n",
      "|        3-layers        |     tanh +relu+ Dropout + adam     |  97.92   |\n",
      "|        5-layers        | relu + sig + BN + Dropouts + adam  |  95.56   |\n",
      "|        5-layers        |       tanh + sig + BN  + SGD       |   98.8   |\n",
      "|        5-layers        | tanh + relu + Dropouts  + adadelts |  98.74   |\n",
      "|        7-layers        |    relu + tanh + sig + adagrad     |  87.61   |\n",
      "|        7-layers        |   tanh + sig + Dropout +adadelta   |    98    |\n",
      "|        7-layers        |    tanh + sig +relu + BN+ adam     |  98.94   |\n",
      "+------------------------+------------------------------------+----------+\n"
     ]
    }
   ],
   "source": [
    "from prettytable import from_csv\n",
    "with open(\"cnn.csv\", \"r\") as fp: \n",
    "    x = from_csv(fp)\n",
    "    \n",
    "print(x)"
   ]
  },
  {
   "cell_type": "markdown",
   "metadata": {},
   "source": [
    "1) I got 98.94 accuracy when 7-layered CNN with Adam Optimizer and Batchnormalization performed well\n",
    "\n",
    "2) I used dropouts, Batchnormalization and maxpolling in all 3-different CNN layers\n",
    "\n",
    "3) From the above results tabel one can say that BatchNormalization improved results and gave better generalization model\n",
    "\n",
    "3) One can achieve better accuracy even in 3,7 layered network by allowing more epocs to run\n",
    "\n",
    "4) We know that Adam optimizer is the fastest optimizer to achive global minima, hence we achived better accuracy within less epochs"
   ]
  }
 ],
 "metadata": {
  "accelerator": "TPU",
  "colab": {
   "collapsed_sections": [],
   "name": "CNN_MNIST.ipynb",
   "provenance": [],
   "version": "0.3.2"
  },
  "kernelspec": {
   "display_name": "Python 3",
   "language": "python",
   "name": "python3"
  },
  "language_info": {
   "codemirror_mode": {
    "name": "ipython",
    "version": 3
   },
   "file_extension": ".py",
   "mimetype": "text/x-python",
   "name": "python",
   "nbconvert_exporter": "python",
   "pygments_lexer": "ipython3",
   "version": "3.6.5"
  }
 },
 "nbformat": 4,
 "nbformat_minor": 1
}
