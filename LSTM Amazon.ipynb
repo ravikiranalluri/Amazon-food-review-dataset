{
 "cells": [
  {
   "cell_type": "markdown",
   "metadata": {
    "colab_type": "text",
    "id": "jNC8HEoBChWf"
   },
   "source": [
    "# Amazon Fine Food Reviews Analysis\n",
    "\n",
    "\n",
    "Data Source: https://www.kaggle.com/snap/amazon-fine-food-reviews <br>\n",
    "\n",
    "EDA: https://nycdatascience.com/blog/student-works/amazon-fine-foods-visualization/\n",
    "\n",
    "\n",
    "The Amazon Fine Food Reviews dataset consists of reviews of fine foods from Amazon.<br>\n",
    "\n",
    "Number of reviews: 568,454<br>\n",
    "Number of users: 256,059<br>\n",
    "Number of products: 74,258<br>\n",
    "Timespan: Oct 1999 - Oct 2012<br>\n",
    "Number of Attributes/Columns in data: 10 \n",
    "\n",
    "Attribute Information:\n",
    "\n",
    "1. Id\n",
    "2. ProductId - unique identifier for the product\n",
    "3. UserId - unqiue identifier for the user\n",
    "4. ProfileName\n",
    "5. HelpfulnessNumerator - number of users who found the review helpful\n",
    "6. HelpfulnessDenominator - number of users who indicated whether they found the review helpful or not\n",
    "7. Score - rating between 1 and 5\n",
    "8. Time - timestamp for the review\n",
    "9. Summary - brief summary of the review\n",
    "10. Text - text of the review\n",
    "\n",
    "\n",
    "#### Objective:\n",
    "Given a review, determine whether the review is positive (rating of 4 or 5) or negative (rating of 1 or 2).\n",
    "\n",
    "<br>\n",
    "[Q] How to determine if a review is positive or negative?<br>\n",
    "<br> \n",
    "[Ans] We could use Score/Rating. A rating of 4 or 5 can be cosnidered as a positive review. A rating of 1 or 2 can be considered as negative one. A review of rating 3 is considered nuetral and such reviews are ignored from our analysis. This is an approximate and proxy way of determining the polarity (positivity/negativity) of a review.\n",
    "\n",
    "\n"
   ]
  },
  {
   "cell_type": "markdown",
   "metadata": {
    "colab_type": "text",
    "id": "8wugXnjtChWj"
   },
   "source": [
    "# [1]. Reading Data"
   ]
  },
  {
   "cell_type": "markdown",
   "metadata": {
    "colab_type": "text",
    "id": "YmKFSMRoChWm"
   },
   "source": [
    "## [1.1] Loading the data\n",
    "\n",
    "The dataset is available in two forms\n",
    "1. .csv file\n",
    "2. SQLite Database\n",
    "\n",
    "In order to load the data, We have used the SQLITE dataset as it is easier to query the data and visualise the data efficiently.\n",
    "<br> \n",
    "\n",
    "Here as we only want to get the global sentiment of the recommendations (positive or negative), we will purposefully ignore all Scores equal to 3. If the score is above 3, then the recommendation wil be set to \"positive\". Otherwise, it will be set to \"negative\"."
   ]
  },
  {
   "cell_type": "code",
   "execution_count": 85,
   "metadata": {
    "colab": {},
    "colab_type": "code",
    "id": "Q_rK3P8xChWq"
   },
   "outputs": [],
   "source": [
    "%matplotlib inline\n",
    "import warnings\n",
    "warnings.filterwarnings(\"ignore\")\n",
    "\n",
    "\n",
    "import sqlite3\n",
    "import pandas as pd\n",
    "import numpy as np\n",
    "import nltk\n",
    "import string\n",
    "import matplotlib.pyplot as plt\n",
    "import seaborn as sns\n",
    "from sklearn.feature_extraction.text import TfidfTransformer\n",
    "from sklearn.feature_extraction.text import TfidfVectorizer\n",
    "\n",
    "from sklearn.feature_extraction.text import CountVectorizer\n",
    "from sklearn.metrics import confusion_matrix\n",
    "from sklearn import metrics\n",
    "from sklearn.metrics import roc_curve, auc\n",
    "from nltk.stem.porter import PorterStemmer\n",
    "\n",
    "import re\n",
    "# Tutorial about Python regular expressions: https://pymotw.com/2/re/\n",
    "import string\n",
    "from nltk.corpus import stopwords\n",
    "from nltk.stem import PorterStemmer\n",
    "from nltk.stem.wordnet import WordNetLemmatizer\n",
    "\n",
    "from gensim.models import Word2Vec\n",
    "from gensim.models import KeyedVectors\n",
    "import pickle\n",
    "\n",
    "from tqdm import tqdm\n",
    "import os"
   ]
  },
  {
   "cell_type": "code",
   "execution_count": 87,
   "metadata": {
    "colab": {},
    "colab_type": "code",
    "id": "qGFlKpmUChWz",
    "outputId": "4167ec47-1fc5-47b4-e342-84eb83b1353c"
   },
   "outputs": [
    {
     "name": "stdout",
     "output_type": "stream",
     "text": [
      "Number of data points in our data (5000, 10)\n"
     ]
    },
    {
     "data": {
      "text/html": [
       "<div>\n",
       "<style scoped>\n",
       "    .dataframe tbody tr th:only-of-type {\n",
       "        vertical-align: middle;\n",
       "    }\n",
       "\n",
       "    .dataframe tbody tr th {\n",
       "        vertical-align: top;\n",
       "    }\n",
       "\n",
       "    .dataframe thead th {\n",
       "        text-align: right;\n",
       "    }\n",
       "</style>\n",
       "<table border=\"1\" class=\"dataframe\">\n",
       "  <thead>\n",
       "    <tr style=\"text-align: right;\">\n",
       "      <th></th>\n",
       "      <th>Id</th>\n",
       "      <th>ProductId</th>\n",
       "      <th>UserId</th>\n",
       "      <th>ProfileName</th>\n",
       "      <th>HelpfulnessNumerator</th>\n",
       "      <th>HelpfulnessDenominator</th>\n",
       "      <th>Score</th>\n",
       "      <th>Time</th>\n",
       "      <th>Summary</th>\n",
       "      <th>Text</th>\n",
       "    </tr>\n",
       "  </thead>\n",
       "  <tbody>\n",
       "    <tr>\n",
       "      <th>0</th>\n",
       "      <td>1</td>\n",
       "      <td>B001E4KFG0</td>\n",
       "      <td>A3SGXH7AUHU8GW</td>\n",
       "      <td>delmartian</td>\n",
       "      <td>1</td>\n",
       "      <td>1</td>\n",
       "      <td>1</td>\n",
       "      <td>1303862400</td>\n",
       "      <td>Good Quality Dog Food</td>\n",
       "      <td>I have bought several of the Vitality canned d...</td>\n",
       "    </tr>\n",
       "    <tr>\n",
       "      <th>1</th>\n",
       "      <td>2</td>\n",
       "      <td>B00813GRG4</td>\n",
       "      <td>A1D87F6ZCVE5NK</td>\n",
       "      <td>dll pa</td>\n",
       "      <td>0</td>\n",
       "      <td>0</td>\n",
       "      <td>0</td>\n",
       "      <td>1346976000</td>\n",
       "      <td>Not as Advertised</td>\n",
       "      <td>Product arrived labeled as Jumbo Salted Peanut...</td>\n",
       "    </tr>\n",
       "    <tr>\n",
       "      <th>2</th>\n",
       "      <td>3</td>\n",
       "      <td>B000LQOCH0</td>\n",
       "      <td>ABXLMWJIXXAIN</td>\n",
       "      <td>Natalia Corres \"Natalia Corres\"</td>\n",
       "      <td>1</td>\n",
       "      <td>1</td>\n",
       "      <td>1</td>\n",
       "      <td>1219017600</td>\n",
       "      <td>\"Delight\" says it all</td>\n",
       "      <td>This is a confection that has been around a fe...</td>\n",
       "    </tr>\n",
       "  </tbody>\n",
       "</table>\n",
       "</div>"
      ],
      "text/plain": [
       "   Id   ProductId          UserId                      ProfileName  \\\n",
       "0   1  B001E4KFG0  A3SGXH7AUHU8GW                       delmartian   \n",
       "1   2  B00813GRG4  A1D87F6ZCVE5NK                           dll pa   \n",
       "2   3  B000LQOCH0   ABXLMWJIXXAIN  Natalia Corres \"Natalia Corres\"   \n",
       "\n",
       "   HelpfulnessNumerator  HelpfulnessDenominator  Score        Time  \\\n",
       "0                     1                       1      1  1303862400   \n",
       "1                     0                       0      0  1346976000   \n",
       "2                     1                       1      1  1219017600   \n",
       "\n",
       "                 Summary                                               Text  \n",
       "0  Good Quality Dog Food  I have bought several of the Vitality canned d...  \n",
       "1      Not as Advertised  Product arrived labeled as Jumbo Salted Peanut...  \n",
       "2  \"Delight\" says it all  This is a confection that has been around a fe...  "
      ]
     },
     "execution_count": 87,
     "metadata": {},
     "output_type": "execute_result"
    }
   ],
   "source": [
    "# using SQLite Table to read data.\n",
    "con = sqlite3.connect('database.sqlite') \n",
    "\n",
    "# filtering only positive and negative reviews i.e. \n",
    "# not taking into consideration those reviews with Score=3\n",
    "# SELECT * FROM Reviews WHERE Score != 3 LIMIT 500000, will give top 500000 data points\n",
    "# you can change the number to any other number based on your computing power\n",
    "\n",
    "# filtered_data = pd.read_sql_query(\"\"\" SELECT * FROM Reviews WHERE Score != 3 LIMIT 500000\"\"\", con) \n",
    "# for tsne assignment you can take 5k data points\n",
    "\n",
    "filtered_data = pd.read_sql_query(\"\"\" SELECT * FROM Reviews WHERE Score != 3 LIMIT 5000\"\"\", con) \n",
    "\n",
    "# Give reviews with Score>3 a positive rating(1), and reviews with a score<3 a negative rating(0).\n",
    "def partition(x):\n",
    "    if x < 3:\n",
    "        return 0\n",
    "    return 1\n",
    "\n",
    "#changing reviews with score less than 3 to be positive and vice-versa\n",
    "actualScore = filtered_data['Score']\n",
    "positiveNegative = actualScore.map(partition) \n",
    "filtered_data['Score'] = positiveNegative\n",
    "print(\"Number of data points in our data\", filtered_data.shape)\n",
    "filtered_data.head(3)"
   ]
  },
  {
   "cell_type": "code",
   "execution_count": 88,
   "metadata": {
    "colab": {},
    "colab_type": "code",
    "id": "Oy6FbbqIChW9"
   },
   "outputs": [],
   "source": [
    "display = pd.read_sql_query(\"\"\"\n",
    "SELECT UserId, ProductId, ProfileName, Time, Score, Text, COUNT(*)\n",
    "FROM Reviews\n",
    "GROUP BY UserId\n",
    "HAVING COUNT(*)>1\n",
    "\"\"\", con)"
   ]
  },
  {
   "cell_type": "code",
   "execution_count": 89,
   "metadata": {
    "colab": {},
    "colab_type": "code",
    "id": "VxmpGW-WChXD",
    "outputId": "a58c60e5-15d8-41f7-de60-5ad8396ce0bf",
    "scrolled": true
   },
   "outputs": [
    {
     "name": "stdout",
     "output_type": "stream",
     "text": [
      "(80668, 7)\n"
     ]
    },
    {
     "data": {
      "text/html": [
       "<div>\n",
       "<style scoped>\n",
       "    .dataframe tbody tr th:only-of-type {\n",
       "        vertical-align: middle;\n",
       "    }\n",
       "\n",
       "    .dataframe tbody tr th {\n",
       "        vertical-align: top;\n",
       "    }\n",
       "\n",
       "    .dataframe thead th {\n",
       "        text-align: right;\n",
       "    }\n",
       "</style>\n",
       "<table border=\"1\" class=\"dataframe\">\n",
       "  <thead>\n",
       "    <tr style=\"text-align: right;\">\n",
       "      <th></th>\n",
       "      <th>UserId</th>\n",
       "      <th>ProductId</th>\n",
       "      <th>ProfileName</th>\n",
       "      <th>Time</th>\n",
       "      <th>Score</th>\n",
       "      <th>Text</th>\n",
       "      <th>COUNT(*)</th>\n",
       "    </tr>\n",
       "  </thead>\n",
       "  <tbody>\n",
       "    <tr>\n",
       "      <th>0</th>\n",
       "      <td>#oc-R115TNMSPFT9I7</td>\n",
       "      <td>B007Y59HVM</td>\n",
       "      <td>Breyton</td>\n",
       "      <td>1331510400</td>\n",
       "      <td>2</td>\n",
       "      <td>Overall its just OK when considering the price...</td>\n",
       "      <td>2</td>\n",
       "    </tr>\n",
       "    <tr>\n",
       "      <th>1</th>\n",
       "      <td>#oc-R11D9D7SHXIJB9</td>\n",
       "      <td>B005HG9ET0</td>\n",
       "      <td>Louis E. Emory \"hoppy\"</td>\n",
       "      <td>1342396800</td>\n",
       "      <td>5</td>\n",
       "      <td>My wife has recurring extreme muscle spasms, u...</td>\n",
       "      <td>3</td>\n",
       "    </tr>\n",
       "    <tr>\n",
       "      <th>2</th>\n",
       "      <td>#oc-R11DNU2NBKQ23Z</td>\n",
       "      <td>B007Y59HVM</td>\n",
       "      <td>Kim Cieszykowski</td>\n",
       "      <td>1348531200</td>\n",
       "      <td>1</td>\n",
       "      <td>This coffee is horrible and unfortunately not ...</td>\n",
       "      <td>2</td>\n",
       "    </tr>\n",
       "    <tr>\n",
       "      <th>3</th>\n",
       "      <td>#oc-R11O5J5ZVQE25C</td>\n",
       "      <td>B005HG9ET0</td>\n",
       "      <td>Penguin Chick</td>\n",
       "      <td>1346889600</td>\n",
       "      <td>5</td>\n",
       "      <td>This will be the bottle that you grab from the...</td>\n",
       "      <td>3</td>\n",
       "    </tr>\n",
       "    <tr>\n",
       "      <th>4</th>\n",
       "      <td>#oc-R12KPBODL2B5ZD</td>\n",
       "      <td>B007OSBE1U</td>\n",
       "      <td>Christopher P. Presta</td>\n",
       "      <td>1348617600</td>\n",
       "      <td>1</td>\n",
       "      <td>I didnt like this coffee. Instead of telling y...</td>\n",
       "      <td>2</td>\n",
       "    </tr>\n",
       "  </tbody>\n",
       "</table>\n",
       "</div>"
      ],
      "text/plain": [
       "               UserId   ProductId             ProfileName        Time  Score  \\\n",
       "0  #oc-R115TNMSPFT9I7  B007Y59HVM                 Breyton  1331510400      2   \n",
       "1  #oc-R11D9D7SHXIJB9  B005HG9ET0  Louis E. Emory \"hoppy\"  1342396800      5   \n",
       "2  #oc-R11DNU2NBKQ23Z  B007Y59HVM        Kim Cieszykowski  1348531200      1   \n",
       "3  #oc-R11O5J5ZVQE25C  B005HG9ET0           Penguin Chick  1346889600      5   \n",
       "4  #oc-R12KPBODL2B5ZD  B007OSBE1U   Christopher P. Presta  1348617600      1   \n",
       "\n",
       "                                                Text  COUNT(*)  \n",
       "0  Overall its just OK when considering the price...         2  \n",
       "1  My wife has recurring extreme muscle spasms, u...         3  \n",
       "2  This coffee is horrible and unfortunately not ...         2  \n",
       "3  This will be the bottle that you grab from the...         3  \n",
       "4  I didnt like this coffee. Instead of telling y...         2  "
      ]
     },
     "execution_count": 89,
     "metadata": {},
     "output_type": "execute_result"
    }
   ],
   "source": [
    "print(display.shape)\n",
    "display.head()"
   ]
  },
  {
   "cell_type": "code",
   "execution_count": 90,
   "metadata": {
    "colab": {},
    "colab_type": "code",
    "id": "qVYRWe1nChXK",
    "outputId": "c2da252a-b5b2-4d00-f066-5025a507dab0"
   },
   "outputs": [
    {
     "data": {
      "text/html": [
       "<div>\n",
       "<style scoped>\n",
       "    .dataframe tbody tr th:only-of-type {\n",
       "        vertical-align: middle;\n",
       "    }\n",
       "\n",
       "    .dataframe tbody tr th {\n",
       "        vertical-align: top;\n",
       "    }\n",
       "\n",
       "    .dataframe thead th {\n",
       "        text-align: right;\n",
       "    }\n",
       "</style>\n",
       "<table border=\"1\" class=\"dataframe\">\n",
       "  <thead>\n",
       "    <tr style=\"text-align: right;\">\n",
       "      <th></th>\n",
       "      <th>UserId</th>\n",
       "      <th>ProductId</th>\n",
       "      <th>ProfileName</th>\n",
       "      <th>Time</th>\n",
       "      <th>Score</th>\n",
       "      <th>Text</th>\n",
       "      <th>COUNT(*)</th>\n",
       "    </tr>\n",
       "  </thead>\n",
       "  <tbody>\n",
       "    <tr>\n",
       "      <th>80638</th>\n",
       "      <td>AZY10LLTJ71NX</td>\n",
       "      <td>B006P7E5ZI</td>\n",
       "      <td>undertheshrine \"undertheshrine\"</td>\n",
       "      <td>1334707200</td>\n",
       "      <td>5</td>\n",
       "      <td>I was recommended to try green tea extract to ...</td>\n",
       "      <td>5</td>\n",
       "    </tr>\n",
       "  </tbody>\n",
       "</table>\n",
       "</div>"
      ],
      "text/plain": [
       "              UserId   ProductId                      ProfileName        Time  \\\n",
       "80638  AZY10LLTJ71NX  B006P7E5ZI  undertheshrine \"undertheshrine\"  1334707200   \n",
       "\n",
       "       Score                                               Text  COUNT(*)  \n",
       "80638      5  I was recommended to try green tea extract to ...         5  "
      ]
     },
     "execution_count": 90,
     "metadata": {},
     "output_type": "execute_result"
    }
   ],
   "source": [
    "display[display['UserId']=='AZY10LLTJ71NX']"
   ]
  },
  {
   "cell_type": "code",
   "execution_count": 91,
   "metadata": {
    "colab": {},
    "colab_type": "code",
    "id": "bk3oC9YoChXQ",
    "outputId": "a3445fc5-e58e-48c2-bd80-c8bf3c100a96"
   },
   "outputs": [
    {
     "data": {
      "text/plain": [
       "393063"
      ]
     },
     "execution_count": 91,
     "metadata": {},
     "output_type": "execute_result"
    }
   ],
   "source": [
    "display['COUNT(*)'].sum()"
   ]
  },
  {
   "cell_type": "markdown",
   "metadata": {
    "colab_type": "text",
    "id": "tUdW-oABChXZ"
   },
   "source": [
    "#  [2] Exploratory Data Analysis"
   ]
  },
  {
   "cell_type": "markdown",
   "metadata": {
    "colab_type": "text",
    "id": "1lWaQ1eFChXb"
   },
   "source": [
    "## [2.1] Data Cleaning: Deduplication\n",
    "\n",
    "It is observed (as shown in the table below) that the reviews data had many duplicate entries. Hence it was necessary to remove duplicates in order to get unbiased results for the analysis of the data.  Following is an example:"
   ]
  },
  {
   "cell_type": "code",
   "execution_count": 92,
   "metadata": {
    "colab": {},
    "colab_type": "code",
    "id": "0scKI9A4ChXd",
    "outputId": "64eefd15-d63e-4742-a669-6ab413c64157",
    "scrolled": false
   },
   "outputs": [
    {
     "data": {
      "text/html": [
       "<div>\n",
       "<style scoped>\n",
       "    .dataframe tbody tr th:only-of-type {\n",
       "        vertical-align: middle;\n",
       "    }\n",
       "\n",
       "    .dataframe tbody tr th {\n",
       "        vertical-align: top;\n",
       "    }\n",
       "\n",
       "    .dataframe thead th {\n",
       "        text-align: right;\n",
       "    }\n",
       "</style>\n",
       "<table border=\"1\" class=\"dataframe\">\n",
       "  <thead>\n",
       "    <tr style=\"text-align: right;\">\n",
       "      <th></th>\n",
       "      <th>Id</th>\n",
       "      <th>ProductId</th>\n",
       "      <th>UserId</th>\n",
       "      <th>ProfileName</th>\n",
       "      <th>HelpfulnessNumerator</th>\n",
       "      <th>HelpfulnessDenominator</th>\n",
       "      <th>Score</th>\n",
       "      <th>Time</th>\n",
       "      <th>Summary</th>\n",
       "      <th>Text</th>\n",
       "    </tr>\n",
       "  </thead>\n",
       "  <tbody>\n",
       "    <tr>\n",
       "      <th>0</th>\n",
       "      <td>78445</td>\n",
       "      <td>B000HDL1RQ</td>\n",
       "      <td>AR5J8UI46CURR</td>\n",
       "      <td>Geetha Krishnan</td>\n",
       "      <td>2</td>\n",
       "      <td>2</td>\n",
       "      <td>5</td>\n",
       "      <td>1199577600</td>\n",
       "      <td>LOACKER QUADRATINI VANILLA WAFERS</td>\n",
       "      <td>DELICIOUS WAFERS. I FIND THAT EUROPEAN WAFERS ...</td>\n",
       "    </tr>\n",
       "    <tr>\n",
       "      <th>1</th>\n",
       "      <td>138317</td>\n",
       "      <td>B000HDOPYC</td>\n",
       "      <td>AR5J8UI46CURR</td>\n",
       "      <td>Geetha Krishnan</td>\n",
       "      <td>2</td>\n",
       "      <td>2</td>\n",
       "      <td>5</td>\n",
       "      <td>1199577600</td>\n",
       "      <td>LOACKER QUADRATINI VANILLA WAFERS</td>\n",
       "      <td>DELICIOUS WAFERS. I FIND THAT EUROPEAN WAFERS ...</td>\n",
       "    </tr>\n",
       "    <tr>\n",
       "      <th>2</th>\n",
       "      <td>138277</td>\n",
       "      <td>B000HDOPYM</td>\n",
       "      <td>AR5J8UI46CURR</td>\n",
       "      <td>Geetha Krishnan</td>\n",
       "      <td>2</td>\n",
       "      <td>2</td>\n",
       "      <td>5</td>\n",
       "      <td>1199577600</td>\n",
       "      <td>LOACKER QUADRATINI VANILLA WAFERS</td>\n",
       "      <td>DELICIOUS WAFERS. I FIND THAT EUROPEAN WAFERS ...</td>\n",
       "    </tr>\n",
       "    <tr>\n",
       "      <th>3</th>\n",
       "      <td>73791</td>\n",
       "      <td>B000HDOPZG</td>\n",
       "      <td>AR5J8UI46CURR</td>\n",
       "      <td>Geetha Krishnan</td>\n",
       "      <td>2</td>\n",
       "      <td>2</td>\n",
       "      <td>5</td>\n",
       "      <td>1199577600</td>\n",
       "      <td>LOACKER QUADRATINI VANILLA WAFERS</td>\n",
       "      <td>DELICIOUS WAFERS. I FIND THAT EUROPEAN WAFERS ...</td>\n",
       "    </tr>\n",
       "    <tr>\n",
       "      <th>4</th>\n",
       "      <td>155049</td>\n",
       "      <td>B000PAQ75C</td>\n",
       "      <td>AR5J8UI46CURR</td>\n",
       "      <td>Geetha Krishnan</td>\n",
       "      <td>2</td>\n",
       "      <td>2</td>\n",
       "      <td>5</td>\n",
       "      <td>1199577600</td>\n",
       "      <td>LOACKER QUADRATINI VANILLA WAFERS</td>\n",
       "      <td>DELICIOUS WAFERS. I FIND THAT EUROPEAN WAFERS ...</td>\n",
       "    </tr>\n",
       "  </tbody>\n",
       "</table>\n",
       "</div>"
      ],
      "text/plain": [
       "       Id   ProductId         UserId      ProfileName  HelpfulnessNumerator  \\\n",
       "0   78445  B000HDL1RQ  AR5J8UI46CURR  Geetha Krishnan                     2   \n",
       "1  138317  B000HDOPYC  AR5J8UI46CURR  Geetha Krishnan                     2   \n",
       "2  138277  B000HDOPYM  AR5J8UI46CURR  Geetha Krishnan                     2   \n",
       "3   73791  B000HDOPZG  AR5J8UI46CURR  Geetha Krishnan                     2   \n",
       "4  155049  B000PAQ75C  AR5J8UI46CURR  Geetha Krishnan                     2   \n",
       "\n",
       "   HelpfulnessDenominator  Score        Time  \\\n",
       "0                       2      5  1199577600   \n",
       "1                       2      5  1199577600   \n",
       "2                       2      5  1199577600   \n",
       "3                       2      5  1199577600   \n",
       "4                       2      5  1199577600   \n",
       "\n",
       "                             Summary  \\\n",
       "0  LOACKER QUADRATINI VANILLA WAFERS   \n",
       "1  LOACKER QUADRATINI VANILLA WAFERS   \n",
       "2  LOACKER QUADRATINI VANILLA WAFERS   \n",
       "3  LOACKER QUADRATINI VANILLA WAFERS   \n",
       "4  LOACKER QUADRATINI VANILLA WAFERS   \n",
       "\n",
       "                                                Text  \n",
       "0  DELICIOUS WAFERS. I FIND THAT EUROPEAN WAFERS ...  \n",
       "1  DELICIOUS WAFERS. I FIND THAT EUROPEAN WAFERS ...  \n",
       "2  DELICIOUS WAFERS. I FIND THAT EUROPEAN WAFERS ...  \n",
       "3  DELICIOUS WAFERS. I FIND THAT EUROPEAN WAFERS ...  \n",
       "4  DELICIOUS WAFERS. I FIND THAT EUROPEAN WAFERS ...  "
      ]
     },
     "execution_count": 92,
     "metadata": {},
     "output_type": "execute_result"
    }
   ],
   "source": [
    "display= pd.read_sql_query(\"\"\"\n",
    "SELECT *\n",
    "FROM Reviews\n",
    "WHERE Score != 3 AND UserId=\"AR5J8UI46CURR\"\n",
    "ORDER BY ProductID\n",
    "\"\"\", con)\n",
    "display.head()"
   ]
  },
  {
   "cell_type": "markdown",
   "metadata": {
    "colab_type": "text",
    "id": "ORBstW7kChXk"
   },
   "source": [
    "As it can be seen above that same user has multiple reviews with same values for HelpfulnessNumerator, HelpfulnessDenominator, Score, Time, Summary and Text and on doing analysis it was found that <br>\n",
    "<br> \n",
    "ProductId=B000HDOPZG was Loacker Quadratini Vanilla Wafer Cookies, 8.82-Ounce Packages (Pack of 8)<br>\n",
    "<br> \n",
    "ProductId=B000HDL1RQ was Loacker Quadratini Lemon Wafer Cookies, 8.82-Ounce Packages (Pack of 8) and so on<br>\n",
    "\n",
    "It was inferred after analysis that reviews with same parameters other than ProductId belonged to the same product just having different flavour or quantity. Hence in order to reduce redundancy it was decided to eliminate the rows having same parameters.<br>\n",
    "\n",
    "The method used for the same was that we first sort the data according to ProductId and then just keep the first similar product review and delelte the others. for eg. in the above just the review for ProductId=B000HDL1RQ remains. This method ensures that there is only one representative for each product and deduplication without sorting would lead to possibility of different representatives still existing for the same product."
   ]
  },
  {
   "cell_type": "code",
   "execution_count": 93,
   "metadata": {
    "colab": {},
    "colab_type": "code",
    "id": "QjqRsNlrChXn"
   },
   "outputs": [],
   "source": [
    "#Sorting data according to ProductId in ascending order\n",
    "sorted_data=filtered_data.sort_values('ProductId', axis=0, ascending=True, inplace=False, kind='quicksort', na_position='last')"
   ]
  },
  {
   "cell_type": "code",
   "execution_count": 94,
   "metadata": {
    "colab": {},
    "colab_type": "code",
    "id": "5f7tJRTNChXr",
    "outputId": "8b6147b9-2eb1-4af5-facc-9bcf1302969d"
   },
   "outputs": [
    {
     "data": {
      "text/plain": [
       "(4986, 10)"
      ]
     },
     "execution_count": 94,
     "metadata": {},
     "output_type": "execute_result"
    }
   ],
   "source": [
    "#Deduplication of entries\n",
    "final=sorted_data.drop_duplicates(subset={\"UserId\",\"ProfileName\",\"Time\",\"Text\"}, keep='first', inplace=False)\n",
    "final.shape"
   ]
  },
  {
   "cell_type": "code",
   "execution_count": 95,
   "metadata": {
    "colab": {},
    "colab_type": "code",
    "id": "OkMII7G4ChXx",
    "outputId": "8c9c181d-fbb6-4a8c-b552-07a62d762fdd"
   },
   "outputs": [
    {
     "data": {
      "text/plain": [
       "99.72"
      ]
     },
     "execution_count": 95,
     "metadata": {},
     "output_type": "execute_result"
    }
   ],
   "source": [
    "#Checking to see how much % of data still remains\n",
    "(final['Id'].size*1.0)/(filtered_data['Id'].size*1.0)*100"
   ]
  },
  {
   "cell_type": "markdown",
   "metadata": {
    "colab_type": "text",
    "id": "GqWw3R5rChX6"
   },
   "source": [
    "<b>Observation:-</b> It was also seen that in two rows given below the value of HelpfulnessNumerator is greater than HelpfulnessDenominator which is not practically possible hence these two rows too are removed from calcualtions"
   ]
  },
  {
   "cell_type": "code",
   "execution_count": 96,
   "metadata": {
    "colab": {},
    "colab_type": "code",
    "id": "D04AzcxlChX-",
    "outputId": "1cedb765-4633-40e8-cd26-5e9ea9112807"
   },
   "outputs": [
    {
     "data": {
      "text/html": [
       "<div>\n",
       "<style scoped>\n",
       "    .dataframe tbody tr th:only-of-type {\n",
       "        vertical-align: middle;\n",
       "    }\n",
       "\n",
       "    .dataframe tbody tr th {\n",
       "        vertical-align: top;\n",
       "    }\n",
       "\n",
       "    .dataframe thead th {\n",
       "        text-align: right;\n",
       "    }\n",
       "</style>\n",
       "<table border=\"1\" class=\"dataframe\">\n",
       "  <thead>\n",
       "    <tr style=\"text-align: right;\">\n",
       "      <th></th>\n",
       "      <th>Id</th>\n",
       "      <th>ProductId</th>\n",
       "      <th>UserId</th>\n",
       "      <th>ProfileName</th>\n",
       "      <th>HelpfulnessNumerator</th>\n",
       "      <th>HelpfulnessDenominator</th>\n",
       "      <th>Score</th>\n",
       "      <th>Time</th>\n",
       "      <th>Summary</th>\n",
       "      <th>Text</th>\n",
       "    </tr>\n",
       "  </thead>\n",
       "  <tbody>\n",
       "    <tr>\n",
       "      <th>0</th>\n",
       "      <td>64422</td>\n",
       "      <td>B000MIDROQ</td>\n",
       "      <td>A161DK06JJMCYF</td>\n",
       "      <td>J. E. Stephens \"Jeanne\"</td>\n",
       "      <td>3</td>\n",
       "      <td>1</td>\n",
       "      <td>5</td>\n",
       "      <td>1224892800</td>\n",
       "      <td>Bought This for My Son at College</td>\n",
       "      <td>My son loves spaghetti so I didn't hesitate or...</td>\n",
       "    </tr>\n",
       "    <tr>\n",
       "      <th>1</th>\n",
       "      <td>44737</td>\n",
       "      <td>B001EQ55RW</td>\n",
       "      <td>A2V0I904FH7ABY</td>\n",
       "      <td>Ram</td>\n",
       "      <td>3</td>\n",
       "      <td>2</td>\n",
       "      <td>4</td>\n",
       "      <td>1212883200</td>\n",
       "      <td>Pure cocoa taste with crunchy almonds inside</td>\n",
       "      <td>It was almost a 'love at first bite' - the per...</td>\n",
       "    </tr>\n",
       "  </tbody>\n",
       "</table>\n",
       "</div>"
      ],
      "text/plain": [
       "      Id   ProductId          UserId              ProfileName  \\\n",
       "0  64422  B000MIDROQ  A161DK06JJMCYF  J. E. Stephens \"Jeanne\"   \n",
       "1  44737  B001EQ55RW  A2V0I904FH7ABY                      Ram   \n",
       "\n",
       "   HelpfulnessNumerator  HelpfulnessDenominator  Score        Time  \\\n",
       "0                     3                       1      5  1224892800   \n",
       "1                     3                       2      4  1212883200   \n",
       "\n",
       "                                        Summary  \\\n",
       "0             Bought This for My Son at College   \n",
       "1  Pure cocoa taste with crunchy almonds inside   \n",
       "\n",
       "                                                Text  \n",
       "0  My son loves spaghetti so I didn't hesitate or...  \n",
       "1  It was almost a 'love at first bite' - the per...  "
      ]
     },
     "execution_count": 96,
     "metadata": {},
     "output_type": "execute_result"
    }
   ],
   "source": [
    "display= pd.read_sql_query(\"\"\"\n",
    "SELECT *\n",
    "FROM Reviews\n",
    "WHERE Score != 3 AND Id=44737 OR Id=64422\n",
    "ORDER BY ProductID\n",
    "\"\"\", con)\n",
    "\n",
    "display.head()"
   ]
  },
  {
   "cell_type": "code",
   "execution_count": 97,
   "metadata": {
    "colab": {},
    "colab_type": "code",
    "id": "jgXX4VgCChYG"
   },
   "outputs": [],
   "source": [
    "final=final[final.HelpfulnessNumerator<=final.HelpfulnessDenominator]"
   ]
  },
  {
   "cell_type": "code",
   "execution_count": 98,
   "metadata": {
    "colab": {},
    "colab_type": "code",
    "id": "ItoTBxEAChYN",
    "outputId": "689f9954-0e4b-4be8-d865-342b6686144c"
   },
   "outputs": [
    {
     "name": "stdout",
     "output_type": "stream",
     "text": [
      "(4986, 10)\n"
     ]
    },
    {
     "data": {
      "text/plain": [
       "1    4178\n",
       "0     808\n",
       "Name: Score, dtype: int64"
      ]
     },
     "execution_count": 98,
     "metadata": {},
     "output_type": "execute_result"
    }
   ],
   "source": [
    "#Before starting the next phase of preprocessing lets see the number of entries left\n",
    "print(final.shape)\n",
    "\n",
    "#How many positive and negative reviews are present in our dataset?\n",
    "final['Score'].value_counts()"
   ]
  },
  {
   "cell_type": "markdown",
   "metadata": {
    "colab_type": "text",
    "id": "fu12_ACbChYY"
   },
   "source": [
    "#  [3] Preprocessing"
   ]
  },
  {
   "cell_type": "markdown",
   "metadata": {
    "colab_type": "text",
    "id": "3pg73rLEChYa"
   },
   "source": [
    "## [3.1].  Preprocessing Review Text\n",
    "\n",
    "Now that we have finished deduplication our data requires some preprocessing before we go on further with analysis and making the prediction model.\n",
    "\n",
    "Hence in the Preprocessing phase we do the following in the order below:-\n",
    "\n",
    "1. Begin by removing the html tags\n",
    "2. Remove any punctuations or limited set of special characters like , or . or # etc.\n",
    "3. Check if the word is made up of english letters and is not alpha-numeric\n",
    "4. Check to see if the length of the word is greater than 2 (as it was researched that there is no adjective in 2-letters)\n",
    "5. Convert the word to lowercase\n",
    "6. Remove Stopwords\n",
    "7. Finally Snowball Stemming the word (it was obsereved to be better than Porter Stemming)<br>\n",
    "\n",
    "After which we collect the words used to describe positive and negative reviews"
   ]
  },
  {
   "cell_type": "code",
   "execution_count": 99,
   "metadata": {
    "colab": {},
    "colab_type": "code",
    "id": "BZpKtJnDChYc",
    "outputId": "08059845-51a0-4085-d119-77bb766d535a"
   },
   "outputs": [
    {
     "name": "stdout",
     "output_type": "stream",
     "text": [
      "Why is this $[...] when the same product is available for $[...] here?<br />http://www.amazon.com/VICTOR-FLY-MAGNET-BAIT-REFILL/dp/B00004RBDY<br /><br />The Victor M380 and M502 traps are unreal, of course -- total fly genocide. Pretty stinky, but only right nearby.\n",
      "==================================================\n",
      "I recently tried this flavor/brand and was surprised at how delicious these chips are.  The best thing was that there were a lot of \"brown\" chips in the bsg (my favorite), so I bought some more through amazon and shared with family and friends.  I am a little disappointed that there are not, so far, very many brown chips in these bags, but the flavor is still very good.  I like them better than the yogurt and green onion flavor because they do not seem to be as salty, and the onion flavor is better.  If you haven't eaten Kettle chips before, I recommend that you try a bag before buying bulk.  They are thicker and crunchier than Lays but just as fresh out of the bag.\n",
      "==================================================\n",
      "Wow.  So far, two two-star reviews.  One obviously had no idea what they were ordering; the other wants crispy cookies.  Hey, I'm sorry; but these reviews do nobody any good beyond reminding us to look  before ordering.<br /><br />These are chocolate-oatmeal cookies.  If you don't like that combination, don't order this type of cookie.  I find the combo quite nice, really.  The oatmeal sort of \"calms\" the rich chocolate flavor and gives the cookie sort of a coconut-type consistency.  Now let's also remember that tastes differ; so, I've given my opinion.<br /><br />Then, these are soft, chewy cookies -- as advertised.  They are not \"crispy\" cookies, or the blurb would say \"crispy,\" rather than \"chewy.\"  I happen to like raw cookie dough; however, I don't see where these taste like raw cookie dough.  Both are soft, however, so is this the confusion?  And, yes, they stick together.  Soft cookies tend to do that.  They aren't individually wrapped, which would add to the cost.  Oh yeah, chocolate chip cookies tend to be somewhat sweet.<br /><br />So, if you want something hard and crisp, I suggest Nabiso's Ginger Snaps.  If you want a cookie that's soft, chewy and tastes like a combination of chocolate and oatmeal, give these a try.  I'm here to place my second order.\n",
      "==================================================\n",
      "love to order my coffee on amazon.  easy and shows up quickly.<br />This k cup is great coffee.  dcaf is very good as well\n",
      "==================================================\n"
     ]
    }
   ],
   "source": [
    "# printing some random reviews\n",
    "sent_0 = final['Text'].values[0]\n",
    "print(sent_0)\n",
    "print(\"=\"*50)\n",
    "\n",
    "sent_1000 = final['Text'].values[1000]\n",
    "print(sent_1000)\n",
    "print(\"=\"*50)\n",
    "\n",
    "sent_1500 = final['Text'].values[1500]\n",
    "print(sent_1500)\n",
    "print(\"=\"*50)\n",
    "\n",
    "sent_4900 = final['Text'].values[4900]\n",
    "print(sent_4900)\n",
    "print(\"=\"*50)"
   ]
  },
  {
   "cell_type": "code",
   "execution_count": 100,
   "metadata": {
    "colab": {},
    "colab_type": "code",
    "id": "tpufjpl_ChYm",
    "outputId": "261a8bc7-cfd5-4b7f-fa96-959ca8aacd57"
   },
   "outputs": [
    {
     "name": "stdout",
     "output_type": "stream",
     "text": [
      "Why is this $[...] when the same product is available for $[...] here?<br /> /><br />The Victor M380 and M502 traps are unreal, of course -- total fly genocide. Pretty stinky, but only right nearby.\n"
     ]
    }
   ],
   "source": [
    "# remove urls from text python: https://stackoverflow.com/a/40823105/4084039\n",
    "sent_0 = re.sub(r\"http\\S+\", \"\", sent_0)\n",
    "sent_1000 = re.sub(r\"http\\S+\", \"\", sent_1000)\n",
    "sent_150 = re.sub(r\"http\\S+\", \"\", sent_1500)\n",
    "sent_4900 = re.sub(r\"http\\S+\", \"\", sent_4900)\n",
    "\n",
    "print(sent_0)"
   ]
  },
  {
   "cell_type": "code",
   "execution_count": 101,
   "metadata": {
    "colab": {},
    "colab_type": "code",
    "id": "giHr0E8zChYv",
    "outputId": "524fc738-3646-486d-b670-e33a2e5d0cd2"
   },
   "outputs": [
    {
     "name": "stdout",
     "output_type": "stream",
     "text": [
      "Why is this $[...] when the same product is available for $[...] here? />The Victor M380 and M502 traps are unreal, of course -- total fly genocide. Pretty stinky, but only right nearby.\n",
      "==================================================\n",
      "I recently tried this flavor/brand and was surprised at how delicious these chips are.  The best thing was that there were a lot of \"brown\" chips in the bsg (my favorite), so I bought some more through amazon and shared with family and friends.  I am a little disappointed that there are not, so far, very many brown chips in these bags, but the flavor is still very good.  I like them better than the yogurt and green onion flavor because they do not seem to be as salty, and the onion flavor is better.  If you haven't eaten Kettle chips before, I recommend that you try a bag before buying bulk.  They are thicker and crunchier than Lays but just as fresh out of the bag.\n",
      "==================================================\n",
      "Wow.  So far, two two-star reviews.  One obviously had no idea what they were ordering; the other wants crispy cookies.  Hey, I'm sorry; but these reviews do nobody any good beyond reminding us to look  before ordering.These are chocolate-oatmeal cookies.  If you don't like that combination, don't order this type of cookie.  I find the combo quite nice, really.  The oatmeal sort of \"calms\" the rich chocolate flavor and gives the cookie sort of a coconut-type consistency.  Now let's also remember that tastes differ; so, I've given my opinion.Then, these are soft, chewy cookies -- as advertised.  They are not \"crispy\" cookies, or the blurb would say \"crispy,\" rather than \"chewy.\"  I happen to like raw cookie dough; however, I don't see where these taste like raw cookie dough.  Both are soft, however, so is this the confusion?  And, yes, they stick together.  Soft cookies tend to do that.  They aren't individually wrapped, which would add to the cost.  Oh yeah, chocolate chip cookies tend to be somewhat sweet.So, if you want something hard and crisp, I suggest Nabiso's Ginger Snaps.  If you want a cookie that's soft, chewy and tastes like a combination of chocolate and oatmeal, give these a try.  I'm here to place my second order.\n",
      "==================================================\n",
      "love to order my coffee on amazon.  easy and shows up quickly.This k cup is great coffee.  dcaf is very good as well\n"
     ]
    }
   ],
   "source": [
    "# https://stackoverflow.com/questions/16206380/python-beautifulsoup-how-to-remove-all-tags-from-an-element\n",
    "from bs4 import BeautifulSoup\n",
    "\n",
    "soup = BeautifulSoup(sent_0, 'lxml')\n",
    "text = soup.get_text()\n",
    "print(text)\n",
    "print(\"=\"*50)\n",
    "\n",
    "soup = BeautifulSoup(sent_1000, 'lxml')\n",
    "text = soup.get_text()\n",
    "print(text)\n",
    "print(\"=\"*50)\n",
    "\n",
    "soup = BeautifulSoup(sent_1500, 'lxml')\n",
    "text = soup.get_text()\n",
    "print(text)\n",
    "print(\"=\"*50)\n",
    "\n",
    "soup = BeautifulSoup(sent_4900, 'lxml')\n",
    "text = soup.get_text()\n",
    "print(text)"
   ]
  },
  {
   "cell_type": "code",
   "execution_count": 102,
   "metadata": {
    "colab": {},
    "colab_type": "code",
    "id": "HdhtRruPChY3"
   },
   "outputs": [],
   "source": [
    "# https://stackoverflow.com/a/47091490/4084039\n",
    "import re\n",
    "\n",
    "def decontracted(phrase):\n",
    "    # specific\n",
    "    phrase = re.sub(r\"won't\", \"will not\", phrase)\n",
    "    phrase = re.sub(r\"can\\'t\", \"can not\", phrase)\n",
    "\n",
    "    # general\n",
    "    phrase = re.sub(r\"n\\'t\", \" not\", phrase)\n",
    "    phrase = re.sub(r\"\\'re\", \" are\", phrase)\n",
    "    phrase = re.sub(r\"\\'s\", \" is\", phrase)\n",
    "    phrase = re.sub(r\"\\'d\", \" would\", phrase)\n",
    "    phrase = re.sub(r\"\\'ll\", \" will\", phrase)\n",
    "    phrase = re.sub(r\"\\'t\", \" not\", phrase)\n",
    "    phrase = re.sub(r\"\\'ve\", \" have\", phrase)\n",
    "    phrase = re.sub(r\"\\'m\", \" am\", phrase)\n",
    "    return phrase"
   ]
  },
  {
   "cell_type": "code",
   "execution_count": 103,
   "metadata": {
    "colab": {},
    "colab_type": "code",
    "id": "S8yht6Y7ChY7",
    "outputId": "716f4785-e4d7-40e4-addb-cf9b065a2f9d"
   },
   "outputs": [
    {
     "name": "stdout",
     "output_type": "stream",
     "text": [
      "Wow.  So far, two two-star reviews.  One obviously had no idea what they were ordering; the other wants crispy cookies.  Hey, I am sorry; but these reviews do nobody any good beyond reminding us to look  before ordering.<br /><br />These are chocolate-oatmeal cookies.  If you do not like that combination, do not order this type of cookie.  I find the combo quite nice, really.  The oatmeal sort of \"calms\" the rich chocolate flavor and gives the cookie sort of a coconut-type consistency.  Now let is also remember that tastes differ; so, I have given my opinion.<br /><br />Then, these are soft, chewy cookies -- as advertised.  They are not \"crispy\" cookies, or the blurb would say \"crispy,\" rather than \"chewy.\"  I happen to like raw cookie dough; however, I do not see where these taste like raw cookie dough.  Both are soft, however, so is this the confusion?  And, yes, they stick together.  Soft cookies tend to do that.  They are not individually wrapped, which would add to the cost.  Oh yeah, chocolate chip cookies tend to be somewhat sweet.<br /><br />So, if you want something hard and crisp, I suggest Nabiso is Ginger Snaps.  If you want a cookie that is soft, chewy and tastes like a combination of chocolate and oatmeal, give these a try.  I am here to place my second order.\n",
      "==================================================\n"
     ]
    }
   ],
   "source": [
    "sent_1500 = decontracted(sent_1500)\n",
    "print(sent_1500)\n",
    "print(\"=\"*50)"
   ]
  },
  {
   "cell_type": "code",
   "execution_count": 104,
   "metadata": {
    "colab": {},
    "colab_type": "code",
    "id": "zJU8V8P4ChZE",
    "outputId": "0aa7cd16-c67f-41d7-843e-d1166399817a"
   },
   "outputs": [
    {
     "name": "stdout",
     "output_type": "stream",
     "text": [
      "Why is this $[...] when the same product is available for $[...] here?<br /> /><br />The Victor  and  traps are unreal, of course -- total fly genocide. Pretty stinky, but only right nearby.\n"
     ]
    }
   ],
   "source": [
    "#remove words with numbers python: https://stackoverflow.com/a/18082370/4084039\n",
    "sent_0 = re.sub(\"\\S*\\d\\S*\", \"\", sent_0).strip()\n",
    "print(sent_0)"
   ]
  },
  {
   "cell_type": "code",
   "execution_count": 105,
   "metadata": {
    "colab": {},
    "colab_type": "code",
    "id": "zUDg3iWhChZL",
    "outputId": "4d26aaf6-d00d-4506-8ba5-514ead41aaa3"
   },
   "outputs": [
    {
     "name": "stdout",
     "output_type": "stream",
     "text": [
      "Wow So far two two star reviews One obviously had no idea what they were ordering the other wants crispy cookies Hey I am sorry but these reviews do nobody any good beyond reminding us to look before ordering br br These are chocolate oatmeal cookies If you do not like that combination do not order this type of cookie I find the combo quite nice really The oatmeal sort of calms the rich chocolate flavor and gives the cookie sort of a coconut type consistency Now let is also remember that tastes differ so I have given my opinion br br Then these are soft chewy cookies as advertised They are not crispy cookies or the blurb would say crispy rather than chewy I happen to like raw cookie dough however I do not see where these taste like raw cookie dough Both are soft however so is this the confusion And yes they stick together Soft cookies tend to do that They are not individually wrapped which would add to the cost Oh yeah chocolate chip cookies tend to be somewhat sweet br br So if you want something hard and crisp I suggest Nabiso is Ginger Snaps If you want a cookie that is soft chewy and tastes like a combination of chocolate and oatmeal give these a try I am here to place my second order \n"
     ]
    }
   ],
   "source": [
    "#remove spacial character: https://stackoverflow.com/a/5843547/4084039\n",
    "sent_1500 = re.sub('[^A-Za-z0-9]+', ' ', sent_1500)\n",
    "print(sent_1500)"
   ]
  },
  {
   "cell_type": "code",
   "execution_count": 106,
   "metadata": {
    "colab": {},
    "colab_type": "code",
    "id": "q2QebhvKChZR"
   },
   "outputs": [],
   "source": [
    "# https://gist.github.com/sebleier/554280\n",
    "# we are removing the words from the stop words list: 'no', 'nor', 'not'\n",
    "# <br /><br /> ==> after the above steps, we are getting \"br br\"\n",
    "# we are including them into stop words list\n",
    "# instead of <br /> if we have <br/> these tags would have revmoved in the 1st step\n",
    "\n",
    "stopwords= set(['br', 'the', 'i', 'me', 'my', 'myself', 'we', 'our', 'ours', 'ourselves', 'you', \"you're\", \"you've\",\\\n",
    "            \"you'll\", \"you'd\", 'your', 'yours', 'yourself', 'yourselves', 'he', 'him', 'his', 'himself', \\\n",
    "            'she', \"she's\", 'her', 'hers', 'herself', 'it', \"it's\", 'its', 'itself', 'they', 'them', 'their',\\\n",
    "            'theirs', 'themselves', 'what', 'which', 'who', 'whom', 'this', 'that', \"that'll\", 'these', 'those', \\\n",
    "            'am', 'is', 'are', 'was', 'were', 'be', 'been', 'being', 'have', 'has', 'had', 'having', 'do', 'does', \\\n",
    "            'did', 'doing', 'a', 'an', 'the', 'and', 'but', 'if', 'or', 'because', 'as', 'until', 'while', 'of', \\\n",
    "            'at', 'by', 'for', 'with', 'about', 'against', 'between', 'into', 'through', 'during', 'before', 'after',\\\n",
    "            'above', 'below', 'to', 'from', 'up', 'down', 'in', 'out', 'on', 'off', 'over', 'under', 'again', 'further',\\\n",
    "            'then', 'once', 'here', 'there', 'when', 'where', 'why', 'how', 'all', 'any', 'both', 'each', 'few', 'more',\\\n",
    "            'most', 'other', 'some', 'such', 'only', 'own', 'same', 'so', 'than', 'too', 'very', \\\n",
    "            's', 't', 'can', 'will', 'just', 'don', \"don't\", 'should', \"should've\", 'now', 'd', 'll', 'm', 'o', 're', \\\n",
    "            've', 'y', 'ain', 'aren', \"aren't\", 'couldn', \"couldn't\", 'didn', \"didn't\", 'doesn', \"doesn't\", 'hadn',\\\n",
    "            \"hadn't\", 'hasn', \"hasn't\", 'haven', \"haven't\", 'isn', \"isn't\", 'ma', 'mightn', \"mightn't\", 'mustn',\\\n",
    "            \"mustn't\", 'needn', \"needn't\", 'shan', \"shan't\", 'shouldn', \"shouldn't\", 'wasn', \"wasn't\", 'weren', \"weren't\", \\\n",
    "            'won', \"won't\", 'wouldn', \"wouldn't\"])"
   ]
  },
  {
   "cell_type": "code",
   "execution_count": 107,
   "metadata": {
    "colab": {},
    "colab_type": "code",
    "id": "SxOsbLMyChZV",
    "outputId": "3e64146f-e471-4236-8ec2-1f47e066c03e"
   },
   "outputs": [
    {
     "name": "stderr",
     "output_type": "stream",
     "text": [
      "100%|████████████████████████████████████| 4986/4986 [00:01<00:00, 2906.13it/s]\n"
     ]
    }
   ],
   "source": [
    "# Combining all the above stundents \n",
    "from tqdm import tqdm\n",
    "preprocessed_reviews = []\n",
    "# tqdm is for printing the status bar\n",
    "for sentance in tqdm(final['Text'].values):\n",
    "    sentance = re.sub(r\"http\\S+\", \"\", sentance)\n",
    "    sentance = BeautifulSoup(sentance, 'lxml').get_text()\n",
    "    sentance = decontracted(sentance)\n",
    "    sentance = re.sub(\"\\S*\\d\\S*\", \"\", sentance).strip()\n",
    "    sentance = re.sub('[^A-Za-z]+', ' ', sentance)\n",
    "    # https://gist.github.com/sebleier/554280\n",
    "    sentance = ' '.join(e.lower() for e in sentance.split() if e.lower() not in stopwords)\n",
    "    preprocessed_reviews.append(sentance.strip())"
   ]
  },
  {
   "cell_type": "code",
   "execution_count": 108,
   "metadata": {
    "colab": {},
    "colab_type": "code",
    "id": "QqPomIjSChZa",
    "outputId": "d7beb0f0-fac5-46b7-c3a8-b52e47097cc7"
   },
   "outputs": [
    {
     "data": {
      "text/plain": [
       "'wow far two two star reviews one obviously no idea ordering wants crispy cookies hey sorry reviews nobody good beyond reminding us look ordering chocolate oatmeal cookies not like combination not order type cookie find combo quite nice really oatmeal sort calms rich chocolate flavor gives cookie sort coconut type consistency let also remember tastes differ given opinion soft chewy cookies advertised not crispy cookies blurb would say crispy rather chewy happen like raw cookie dough however not see taste like raw cookie dough soft however confusion yes stick together soft cookies tend not individually wrapped would add cost oh yeah chocolate chip cookies tend somewhat sweet want something hard crisp suggest nabiso ginger snaps want cookie soft chewy tastes like combination chocolate oatmeal give try place second order'"
      ]
     },
     "execution_count": 108,
     "metadata": {},
     "output_type": "execute_result"
    }
   ],
   "source": [
    "preprocessed_reviews[1500]"
   ]
  },
  {
   "cell_type": "code",
   "execution_count": 162,
   "metadata": {},
   "outputs": [],
   "source": [
    "# Credits: https://machinelearningmastery.com/sequence-classification-lstm-recurrent-neural-networks-python-keras/\n",
    "# LSTM for sequence classification in the IMDB dataset\n",
    "import numpy\n",
    "from keras.datasets import imdb\n",
    "from keras.models import Sequential\n",
    "from keras.layers import Dense\n",
    "from keras.layers import LSTM\n",
    "from keras.layers.embeddings import Embedding\n",
    "from keras.preprocessing import sequence\n",
    "# fix random seed for reproducibility\n",
    "numpy.random.seed(7)\n",
    "from sklearn.model_selection import train_test_split\n",
    "from keras.layers import BatchNormalization, Dense, Dropout, Flatten"
   ]
  },
  {
   "cell_type": "code",
   "execution_count": 163,
   "metadata": {},
   "outputs": [
    {
     "name": "stdout",
     "output_type": "stream",
     "text": [
      "                                                   Text  score\n",
      "2546  product available victor traps unreal course t...      1\n",
      "2547  used victor fly bait seasons ca not beat great...      1\n",
      "1145  received shipment could hardly wait try produc...      1\n",
      "1146  really good idea final product outstanding use...      1\n",
      "2942  glad cocker standard poodle puppy loves stuff ...      1\n",
      "2941  using food months find excellent fact two dogs...      1\n",
      "1071  nine cats crazy kibbles last thing want cat fo...      1\n",
      "2187  shipped day ordered arrived within days live o...      1\n",
      "4695  mix probably not something would want use ever...      1\n",
      "2068  description product disceptive product represe...      0\n",
      "2069  bought brand online indian grocery store usual...      0\n",
      "2806  use keep finicky toddler protein levels great ...      1\n",
      "2805  get busy home like sausage lot quick meal opti...      1\n",
      "4099  company american classic business years best h...      1\n",
      "4096  love pico pica adds flavor not hot eat least m...      1\n",
      "4097  thank goodness mexgrocer love pico pica sauce ...      1\n",
      "4098  different sauce nothing like anything find gro...      1\n",
      "1332  found product search edible gold leaf decided ...      0\n",
      "1330  purchased item cake called gold dust never tho...      1\n",
      "1329  used product multiple times fact purchased fou...      1\n",
      "1328  used super gold luster dust create exquisite c...      1\n",
      "1331  product allows make really big splashes provid...      1\n",
      "4320  cute affordable set son golf theme party great...      1\n",
      "4321  used one green ball etc golfer cake made one l...      1\n",
      "4322                                                         1\n",
      "4323  golf set arrived quickly pictured birthday fiv...      1\n",
      "4054  natural ingredients no preservatives say fanta...      1\n",
      "2477  adzuki azuki beans ment used asian sweets make...      1\n",
      "2476  good beans not find grocery stores live ordere...      1\n",
      "2478  not good yummy smell like cloves cooking taste...      1\n",
      "...                                                 ...    ...\n",
      "2214  carabou mahogony worst tasting cup coffee ever...      0\n",
      "2215  ordered mahogany caribou coffee k cups adore r...      1\n",
      "2212  wife avid keurig coffee fans three brewers two...      1\n",
      "2216  serious cup joe yummyness turned least friends...      1\n",
      "2217  maybe greatest coffee ever made many time regu...      1\n",
      "677   surprised find taiwan shaped pineapple cakes c...      1\n",
      "678   really like pineapple shortcakes sold unlike m...      1\n",
      "3663                                      started using      1\n",
      "3662  using lourdes chimichurri years stuff awesome ...      1\n",
      "3664  absolutely love product use chicken beef veggi...      1\n",
      "3580  never sunchy malta drank lot goya available lo...      1\n",
      "1110  item got house time surprised well package pac...      1\n",
      "1109  since gluten free tried types gf breads expens...      1\n",
      "1108  not good houston samba grill tasted great text...      1\n",
      "1107  made recently holiday party never seen anythin...      1\n",
      "1106  spent first five years life brazil american pa...      1\n",
      "1232  love dont use much strong tastes great makes e...      1\n",
      "4714  best olive oil not cooking olive oil work flav...      1\n",
      "2013  nearby fresh easy neighborhood market stocks n...      1\n",
      "3567                            get walmart gas station      0\n",
      "3271  coffee really rich perfect morning ordered off...      1\n",
      "220   fresh great way get little chocolate life with...      1\n",
      "4117  taste something like flax bread cornbread exce...      1\n",
      "4118  wonderful dinner fresh fluke fried tempura bat...      1\n",
      "712   tried available discs kona blend one best regu...      1\n",
      "711   one best choices opinion also adore amazon nee...      1\n",
      "710   tried many tassimo flavors far favorite normal...      1\n",
      "709   bold blend great taste flavor comes bursting u...      1\n",
      "713   coffee available tassimo kona richest flavor f...      1\n",
      "1362  coffee supposedly premium tastes watery thin n...      0\n",
      "\n",
      "[4986 rows x 2 columns]\n"
     ]
    }
   ],
   "source": [
    "data = {'Text':preprocessed_reviews,'score':final['Score'] }\n",
    "df = pd.DataFrame(data)\n",
    "print(df)\n"
   ]
  },
  {
   "cell_type": "code",
   "execution_count": 164,
   "metadata": {},
   "outputs": [
    {
     "name": "stdout",
     "output_type": "stream",
     "text": [
      "shape of the Train 3490 and the shape of the test 1496\n"
     ]
    }
   ],
   "source": [
    "from sklearn.model_selection import train_test_split\n",
    "x_train, x_test, y_train, y_test = train_test_split(df['Text'].values,\n",
    "                                                            df['score'],\n",
    "                                                            test_size=0.3,\n",
    "                                                            shuffle=False,\n",
    "                                                            random_state=0)\n",
    "print(\"shape of the Train\",x_train.shape[0],\"and the shape of the test\",x_test.shape[0])"
   ]
  },
  {
   "cell_type": "code",
   "execution_count": 165,
   "metadata": {},
   "outputs": [
    {
     "name": "stdout",
     "output_type": "stream",
     "text": [
      "0       product available victor traps unreal course t...\n",
      "1       used victor fly bait seasons ca not beat great...\n",
      "2       received shipment could hardly wait try produc...\n",
      "3       really good idea final product outstanding use...\n",
      "4       glad cocker standard poodle puppy loves stuff ...\n",
      "5       using food months find excellent fact two dogs...\n",
      "6       nine cats crazy kibbles last thing want cat fo...\n",
      "7       shipped day ordered arrived within days live o...\n",
      "8       mix probably not something would want use ever...\n",
      "9       description product disceptive product represe...\n",
      "10      bought brand online indian grocery store usual...\n",
      "11      use keep finicky toddler protein levels great ...\n",
      "12      get busy home like sausage lot quick meal opti...\n",
      "13      company american classic business years best h...\n",
      "14      love pico pica adds flavor not hot eat least m...\n",
      "15      thank goodness mexgrocer love pico pica sauce ...\n",
      "16      different sauce nothing like anything find gro...\n",
      "17      found product search edible gold leaf decided ...\n",
      "18      purchased item cake called gold dust never tho...\n",
      "19      used product multiple times fact purchased fou...\n",
      "20      used super gold luster dust create exquisite c...\n",
      "21      product allows make really big splashes provid...\n",
      "22      cute affordable set son golf theme party great...\n",
      "23      used one green ball etc golfer cake made one l...\n",
      "24                                                       \n",
      "25      golf set arrived quickly pictured birthday fiv...\n",
      "26      natural ingredients no preservatives say fanta...\n",
      "27      adzuki azuki beans ment used asian sweets make...\n",
      "28      good beans not find grocery stores live ordere...\n",
      "29      not good yummy smell like cloves cooking taste...\n",
      "                              ...                        \n",
      "3460    first jar really enjoying adds concoctions veg...\n",
      "3461    pit bull little year old say food motivated un...\n",
      "3462    german breed g sheph picky loved happy camper ...\n",
      "3463    time ordered smokehouse usa chicken stix order...\n",
      "3464    read another review reviewer concerned product...\n",
      "3465    new treat kids pretty picky eaters especially ...\n",
      "3466    apparently aregular size thinner standard size...\n",
      "3467    received order count regular bully sticks extr...\n",
      "3468    ordered despite concerns reading reviews small...\n",
      "3469    sticks definitely not look like ones picture m...\n",
      "3470    thickness described not thin straws like revie...\n",
      "3471    oue two labs love soooo expensive pet stores g...\n",
      "3472    vendor unscrupulous ripped cultures collectors...\n",
      "3473    pretty good product taste not best definitely ...\n",
      "3474    previously bought mustard seed unbearably bitt...\n",
      "3475    yes expensive worth yet find marinade stands o...\n",
      "3476    not traditional bbq sauce terms flavor could e...\n",
      "3477    bought fathers day father loves dried fruits n...\n",
      "3478    baby white popcorn wabash farms pops nicely no...\n",
      "3479    made whirley pop really lighter crisper larger...\n",
      "3480    liked idea small popcorn pops really well popp...\n",
      "3481    bought popcorn based reviews hulls softer baby...\n",
      "3482    popcorn good cant believe difference popcorn r...\n",
      "3483    not spend money product find popping ratio ext...\n",
      "3484    terrible popcorn no taste poor popping ratio s...\n",
      "3485    popcorn really great enjoy taste smallness act...\n",
      "3486    bought whirley pop stovetop popcorn popper sev...\n",
      "3487    popcorn grear color white taste average due sh...\n",
      "3488    enjoyed popcorn every bit much not movie theat...\n",
      "3489    use olive oil cook salt well best tender popco...\n",
      "Name: 0, Length: 3490, dtype: object\n"
     ]
    }
   ],
   "source": [
    "x_tr = pd.DataFrame(x_train)\n",
    "print(x_tr[0])"
   ]
  },
  {
   "cell_type": "code",
   "execution_count": 166,
   "metadata": {},
   "outputs": [
    {
     "name": "stdout",
     "output_type": "stream",
     "text": [
      "0       ordered bags free shipping reviews really like...\n",
      "1       doctor told must eat hulless popcorn popcorn n...\n",
      "2       popcorn yummy warned trouble popping using air...\n",
      "3       pops great microwave much better many store br...\n",
      "4       love little white kernels popped corn good stu...\n",
      "5       great popcorn good popping results wonderful f...\n",
      "6       sweetest smallest hulless best tasting white p...\n",
      "7       not claim professional food taster know like n...\n",
      "8       really good tender little sweet easy make whir...\n",
      "9       little concerned buy popcorn never know going ...\n",
      "10      love popcorn shipping costs insane total rip w...\n",
      "11          small white popcorn best delicious tried lots\n",
      "12      like much harder find white popcorn common yel...\n",
      "13      love popcorn downside shipping packing cost al...\n",
      "14      best popcorn ever kid ran popcorn machine thea...\n",
      "15      years bought lot popcorn popping found small b...\n",
      "16      first popcorn year old cousin home thought ten...\n",
      "17      best popcorn ever ate use whirley popper pop p...\n",
      "18      tasty small kernel popcorn however small light...\n",
      "19      used grow japanese hulless small quantities st...\n",
      "20           made popcorn choice enjoy flavor kernal size\n",
      "21      bought bowl pop corn along popcorn put two han...\n",
      "22      got three different amish popcorn daughter bir...\n",
      "23      seldom unpopped kernels nice flavor wonderful ...\n",
      "24      get get get popcorn truly tender delicious pop...\n",
      "25      enjoy practically every evening good popcorn n...\n",
      "26      popcorn much smaller average popcorn virtually...\n",
      "27      surprised popcorn sale received bags day speci...\n",
      "28      bought whirly pop popcorn popper made soon got...\n",
      "29      huge popcorn fan tried sorts amish country bra...\n",
      "                              ...                        \n",
      "1466    carabou mahogony worst tasting cup coffee ever...\n",
      "1467    ordered mahogany caribou coffee k cups adore r...\n",
      "1468    wife avid keurig coffee fans three brewers two...\n",
      "1469    serious cup joe yummyness turned least friends...\n",
      "1470    maybe greatest coffee ever made many time regu...\n",
      "1471    surprised find taiwan shaped pineapple cakes c...\n",
      "1472    really like pineapple shortcakes sold unlike m...\n",
      "1473                                        started using\n",
      "1474    using lourdes chimichurri years stuff awesome ...\n",
      "1475    absolutely love product use chicken beef veggi...\n",
      "1476    never sunchy malta drank lot goya available lo...\n",
      "1477    item got house time surprised well package pac...\n",
      "1478    since gluten free tried types gf breads expens...\n",
      "1479    not good houston samba grill tasted great text...\n",
      "1480    made recently holiday party never seen anythin...\n",
      "1481    spent first five years life brazil american pa...\n",
      "1482    love dont use much strong tastes great makes e...\n",
      "1483    best olive oil not cooking olive oil work flav...\n",
      "1484    nearby fresh easy neighborhood market stocks n...\n",
      "1485                              get walmart gas station\n",
      "1486    coffee really rich perfect morning ordered off...\n",
      "1487    fresh great way get little chocolate life with...\n",
      "1488    taste something like flax bread cornbread exce...\n",
      "1489    wonderful dinner fresh fluke fried tempura bat...\n",
      "1490    tried available discs kona blend one best regu...\n",
      "1491    one best choices opinion also adore amazon nee...\n",
      "1492    tried many tassimo flavors far favorite normal...\n",
      "1493    bold blend great taste flavor comes bursting u...\n",
      "1494    coffee available tassimo kona richest flavor f...\n",
      "1495    coffee supposedly premium tastes watery thin n...\n",
      "Name: 0, Length: 1496, dtype: object\n"
     ]
    }
   ],
   "source": [
    "x_te = pd.DataFrame(x_test)\n",
    "print(x_te[0])"
   ]
  },
  {
   "cell_type": "code",
   "execution_count": 167,
   "metadata": {},
   "outputs": [
    {
     "name": "stdout",
     "output_type": "stream",
     "text": [
      "stinky\n",
      "\n",
      " No of words 132484\n"
     ]
    }
   ],
   "source": [
    "words = []\n",
    "for sen in x_tr[0]:\n",
    "    word = sen.split()\n",
    "    words += word\n",
    "print(words[10])\n",
    "print(\"\\n No of words\",len(words))"
   ]
  },
  {
   "cell_type": "code",
   "execution_count": 168,
   "metadata": {},
   "outputs": [],
   "source": [
    " def Unique(data):\n",
    "        uq_words = []\n",
    "        for x in data:\n",
    "            if x not in uq_words:\n",
    "                uq_words.append(x)\n",
    "        return uq_words"
   ]
  },
  {
   "cell_type": "code",
   "execution_count": 169,
   "metadata": {},
   "outputs": [],
   "source": [
    "words_unique = Unique(words)"
   ]
  },
  {
   "cell_type": "code",
   "execution_count": 170,
   "metadata": {},
   "outputs": [
    {
     "name": "stdout",
     "output_type": "stream",
     "text": [
      "Number of unique words 11233\n"
     ]
    }
   ],
   "source": [
    "print(\"Number of unique words\",len(words_unique)+1)"
   ]
  },
  {
   "cell_type": "code",
   "execution_count": 171,
   "metadata": {},
   "outputs": [
    {
     "name": "stdout",
     "output_type": "stream",
     "text": [
      "11232\n",
      "[('not', 3417), ('like', 1368), ('good', 1207), ('great', 1100), ('chips', 984), ('one', 909), ('product', 883), ('would', 866), ('taste', 859), ('food', 855), ('flavor', 808), ('love', 767), ('tea', 763), ('no', 673), ('coffee', 647), ('really', 577), ('get', 571), ('much', 558), ('amazon', 548), ('bag', 522)]\n"
     ]
    }
   ],
   "source": [
    "from collections import Counter\n",
    "counts = Counter(words)\n",
    "print(len(counts))\n",
    "count = counts.most_common(2000)\n",
    "print(count[:20])"
   ]
  },
  {
   "cell_type": "code",
   "execution_count": 172,
   "metadata": {},
   "outputs": [],
   "source": [
    "word_index = dict()\n",
    "i = 1\n",
    "for word,frequency in count:\n",
    "    word_index[word] = i\n",
    "    i += 1"
   ]
  },
  {
   "cell_type": "code",
   "execution_count": 173,
   "metadata": {},
   "outputs": [
    {
     "name": "stdout",
     "output_type": "stream",
     "text": [
      "Top 25 words with their index:\n",
      "[('not', 1), ('like', 2), ('good', 3), ('great', 4), ('chips', 5), ('one', 6), ('product', 7), ('would', 8), ('taste', 9), ('food', 10), ('flavor', 11), ('love', 12), ('tea', 13), ('no', 14), ('coffee', 15), ('really', 16), ('get', 17), ('much', 18), ('amazon', 19), ('bag', 20), ('time', 21), ('also', 22), ('buy', 23), ('use', 24), ('find', 25)]\n"
     ]
    }
   ],
   "source": [
    "from itertools import islice\n",
    "print(\"Top 25 words with their index:\")\n",
    "print(list(islice(word_index.items(), 25)))"
   ]
  },
  {
   "cell_type": "code",
   "execution_count": 174,
   "metadata": {},
   "outputs": [
    {
     "data": {
      "text/plain": [
       "0       [7, 240, 0, 0, 0, 403, 992, 0, 0, 147, 1985, 8...\n",
       "1                    [40, 0, 0, 0, 0, 1116, 1, 614, 4, 7]\n",
       "2       [228, 800, 37, 1434, 868, 36, 7, 12, 0, 845, 2...\n",
       "3       [16, 3, 466, 0, 7, 1364, 24, 0, 1253, 0, 0, 0,...\n",
       "4       [304, 1435, 751, 1851, 752, 94, 124, 1306, 50,...\n",
       "5       [115, 10, 202, 25, 105, 267, 60, 86, 0, 1035, ...\n",
       "6       [0, 309, 894, 0, 195, 134, 98, 272, 10, 309, 7...\n",
       "7       [424, 74, 87, 233, 540, 229, 411, 0, 0, 45, 58...\n",
       "8       [38, 244, 1, 88, 8, 98, 24, 1307, 148, 110, 12...\n",
       "9       [895, 7, 0, 7, 0, 316, 1, 316, 0, 224, 0, 234,...\n",
       "10      [44, 50, 382, 0, 174, 52, 184, 105, 91, 241, 9...\n",
       "11      [24, 126, 1988, 1366, 357, 996, 4, 57, 51, 107...\n",
       "12      [17, 1989, 182, 2, 1857, 100, 341, 413, 1367, ...\n",
       "13      [186, 1079, 1440, 1217, 71, 27, 128, 112, 0, 1...\n",
       "14      [12, 0, 0, 869, 11, 1, 128, 34, 290, 925, 84, ...\n",
       "15      [335, 1310, 0, 12, 0, 0, 112, 459, 25, 7, 103,...\n",
       "16      [121, 112, 224, 2, 131, 25, 174, 52, 1741, 0, ...\n",
       "17      [42, 7, 1371, 1372, 962, 963, 243, 161, 700, 0...\n",
       "18      [176, 225, 207, 533, 962, 1624, 78, 153, 8, 25...\n",
       "19      [40, 7, 998, 263, 267, 176, 643, 0, 962, 0, 0,...\n",
       "20      [40, 356, 962, 0, 1624, 0, 0, 95, 0, 719, 0, 2...\n",
       "21      [7, 1743, 35, 16, 150, 0, 0, 0, 394, 0, 267, 9...\n",
       "22      [999, 1121, 534, 261, 0, 0, 701, 4, 107, 217, ...\n",
       "23      [40, 6, 116, 1863, 320, 0, 207, 45, 6, 109, 16...\n",
       "24                                                     []\n",
       "25      [0, 534, 233, 452, 1994, 926, 663, 140, 92, 0,...\n",
       "26      [106, 89, 14, 1170, 76, 496, 14, 1000, 664, 8,...\n",
       "27      [0, 0, 383, 0, 40, 1171, 1629, 35, 48, 665, 11...\n",
       "28         [3, 383, 1, 25, 174, 175, 411, 87, 0, 14, 291]\n",
       "29                 [1, 3, 414, 326, 2, 0, 531, 9, 28, 48]\n",
       "                              ...                        \n",
       "3460    [39, 858, 16, 957, 869, 0, 1998, 6, 1078, 38, ...\n",
       "3461    [0, 0, 28, 140, 92, 76, 10, 0, 0, 144, 209, 66...\n",
       "3462    [1270, 1361, 1294, 0, 453, 187, 141, 0, 0, 343...\n",
       "3463    [21, 87, 0, 1234, 171, 0, 58, 1234, 0, 83, 20,...\n",
       "3464    [302, 181, 297, 791, 1192, 7, 1093, 693, 533, ...\n",
       "3465    [148, 204, 294, 147, 453, 1916, 227, 1474, 12,...\n",
       "3466    [1104, 0, 107, 0, 751, 829, 0, 0, 802, 1061, 4...\n",
       "3467    [228, 58, 935, 99, 0, 692, 631, 329, 0, 498, 0...\n",
       "3468    [87, 1066, 0, 700, 178, 101, 0, 107, 281, 595,...\n",
       "3469    [692, 151, 1, 218, 2, 189, 1082, 18, 0, 0, 1, ...\n",
       "3470    [1955, 1809, 1, 385, 0, 2, 178, 1349, 441, 0, ...\n",
       "3471      [0, 60, 0, 12, 0, 180, 441, 175, 79, 498, 1841]\n",
       "3472    [1279, 0, 0, 0, 0, 0, 1762, 14, 0, 8, 127, 49,...\n",
       "3473    [147, 3, 7, 9, 1, 27, 151, 1, 1248, 305, 557, ...\n",
       "3474    [0, 44, 773, 730, 0, 219, 773, 45, 730, 104, 0...\n",
       "3475    [625, 180, 193, 355, 25, 1866, 1836, 6, 69, 0,...\n",
       "3476    [1, 1020, 338, 112, 1447, 11, 37, 360, 24, 474...\n",
       "3477    [44, 0, 74, 1418, 94, 777, 1498, 394, 179, 708...\n",
       "3478    [275, 205, 573, 0, 647, 1425, 661, 14, 0, 0, 1...\n",
       "3479    [45, 0, 378, 16, 1588, 0, 470, 1295, 0, 578, 2...\n",
       "3480    [270, 466, 101, 573, 1425, 16, 30, 0, 1, 18, 5...\n",
       "3481    [44, 573, 667, 178, 0, 1691, 275, 205, 99, 573...\n",
       "3482    [573, 3, 1549, 318, 510, 573, 99, 124, 1559, 3...\n",
       "3483    [1, 1211, 208, 7, 25, 0, 1229, 631, 1096, 6, 1...\n",
       "3484    [896, 573, 14, 9, 1096, 0, 1229, 107, 0, 1609,...\n",
       "3485    [573, 16, 4, 111, 9, 0, 737, 573, 1, 2, 573, 1...\n",
       "3486    [44, 0, 378, 0, 573, 0, 199, 202, 223, 403, 0,...\n",
       "3487    [573, 0, 468, 205, 9, 1005, 520, 129, 0, 7, 8,...\n",
       "3488    [437, 573, 84, 77, 18, 1, 0, 0, 573, 197, 987,...\n",
       "3489    [24, 613, 159, 532, 46, 30, 27, 1722, 573, 73,...\n",
       "Name: 0, Length: 3490, dtype: object"
      ]
     },
     "execution_count": 174,
     "metadata": {},
     "output_type": "execute_result"
    }
   ],
   "source": [
    "def apply_text_index(row):  \n",
    "    holder = []\n",
    "    for word in row.split():\n",
    "        if word in word_index:\n",
    "            holder.append(word_index[word]) \n",
    "        else:\n",
    "            holder.append(0)            \n",
    "    return holder\n",
    "\n",
    "\n",
    "x_tr = x_tr[0].apply(lambda row: apply_text_index(row))\n",
    "x_tr"
   ]
  },
  {
   "cell_type": "code",
   "execution_count": 175,
   "metadata": {},
   "outputs": [
    {
     "data": {
      "text/plain": [
       "0       [87, 53, 61, 129, 178, 16, 2, 183, 1238, 526, ...\n",
       "1       [0, 527, 342, 34, 0, 573, 573, 1, 85, 68, 64, ...\n",
       "2       [573, 414, 0, 919, 0, 115, 706, 0, 0, 197, 8, ...\n",
       "3              [1425, 4, 1204, 18, 32, 55, 52, 130, 3, 7]\n",
       "4       [12, 28, 205, 0, 1609, 238, 3, 124, 63, 36, 47...\n",
       "5       [4, 573, 3, 0, 587, 156, 11, 1116, 1, 538, 12,...\n",
       "6       [0, 0, 0, 27, 231, 205, 573, 73, 1908, 1589, 5...\n",
       "7       [1, 1865, 0, 10, 0, 70, 2, 1, 2, 1, 2, 1295, 5...\n",
       "8       [16, 3, 1722, 28, 48, 82, 35, 0, 378, 105, 560...\n",
       "9       [28, 1192, 23, 573, 78, 70, 170, 17, 304, 573,...\n",
       "10      [12, 573, 129, 1186, 0, 992, 0, 0, 0, 647, 19,...\n",
       "11                       [101, 205, 573, 27, 57, 33, 630]\n",
       "12      [2, 18, 1309, 25, 205, 573, 1221, 1295, 573, 0...\n",
       "13      [12, 573, 0, 129, 1789, 369, 167, 18, 573, 122...\n",
       "14      [27, 573, 73, 1026, 1230, 573, 814, 0, 172, 70...\n",
       "15      [71, 44, 100, 573, 0, 42, 101, 275, 205, 0, 27...\n",
       "16      [39, 573, 140, 92, 0, 182, 153, 1722, 57, 312,...\n",
       "17      [27, 573, 73, 405, 24, 0, 0, 378, 573, 34, 275...\n",
       "18      [104, 101, 0, 573, 144, 101, 197, 1609, 128, 7...\n",
       "19      [40, 888, 1161, 0, 101, 0, 0, 0, 0, 25, 0, 129...\n",
       "20                        [45, 573, 433, 111, 11, 0, 107]\n",
       "21      [44, 568, 378, 238, 422, 573, 120, 60, 0, 568,...\n",
       "22      [79, 236, 121, 0, 573, 324, 926, 81, 160, 79, ...\n",
       "23      [0, 0, 0, 75, 11, 156, 1, 125, 100, 76, 573, 8...\n",
       "24         [17, 17, 17, 573, 544, 1722, 57, 573, 73, 190]\n",
       "25        [111, 0, 84, 1272, 3, 573, 1, 18, 0, 101, 1609]\n",
       "26      [573, 18, 451, 1005, 573, 1519, 0, 454, 149, 5...\n",
       "27      [512, 573, 635, 228, 53, 74, 412, 573, 1078, 0...\n",
       "28      [44, 0, 378, 573, 0, 45, 485, 79, 27, 573, 153...\n",
       "29      [580, 573, 389, 33, 0, 0, 1326, 50, 573, 27, 7...\n",
       "                              ...                        \n",
       "1466    [0, 0, 1130, 231, 139, 15, 73, 284, 15, 0, 119...\n",
       "1467    [87, 0, 0, 15, 1494, 473, 0, 49, 7, 2, 1779, 0...\n",
       "1468    [526, 0, 0, 15, 0, 236, 0, 60, 203, 265, 269, ...\n",
       "1469     [1647, 139, 0, 0, 756, 290, 276, 1993, 15, 0, 0]\n",
       "1470    [354, 0, 15, 73, 45, 55, 21, 99, 665, 694, 78,...\n",
       "1471    [512, 25, 0, 1813, 491, 581, 999, 78, 42, 491,...\n",
       "1472    [16, 2, 491, 0, 571, 942, 0, 0, 491, 0, 24, 53...\n",
       "1473                                           [265, 115]\n",
       "1474    [115, 0, 0, 71, 124, 431, 24, 753, 531, 460, 3...\n",
       "1475    [281, 12, 7, 24, 171, 545, 0, 915, 22, 3, 325,...\n",
       "1476    [78, 0, 0, 1387, 100, 0, 240, 632, 119, 657, 0...\n",
       "1477    [225, 79, 471, 21, 512, 30, 196, 500, 49, 52, ...\n",
       "1478    [54, 222, 61, 33, 1077, 1224, 0, 180, 1028, 0,...\n",
       "1479    [1, 3, 0, 0, 0, 190, 4, 185, 121, 0, 789, 1522...\n",
       "1480    [45, 368, 0, 701, 78, 725, 131, 56, 307, 82, 3...\n",
       "1481    [1790, 39, 663, 71, 432, 0, 1079, 0, 0, 0, 0, ...\n",
       "1482    [12, 1244, 24, 18, 158, 119, 4, 80, 31, 0, 129...\n",
       "1483    [27, 613, 159, 1, 531, 613, 159, 162, 11, 516,...\n",
       "1484    [1617, 102, 82, 0, 328, 0, 762, 785, 0, 91, 11...\n",
       "1485                                   [17, 1842, 766, 0]\n",
       "1486    [15, 16, 387, 97, 343, 87, 940, 170, 307, 74, ...\n",
       "1487    [102, 4, 51, 17, 28, 95, 432, 65, 0, 145, 9, 2...\n",
       "1488    [9, 88, 2, 952, 266, 0, 105, 0, 274, 1157, 1, ...\n",
       "1489    [156, 525, 102, 0, 666, 0, 1827, 1827, 666, 63...\n",
       "1490    [33, 240, 0, 0, 292, 6, 27, 99, 0, 838, 0, 75,...\n",
       "1491    [6, 27, 1087, 774, 22, 0, 19, 122, 0, 32, 29, ...\n",
       "1492    [33, 55, 0, 47, 168, 68, 556, 139, 15, 0, 471,...\n",
       "1493    [1779, 292, 4, 9, 11, 235, 0, 184, 723, 96, 93...\n",
       "1494              [15, 240, 0, 0, 0, 11, 496, 516, 0, 68]\n",
       "1495    [15, 0, 1140, 119, 1942, 385, 1, 3, 354, 92, 1...\n",
       "Name: 0, Length: 1496, dtype: object"
      ]
     },
     "execution_count": 175,
     "metadata": {},
     "output_type": "execute_result"
    }
   ],
   "source": [
    "x_te =  x_te[0].apply(lambda row: apply_text_index(row))\n",
    "x_te"
   ]
  },
  {
   "cell_type": "code",
   "execution_count": 176,
   "metadata": {},
   "outputs": [
    {
     "name": "stdout",
     "output_type": "stream",
     "text": [
      "[40, 0, 0, 0, 0, 1116, 1, 614, 4, 7]\n",
      "<class 'list'>\n",
      "10\n"
     ]
    }
   ],
   "source": [
    "print(x_tr[1])\n",
    "print(type(x_tr[1]))\n",
    "print(len(x_tr[1]))"
   ]
  },
  {
   "cell_type": "code",
   "execution_count": 179,
   "metadata": {},
   "outputs": [
    {
     "name": "stdout",
     "output_type": "stream",
     "text": [
      "(3490, 100)\n",
      "[   0    0    0    0    0    0    0    0    0    0    0    0    0    0\n",
      "    0    0    0    0    0    0    0    0    0    0    0    0    0    0\n",
      "    0    0    0    0    0    0    0    0    0    0    0    0    0    0\n",
      "    0    0    0    0    0    0    0    0    0    0    0    0    0    0\n",
      "    0    0    0    0    0    0    0    0    0    0    0    0    0    0\n",
      "    0    0    0    0    0    0    0    0    0    0    0    0    0    0\n",
      "    0    0    0    0    0    0   40    0    0    0    0 1116    1  614\n",
      "    4    7]\n"
     ]
    }
   ],
   "source": [
    "max_review_length = 100\n",
    "x_tr = sequence.pad_sequences(x_tr, maxlen=max_review_length)\n",
    "x_te = sequence.pad_sequences(x_te, maxlen=max_review_length)\n",
    "\n",
    "print(x_tr.shape)\n",
    "print(x_tr[1])"
   ]
  },
  {
   "cell_type": "markdown",
   "metadata": {},
   "source": [
    "### 1) 1-layered LSTM + sigmoid + adagrad"
   ]
  },
  {
   "cell_type": "code",
   "execution_count": 195,
   "metadata": {},
   "outputs": [
    {
     "name": "stdout",
     "output_type": "stream",
     "text": [
      "_________________________________________________________________\n",
      "Layer (type)                 Output Shape              Param #   \n",
      "=================================================================\n",
      "embedding_9 (Embedding)      (None, 100, 32)           64032     \n",
      "_________________________________________________________________\n",
      "lstm_8 (LSTM)                (None, 100)               53200     \n",
      "_________________________________________________________________\n",
      "dense_9 (Dense)              (None, 1)                 101       \n",
      "=================================================================\n",
      "Total params: 117,333\n",
      "Trainable params: 117,333\n",
      "Non-trainable params: 0\n",
      "_________________________________________________________________\n",
      "None\n"
     ]
    }
   ],
   "source": [
    "top_words = 2000\n",
    "embedding_vecor_length = 32\n",
    "model = Sequential()\n",
    "model.add(Embedding(top_words+1, embedding_vecor_length, input_length=max_review_length))\n",
    "model.add(LSTM(100))\n",
    "model.add(Dense(1, activation='sigmoid'))\n",
    "model.compile(loss='binary_crossentropy', optimizer='adagrad', metrics=['accuracy'])\n",
    "print(model.summary())\n",
    "#Refer: https://datascience.stackexchange.com/questions/10615/number-of-parameters-in-an-lstm-model"
   ]
  },
  {
   "cell_type": "code",
   "execution_count": 206,
   "metadata": {
    "scrolled": true
   },
   "outputs": [
    {
     "name": "stdout",
     "output_type": "stream",
     "text": [
      "Train on 3490 samples, validate on 1496 samples\n",
      "Epoch 1/7\n",
      "3490/3490 [==============================] - ETA: 2:55 - loss: 0.0141 - acc: 1.000 - ETA: 1:51 - loss: 0.0166 - acc: 1.000 - ETA: 1:32 - loss: 0.0135 - acc: 1.000 - ETA: 1:21 - loss: 0.0113 - acc: 1.000 - ETA: 1:15 - loss: 0.0117 - acc: 1.000 - ETA: 1:09 - loss: 0.0142 - acc: 1.000 - ETA: 1:03 - loss: 0.0141 - acc: 1.000 - ETA: 59s - loss: 0.0148 - acc: 1.000 - ETA: 55s - loss: 0.0144 - acc: 1.00 - ETA: 52s - loss: 0.0131 - acc: 1.00 - ETA: 50s - loss: 0.0127 - acc: 1.00 - ETA: 48s - loss: 0.0133 - acc: 1.00 - ETA: 46s - loss: 0.0144 - acc: 1.00 - ETA: 44s - loss: 0.0141 - acc: 1.00 - ETA: 43s - loss: 0.0134 - acc: 1.00 - ETA: 43s - loss: 0.0135 - acc: 1.00 - ETA: 41s - loss: 0.0131 - acc: 1.00 - ETA: 40s - loss: 0.0126 - acc: 1.00 - ETA: 39s - loss: 0.0134 - acc: 1.00 - ETA: 38s - loss: 0.0130 - acc: 1.00 - ETA: 37s - loss: 0.0137 - acc: 1.00 - ETA: 36s - loss: 0.0139 - acc: 1.00 - ETA: 35s - loss: 0.0139 - acc: 1.00 - ETA: 35s - loss: 0.0138 - acc: 1.00 - ETA: 34s - loss: 0.0135 - acc: 1.00 - ETA: 34s - loss: 0.0134 - acc: 1.00 - ETA: 34s - loss: 0.0149 - acc: 0.99 - ETA: 34s - loss: 0.0149 - acc: 0.99 - ETA: 34s - loss: 0.0151 - acc: 0.99 - ETA: 34s - loss: 0.0151 - acc: 0.99 - ETA: 33s - loss: 0.0147 - acc: 0.99 - ETA: 33s - loss: 0.0147 - acc: 0.99 - ETA: 32s - loss: 0.0144 - acc: 0.99 - ETA: 31s - loss: 0.0143 - acc: 0.99 - ETA: 31s - loss: 0.0144 - acc: 0.99 - ETA: 30s - loss: 0.0142 - acc: 0.99 - ETA: 29s - loss: 0.0140 - acc: 0.99 - ETA: 29s - loss: 0.0137 - acc: 0.99 - ETA: 28s - loss: 0.0136 - acc: 0.99 - ETA: 28s - loss: 0.0137 - acc: 0.99 - ETA: 27s - loss: 0.0137 - acc: 0.99 - ETA: 27s - loss: 0.0137 - acc: 0.99 - ETA: 26s - loss: 0.0139 - acc: 0.99 - ETA: 26s - loss: 0.0137 - acc: 0.99 - ETA: 25s - loss: 0.0139 - acc: 0.99 - ETA: 25s - loss: 0.0138 - acc: 0.99 - ETA: 24s - loss: 0.0136 - acc: 0.99 - ETA: 24s - loss: 0.0136 - acc: 0.99 - ETA: 23s - loss: 0.0135 - acc: 0.99 - ETA: 23s - loss: 0.0139 - acc: 0.99 - ETA: 22s - loss: 0.0139 - acc: 0.99 - ETA: 22s - loss: 0.0140 - acc: 0.99 - ETA: 21s - loss: 0.0139 - acc: 0.99 - ETA: 21s - loss: 0.0138 - acc: 0.99 - ETA: 20s - loss: 0.0137 - acc: 0.99 - ETA: 20s - loss: 0.0135 - acc: 0.99 - ETA: 19s - loss: 0.0136 - acc: 0.99 - ETA: 19s - loss: 0.0135 - acc: 0.99 - ETA: 19s - loss: 0.0135 - acc: 0.99 - ETA: 18s - loss: 0.0134 - acc: 0.99 - ETA: 18s - loss: 0.0134 - acc: 0.99 - ETA: 18s - loss: 0.0135 - acc: 0.99 - ETA: 17s - loss: 0.0134 - acc: 0.99 - ETA: 17s - loss: 0.0133 - acc: 0.99 - ETA: 17s - loss: 0.0134 - acc: 0.99 - ETA: 17s - loss: 0.0134 - acc: 0.99 - ETA: 17s - loss: 0.0133 - acc: 0.99 - ETA: 16s - loss: 0.0134 - acc: 0.99 - ETA: 16s - loss: 0.0132 - acc: 0.99 - ETA: 15s - loss: 0.0131 - acc: 0.99 - ETA: 15s - loss: 0.0130 - acc: 0.99 - ETA: 15s - loss: 0.0130 - acc: 0.99 - ETA: 14s - loss: 0.0142 - acc: 0.99 - ETA: 14s - loss: 0.0140 - acc: 0.99 - ETA: 13s - loss: 0.0140 - acc: 0.99 - ETA: 13s - loss: 0.0138 - acc: 0.99 - ETA: 13s - loss: 0.0138 - acc: 0.99 - ETA: 12s - loss: 0.0139 - acc: 0.99 - ETA: 12s - loss: 0.0137 - acc: 0.99 - ETA: 11s - loss: 0.0137 - acc: 0.99 - ETA: 11s - loss: 0.0136 - acc: 0.99 - ETA: 10s - loss: 0.0136 - acc: 0.99 - ETA: 10s - loss: 0.0136 - acc: 0.99 - ETA: 10s - loss: 0.0136 - acc: 0.99 - ETA: 9s - loss: 0.0135 - acc: 0.9993 - ETA: 9s - loss: 0.0135 - acc: 0.999 - ETA: 8s - loss: 0.0134 - acc: 0.999 - ETA: 8s - loss: 0.0135 - acc: 0.999 - ETA: 7s - loss: 0.0135 - acc: 0.999 - ETA: 7s - loss: 0.0135 - acc: 0.999 - ETA: 7s - loss: 0.0136 - acc: 0.999 - ETA: 6s - loss: 0.0137 - acc: 0.999 - ETA: 6s - loss: 0.0138 - acc: 0.999 - ETA: 5s - loss: 0.0138 - acc: 0.999 - ETA: 5s - loss: 0.0137 - acc: 0.999 - ETA: 5s - loss: 0.0138 - acc: 0.999 - ETA: 4s - loss: 0.0137 - acc: 0.999 - ETA: 4s - loss: 0.0137 - acc: 0.999 - ETA: 3s - loss: 0.0136 - acc: 0.999 - ETA: 3s - loss: 0.0138 - acc: 0.999 - ETA: 3s - loss: 0.0138 - acc: 0.999 - ETA: 2s - loss: 0.0137 - acc: 0.999 - ETA: 2s - loss: 0.0136 - acc: 0.999 - ETA: 1s - loss: 0.0136 - acc: 0.999 - ETA: 1s - loss: 0.0135 - acc: 0.999 - ETA: 1s - loss: 0.0135 - acc: 0.999 - ETA: 0s - loss: 0.0135 - acc: 0.999 - ETA: 0s - loss: 0.0134 - acc: 0.999 - ETA: 0s - loss: 0.0133 - acc: 0.999 - 56s 16ms/step - loss: 0.0133 - acc: 0.9994 - val_loss: 0.6248 - val_acc: 0.8623\n",
      "Epoch 2/7\n"
     ]
    },
    {
     "name": "stdout",
     "output_type": "stream",
     "text": [
      "3490/3490 [==============================] - ETA: 57s - loss: 0.0022 - acc: 1.00 - ETA: 56s - loss: 0.0058 - acc: 1.00 - ETA: 50s - loss: 0.0084 - acc: 1.00 - ETA: 52s - loss: 0.0070 - acc: 1.00 - ETA: 57s - loss: 0.0065 - acc: 1.00 - ETA: 56s - loss: 0.0057 - acc: 1.00 - ETA: 51s - loss: 0.0078 - acc: 1.00 - ETA: 51s - loss: 0.0092 - acc: 1.00 - ETA: 53s - loss: 0.0096 - acc: 1.00 - ETA: 51s - loss: 0.0106 - acc: 1.00 - ETA: 49s - loss: 0.0103 - acc: 1.00 - ETA: 47s - loss: 0.0100 - acc: 1.00 - ETA: 47s - loss: 0.0100 - acc: 1.00 - ETA: 45s - loss: 0.0099 - acc: 1.00 - ETA: 45s - loss: 0.0101 - acc: 1.00 - ETA: 43s - loss: 0.0101 - acc: 1.00 - ETA: 42s - loss: 0.0116 - acc: 0.99 - ETA: 42s - loss: 0.0114 - acc: 0.99 - ETA: 41s - loss: 0.0115 - acc: 0.99 - ETA: 40s - loss: 0.0118 - acc: 0.99 - ETA: 39s - loss: 0.0113 - acc: 0.99 - ETA: 39s - loss: 0.0109 - acc: 0.99 - ETA: 38s - loss: 0.0107 - acc: 0.99 - ETA: 37s - loss: 0.0105 - acc: 0.99 - ETA: 36s - loss: 0.0102 - acc: 0.99 - ETA: 35s - loss: 0.0102 - acc: 0.99 - ETA: 34s - loss: 0.0104 - acc: 0.99 - ETA: 35s - loss: 0.0103 - acc: 0.99 - ETA: 35s - loss: 0.0104 - acc: 0.99 - ETA: 35s - loss: 0.0102 - acc: 0.99 - ETA: 34s - loss: 0.0101 - acc: 0.99 - ETA: 33s - loss: 0.0102 - acc: 0.99 - ETA: 32s - loss: 0.0102 - acc: 0.99 - ETA: 32s - loss: 0.0101 - acc: 0.99 - ETA: 32s - loss: 0.0100 - acc: 0.99 - ETA: 31s - loss: 0.0098 - acc: 0.99 - ETA: 31s - loss: 0.0096 - acc: 0.99 - ETA: 30s - loss: 0.0094 - acc: 0.99 - ETA: 30s - loss: 0.0093 - acc: 0.99 - ETA: 29s - loss: 0.0093 - acc: 0.99 - ETA: 29s - loss: 0.0093 - acc: 0.99 - ETA: 28s - loss: 0.0092 - acc: 0.99 - ETA: 28s - loss: 0.0091 - acc: 0.99 - ETA: 28s - loss: 0.0093 - acc: 0.99 - ETA: 28s - loss: 0.0092 - acc: 0.99 - ETA: 27s - loss: 0.0091 - acc: 0.99 - ETA: 27s - loss: 0.0091 - acc: 0.99 - ETA: 26s - loss: 0.0092 - acc: 0.99 - ETA: 26s - loss: 0.0091 - acc: 0.99 - ETA: 25s - loss: 0.0090 - acc: 0.99 - ETA: 25s - loss: 0.0089 - acc: 0.99 - ETA: 25s - loss: 0.0088 - acc: 0.99 - ETA: 24s - loss: 0.0087 - acc: 0.99 - ETA: 24s - loss: 0.0087 - acc: 0.99 - ETA: 24s - loss: 0.0086 - acc: 0.99 - ETA: 24s - loss: 0.0085 - acc: 0.99 - ETA: 23s - loss: 0.0085 - acc: 0.99 - ETA: 23s - loss: 0.0084 - acc: 0.99 - ETA: 22s - loss: 0.0083 - acc: 0.99 - ETA: 22s - loss: 0.0083 - acc: 0.99 - ETA: 21s - loss: 0.0082 - acc: 0.99 - ETA: 21s - loss: 0.0082 - acc: 0.99 - ETA: 20s - loss: 0.0082 - acc: 0.99 - ETA: 20s - loss: 0.0081 - acc: 0.99 - ETA: 19s - loss: 0.0081 - acc: 0.99 - ETA: 19s - loss: 0.0082 - acc: 0.99 - ETA: 18s - loss: 0.0081 - acc: 0.99 - ETA: 18s - loss: 0.0081 - acc: 0.99 - ETA: 17s - loss: 0.0082 - acc: 0.99 - ETA: 17s - loss: 0.0081 - acc: 0.99 - ETA: 16s - loss: 0.0080 - acc: 0.99 - ETA: 16s - loss: 0.0080 - acc: 0.99 - ETA: 16s - loss: 0.0081 - acc: 0.99 - ETA: 15s - loss: 0.0081 - acc: 0.99 - ETA: 15s - loss: 0.0081 - acc: 0.99 - ETA: 15s - loss: 0.0080 - acc: 0.99 - ETA: 14s - loss: 0.0080 - acc: 0.99 - ETA: 14s - loss: 0.0079 - acc: 0.99 - ETA: 13s - loss: 0.0079 - acc: 0.99 - ETA: 13s - loss: 0.0079 - acc: 0.99 - ETA: 12s - loss: 0.0079 - acc: 0.99 - ETA: 12s - loss: 0.0079 - acc: 0.99 - ETA: 12s - loss: 0.0079 - acc: 0.99 - ETA: 11s - loss: 0.0080 - acc: 0.99 - ETA: 11s - loss: 0.0079 - acc: 0.99 - ETA: 10s - loss: 0.0079 - acc: 0.99 - ETA: 10s - loss: 0.0079 - acc: 0.99 - ETA: 9s - loss: 0.0078 - acc: 0.9996 - ETA: 9s - loss: 0.0078 - acc: 0.999 - ETA: 8s - loss: 0.0090 - acc: 0.999 - ETA: 8s - loss: 0.0090 - acc: 0.999 - ETA: 7s - loss: 0.0089 - acc: 0.999 - ETA: 7s - loss: 0.0089 - acc: 0.999 - ETA: 6s - loss: 0.0088 - acc: 0.999 - ETA: 6s - loss: 0.0088 - acc: 0.999 - ETA: 5s - loss: 0.0087 - acc: 0.999 - ETA: 5s - loss: 0.0087 - acc: 0.999 - ETA: 5s - loss: 0.0087 - acc: 0.999 - ETA: 4s - loss: 0.0086 - acc: 0.999 - ETA: 4s - loss: 0.0086 - acc: 0.999 - ETA: 3s - loss: 0.0086 - acc: 0.999 - ETA: 3s - loss: 0.0085 - acc: 0.999 - ETA: 2s - loss: 0.0085 - acc: 0.999 - ETA: 2s - loss: 0.0085 - acc: 0.999 - ETA: 1s - loss: 0.0085 - acc: 0.999 - ETA: 1s - loss: 0.0085 - acc: 0.999 - ETA: 0s - loss: 0.0085 - acc: 0.999 - ETA: 0s - loss: 0.0084 - acc: 0.999 - ETA: 0s - loss: 0.0086 - acc: 0.999 - 57s 16ms/step - loss: 0.0086 - acc: 0.9994 - val_loss: 0.6515 - val_acc: 0.8556\n",
      "Epoch 3/7\n"
     ]
    },
    {
     "name": "stdout",
     "output_type": "stream",
     "text": [
      "3490/3490 [==============================] - ETA: 50s - loss: 0.0124 - acc: 1.00 - ETA: 50s - loss: 0.0118 - acc: 1.00 - ETA: 45s - loss: 0.0111 - acc: 1.00 - ETA: 44s - loss: 0.0120 - acc: 1.00 - ETA: 45s - loss: 0.0102 - acc: 1.00 - ETA: 44s - loss: 0.0093 - acc: 1.00 - ETA: 42s - loss: 0.0085 - acc: 1.00 - ETA: 41s - loss: 0.0076 - acc: 1.00 - ETA: 39s - loss: 0.0080 - acc: 1.00 - ETA: 38s - loss: 0.0081 - acc: 1.00 - ETA: 37s - loss: 0.0085 - acc: 1.00 - ETA: 36s - loss: 0.0083 - acc: 1.00 - ETA: 35s - loss: 0.0079 - acc: 1.00 - ETA: 35s - loss: 0.0075 - acc: 1.00 - ETA: 34s - loss: 0.0071 - acc: 1.00 - ETA: 33s - loss: 0.0070 - acc: 1.00 - ETA: 32s - loss: 0.0071 - acc: 1.00 - ETA: 32s - loss: 0.0070 - acc: 1.00 - ETA: 31s - loss: 0.0068 - acc: 1.00 - ETA: 30s - loss: 0.0066 - acc: 1.00 - ETA: 30s - loss: 0.0067 - acc: 1.00 - ETA: 29s - loss: 0.0064 - acc: 1.00 - ETA: 28s - loss: 0.0064 - acc: 1.00 - ETA: 28s - loss: 0.0062 - acc: 1.00 - ETA: 27s - loss: 0.0064 - acc: 1.00 - ETA: 28s - loss: 0.0062 - acc: 1.00 - ETA: 27s - loss: 0.0061 - acc: 1.00 - ETA: 26s - loss: 0.0060 - acc: 1.00 - ETA: 26s - loss: 0.0060 - acc: 1.00 - ETA: 25s - loss: 0.0061 - acc: 1.00 - ETA: 25s - loss: 0.0095 - acc: 0.99 - ETA: 25s - loss: 0.0093 - acc: 0.99 - ETA: 24s - loss: 0.0091 - acc: 0.99 - ETA: 24s - loss: 0.0090 - acc: 0.99 - ETA: 23s - loss: 0.0090 - acc: 0.99 - ETA: 23s - loss: 0.0091 - acc: 0.99 - ETA: 22s - loss: 0.0089 - acc: 0.99 - ETA: 22s - loss: 0.0088 - acc: 0.99 - ETA: 22s - loss: 0.0087 - acc: 0.99 - ETA: 21s - loss: 0.0085 - acc: 0.99 - ETA: 21s - loss: 0.0084 - acc: 0.99 - ETA: 20s - loss: 0.0083 - acc: 0.99 - ETA: 20s - loss: 0.0082 - acc: 0.99 - ETA: 20s - loss: 0.0081 - acc: 0.99 - ETA: 20s - loss: 0.0080 - acc: 0.99 - ETA: 21s - loss: 0.0083 - acc: 0.99 - ETA: 21s - loss: 0.0081 - acc: 0.99 - ETA: 21s - loss: 0.0080 - acc: 0.99 - ETA: 20s - loss: 0.0079 - acc: 0.99 - ETA: 20s - loss: 0.0078 - acc: 0.99 - ETA: 20s - loss: 0.0076 - acc: 0.99 - ETA: 19s - loss: 0.0075 - acc: 0.99 - ETA: 19s - loss: 0.0074 - acc: 0.99 - ETA: 19s - loss: 0.0074 - acc: 0.99 - ETA: 18s - loss: 0.0074 - acc: 0.99 - ETA: 18s - loss: 0.0074 - acc: 0.99 - ETA: 18s - loss: 0.0074 - acc: 0.99 - ETA: 17s - loss: 0.0073 - acc: 0.99 - ETA: 17s - loss: 0.0073 - acc: 0.99 - ETA: 17s - loss: 0.0072 - acc: 0.99 - ETA: 16s - loss: 0.0072 - acc: 0.99 - ETA: 16s - loss: 0.0071 - acc: 0.99 - ETA: 16s - loss: 0.0072 - acc: 0.99 - ETA: 16s - loss: 0.0072 - acc: 0.99 - ETA: 15s - loss: 0.0072 - acc: 0.99 - ETA: 15s - loss: 0.0072 - acc: 0.99 - ETA: 15s - loss: 0.0071 - acc: 0.99 - ETA: 14s - loss: 0.0071 - acc: 0.99 - ETA: 14s - loss: 0.0070 - acc: 0.99 - ETA: 14s - loss: 0.0070 - acc: 0.99 - ETA: 13s - loss: 0.0069 - acc: 0.99 - ETA: 13s - loss: 0.0068 - acc: 0.99 - ETA: 13s - loss: 0.0068 - acc: 0.99 - ETA: 13s - loss: 0.0068 - acc: 0.99 - ETA: 12s - loss: 0.0068 - acc: 0.99 - ETA: 12s - loss: 0.0067 - acc: 0.99 - ETA: 12s - loss: 0.0067 - acc: 0.99 - ETA: 11s - loss: 0.0067 - acc: 0.99 - ETA: 11s - loss: 0.0067 - acc: 0.99 - ETA: 10s - loss: 0.0067 - acc: 0.99 - ETA: 10s - loss: 0.0067 - acc: 0.99 - ETA: 10s - loss: 0.0067 - acc: 0.99 - ETA: 9s - loss: 0.0067 - acc: 0.9996 - ETA: 9s - loss: 0.0067 - acc: 0.999 - ETA: 8s - loss: 0.0066 - acc: 0.999 - ETA: 8s - loss: 0.0066 - acc: 0.999 - ETA: 8s - loss: 0.0066 - acc: 0.999 - ETA: 7s - loss: 0.0066 - acc: 0.999 - ETA: 7s - loss: 0.0065 - acc: 0.999 - ETA: 7s - loss: 0.0065 - acc: 0.999 - ETA: 6s - loss: 0.0064 - acc: 0.999 - ETA: 6s - loss: 0.0064 - acc: 0.999 - ETA: 6s - loss: 0.0064 - acc: 0.999 - ETA: 5s - loss: 0.0064 - acc: 0.999 - ETA: 5s - loss: 0.0064 - acc: 0.999 - ETA: 5s - loss: 0.0064 - acc: 0.999 - ETA: 4s - loss: 0.0064 - acc: 0.999 - ETA: 4s - loss: 0.0063 - acc: 0.999 - ETA: 3s - loss: 0.0063 - acc: 0.999 - ETA: 3s - loss: 0.0063 - acc: 0.999 - ETA: 3s - loss: 0.0062 - acc: 0.999 - ETA: 2s - loss: 0.0062 - acc: 0.999 - ETA: 2s - loss: 0.0062 - acc: 0.999 - ETA: 1s - loss: 0.0062 - acc: 0.999 - ETA: 1s - loss: 0.0062 - acc: 0.999 - ETA: 1s - loss: 0.0061 - acc: 0.999 - ETA: 0s - loss: 0.0062 - acc: 0.999 - ETA: 0s - loss: 0.0062 - acc: 0.999 - ETA: 0s - loss: 0.0062 - acc: 0.999 - 48s 14ms/step - loss: 0.0062 - acc: 0.9997 - val_loss: 0.7080 - val_acc: 0.8596\n",
      "Epoch 4/7\n"
     ]
    },
    {
     "name": "stdout",
     "output_type": "stream",
     "text": [
      "3490/3490 [==============================] - ETA: 29s - loss: 0.0023 - acc: 1.00 - ETA: 28s - loss: 0.0059 - acc: 1.00 - ETA: 28s - loss: 0.0064 - acc: 1.00 - ETA: 28s - loss: 0.0072 - acc: 1.00 - ETA: 28s - loss: 0.0068 - acc: 1.00 - ETA: 36s - loss: 0.0064 - acc: 1.00 - ETA: 41s - loss: 0.0069 - acc: 1.00 - ETA: 40s - loss: 0.0066 - acc: 1.00 - ETA: 39s - loss: 0.0061 - acc: 1.00 - ETA: 38s - loss: 0.0057 - acc: 1.00 - ETA: 39s - loss: 0.0054 - acc: 1.00 - ETA: 39s - loss: 0.0056 - acc: 1.00 - ETA: 39s - loss: 0.0055 - acc: 1.00 - ETA: 38s - loss: 0.0053 - acc: 1.00 - ETA: 38s - loss: 0.0055 - acc: 1.00 - ETA: 37s - loss: 0.0055 - acc: 1.00 - ETA: 37s - loss: 0.0054 - acc: 1.00 - ETA: 36s - loss: 0.0053 - acc: 1.00 - ETA: 36s - loss: 0.0054 - acc: 1.00 - ETA: 35s - loss: 0.0054 - acc: 1.00 - ETA: 35s - loss: 0.0054 - acc: 1.00 - ETA: 36s - loss: 0.0053 - acc: 1.00 - ETA: 35s - loss: 0.0052 - acc: 1.00 - ETA: 34s - loss: 0.0051 - acc: 1.00 - ETA: 35s - loss: 0.0050 - acc: 1.00 - ETA: 34s - loss: 0.0051 - acc: 1.00 - ETA: 34s - loss: 0.0050 - acc: 1.00 - ETA: 33s - loss: 0.0049 - acc: 1.00 - ETA: 32s - loss: 0.0048 - acc: 1.00 - ETA: 32s - loss: 0.0049 - acc: 1.00 - ETA: 31s - loss: 0.0048 - acc: 1.00 - ETA: 30s - loss: 0.0046 - acc: 1.00 - ETA: 30s - loss: 0.0046 - acc: 1.00 - ETA: 29s - loss: 0.0046 - acc: 1.00 - ETA: 28s - loss: 0.0046 - acc: 1.00 - ETA: 28s - loss: 0.0046 - acc: 1.00 - ETA: 27s - loss: 0.0046 - acc: 1.00 - ETA: 27s - loss: 0.0046 - acc: 1.00 - ETA: 26s - loss: 0.0045 - acc: 1.00 - ETA: 26s - loss: 0.0046 - acc: 1.00 - ETA: 26s - loss: 0.0045 - acc: 1.00 - ETA: 26s - loss: 0.0045 - acc: 1.00 - ETA: 26s - loss: 0.0045 - acc: 1.00 - ETA: 25s - loss: 0.0044 - acc: 1.00 - ETA: 24s - loss: 0.0044 - acc: 1.00 - ETA: 24s - loss: 0.0044 - acc: 1.00 - ETA: 24s - loss: 0.0043 - acc: 1.00 - ETA: 23s - loss: 0.0042 - acc: 1.00 - ETA: 23s - loss: 0.0044 - acc: 1.00 - ETA: 23s - loss: 0.0043 - acc: 1.00 - ETA: 22s - loss: 0.0043 - acc: 1.00 - ETA: 22s - loss: 0.0044 - acc: 1.00 - ETA: 21s - loss: 0.0044 - acc: 1.00 - ETA: 21s - loss: 0.0044 - acc: 1.00 - ETA: 20s - loss: 0.0044 - acc: 1.00 - ETA: 20s - loss: 0.0043 - acc: 1.00 - ETA: 20s - loss: 0.0043 - acc: 1.00 - ETA: 19s - loss: 0.0042 - acc: 1.00 - ETA: 19s - loss: 0.0043 - acc: 1.00 - ETA: 18s - loss: 0.0042 - acc: 1.00 - ETA: 18s - loss: 0.0043 - acc: 1.00 - ETA: 17s - loss: 0.0043 - acc: 1.00 - ETA: 17s - loss: 0.0043 - acc: 1.00 - ETA: 16s - loss: 0.0043 - acc: 1.00 - ETA: 16s - loss: 0.0044 - acc: 1.00 - ETA: 15s - loss: 0.0043 - acc: 1.00 - ETA: 15s - loss: 0.0043 - acc: 1.00 - ETA: 15s - loss: 0.0043 - acc: 1.00 - ETA: 14s - loss: 0.0043 - acc: 1.00 - ETA: 14s - loss: 0.0043 - acc: 1.00 - ETA: 13s - loss: 0.0043 - acc: 1.00 - ETA: 13s - loss: 0.0042 - acc: 1.00 - ETA: 13s - loss: 0.0042 - acc: 1.00 - ETA: 12s - loss: 0.0042 - acc: 1.00 - ETA: 12s - loss: 0.0042 - acc: 1.00 - ETA: 11s - loss: 0.0042 - acc: 1.00 - ETA: 11s - loss: 0.0041 - acc: 1.00 - ETA: 11s - loss: 0.0041 - acc: 1.00 - ETA: 11s - loss: 0.0043 - acc: 1.00 - ETA: 10s - loss: 0.0043 - acc: 1.00 - ETA: 10s - loss: 0.0042 - acc: 1.00 - ETA: 10s - loss: 0.0042 - acc: 1.00 - ETA: 9s - loss: 0.0055 - acc: 0.9996 - ETA: 9s - loss: 0.0055 - acc: 0.999 - ETA: 8s - loss: 0.0055 - acc: 0.999 - ETA: 8s - loss: 0.0055 - acc: 0.999 - ETA: 8s - loss: 0.0055 - acc: 0.999 - ETA: 7s - loss: 0.0055 - acc: 0.999 - ETA: 7s - loss: 0.0055 - acc: 0.999 - ETA: 6s - loss: 0.0054 - acc: 0.999 - ETA: 6s - loss: 0.0054 - acc: 0.999 - ETA: 6s - loss: 0.0054 - acc: 0.999 - ETA: 5s - loss: 0.0054 - acc: 0.999 - ETA: 5s - loss: 0.0053 - acc: 0.999 - ETA: 5s - loss: 0.0053 - acc: 0.999 - ETA: 4s - loss: 0.0053 - acc: 0.999 - ETA: 4s - loss: 0.0052 - acc: 0.999 - ETA: 4s - loss: 0.0052 - acc: 0.999 - ETA: 3s - loss: 0.0052 - acc: 0.999 - ETA: 3s - loss: 0.0052 - acc: 0.999 - ETA: 3s - loss: 0.0052 - acc: 0.999 - ETA: 2s - loss: 0.0052 - acc: 0.999 - ETA: 2s - loss: 0.0051 - acc: 0.999 - ETA: 1s - loss: 0.0052 - acc: 0.999 - ETA: 1s - loss: 0.0051 - acc: 0.999 - ETA: 1s - loss: 0.0051 - acc: 0.999 - ETA: 0s - loss: 0.0051 - acc: 0.999 - ETA: 0s - loss: 0.0051 - acc: 0.999 - ETA: 0s - loss: 0.0050 - acc: 0.999 - 49s 14ms/step - loss: 0.0050 - acc: 0.9997 - val_loss: 0.7388 - val_acc: 0.8616\n",
      "Epoch 5/7\n"
     ]
    },
    {
     "name": "stdout",
     "output_type": "stream",
     "text": [
      "3490/3490 [==============================] - ETA: 53s - loss: 0.0048 - acc: 1.00 - ETA: 49s - loss: 0.0044 - acc: 1.00 - ETA: 58s - loss: 0.0037 - acc: 1.00 - ETA: 1:01 - loss: 0.0035 - acc: 1.000 - ETA: 1:00 - loss: 0.0035 - acc: 1.000 - ETA: 57s - loss: 0.0034 - acc: 1.000 - ETA: 52s - loss: 0.0036 - acc: 1.00 - ETA: 50s - loss: 0.0038 - acc: 1.00 - ETA: 49s - loss: 0.0038 - acc: 1.00 - ETA: 46s - loss: 0.0038 - acc: 1.00 - ETA: 44s - loss: 0.0036 - acc: 1.00 - ETA: 42s - loss: 0.0034 - acc: 1.00 - ETA: 40s - loss: 0.0033 - acc: 1.00 - ETA: 41s - loss: 0.0034 - acc: 1.00 - ETA: 40s - loss: 0.0035 - acc: 1.00 - ETA: 39s - loss: 0.0034 - acc: 1.00 - ETA: 38s - loss: 0.0033 - acc: 1.00 - ETA: 37s - loss: 0.0033 - acc: 1.00 - ETA: 37s - loss: 0.0033 - acc: 1.00 - ETA: 36s - loss: 0.0033 - acc: 1.00 - ETA: 35s - loss: 0.0032 - acc: 1.00 - ETA: 34s - loss: 0.0032 - acc: 1.00 - ETA: 34s - loss: 0.0032 - acc: 1.00 - ETA: 33s - loss: 0.0032 - acc: 1.00 - ETA: 32s - loss: 0.0031 - acc: 1.00 - ETA: 31s - loss: 0.0030 - acc: 1.00 - ETA: 31s - loss: 0.0030 - acc: 1.00 - ETA: 30s - loss: 0.0031 - acc: 1.00 - ETA: 29s - loss: 0.0032 - acc: 1.00 - ETA: 29s - loss: 0.0032 - acc: 1.00 - ETA: 29s - loss: 0.0032 - acc: 1.00 - ETA: 28s - loss: 0.0032 - acc: 1.00 - ETA: 29s - loss: 0.0032 - acc: 1.00 - ETA: 28s - loss: 0.0031 - acc: 1.00 - ETA: 28s - loss: 0.0031 - acc: 1.00 - ETA: 27s - loss: 0.0032 - acc: 1.00 - ETA: 27s - loss: 0.0031 - acc: 1.00 - ETA: 26s - loss: 0.0031 - acc: 1.00 - ETA: 26s - loss: 0.0033 - acc: 1.00 - ETA: 25s - loss: 0.0034 - acc: 1.00 - ETA: 25s - loss: 0.0034 - acc: 1.00 - ETA: 24s - loss: 0.0034 - acc: 1.00 - ETA: 24s - loss: 0.0034 - acc: 1.00 - ETA: 23s - loss: 0.0034 - acc: 1.00 - ETA: 23s - loss: 0.0033 - acc: 1.00 - ETA: 22s - loss: 0.0033 - acc: 1.00 - ETA: 22s - loss: 0.0034 - acc: 1.00 - ETA: 21s - loss: 0.0033 - acc: 1.00 - ETA: 21s - loss: 0.0033 - acc: 1.00 - ETA: 20s - loss: 0.0035 - acc: 1.00 - ETA: 20s - loss: 0.0035 - acc: 1.00 - ETA: 20s - loss: 0.0034 - acc: 1.00 - ETA: 19s - loss: 0.0034 - acc: 1.00 - ETA: 19s - loss: 0.0034 - acc: 1.00 - ETA: 18s - loss: 0.0034 - acc: 1.00 - ETA: 18s - loss: 0.0035 - acc: 1.00 - ETA: 18s - loss: 0.0035 - acc: 1.00 - ETA: 18s - loss: 0.0035 - acc: 1.00 - ETA: 17s - loss: 0.0035 - acc: 1.00 - ETA: 17s - loss: 0.0035 - acc: 1.00 - ETA: 17s - loss: 0.0035 - acc: 1.00 - ETA: 16s - loss: 0.0035 - acc: 1.00 - ETA: 16s - loss: 0.0034 - acc: 1.00 - ETA: 16s - loss: 0.0034 - acc: 1.00 - ETA: 15s - loss: 0.0034 - acc: 1.00 - ETA: 15s - loss: 0.0034 - acc: 1.00 - ETA: 15s - loss: 0.0034 - acc: 1.00 - ETA: 14s - loss: 0.0034 - acc: 1.00 - ETA: 14s - loss: 0.0034 - acc: 1.00 - ETA: 14s - loss: 0.0033 - acc: 1.00 - ETA: 13s - loss: 0.0033 - acc: 1.00 - ETA: 13s - loss: 0.0033 - acc: 1.00 - ETA: 13s - loss: 0.0033 - acc: 1.00 - ETA: 12s - loss: 0.0033 - acc: 1.00 - ETA: 12s - loss: 0.0033 - acc: 1.00 - ETA: 11s - loss: 0.0033 - acc: 1.00 - ETA: 11s - loss: 0.0033 - acc: 1.00 - ETA: 11s - loss: 0.0032 - acc: 1.00 - ETA: 10s - loss: 0.0032 - acc: 1.00 - ETA: 10s - loss: 0.0033 - acc: 1.00 - ETA: 9s - loss: 0.0033 - acc: 1.0000 - ETA: 9s - loss: 0.0033 - acc: 1.000 - ETA: 9s - loss: 0.0033 - acc: 1.000 - ETA: 8s - loss: 0.0033 - acc: 1.000 - ETA: 8s - loss: 0.0033 - acc: 1.000 - ETA: 8s - loss: 0.0032 - acc: 1.000 - ETA: 7s - loss: 0.0032 - acc: 1.000 - ETA: 7s - loss: 0.0032 - acc: 1.000 - ETA: 7s - loss: 0.0032 - acc: 1.000 - ETA: 6s - loss: 0.0032 - acc: 1.000 - ETA: 6s - loss: 0.0032 - acc: 1.000 - ETA: 5s - loss: 0.0032 - acc: 1.000 - ETA: 5s - loss: 0.0032 - acc: 1.000 - ETA: 5s - loss: 0.0031 - acc: 1.000 - ETA: 4s - loss: 0.0031 - acc: 1.000 - ETA: 4s - loss: 0.0031 - acc: 1.000 - ETA: 4s - loss: 0.0031 - acc: 1.000 - ETA: 3s - loss: 0.0031 - acc: 1.000 - ETA: 3s - loss: 0.0031 - acc: 1.000 - ETA: 3s - loss: 0.0031 - acc: 1.000 - ETA: 2s - loss: 0.0032 - acc: 1.000 - ETA: 2s - loss: 0.0032 - acc: 1.000 - ETA: 2s - loss: 0.0032 - acc: 1.000 - ETA: 1s - loss: 0.0032 - acc: 1.000 - ETA: 1s - loss: 0.0032 - acc: 1.000 - ETA: 1s - loss: 0.0032 - acc: 1.000 - ETA: 0s - loss: 0.0032 - acc: 1.000 - ETA: 0s - loss: 0.0043 - acc: 0.999 - ETA: 0s - loss: 0.0043 - acc: 0.999 - 43s 12ms/step - loss: 0.0043 - acc: 0.9997 - val_loss: 0.7623 - val_acc: 0.8563\n",
      "Epoch 6/7\n"
     ]
    },
    {
     "name": "stdout",
     "output_type": "stream",
     "text": [
      "3490/3490 [==============================] - ETA: 31s - loss: 0.0013 - acc: 1.00 - ETA: 50s - loss: 0.0035 - acc: 1.00 - ETA: 48s - loss: 0.0042 - acc: 1.00 - ETA: 51s - loss: 0.0047 - acc: 1.00 - ETA: 51s - loss: 0.0042 - acc: 1.00 - ETA: 49s - loss: 0.0036 - acc: 1.00 - ETA: 47s - loss: 0.0032 - acc: 1.00 - ETA: 47s - loss: 0.0037 - acc: 1.00 - ETA: 45s - loss: 0.0034 - acc: 1.00 - ETA: 42s - loss: 0.0034 - acc: 1.00 - ETA: 40s - loss: 0.0032 - acc: 1.00 - ETA: 39s - loss: 0.0033 - acc: 1.00 - ETA: 37s - loss: 0.0032 - acc: 1.00 - ETA: 36s - loss: 0.0035 - acc: 1.00 - ETA: 35s - loss: 0.0034 - acc: 1.00 - ETA: 34s - loss: 0.0032 - acc: 1.00 - ETA: 33s - loss: 0.0032 - acc: 1.00 - ETA: 32s - loss: 0.0031 - acc: 1.00 - ETA: 31s - loss: 0.0033 - acc: 1.00 - ETA: 31s - loss: 0.0032 - acc: 1.00 - ETA: 30s - loss: 0.0031 - acc: 1.00 - ETA: 29s - loss: 0.0030 - acc: 1.00 - ETA: 29s - loss: 0.0030 - acc: 1.00 - ETA: 29s - loss: 0.0030 - acc: 1.00 - ETA: 29s - loss: 0.0030 - acc: 1.00 - ETA: 29s - loss: 0.0029 - acc: 1.00 - ETA: 29s - loss: 0.0029 - acc: 1.00 - ETA: 29s - loss: 0.0028 - acc: 1.00 - ETA: 28s - loss: 0.0028 - acc: 1.00 - ETA: 29s - loss: 0.0028 - acc: 1.00 - ETA: 29s - loss: 0.0028 - acc: 1.00 - ETA: 29s - loss: 0.0028 - acc: 1.00 - ETA: 30s - loss: 0.0028 - acc: 1.00 - ETA: 30s - loss: 0.0028 - acc: 1.00 - ETA: 29s - loss: 0.0028 - acc: 1.00 - ETA: 28s - loss: 0.0029 - acc: 1.00 - ETA: 28s - loss: 0.0029 - acc: 1.00 - ETA: 27s - loss: 0.0029 - acc: 1.00 - ETA: 26s - loss: 0.0029 - acc: 1.00 - ETA: 26s - loss: 0.0029 - acc: 1.00 - ETA: 25s - loss: 0.0029 - acc: 1.00 - ETA: 25s - loss: 0.0029 - acc: 1.00 - ETA: 24s - loss: 0.0029 - acc: 1.00 - ETA: 24s - loss: 0.0029 - acc: 1.00 - ETA: 23s - loss: 0.0029 - acc: 1.00 - ETA: 23s - loss: 0.0029 - acc: 1.00 - ETA: 23s - loss: 0.0029 - acc: 1.00 - ETA: 22s - loss: 0.0029 - acc: 1.00 - ETA: 22s - loss: 0.0029 - acc: 1.00 - ETA: 21s - loss: 0.0029 - acc: 1.00 - ETA: 21s - loss: 0.0028 - acc: 1.00 - ETA: 20s - loss: 0.0028 - acc: 1.00 - ETA: 20s - loss: 0.0029 - acc: 1.00 - ETA: 19s - loss: 0.0028 - acc: 1.00 - ETA: 19s - loss: 0.0028 - acc: 1.00 - ETA: 19s - loss: 0.0029 - acc: 1.00 - ETA: 18s - loss: 0.0029 - acc: 1.00 - ETA: 18s - loss: 0.0049 - acc: 0.99 - ETA: 17s - loss: 0.0048 - acc: 0.99 - ETA: 17s - loss: 0.0048 - acc: 0.99 - ETA: 16s - loss: 0.0048 - acc: 0.99 - ETA: 16s - loss: 0.0047 - acc: 0.99 - ETA: 16s - loss: 0.0046 - acc: 0.99 - ETA: 15s - loss: 0.0046 - acc: 0.99 - ETA: 15s - loss: 0.0046 - acc: 0.99 - ETA: 14s - loss: 0.0045 - acc: 0.99 - ETA: 14s - loss: 0.0045 - acc: 0.99 - ETA: 14s - loss: 0.0045 - acc: 0.99 - ETA: 13s - loss: 0.0044 - acc: 0.99 - ETA: 13s - loss: 0.0044 - acc: 0.99 - ETA: 12s - loss: 0.0044 - acc: 0.99 - ETA: 12s - loss: 0.0044 - acc: 0.99 - ETA: 12s - loss: 0.0043 - acc: 0.99 - ETA: 11s - loss: 0.0043 - acc: 0.99 - ETA: 11s - loss: 0.0043 - acc: 0.99 - ETA: 11s - loss: 0.0043 - acc: 0.99 - ETA: 11s - loss: 0.0043 - acc: 0.99 - ETA: 10s - loss: 0.0043 - acc: 0.99 - ETA: 10s - loss: 0.0042 - acc: 0.99 - ETA: 10s - loss: 0.0042 - acc: 0.99 - ETA: 9s - loss: 0.0042 - acc: 0.9996 - ETA: 9s - loss: 0.0041 - acc: 0.999 - ETA: 8s - loss: 0.0041 - acc: 0.999 - ETA: 8s - loss: 0.0041 - acc: 0.999 - ETA: 8s - loss: 0.0042 - acc: 0.999 - ETA: 7s - loss: 0.0041 - acc: 0.999 - ETA: 7s - loss: 0.0041 - acc: 0.999 - ETA: 7s - loss: 0.0041 - acc: 0.999 - ETA: 6s - loss: 0.0041 - acc: 0.999 - ETA: 6s - loss: 0.0041 - acc: 0.999 - ETA: 6s - loss: 0.0040 - acc: 0.999 - ETA: 5s - loss: 0.0040 - acc: 0.999 - ETA: 5s - loss: 0.0040 - acc: 0.999 - ETA: 5s - loss: 0.0040 - acc: 0.999 - ETA: 4s - loss: 0.0039 - acc: 0.999 - ETA: 4s - loss: 0.0039 - acc: 0.999 - ETA: 4s - loss: 0.0039 - acc: 0.999 - ETA: 3s - loss: 0.0039 - acc: 0.999 - ETA: 3s - loss: 0.0039 - acc: 0.999 - ETA: 3s - loss: 0.0038 - acc: 0.999 - ETA: 2s - loss: 0.0038 - acc: 0.999 - ETA: 2s - loss: 0.0038 - acc: 0.999 - ETA: 2s - loss: 0.0038 - acc: 0.999 - ETA: 1s - loss: 0.0038 - acc: 0.999 - ETA: 1s - loss: 0.0038 - acc: 0.999 - ETA: 1s - loss: 0.0038 - acc: 0.999 - ETA: 0s - loss: 0.0038 - acc: 0.999 - ETA: 0s - loss: 0.0038 - acc: 0.999 - ETA: 0s - loss: 0.0038 - acc: 0.999 - 41s 12ms/step - loss: 0.0038 - acc: 0.9997 - val_loss: 0.7995 - val_acc: 0.8603\n",
      "Epoch 7/7\n"
     ]
    },
    {
     "name": "stdout",
     "output_type": "stream",
     "text": [
      "3490/3490 [==============================] - ETA: 28s - loss: 0.0020 - acc: 1.00 - ETA: 28s - loss: 0.0042 - acc: 1.00 - ETA: 28s - loss: 0.0035 - acc: 1.00 - ETA: 34s - loss: 0.0036 - acc: 1.00 - ETA: 33s - loss: 0.0030 - acc: 1.00 - ETA: 32s - loss: 0.0028 - acc: 1.00 - ETA: 33s - loss: 0.0027 - acc: 1.00 - ETA: 32s - loss: 0.0028 - acc: 1.00 - ETA: 31s - loss: 0.0027 - acc: 1.00 - ETA: 32s - loss: 0.0030 - acc: 1.00 - ETA: 32s - loss: 0.0028 - acc: 1.00 - ETA: 35s - loss: 0.0026 - acc: 1.00 - ETA: 34s - loss: 0.0026 - acc: 1.00 - ETA: 35s - loss: 0.0027 - acc: 1.00 - ETA: 35s - loss: 0.0025 - acc: 1.00 - ETA: 34s - loss: 0.0025 - acc: 1.00 - ETA: 33s - loss: 0.0024 - acc: 1.00 - ETA: 33s - loss: 0.0023 - acc: 1.00 - ETA: 32s - loss: 0.0023 - acc: 1.00 - ETA: 31s - loss: 0.0024 - acc: 1.00 - ETA: 31s - loss: 0.0024 - acc: 1.00 - ETA: 31s - loss: 0.0023 - acc: 1.00 - ETA: 31s - loss: 0.0023 - acc: 1.00 - ETA: 30s - loss: 0.0023 - acc: 1.00 - ETA: 29s - loss: 0.0025 - acc: 1.00 - ETA: 29s - loss: 0.0025 - acc: 1.00 - ETA: 29s - loss: 0.0024 - acc: 1.00 - ETA: 29s - loss: 0.0024 - acc: 1.00 - ETA: 29s - loss: 0.0024 - acc: 1.00 - ETA: 29s - loss: 0.0024 - acc: 1.00 - ETA: 28s - loss: 0.0023 - acc: 1.00 - ETA: 28s - loss: 0.0022 - acc: 1.00 - ETA: 29s - loss: 0.0023 - acc: 1.00 - ETA: 29s - loss: 0.0023 - acc: 1.00 - ETA: 29s - loss: 0.0023 - acc: 1.00 - ETA: 29s - loss: 0.0023 - acc: 1.00 - ETA: 28s - loss: 0.0023 - acc: 1.00 - ETA: 28s - loss: 0.0022 - acc: 1.00 - ETA: 27s - loss: 0.0022 - acc: 1.00 - ETA: 27s - loss: 0.0022 - acc: 1.00 - ETA: 26s - loss: 0.0021 - acc: 1.00 - ETA: 26s - loss: 0.0021 - acc: 1.00 - ETA: 25s - loss: 0.0021 - acc: 1.00 - ETA: 25s - loss: 0.0021 - acc: 1.00 - ETA: 24s - loss: 0.0021 - acc: 1.00 - ETA: 24s - loss: 0.0046 - acc: 0.99 - ETA: 23s - loss: 0.0046 - acc: 0.99 - ETA: 23s - loss: 0.0045 - acc: 0.99 - ETA: 22s - loss: 0.0044 - acc: 0.99 - ETA: 22s - loss: 0.0044 - acc: 0.99 - ETA: 21s - loss: 0.0043 - acc: 0.99 - ETA: 21s - loss: 0.0043 - acc: 0.99 - ETA: 20s - loss: 0.0042 - acc: 0.99 - ETA: 20s - loss: 0.0042 - acc: 0.99 - ETA: 20s - loss: 0.0042 - acc: 0.99 - ETA: 19s - loss: 0.0042 - acc: 0.99 - ETA: 19s - loss: 0.0041 - acc: 0.99 - ETA: 18s - loss: 0.0041 - acc: 0.99 - ETA: 18s - loss: 0.0040 - acc: 0.99 - ETA: 17s - loss: 0.0041 - acc: 0.99 - ETA: 17s - loss: 0.0041 - acc: 0.99 - ETA: 16s - loss: 0.0040 - acc: 0.99 - ETA: 16s - loss: 0.0040 - acc: 0.99 - ETA: 16s - loss: 0.0040 - acc: 0.99 - ETA: 15s - loss: 0.0039 - acc: 0.99 - ETA: 15s - loss: 0.0040 - acc: 0.99 - ETA: 15s - loss: 0.0039 - acc: 0.99 - ETA: 14s - loss: 0.0039 - acc: 0.99 - ETA: 14s - loss: 0.0038 - acc: 0.99 - ETA: 14s - loss: 0.0038 - acc: 0.99 - ETA: 14s - loss: 0.0039 - acc: 0.99 - ETA: 13s - loss: 0.0038 - acc: 0.99 - ETA: 13s - loss: 0.0039 - acc: 0.99 - ETA: 12s - loss: 0.0038 - acc: 0.99 - ETA: 12s - loss: 0.0039 - acc: 0.99 - ETA: 12s - loss: 0.0039 - acc: 0.99 - ETA: 11s - loss: 0.0039 - acc: 0.99 - ETA: 11s - loss: 0.0039 - acc: 0.99 - ETA: 10s - loss: 0.0039 - acc: 0.99 - ETA: 10s - loss: 0.0039 - acc: 0.99 - ETA: 10s - loss: 0.0039 - acc: 0.99 - ETA: 9s - loss: 0.0039 - acc: 0.9996 - ETA: 9s - loss: 0.0038 - acc: 0.999 - ETA: 8s - loss: 0.0038 - acc: 0.999 - ETA: 8s - loss: 0.0038 - acc: 0.999 - ETA: 8s - loss: 0.0038 - acc: 0.999 - ETA: 7s - loss: 0.0037 - acc: 0.999 - ETA: 7s - loss: 0.0037 - acc: 0.999 - ETA: 7s - loss: 0.0037 - acc: 0.999 - ETA: 6s - loss: 0.0037 - acc: 0.999 - ETA: 6s - loss: 0.0037 - acc: 0.999 - ETA: 5s - loss: 0.0037 - acc: 0.999 - ETA: 5s - loss: 0.0037 - acc: 0.999 - ETA: 5s - loss: 0.0037 - acc: 0.999 - ETA: 4s - loss: 0.0037 - acc: 0.999 - ETA: 4s - loss: 0.0037 - acc: 0.999 - ETA: 4s - loss: 0.0037 - acc: 0.999 - ETA: 3s - loss: 0.0037 - acc: 0.999 - ETA: 3s - loss: 0.0037 - acc: 0.999 - ETA: 3s - loss: 0.0036 - acc: 0.999 - ETA: 2s - loss: 0.0036 - acc: 0.999 - ETA: 2s - loss: 0.0036 - acc: 0.999 - ETA: 2s - loss: 0.0036 - acc: 0.999 - ETA: 1s - loss: 0.0036 - acc: 0.999 - ETA: 1s - loss: 0.0035 - acc: 0.999 - ETA: 1s - loss: 0.0035 - acc: 0.999 - ETA: 0s - loss: 0.0035 - acc: 0.999 - ETA: 0s - loss: 0.0035 - acc: 0.999 - ETA: 0s - loss: 0.0035 - acc: 0.999 - 45s 13ms/step - loss: 0.0035 - acc: 0.9997 - val_loss: 0.8003 - val_acc: 0.8590\n",
      "Accuracy: 85.90%\n"
     ]
    }
   ],
   "source": [
    "validation_data=(x_te, y_test)\n",
    "value = model.fit(x_tr, y_train, nb_epoch=7, batch_size=32,verbose=1,validation_data=(x_te, y_test))\n",
    "# Final evaluation of the model\n",
    "scores = model.evaluate(x_te, y_test, verbose=0)\n",
    "print(\"Accuracy: %.2f%%\" % (scores[1]*100))"
   ]
  },
  {
   "cell_type": "code",
   "execution_count": 207,
   "metadata": {},
   "outputs": [
    {
     "name": "stdout",
     "output_type": "stream",
     "text": [
      "Accuracy: 85.90%\n"
     ]
    }
   ],
   "source": [
    "print(\"Accuracy: %.2f%%\" % (scores[1]*100))"
   ]
  },
  {
   "cell_type": "code",
   "execution_count": 208,
   "metadata": {},
   "outputs": [],
   "source": [
    "def plot_train_cv_loss(trained_model, epochs, colors=['b']):\n",
    "    fig, ax = plt.subplots(1,1)    \n",
    "    ax.set_xlabel('epoch') \n",
    "    ax.set_ylabel('Categorical Crossentropy Loss')\n",
    "    x_axis_values = list(range(1,epochs+1))\n",
    "\n",
    "    validation_loss = trained_model.history['val_loss']\n",
    "    train_loss = trained_model.history['loss']   \n",
    "    \n",
    "    ax.plot(x_axis_values, validation_loss, 'b', label=\"Validation Loss\")\n",
    "    ax.plot(x_axis_values, train_loss, 'r', label=\"Train Loss\")\n",
    "    plt.legend()\n",
    "    plt.grid()\n",
    "    fig.canvas.draw()"
   ]
  },
  {
   "cell_type": "code",
   "execution_count": 210,
   "metadata": {},
   "outputs": [
    {
     "data": {
      "image/png": "[encoded data removed]",
      "text/plain": [
       "<Figure size 432x288 with 1 Axes>"
      ]
     },
     "metadata": {},
     "output_type": "display_data"
    }
   ],
   "source": [
    "plot_train_cv_loss(value, epochs = 7, colors=['b'])"
   ]
  },
  {
   "cell_type": "markdown",
   "metadata": {},
   "source": [
    "### 2) 1-layered LSTM + sigmoid + adam + BN + Dropouts"
   ]
  },
  {
   "cell_type": "code",
   "execution_count": 218,
   "metadata": {},
   "outputs": [
    {
     "name": "stdout",
     "output_type": "stream",
     "text": [
      "_________________________________________________________________\n",
      "Layer (type)                 Output Shape              Param #   \n",
      "=================================================================\n",
      "embedding_13 (Embedding)     (None, 100, 32)           64032     \n",
      "_________________________________________________________________\n",
      "lstm_12 (LSTM)               (None, 200)               186400    \n",
      "_________________________________________________________________\n",
      "batch_normalization_4 (Batch (None, 200)               800       \n",
      "_________________________________________________________________\n",
      "dropout_4 (Dropout)          (None, 200)               0         \n",
      "_________________________________________________________________\n",
      "dense_13 (Dense)             (None, 1)                 201       \n",
      "=================================================================\n",
      "Total params: 251,433\n",
      "Trainable params: 251,033\n",
      "Non-trainable params: 400\n",
      "_________________________________________________________________\n",
      "None\n"
     ]
    }
   ],
   "source": [
    "model = Sequential()\n",
    "model.add(Embedding(top_words+1, embedding_vecor_length, input_length=max_review_length))\n",
    "model.add(LSTM(200))\n",
    "model.add(BatchNormalization())\n",
    "model.add(Dropout(0.4))\n",
    "model.add(Dense(1, activation='sigmoid'))\n",
    "model.compile(loss='binary_crossentropy', optimizer='adam', metrics=['accuracy'])\n",
    "print(model.summary())"
   ]
  },
  {
   "cell_type": "code",
   "execution_count": 220,
   "metadata": {
    "scrolled": true
   },
   "outputs": [
    {
     "name": "stdout",
     "output_type": "stream",
     "text": [
      "Train on 3490 samples, validate on 1496 samples\n",
      "Epoch 1/10\n",
      "3490/3490 [==============================] - ETA: 3:00 - loss: 0.6948 - acc: 0.484 - ETA: 1:35 - loss: 0.6865 - acc: 0.539 - ETA: 1:07 - loss: 0.6843 - acc: 0.567 - ETA: 53s - loss: 0.6846 - acc: 0.570 - ETA: 44s - loss: 0.6831 - acc: 0.57 - ETA: 38s - loss: 0.6792 - acc: 0.59 - ETA: 34s - loss: 0.6783 - acc: 0.58 - ETA: 31s - loss: 0.6741 - acc: 0.59 - ETA: 28s - loss: 0.6708 - acc: 0.60 - ETA: 26s - loss: 0.6701 - acc: 0.60 - ETA: 24s - loss: 0.6672 - acc: 0.61 - ETA: 23s - loss: 0.6637 - acc: 0.61 - ETA: 22s - loss: 0.6597 - acc: 0.62 - ETA: 20s - loss: 0.6564 - acc: 0.63 - ETA: 19s - loss: 0.6530 - acc: 0.64 - ETA: 19s - loss: 0.6500 - acc: 0.64 - ETA: 18s - loss: 0.6441 - acc: 0.65 - ETA: 18s - loss: 0.6418 - acc: 0.65 - ETA: 17s - loss: 0.6389 - acc: 0.66 - ETA: 17s - loss: 0.6348 - acc: 0.66 - ETA: 16s - loss: 0.6325 - acc: 0.67 - ETA: 16s - loss: 0.6300 - acc: 0.67 - ETA: 15s - loss: 0.6264 - acc: 0.67 - ETA: 14s - loss: 0.6216 - acc: 0.67 - ETA: 13s - loss: 0.6172 - acc: 0.68 - ETA: 13s - loss: 0.6160 - acc: 0.68 - ETA: 13s - loss: 0.6123 - acc: 0.68 - ETA: 12s - loss: 0.6098 - acc: 0.68 - ETA: 12s - loss: 0.6066 - acc: 0.68 - ETA: 11s - loss: 0.6035 - acc: 0.69 - ETA: 11s - loss: 0.5997 - acc: 0.69 - ETA: 10s - loss: 0.5963 - acc: 0.69 - ETA: 10s - loss: 0.5936 - acc: 0.70 - ETA: 9s - loss: 0.5909 - acc: 0.7050 - ETA: 9s - loss: 0.5879 - acc: 0.708 - ETA: 8s - loss: 0.5856 - acc: 0.710 - ETA: 8s - loss: 0.5816 - acc: 0.716 - ETA: 7s - loss: 0.5779 - acc: 0.720 - ETA: 7s - loss: 0.5737 - acc: 0.726 - ETA: 6s - loss: 0.5718 - acc: 0.727 - ETA: 6s - loss: 0.5691 - acc: 0.730 - ETA: 5s - loss: 0.5682 - acc: 0.731 - ETA: 5s - loss: 0.5648 - acc: 0.734 - ETA: 4s - loss: 0.5618 - acc: 0.736 - ETA: 4s - loss: 0.5584 - acc: 0.738 - ETA: 4s - loss: 0.5560 - acc: 0.740 - ETA: 3s - loss: 0.5537 - acc: 0.742 - ETA: 3s - loss: 0.5510 - acc: 0.743 - ETA: 2s - loss: 0.5469 - acc: 0.747 - ETA: 2s - loss: 0.5437 - acc: 0.749 - ETA: 1s - loss: 0.5404 - acc: 0.750 - ETA: 1s - loss: 0.5384 - acc: 0.751 - ETA: 0s - loss: 0.5359 - acc: 0.752 - ETA: 0s - loss: 0.5315 - acc: 0.755 - 31s 9ms/step - loss: 0.5303 - acc: 0.7567 - val_loss: 0.3631 - val_acc: 0.8389\n",
      "Epoch 2/10\n",
      "3490/3490 [==============================] - ETA: 18s - loss: 0.3282 - acc: 0.93 - ETA: 17s - loss: 0.3334 - acc: 0.89 - ETA: 21s - loss: 0.3290 - acc: 0.89 - ETA: 19s - loss: 0.3150 - acc: 0.91 - ETA: 19s - loss: 0.3113 - acc: 0.91 - ETA: 20s - loss: 0.3155 - acc: 0.89 - ETA: 19s - loss: 0.3104 - acc: 0.90 - ETA: 18s - loss: 0.3054 - acc: 0.90 - ETA: 18s - loss: 0.3095 - acc: 0.89 - ETA: 18s - loss: 0.3039 - acc: 0.90 - ETA: 18s - loss: 0.3004 - acc: 0.90 - ETA: 17s - loss: 0.3001 - acc: 0.90 - ETA: 17s - loss: 0.2956 - acc: 0.90 - ETA: 16s - loss: 0.2950 - acc: 0.90 - ETA: 16s - loss: 0.2908 - acc: 0.90 - ETA: 15s - loss: 0.2951 - acc: 0.90 - ETA: 15s - loss: 0.2933 - acc: 0.90 - ETA: 15s - loss: 0.2905 - acc: 0.90 - ETA: 15s - loss: 0.2864 - acc: 0.90 - ETA: 15s - loss: 0.2846 - acc: 0.90 - ETA: 14s - loss: 0.2814 - acc: 0.91 - ETA: 14s - loss: 0.2794 - acc: 0.91 - ETA: 13s - loss: 0.2799 - acc: 0.90 - ETA: 13s - loss: 0.2780 - acc: 0.90 - ETA: 13s - loss: 0.2767 - acc: 0.90 - ETA: 12s - loss: 0.2740 - acc: 0.90 - ETA: 11s - loss: 0.2722 - acc: 0.91 - ETA: 11s - loss: 0.2703 - acc: 0.91 - ETA: 11s - loss: 0.2704 - acc: 0.90 - ETA: 10s - loss: 0.2684 - acc: 0.90 - ETA: 10s - loss: 0.2675 - acc: 0.90 - ETA: 9s - loss: 0.2649 - acc: 0.9097 - ETA: 9s - loss: 0.2664 - acc: 0.909 - ETA: 9s - loss: 0.2654 - acc: 0.909 - ETA: 8s - loss: 0.2642 - acc: 0.909 - ETA: 8s - loss: 0.2639 - acc: 0.909 - ETA: 7s - loss: 0.2614 - acc: 0.910 - ETA: 7s - loss: 0.2589 - acc: 0.912 - ETA: 7s - loss: 0.2594 - acc: 0.912 - ETA: 6s - loss: 0.2600 - acc: 0.910 - ETA: 6s - loss: 0.2609 - acc: 0.908 - ETA: 5s - loss: 0.2602 - acc: 0.908 - ETA: 5s - loss: 0.2596 - acc: 0.908 - ETA: 4s - loss: 0.2576 - acc: 0.909 - ETA: 4s - loss: 0.2559 - acc: 0.909 - ETA: 3s - loss: 0.2553 - acc: 0.909 - ETA: 3s - loss: 0.2533 - acc: 0.910 - ETA: 3s - loss: 0.2526 - acc: 0.910 - ETA: 2s - loss: 0.2516 - acc: 0.910 - ETA: 2s - loss: 0.2516 - acc: 0.909 - ETA: 1s - loss: 0.2514 - acc: 0.908 - ETA: 1s - loss: 0.2490 - acc: 0.909 - ETA: 0s - loss: 0.2490 - acc: 0.910 - ETA: 0s - loss: 0.2499 - acc: 0.910 - 28s 8ms/step - loss: 0.2502 - acc: 0.9097 - val_loss: 1.0933 - val_acc: 0.8255\n",
      "Epoch 3/10\n",
      "3490/3490 [==============================] - ETA: 15s - loss: 0.1287 - acc: 0.98 - ETA: 14s - loss: 0.1218 - acc: 0.99 - ETA: 19s - loss: 0.1112 - acc: 0.99 - ETA: 18s - loss: 0.1144 - acc: 0.99 - ETA: 17s - loss: 0.1175 - acc: 0.99 - ETA: 19s - loss: 0.1226 - acc: 0.98 - ETA: 20s - loss: 0.1194 - acc: 0.98 - ETA: 20s - loss: 0.1190 - acc: 0.98 - ETA: 19s - loss: 0.1258 - acc: 0.98 - ETA: 18s - loss: 0.1242 - acc: 0.97 - ETA: 17s - loss: 0.1225 - acc: 0.97 - ETA: 16s - loss: 0.1204 - acc: 0.97 - ETA: 17s - loss: 0.1298 - acc: 0.97 - ETA: 17s - loss: 0.1289 - acc: 0.97 - ETA: 16s - loss: 0.1289 - acc: 0.97 - ETA: 15s - loss: 0.1294 - acc: 0.97 - ETA: 15s - loss: 0.1315 - acc: 0.96 - ETA: 15s - loss: 0.1320 - acc: 0.96 - ETA: 14s - loss: 0.1370 - acc: 0.96 - ETA: 14s - loss: 0.1370 - acc: 0.96 - ETA: 13s - loss: 0.1394 - acc: 0.96 - ETA: 13s - loss: 0.1383 - acc: 0.96 - ETA: 13s - loss: 0.1381 - acc: 0.96 - ETA: 12s - loss: 0.1367 - acc: 0.96 - ETA: 12s - loss: 0.1345 - acc: 0.96 - ETA: 11s - loss: 0.1341 - acc: 0.96 - ETA: 11s - loss: 0.1356 - acc: 0.96 - ETA: 11s - loss: 0.1346 - acc: 0.96 - ETA: 10s - loss: 0.1353 - acc: 0.96 - ETA: 10s - loss: 0.1348 - acc: 0.96 - ETA: 9s - loss: 0.1352 - acc: 0.9622 - ETA: 9s - loss: 0.1341 - acc: 0.962 - ETA: 8s - loss: 0.1347 - acc: 0.961 - ETA: 8s - loss: 0.1331 - acc: 0.962 - ETA: 7s - loss: 0.1327 - acc: 0.962 - ETA: 7s - loss: 0.1327 - acc: 0.961 - ETA: 7s - loss: 0.1331 - acc: 0.960 - ETA: 6s - loss: 0.1326 - acc: 0.960 - ETA: 6s - loss: 0.1324 - acc: 0.961 - ETA: 5s - loss: 0.1325 - acc: 0.960 - ETA: 5s - loss: 0.1314 - acc: 0.961 - ETA: 5s - loss: 0.1315 - acc: 0.960 - ETA: 4s - loss: 0.1326 - acc: 0.958 - ETA: 4s - loss: 0.1322 - acc: 0.959 - ETA: 3s - loss: 0.1336 - acc: 0.958 - ETA: 3s - loss: 0.1330 - acc: 0.958 - ETA: 3s - loss: 0.1330 - acc: 0.958 - ETA: 2s - loss: 0.1324 - acc: 0.958 - ETA: 2s - loss: 0.1333 - acc: 0.957 - ETA: 1s - loss: 0.1330 - acc: 0.957 - ETA: 1s - loss: 0.1322 - acc: 0.957 - ETA: 1s - loss: 0.1317 - acc: 0.957 - ETA: 0s - loss: 0.1335 - acc: 0.956 - ETA: 0s - loss: 0.1337 - acc: 0.956 - 26s 7ms/step - loss: 0.1342 - acc: 0.9562 - val_loss: 0.6422 - val_acc: 0.7493\n",
      "Epoch 4/10\n"
     ]
    },
    {
     "name": "stdout",
     "output_type": "stream",
     "text": [
      "3490/3490 [==============================] - ETA: 15s - loss: 0.0859 - acc: 0.96 - ETA: 17s - loss: 0.0751 - acc: 0.97 - ETA: 18s - loss: 0.0730 - acc: 0.97 - ETA: 19s - loss: 0.0711 - acc: 0.98 - ETA: 20s - loss: 0.0683 - acc: 0.98 - ETA: 20s - loss: 0.0691 - acc: 0.98 - ETA: 20s - loss: 0.0653 - acc: 0.98 - ETA: 19s - loss: 0.0642 - acc: 0.99 - ETA: 19s - loss: 0.0650 - acc: 0.98 - ETA: 18s - loss: 0.0678 - acc: 0.98 - ETA: 17s - loss: 0.0685 - acc: 0.98 - ETA: 17s - loss: 0.0686 - acc: 0.98 - ETA: 17s - loss: 0.0718 - acc: 0.98 - ETA: 17s - loss: 0.0718 - acc: 0.98 - ETA: 17s - loss: 0.0727 - acc: 0.98 - ETA: 17s - loss: 0.0715 - acc: 0.98 - ETA: 17s - loss: 0.0714 - acc: 0.98 - ETA: 16s - loss: 0.0709 - acc: 0.98 - ETA: 15s - loss: 0.0686 - acc: 0.98 - ETA: 15s - loss: 0.0686 - acc: 0.98 - ETA: 14s - loss: 0.0695 - acc: 0.98 - ETA: 14s - loss: 0.0708 - acc: 0.98 - ETA: 13s - loss: 0.0696 - acc: 0.98 - ETA: 13s - loss: 0.0703 - acc: 0.98 - ETA: 12s - loss: 0.0689 - acc: 0.98 - ETA: 12s - loss: 0.0683 - acc: 0.98 - ETA: 12s - loss: 0.0704 - acc: 0.98 - ETA: 11s - loss: 0.0757 - acc: 0.98 - ETA: 11s - loss: 0.0761 - acc: 0.98 - ETA: 10s - loss: 0.0781 - acc: 0.98 - ETA: 10s - loss: 0.0774 - acc: 0.98 - ETA: 9s - loss: 0.0773 - acc: 0.9810 - ETA: 9s - loss: 0.0781 - acc: 0.980 - ETA: 8s - loss: 0.0777 - acc: 0.980 - ETA: 8s - loss: 0.0768 - acc: 0.980 - ETA: 7s - loss: 0.0765 - acc: 0.980 - ETA: 7s - loss: 0.0762 - acc: 0.981 - ETA: 7s - loss: 0.0755 - acc: 0.981 - ETA: 6s - loss: 0.0743 - acc: 0.982 - ETA: 6s - loss: 0.0739 - acc: 0.982 - ETA: 5s - loss: 0.0744 - acc: 0.981 - ETA: 5s - loss: 0.0741 - acc: 0.981 - ETA: 4s - loss: 0.0738 - acc: 0.981 - ETA: 4s - loss: 0.0737 - acc: 0.981 - ETA: 4s - loss: 0.0731 - acc: 0.981 - ETA: 3s - loss: 0.0721 - acc: 0.982 - ETA: 3s - loss: 0.0737 - acc: 0.982 - ETA: 2s - loss: 0.0750 - acc: 0.981 - ETA: 2s - loss: 0.0769 - acc: 0.980 - ETA: 1s - loss: 0.0763 - acc: 0.980 - ETA: 1s - loss: 0.0753 - acc: 0.981 - ETA: 1s - loss: 0.0760 - acc: 0.980 - ETA: 0s - loss: 0.0764 - acc: 0.980 - ETA: 0s - loss: 0.0772 - acc: 0.979 - 29s 8ms/step - loss: 0.0768 - acc: 0.9797 - val_loss: 0.5379 - val_acc: 0.8148\n",
      "Epoch 5/10\n",
      "3490/3490 [==============================] - ETA: 35s - loss: 0.0325 - acc: 1.00 - ETA: 36s - loss: 0.0278 - acc: 1.00 - ETA: 31s - loss: 0.0303 - acc: 1.00 - ETA: 30s - loss: 0.0342 - acc: 1.00 - ETA: 26s - loss: 0.0308 - acc: 1.00 - ETA: 25s - loss: 0.0379 - acc: 0.99 - ETA: 23s - loss: 0.0359 - acc: 0.99 - ETA: 22s - loss: 0.0336 - acc: 0.99 - ETA: 21s - loss: 0.0329 - acc: 0.99 - ETA: 20s - loss: 0.0319 - acc: 0.99 - ETA: 20s - loss: 0.0342 - acc: 0.99 - ETA: 19s - loss: 0.0335 - acc: 0.99 - ETA: 19s - loss: 0.0349 - acc: 0.99 - ETA: 18s - loss: 0.0366 - acc: 0.99 - ETA: 18s - loss: 0.0408 - acc: 0.99 - ETA: 17s - loss: 0.0416 - acc: 0.98 - ETA: 17s - loss: 0.0428 - acc: 0.98 - ETA: 16s - loss: 0.0423 - acc: 0.98 - ETA: 16s - loss: 0.0429 - acc: 0.98 - ETA: 16s - loss: 0.0430 - acc: 0.98 - ETA: 15s - loss: 0.0424 - acc: 0.98 - ETA: 15s - loss: 0.0419 - acc: 0.98 - ETA: 14s - loss: 0.0409 - acc: 0.98 - ETA: 13s - loss: 0.0409 - acc: 0.98 - ETA: 13s - loss: 0.0419 - acc: 0.98 - ETA: 13s - loss: 0.0415 - acc: 0.98 - ETA: 12s - loss: 0.0419 - acc: 0.98 - ETA: 12s - loss: 0.0420 - acc: 0.98 - ETA: 12s - loss: 0.0418 - acc: 0.98 - ETA: 11s - loss: 0.0413 - acc: 0.98 - ETA: 11s - loss: 0.0419 - acc: 0.98 - ETA: 10s - loss: 0.0420 - acc: 0.98 - ETA: 10s - loss: 0.0415 - acc: 0.98 - ETA: 9s - loss: 0.0407 - acc: 0.9885 - ETA: 9s - loss: 0.0402 - acc: 0.988 - ETA: 8s - loss: 0.0402 - acc: 0.989 - ETA: 8s - loss: 0.0409 - acc: 0.989 - ETA: 7s - loss: 0.0406 - acc: 0.989 - ETA: 7s - loss: 0.0410 - acc: 0.989 - ETA: 6s - loss: 0.0406 - acc: 0.989 - ETA: 6s - loss: 0.0405 - acc: 0.989 - ETA: 5s - loss: 0.0408 - acc: 0.989 - ETA: 5s - loss: 0.0409 - acc: 0.989 - ETA: 4s - loss: 0.0414 - acc: 0.989 - ETA: 4s - loss: 0.0412 - acc: 0.989 - ETA: 3s - loss: 0.0413 - acc: 0.989 - ETA: 3s - loss: 0.0410 - acc: 0.989 - ETA: 3s - loss: 0.0409 - acc: 0.988 - ETA: 2s - loss: 0.0410 - acc: 0.988 - ETA: 2s - loss: 0.0413 - acc: 0.989 - ETA: 1s - loss: 0.0411 - acc: 0.989 - ETA: 1s - loss: 0.0416 - acc: 0.988 - ETA: 0s - loss: 0.0411 - acc: 0.989 - ETA: 0s - loss: 0.0410 - acc: 0.989 - 34s 10ms/step - loss: 0.0455 - acc: 0.9891 - val_loss: 2.2409 - val_acc: 0.8289\n",
      "Epoch 6/10\n",
      "3490/3490 [==============================] - ETA: 40s - loss: 0.0092 - acc: 1.00 - ETA: 37s - loss: 0.0128 - acc: 1.00 - ETA: 34s - loss: 0.0220 - acc: 1.00 - ETA: 28s - loss: 0.0214 - acc: 1.00 - ETA: 28s - loss: 0.0247 - acc: 0.99 - ETA: 25s - loss: 0.0255 - acc: 0.99 - ETA: 26s - loss: 0.0284 - acc: 0.99 - ETA: 27s - loss: 0.0274 - acc: 0.99 - ETA: 27s - loss: 0.0313 - acc: 0.99 - ETA: 27s - loss: 0.0301 - acc: 0.99 - ETA: 25s - loss: 0.0297 - acc: 0.99 - ETA: 24s - loss: 0.0299 - acc: 0.99 - ETA: 23s - loss: 0.0293 - acc: 0.99 - ETA: 22s - loss: 0.0295 - acc: 0.99 - ETA: 20s - loss: 0.0307 - acc: 0.99 - ETA: 20s - loss: 0.0294 - acc: 0.99 - ETA: 20s - loss: 0.0285 - acc: 0.99 - ETA: 18s - loss: 0.0279 - acc: 0.99 - ETA: 17s - loss: 0.0273 - acc: 0.99 - ETA: 17s - loss: 0.0266 - acc: 0.99 - ETA: 16s - loss: 0.0261 - acc: 0.99 - ETA: 16s - loss: 0.0256 - acc: 0.99 - ETA: 15s - loss: 0.0258 - acc: 0.99 - ETA: 14s - loss: 0.0254 - acc: 0.99 - ETA: 14s - loss: 0.0250 - acc: 0.99 - ETA: 13s - loss: 0.0250 - acc: 0.99 - ETA: 13s - loss: 0.0244 - acc: 0.99 - ETA: 12s - loss: 0.0244 - acc: 0.99 - ETA: 12s - loss: 0.0259 - acc: 0.99 - ETA: 11s - loss: 0.0254 - acc: 0.99 - ETA: 11s - loss: 0.0251 - acc: 0.99 - ETA: 10s - loss: 0.0250 - acc: 0.99 - ETA: 10s - loss: 0.0260 - acc: 0.99 - ETA: 9s - loss: 0.0257 - acc: 0.9959 - ETA: 9s - loss: 0.0263 - acc: 0.995 - ETA: 8s - loss: 0.0268 - acc: 0.995 - ETA: 8s - loss: 0.0267 - acc: 0.995 - ETA: 7s - loss: 0.0275 - acc: 0.994 - ETA: 7s - loss: 0.0273 - acc: 0.994 - ETA: 6s - loss: 0.0273 - acc: 0.994 - ETA: 6s - loss: 0.0275 - acc: 0.994 - ETA: 5s - loss: 0.0282 - acc: 0.994 - ETA: 5s - loss: 0.0282 - acc: 0.993 - ETA: 4s - loss: 0.0279 - acc: 0.994 - ETA: 4s - loss: 0.0276 - acc: 0.994 - ETA: 3s - loss: 0.0276 - acc: 0.994 - ETA: 3s - loss: 0.0278 - acc: 0.994 - ETA: 3s - loss: 0.0276 - acc: 0.994 - ETA: 2s - loss: 0.0277 - acc: 0.994 - ETA: 2s - loss: 0.0275 - acc: 0.994 - ETA: 1s - loss: 0.0274 - acc: 0.994 - ETA: 1s - loss: 0.0274 - acc: 0.994 - ETA: 0s - loss: 0.0276 - acc: 0.994 - ETA: 0s - loss: 0.0278 - acc: 0.994 - 34s 10ms/step - loss: 0.0287 - acc: 0.9943 - val_loss: 1.4046 - val_acc: 0.8349\n",
      "Epoch 7/10\n"
     ]
    },
    {
     "name": "stdout",
     "output_type": "stream",
     "text": [
      "3490/3490 [==============================] - ETA: 31s - loss: 0.0212 - acc: 1.00 - ETA: 30s - loss: 0.0160 - acc: 1.00 - ETA: 28s - loss: 0.0142 - acc: 1.00 - ETA: 29s - loss: 0.0164 - acc: 1.00 - ETA: 27s - loss: 0.0156 - acc: 1.00 - ETA: 24s - loss: 0.0155 - acc: 1.00 - ETA: 23s - loss: 0.0142 - acc: 1.00 - ETA: 23s - loss: 0.0211 - acc: 0.99 - ETA: 21s - loss: 0.0206 - acc: 0.99 - ETA: 20s - loss: 0.0202 - acc: 0.99 - ETA: 20s - loss: 0.0199 - acc: 0.99 - ETA: 20s - loss: 0.0194 - acc: 0.99 - ETA: 19s - loss: 0.0209 - acc: 0.99 - ETA: 19s - loss: 0.0206 - acc: 0.99 - ETA: 18s - loss: 0.0212 - acc: 0.99 - ETA: 18s - loss: 0.0204 - acc: 0.99 - ETA: 17s - loss: 0.0212 - acc: 0.99 - ETA: 17s - loss: 0.0210 - acc: 0.99 - ETA: 16s - loss: 0.0205 - acc: 0.99 - ETA: 15s - loss: 0.0200 - acc: 0.99 - ETA: 15s - loss: 0.0201 - acc: 0.99 - ETA: 14s - loss: 0.0197 - acc: 0.99 - ETA: 14s - loss: 0.0190 - acc: 0.99 - ETA: 13s - loss: 0.0192 - acc: 0.99 - ETA: 13s - loss: 0.0190 - acc: 0.99 - ETA: 12s - loss: 0.0185 - acc: 0.99 - ETA: 12s - loss: 0.0185 - acc: 0.99 - ETA: 11s - loss: 0.0187 - acc: 0.99 - ETA: 11s - loss: 0.0183 - acc: 0.99 - ETA: 10s - loss: 0.0182 - acc: 0.99 - ETA: 10s - loss: 0.0183 - acc: 0.99 - ETA: 10s - loss: 0.0182 - acc: 0.99 - ETA: 9s - loss: 0.0185 - acc: 0.9972 - ETA: 9s - loss: 0.0181 - acc: 0.997 - ETA: 8s - loss: 0.0178 - acc: 0.997 - ETA: 8s - loss: 0.0177 - acc: 0.997 - ETA: 8s - loss: 0.0173 - acc: 0.997 - ETA: 7s - loss: 0.0176 - acc: 0.997 - ETA: 7s - loss: 0.0174 - acc: 0.997 - ETA: 6s - loss: 0.0175 - acc: 0.996 - ETA: 6s - loss: 0.0182 - acc: 0.996 - ETA: 5s - loss: 0.0179 - acc: 0.996 - ETA: 5s - loss: 0.0184 - acc: 0.996 - ETA: 4s - loss: 0.0182 - acc: 0.996 - ETA: 4s - loss: 0.0180 - acc: 0.996 - ETA: 3s - loss: 0.0178 - acc: 0.996 - ETA: 3s - loss: 0.0176 - acc: 0.996 - ETA: 3s - loss: 0.0177 - acc: 0.996 - ETA: 2s - loss: 0.0178 - acc: 0.996 - ETA: 2s - loss: 0.0177 - acc: 0.996 - ETA: 1s - loss: 0.0176 - acc: 0.996 - ETA: 1s - loss: 0.0174 - acc: 0.996 - ETA: 0s - loss: 0.0175 - acc: 0.996 - ETA: 0s - loss: 0.0174 - acc: 0.996 - 28s 8ms/step - loss: 0.0174 - acc: 0.9966 - val_loss: 1.3533 - val_acc: 0.8382\n",
      "Epoch 8/10\n",
      "3490/3490 [==============================] - ETA: 15s - loss: 0.0159 - acc: 1.00 - ETA: 26s - loss: 0.0119 - acc: 1.00 - ETA: 27s - loss: 0.0111 - acc: 1.00 - ETA: 27s - loss: 0.0102 - acc: 1.00 - ETA: 25s - loss: 0.0113 - acc: 1.00 - ETA: 24s - loss: 0.0101 - acc: 1.00 - ETA: 24s - loss: 0.0091 - acc: 1.00 - ETA: 22s - loss: 0.0094 - acc: 1.00 - ETA: 20s - loss: 0.0087 - acc: 1.00 - ETA: 19s - loss: 0.0081 - acc: 1.00 - ETA: 18s - loss: 0.0081 - acc: 1.00 - ETA: 17s - loss: 0.0077 - acc: 1.00 - ETA: 16s - loss: 0.0077 - acc: 1.00 - ETA: 16s - loss: 0.0077 - acc: 1.00 - ETA: 15s - loss: 0.0073 - acc: 1.00 - ETA: 15s - loss: 0.0078 - acc: 1.00 - ETA: 14s - loss: 0.0075 - acc: 1.00 - ETA: 13s - loss: 0.0072 - acc: 1.00 - ETA: 14s - loss: 0.0070 - acc: 1.00 - ETA: 13s - loss: 0.0070 - acc: 1.00 - ETA: 13s - loss: 0.0069 - acc: 1.00 - ETA: 13s - loss: 0.0067 - acc: 1.00 - ETA: 13s - loss: 0.0067 - acc: 1.00 - ETA: 13s - loss: 0.0065 - acc: 1.00 - ETA: 12s - loss: 0.0063 - acc: 1.00 - ETA: 12s - loss: 0.0065 - acc: 1.00 - ETA: 12s - loss: 0.0063 - acc: 1.00 - ETA: 11s - loss: 0.0066 - acc: 1.00 - ETA: 11s - loss: 0.0065 - acc: 1.00 - ETA: 10s - loss: 0.0070 - acc: 0.99 - ETA: 10s - loss: 0.0070 - acc: 0.99 - ETA: 10s - loss: 0.0069 - acc: 0.99 - ETA: 9s - loss: 0.0068 - acc: 0.9995 - ETA: 9s - loss: 0.0070 - acc: 0.999 - ETA: 8s - loss: 0.0071 - acc: 0.999 - ETA: 8s - loss: 0.0071 - acc: 0.999 - ETA: 8s - loss: 0.0069 - acc: 0.999 - ETA: 7s - loss: 0.0070 - acc: 0.999 - ETA: 7s - loss: 0.0069 - acc: 0.999 - ETA: 6s - loss: 0.0069 - acc: 0.999 - ETA: 6s - loss: 0.0073 - acc: 0.999 - ETA: 5s - loss: 0.0074 - acc: 0.999 - ETA: 5s - loss: 0.0074 - acc: 0.999 - ETA: 4s - loss: 0.0075 - acc: 0.999 - ETA: 4s - loss: 0.0074 - acc: 0.999 - ETA: 4s - loss: 0.0074 - acc: 0.999 - ETA: 3s - loss: 0.0073 - acc: 0.999 - ETA: 3s - loss: 0.0073 - acc: 0.999 - ETA: 2s - loss: 0.0071 - acc: 0.999 - ETA: 2s - loss: 0.0071 - acc: 0.999 - ETA: 1s - loss: 0.0070 - acc: 0.999 - ETA: 1s - loss: 0.0076 - acc: 0.999 - ETA: 0s - loss: 0.0075 - acc: 0.999 - ETA: 0s - loss: 0.0075 - acc: 0.999 - 30s 8ms/step - loss: 0.0075 - acc: 0.9994 - val_loss: 0.8363 - val_acc: 0.7801\n",
      "Epoch 9/10\n",
      "3490/3490 [==============================] - ETA: 15s - loss: 0.0048 - acc: 1.00 - ETA: 20s - loss: 0.0044 - acc: 1.00 - ETA: 19s - loss: 0.0051 - acc: 1.00 - ETA: 17s - loss: 0.0045 - acc: 1.00 - ETA: 16s - loss: 0.0044 - acc: 1.00 - ETA: 18s - loss: 0.0045 - acc: 1.00 - ETA: 18s - loss: 0.0045 - acc: 1.00 - ETA: 17s - loss: 0.0049 - acc: 1.00 - ETA: 18s - loss: 0.0048 - acc: 1.00 - ETA: 17s - loss: 0.0048 - acc: 1.00 - ETA: 18s - loss: 0.0047 - acc: 1.00 - ETA: 17s - loss: 0.0051 - acc: 1.00 - ETA: 17s - loss: 0.0049 - acc: 1.00 - ETA: 17s - loss: 0.0048 - acc: 1.00 - ETA: 17s - loss: 0.0046 - acc: 1.00 - ETA: 17s - loss: 0.0044 - acc: 1.00 - ETA: 16s - loss: 0.0046 - acc: 1.00 - ETA: 16s - loss: 0.0044 - acc: 1.00 - ETA: 16s - loss: 0.0043 - acc: 1.00 - ETA: 15s - loss: 0.0042 - acc: 1.00 - ETA: 15s - loss: 0.0041 - acc: 1.00 - ETA: 15s - loss: 0.0044 - acc: 1.00 - ETA: 15s - loss: 0.0044 - acc: 1.00 - ETA: 14s - loss: 0.0043 - acc: 1.00 - ETA: 14s - loss: 0.0042 - acc: 1.00 - ETA: 13s - loss: 0.0042 - acc: 1.00 - ETA: 12s - loss: 0.0042 - acc: 1.00 - ETA: 12s - loss: 0.0042 - acc: 1.00 - ETA: 11s - loss: 0.0041 - acc: 1.00 - ETA: 11s - loss: 0.0041 - acc: 1.00 - ETA: 10s - loss: 0.0041 - acc: 1.00 - ETA: 10s - loss: 0.0041 - acc: 1.00 - ETA: 9s - loss: 0.0040 - acc: 1.0000 - ETA: 9s - loss: 0.0039 - acc: 1.000 - ETA: 9s - loss: 0.0039 - acc: 1.000 - ETA: 8s - loss: 0.0040 - acc: 1.000 - ETA: 8s - loss: 0.0041 - acc: 1.000 - ETA: 7s - loss: 0.0040 - acc: 1.000 - ETA: 7s - loss: 0.0040 - acc: 1.000 - ETA: 6s - loss: 0.0039 - acc: 1.000 - ETA: 6s - loss: 0.0038 - acc: 1.000 - ETA: 5s - loss: 0.0040 - acc: 1.000 - ETA: 5s - loss: 0.0040 - acc: 1.000 - ETA: 4s - loss: 0.0048 - acc: 0.999 - ETA: 4s - loss: 0.0048 - acc: 0.999 - ETA: 4s - loss: 0.0048 - acc: 0.999 - ETA: 3s - loss: 0.0050 - acc: 0.999 - ETA: 3s - loss: 0.0050 - acc: 0.999 - ETA: 2s - loss: 0.0051 - acc: 0.999 - ETA: 2s - loss: 0.0051 - acc: 0.999 - ETA: 1s - loss: 0.0051 - acc: 0.999 - ETA: 1s - loss: 0.0050 - acc: 0.999 - ETA: 0s - loss: 0.0050 - acc: 0.999 - ETA: 0s - loss: 0.0049 - acc: 0.999 - 31s 9ms/step - loss: 0.0049 - acc: 0.9997 - val_loss: 1.9012 - val_acc: 0.8329\n",
      "Epoch 10/10\n"
     ]
    },
    {
     "name": "stdout",
     "output_type": "stream",
     "text": [
      "3490/3490 [==============================] - ETA: 30s - loss: 0.0096 - acc: 1.00 - ETA: 21s - loss: 0.0055 - acc: 1.00 - ETA: 18s - loss: 0.0084 - acc: 1.00 - ETA: 17s - loss: 0.0067 - acc: 1.00 - ETA: 16s - loss: 0.0066 - acc: 1.00 - ETA: 15s - loss: 0.0062 - acc: 1.00 - ETA: 14s - loss: 0.0055 - acc: 1.00 - ETA: 14s - loss: 0.0052 - acc: 1.00 - ETA: 13s - loss: 0.0048 - acc: 1.00 - ETA: 13s - loss: 0.0045 - acc: 1.00 - ETA: 12s - loss: 0.0049 - acc: 1.00 - ETA: 12s - loss: 0.0047 - acc: 1.00 - ETA: 11s - loss: 0.0047 - acc: 1.00 - ETA: 11s - loss: 0.0046 - acc: 1.00 - ETA: 11s - loss: 0.0043 - acc: 1.00 - ETA: 10s - loss: 0.0041 - acc: 1.00 - ETA: 10s - loss: 0.0040 - acc: 1.00 - ETA: 10s - loss: 0.0039 - acc: 1.00 - ETA: 10s - loss: 0.0037 - acc: 1.00 - ETA: 9s - loss: 0.0036 - acc: 1.0000 - ETA: 9s - loss: 0.0035 - acc: 1.000 - ETA: 9s - loss: 0.0034 - acc: 1.000 - ETA: 8s - loss: 0.0034 - acc: 1.000 - ETA: 8s - loss: 0.0036 - acc: 1.000 - ETA: 8s - loss: 0.0036 - acc: 1.000 - ETA: 7s - loss: 0.0035 - acc: 1.000 - ETA: 7s - loss: 0.0035 - acc: 1.000 - ETA: 7s - loss: 0.0038 - acc: 1.000 - ETA: 7s - loss: 0.0037 - acc: 1.000 - ETA: 6s - loss: 0.0037 - acc: 1.000 - ETA: 6s - loss: 0.0037 - acc: 1.000 - ETA: 6s - loss: 0.0036 - acc: 1.000 - ETA: 5s - loss: 0.0035 - acc: 1.000 - ETA: 5s - loss: 0.0035 - acc: 1.000 - ETA: 5s - loss: 0.0034 - acc: 1.000 - ETA: 5s - loss: 0.0034 - acc: 1.000 - ETA: 4s - loss: 0.0033 - acc: 1.000 - ETA: 4s - loss: 0.0033 - acc: 1.000 - ETA: 4s - loss: 0.0033 - acc: 1.000 - ETA: 4s - loss: 0.0034 - acc: 1.000 - ETA: 4s - loss: 0.0034 - acc: 1.000 - ETA: 3s - loss: 0.0034 - acc: 1.000 - ETA: 3s - loss: 0.0033 - acc: 1.000 - ETA: 3s - loss: 0.0033 - acc: 1.000 - ETA: 2s - loss: 0.0032 - acc: 1.000 - ETA: 2s - loss: 0.0034 - acc: 1.000 - ETA: 2s - loss: 0.0034 - acc: 1.000 - ETA: 2s - loss: 0.0034 - acc: 1.000 - ETA: 1s - loss: 0.0033 - acc: 1.000 - ETA: 1s - loss: 0.0033 - acc: 1.000 - ETA: 1s - loss: 0.0034 - acc: 1.000 - ETA: 0s - loss: 0.0033 - acc: 1.000 - ETA: 0s - loss: 0.0033 - acc: 1.000 - ETA: 0s - loss: 0.0033 - acc: 1.000 - 25s 7ms/step - loss: 0.0033 - acc: 1.0000 - val_loss: 0.9178 - val_acc: 0.8509\n",
      "Accuracy: 85.09%\n"
     ]
    }
   ],
   "source": [
    "validation_data=(x_te, y_test)\n",
    "value = model.fit(x_tr, y_train, nb_epoch=10, batch_size=64,verbose=1,validation_data=(x_te, y_test))\n",
    "# Final evaluation of the model\n",
    "scores = model.evaluate(x_te, y_test, verbose=0)\n",
    "print(\"Accuracy: %.2f%%\" % (scores[1]*100))"
   ]
  },
  {
   "cell_type": "code",
   "execution_count": 221,
   "metadata": {},
   "outputs": [
    {
     "data": {
      "image/png": "[encoded data removed]",
      "text/plain": [
       "<Figure size 432x288 with 1 Axes>"
      ]
     },
     "metadata": {},
     "output_type": "display_data"
    }
   ],
   "source": [
    "plot_train_cv_loss(value, epochs = 10)"
   ]
  },
  {
   "cell_type": "markdown",
   "metadata": {},
   "source": [
    "### 3) 2-Layered LSTM + BatchNormalization + Dropout + sigmoid  + SGD"
   ]
  },
  {
   "cell_type": "code",
   "execution_count": 241,
   "metadata": {},
   "outputs": [
    {
     "name": "stdout",
     "output_type": "stream",
     "text": [
      "_________________________________________________________________\n",
      "Layer (type)                 Output Shape              Param #   \n",
      "=================================================================\n",
      "embedding_19 (Embedding)     (None, 100, 32)           64032     \n",
      "_________________________________________________________________\n",
      "lstm_32 (LSTM)               (None, 100, 10)           1720      \n",
      "_________________________________________________________________\n",
      "batch_normalization_22 (Batc (None, 100, 10)           40        \n",
      "_________________________________________________________________\n",
      "dense_27 (Dense)             (None, 100, 1)            11        \n",
      "_________________________________________________________________\n",
      "lstm_33 (LSTM)               (None, 20)                1760      \n",
      "_________________________________________________________________\n",
      "dense_28 (Dense)             (None, 1)                 21        \n",
      "=================================================================\n",
      "Total params: 67,584\n",
      "Trainable params: 67,564\n",
      "Non-trainable params: 20\n",
      "_________________________________________________________________\n",
      "None\n"
     ]
    }
   ],
   "source": [
    "model_2 = Sequential()\n",
    "model_2.add(Embedding(top_words+1, embedding_vecor_length, input_length=max_review_length))\n",
    "model_2.add(LSTM(10, return_sequences = True))\n",
    "model_2.add(BatchNormalization())\n",
    "model.add(Dropout(0.4))\n",
    "model_2.add(Dense(1, activation='sigmoid'))\n",
    "model_2.add(LSTM(20))\n",
    "model_2.add(Dense(1, activation = 'sigmoid'))\n",
    "model_2.compile(loss='binary_crossentropy', optimizer='SGD', metrics=['accuracy'])\n",
    "print(model_2.summary())"
   ]
  },
  {
   "cell_type": "code",
   "execution_count": 242,
   "metadata": {
    "scrolled": true
   },
   "outputs": [
    {
     "name": "stdout",
     "output_type": "stream",
     "text": [
      "Train on 3490 samples, validate on 1496 samples\n",
      "Epoch 1/10\n",
      "3490/3490 [==============================] - ETA: 3:49 - loss: 0.6563 - acc: 0.875 - ETA: 2:05 - loss: 0.6534 - acc: 0.875 - ETA: 1:30 - loss: 0.6536 - acc: 0.854 - ETA: 1:13 - loss: 0.6535 - acc: 0.839 - ETA: 1:02 - loss: 0.6500 - acc: 0.850 - ETA: 54s - loss: 0.6488 - acc: 0.846 - ETA: 49s - loss: 0.6481 - acc: 0.83 - ETA: 45s - loss: 0.6462 - acc: 0.83 - ETA: 41s - loss: 0.6440 - acc: 0.84 - ETA: 39s - loss: 0.6425 - acc: 0.84 - ETA: 36s - loss: 0.6411 - acc: 0.83 - ETA: 34s - loss: 0.6402 - acc: 0.83 - ETA: 32s - loss: 0.6395 - acc: 0.83 - ETA: 31s - loss: 0.6359 - acc: 0.83 - ETA: 29s - loss: 0.6348 - acc: 0.83 - ETA: 28s - loss: 0.6339 - acc: 0.83 - ETA: 27s - loss: 0.6313 - acc: 0.83 - ETA: 25s - loss: 0.6298 - acc: 0.83 - ETA: 24s - loss: 0.6281 - acc: 0.83 - ETA: 23s - loss: 0.6259 - acc: 0.83 - ETA: 22s - loss: 0.6231 - acc: 0.84 - ETA: 21s - loss: 0.6214 - acc: 0.84 - ETA: 20s - loss: 0.6192 - acc: 0.84 - ETA: 20s - loss: 0.6171 - acc: 0.84 - ETA: 19s - loss: 0.6154 - acc: 0.84 - ETA: 18s - loss: 0.6138 - acc: 0.84 - ETA: 17s - loss: 0.6128 - acc: 0.84 - ETA: 16s - loss: 0.6114 - acc: 0.84 - ETA: 16s - loss: 0.6083 - acc: 0.84 - ETA: 15s - loss: 0.6065 - acc: 0.84 - ETA: 14s - loss: 0.6064 - acc: 0.84 - ETA: 13s - loss: 0.6051 - acc: 0.84 - ETA: 13s - loss: 0.6034 - acc: 0.84 - ETA: 12s - loss: 0.6026 - acc: 0.84 - ETA: 11s - loss: 0.6002 - acc: 0.84 - ETA: 11s - loss: 0.5983 - acc: 0.84 - ETA: 10s - loss: 0.5964 - acc: 0.84 - ETA: 9s - loss: 0.5950 - acc: 0.8466 - ETA: 9s - loss: 0.5927 - acc: 0.848 - ETA: 8s - loss: 0.5924 - acc: 0.846 - ETA: 8s - loss: 0.5916 - acc: 0.845 - ETA: 7s - loss: 0.5907 - acc: 0.844 - ETA: 6s - loss: 0.5892 - acc: 0.844 - ETA: 6s - loss: 0.5881 - acc: 0.844 - ETA: 5s - loss: 0.5864 - acc: 0.845 - ETA: 4s - loss: 0.5862 - acc: 0.843 - ETA: 4s - loss: 0.5854 - acc: 0.842 - ETA: 3s - loss: 0.5849 - acc: 0.841 - ETA: 3s - loss: 0.5824 - acc: 0.843 - ETA: 2s - loss: 0.5800 - acc: 0.845 - ETA: 2s - loss: 0.5788 - acc: 0.845 - ETA: 1s - loss: 0.5773 - acc: 0.845 - ETA: 0s - loss: 0.5776 - acc: 0.843 - ETA: 0s - loss: 0.5769 - acc: 0.842 - 36s 10ms/step - loss: 0.5760 - acc: 0.8433 - val_loss: 0.5308 - val_acc: 0.8255\n",
      "Epoch 2/10\n",
      "3490/3490 [==============================] - ETA: 27s - loss: 0.4892 - acc: 0.87 - ETA: 26s - loss: 0.5064 - acc: 0.85 - ETA: 25s - loss: 0.5182 - acc: 0.83 - ETA: 25s - loss: 0.5011 - acc: 0.85 - ETA: 24s - loss: 0.4997 - acc: 0.85 - ETA: 24s - loss: 0.5062 - acc: 0.84 - ETA: 23s - loss: 0.5057 - acc: 0.84 - ETA: 23s - loss: 0.5067 - acc: 0.84 - ETA: 22s - loss: 0.5047 - acc: 0.84 - ETA: 22s - loss: 0.5041 - acc: 0.84 - ETA: 21s - loss: 0.4992 - acc: 0.85 - ETA: 21s - loss: 0.4988 - acc: 0.85 - ETA: 20s - loss: 0.4985 - acc: 0.84 - ETA: 20s - loss: 0.4964 - acc: 0.85 - ETA: 19s - loss: 0.4942 - acc: 0.85 - ETA: 19s - loss: 0.4956 - acc: 0.85 - ETA: 18s - loss: 0.4968 - acc: 0.84 - ETA: 18s - loss: 0.4956 - acc: 0.84 - ETA: 17s - loss: 0.4973 - acc: 0.84 - ETA: 17s - loss: 0.4976 - acc: 0.84 - ETA: 16s - loss: 0.4953 - acc: 0.84 - ETA: 16s - loss: 0.4967 - acc: 0.84 - ETA: 15s - loss: 0.4962 - acc: 0.84 - ETA: 15s - loss: 0.4969 - acc: 0.84 - ETA: 14s - loss: 0.4978 - acc: 0.84 - ETA: 14s - loss: 0.4979 - acc: 0.84 - ETA: 13s - loss: 0.4988 - acc: 0.83 - ETA: 13s - loss: 0.4971 - acc: 0.84 - ETA: 12s - loss: 0.4940 - acc: 0.84 - ETA: 12s - loss: 0.4950 - acc: 0.84 - ETA: 11s - loss: 0.4954 - acc: 0.84 - ETA: 11s - loss: 0.4969 - acc: 0.83 - ETA: 10s - loss: 0.4992 - acc: 0.83 - ETA: 10s - loss: 0.4977 - acc: 0.83 - ETA: 9s - loss: 0.4985 - acc: 0.8357 - ETA: 9s - loss: 0.4975 - acc: 0.836 - ETA: 8s - loss: 0.4953 - acc: 0.838 - ETA: 8s - loss: 0.4970 - acc: 0.835 - ETA: 7s - loss: 0.4949 - acc: 0.837 - ETA: 7s - loss: 0.4942 - acc: 0.837 - ETA: 6s - loss: 0.4925 - acc: 0.839 - ETA: 6s - loss: 0.4905 - acc: 0.840 - ETA: 5s - loss: 0.4900 - acc: 0.840 - ETA: 5s - loss: 0.4902 - acc: 0.840 - ETA: 4s - loss: 0.4908 - acc: 0.839 - ETA: 4s - loss: 0.4896 - acc: 0.840 - ETA: 3s - loss: 0.4878 - acc: 0.841 - ETA: 3s - loss: 0.4870 - acc: 0.841 - ETA: 2s - loss: 0.4873 - acc: 0.841 - ETA: 2s - loss: 0.4865 - acc: 0.841 - ETA: 1s - loss: 0.4858 - acc: 0.841 - ETA: 1s - loss: 0.4856 - acc: 0.841 - ETA: 0s - loss: 0.4846 - acc: 0.842 - ETA: 0s - loss: 0.4833 - acc: 0.843 - 32s 9ms/step - loss: 0.4829 - acc: 0.8433 - val_loss: 0.4828 - val_acc: 0.8255\n",
      "Epoch 3/10\n",
      "3490/3490 [==============================] - ETA: 27s - loss: 0.4605 - acc: 0.84 - ETA: 26s - loss: 0.4603 - acc: 0.84 - ETA: 26s - loss: 0.4662 - acc: 0.83 - ETA: 25s - loss: 0.4466 - acc: 0.85 - ETA: 24s - loss: 0.4451 - acc: 0.85 - ETA: 24s - loss: 0.4451 - acc: 0.85 - ETA: 23s - loss: 0.4371 - acc: 0.86 - ETA: 23s - loss: 0.4487 - acc: 0.85 - ETA: 22s - loss: 0.4516 - acc: 0.85 - ETA: 22s - loss: 0.4503 - acc: 0.85 - ETA: 21s - loss: 0.4506 - acc: 0.85 - ETA: 21s - loss: 0.4497 - acc: 0.85 - ETA: 20s - loss: 0.4581 - acc: 0.84 - ETA: 20s - loss: 0.4554 - acc: 0.84 - ETA: 19s - loss: 0.4543 - acc: 0.84 - ETA: 19s - loss: 0.4601 - acc: 0.84 - ETA: 18s - loss: 0.4596 - acc: 0.84 - ETA: 18s - loss: 0.4592 - acc: 0.84 - ETA: 17s - loss: 0.4551 - acc: 0.84 - ETA: 17s - loss: 0.4542 - acc: 0.84 - ETA: 16s - loss: 0.4542 - acc: 0.84 - ETA: 16s - loss: 0.4530 - acc: 0.84 - ETA: 15s - loss: 0.4529 - acc: 0.84 - ETA: 15s - loss: 0.4536 - acc: 0.84 - ETA: 14s - loss: 0.4565 - acc: 0.84 - ETA: 14s - loss: 0.4593 - acc: 0.84 - ETA: 13s - loss: 0.4576 - acc: 0.84 - ETA: 13s - loss: 0.4608 - acc: 0.83 - ETA: 12s - loss: 0.4625 - acc: 0.83 - ETA: 12s - loss: 0.4583 - acc: 0.84 - ETA: 11s - loss: 0.4568 - acc: 0.84 - ETA: 11s - loss: 0.4553 - acc: 0.84 - ETA: 10s - loss: 0.4540 - acc: 0.84 - ETA: 10s - loss: 0.4521 - acc: 0.84 - ETA: 9s - loss: 0.4526 - acc: 0.8451 - ETA: 9s - loss: 0.4530 - acc: 0.844 - ETA: 8s - loss: 0.4535 - acc: 0.844 - ETA: 8s - loss: 0.4524 - acc: 0.845 - ETA: 7s - loss: 0.4518 - acc: 0.845 - ETA: 7s - loss: 0.4528 - acc: 0.844 - ETA: 6s - loss: 0.4540 - acc: 0.843 - ETA: 6s - loss: 0.4547 - acc: 0.842 - ETA: 5s - loss: 0.4549 - acc: 0.842 - ETA: 5s - loss: 0.4553 - acc: 0.842 - ETA: 4s - loss: 0.4551 - acc: 0.842 - ETA: 4s - loss: 0.4549 - acc: 0.842 - ETA: 3s - loss: 0.4543 - acc: 0.842 - ETA: 3s - loss: 0.4525 - acc: 0.843 - ETA: 2s - loss: 0.4535 - acc: 0.842 - ETA: 2s - loss: 0.4530 - acc: 0.843 - ETA: 1s - loss: 0.4533 - acc: 0.842 - ETA: 1s - loss: 0.4542 - acc: 0.841 - ETA: 0s - loss: 0.4533 - acc: 0.842 - ETA: 0s - loss: 0.4530 - acc: 0.842 - 32s 9ms/step - loss: 0.4520 - acc: 0.8433 - val_loss: 0.4673 - val_acc: 0.8255\n",
      "Epoch 4/10\n"
     ]
    },
    {
     "name": "stdout",
     "output_type": "stream",
     "text": [
      "3490/3490 [==============================] - ETA: 27s - loss: 0.4859 - acc: 0.81 - ETA: 26s - loss: 0.4641 - acc: 0.82 - ETA: 25s - loss: 0.4506 - acc: 0.83 - ETA: 25s - loss: 0.4333 - acc: 0.85 - ETA: 24s - loss: 0.4227 - acc: 0.85 - ETA: 24s - loss: 0.4427 - acc: 0.84 - ETA: 23s - loss: 0.4544 - acc: 0.83 - ETA: 23s - loss: 0.4453 - acc: 0.84 - ETA: 22s - loss: 0.4358 - acc: 0.84 - ETA: 22s - loss: 0.4405 - acc: 0.84 - ETA: 21s - loss: 0.4463 - acc: 0.84 - ETA: 21s - loss: 0.4425 - acc: 0.84 - ETA: 20s - loss: 0.4343 - acc: 0.84 - ETA: 20s - loss: 0.4303 - acc: 0.85 - ETA: 19s - loss: 0.4283 - acc: 0.85 - ETA: 19s - loss: 0.4291 - acc: 0.85 - ETA: 18s - loss: 0.4299 - acc: 0.85 - ETA: 18s - loss: 0.4247 - acc: 0.85 - ETA: 17s - loss: 0.4267 - acc: 0.85 - ETA: 17s - loss: 0.4286 - acc: 0.85 - ETA: 16s - loss: 0.4302 - acc: 0.85 - ETA: 16s - loss: 0.4290 - acc: 0.85 - ETA: 15s - loss: 0.4266 - acc: 0.85 - ETA: 15s - loss: 0.4281 - acc: 0.85 - ETA: 14s - loss: 0.4268 - acc: 0.85 - ETA: 14s - loss: 0.4257 - acc: 0.85 - ETA: 13s - loss: 0.4262 - acc: 0.85 - ETA: 13s - loss: 0.4289 - acc: 0.85 - ETA: 12s - loss: 0.4270 - acc: 0.85 - ETA: 12s - loss: 0.4290 - acc: 0.85 - ETA: 11s - loss: 0.4280 - acc: 0.85 - ETA: 11s - loss: 0.4297 - acc: 0.85 - ETA: 10s - loss: 0.4339 - acc: 0.84 - ETA: 10s - loss: 0.4341 - acc: 0.84 - ETA: 9s - loss: 0.4336 - acc: 0.8496 - ETA: 9s - loss: 0.4350 - acc: 0.848 - ETA: 8s - loss: 0.4369 - acc: 0.847 - ETA: 8s - loss: 0.4381 - acc: 0.846 - ETA: 7s - loss: 0.4386 - acc: 0.845 - ETA: 7s - loss: 0.4381 - acc: 0.846 - ETA: 6s - loss: 0.4393 - acc: 0.845 - ETA: 6s - loss: 0.4403 - acc: 0.844 - ETA: 5s - loss: 0.4386 - acc: 0.845 - ETA: 5s - loss: 0.4396 - acc: 0.844 - ETA: 4s - loss: 0.4401 - acc: 0.844 - ETA: 4s - loss: 0.4401 - acc: 0.844 - ETA: 3s - loss: 0.4397 - acc: 0.844 - ETA: 3s - loss: 0.4387 - acc: 0.845 - ETA: 2s - loss: 0.4415 - acc: 0.843 - ETA: 2s - loss: 0.4392 - acc: 0.845 - ETA: 1s - loss: 0.4392 - acc: 0.845 - ETA: 1s - loss: 0.4396 - acc: 0.844 - ETA: 0s - loss: 0.4400 - acc: 0.844 - ETA: 0s - loss: 0.4415 - acc: 0.843 - 32s 9ms/step - loss: 0.4414 - acc: 0.8433 - val_loss: 0.4626 - val_acc: 0.8255\n",
      "Epoch 5/10\n",
      "3490/3490 [==============================] - ETA: 26s - loss: 0.3055 - acc: 0.93 - ETA: 26s - loss: 0.3592 - acc: 0.89 - ETA: 25s - loss: 0.3619 - acc: 0.89 - ETA: 25s - loss: 0.3751 - acc: 0.88 - ETA: 24s - loss: 0.3927 - acc: 0.87 - ETA: 24s - loss: 0.4080 - acc: 0.86 - ETA: 23s - loss: 0.3991 - acc: 0.87 - ETA: 23s - loss: 0.4008 - acc: 0.86 - ETA: 22s - loss: 0.4124 - acc: 0.86 - ETA: 22s - loss: 0.4148 - acc: 0.85 - ETA: 21s - loss: 0.4088 - acc: 0.86 - ETA: 21s - loss: 0.4054 - acc: 0.86 - ETA: 20s - loss: 0.4006 - acc: 0.86 - ETA: 20s - loss: 0.4081 - acc: 0.86 - ETA: 19s - loss: 0.4128 - acc: 0.86 - ETA: 19s - loss: 0.4141 - acc: 0.85 - ETA: 19s - loss: 0.4099 - acc: 0.86 - ETA: 18s - loss: 0.4128 - acc: 0.86 - ETA: 18s - loss: 0.4140 - acc: 0.85 - ETA: 17s - loss: 0.4162 - acc: 0.85 - ETA: 17s - loss: 0.4147 - acc: 0.85 - ETA: 16s - loss: 0.4136 - acc: 0.85 - ETA: 16s - loss: 0.4135 - acc: 0.85 - ETA: 15s - loss: 0.4116 - acc: 0.86 - ETA: 15s - loss: 0.4117 - acc: 0.86 - ETA: 14s - loss: 0.4145 - acc: 0.85 - ETA: 14s - loss: 0.4146 - acc: 0.85 - ETA: 13s - loss: 0.4153 - acc: 0.85 - ETA: 13s - loss: 0.4153 - acc: 0.85 - ETA: 12s - loss: 0.4216 - acc: 0.85 - ETA: 11s - loss: 0.4190 - acc: 0.85 - ETA: 11s - loss: 0.4188 - acc: 0.85 - ETA: 10s - loss: 0.4220 - acc: 0.85 - ETA: 10s - loss: 0.4246 - acc: 0.85 - ETA: 9s - loss: 0.4289 - acc: 0.8491 - ETA: 9s - loss: 0.4290 - acc: 0.849 - ETA: 8s - loss: 0.4318 - acc: 0.847 - ETA: 8s - loss: 0.4350 - acc: 0.845 - ETA: 7s - loss: 0.4356 - acc: 0.844 - ETA: 7s - loss: 0.4345 - acc: 0.845 - ETA: 6s - loss: 0.4340 - acc: 0.845 - ETA: 6s - loss: 0.4346 - acc: 0.845 - ETA: 5s - loss: 0.4346 - acc: 0.845 - ETA: 5s - loss: 0.4368 - acc: 0.843 - ETA: 4s - loss: 0.4337 - acc: 0.845 - ETA: 4s - loss: 0.4343 - acc: 0.845 - ETA: 3s - loss: 0.4359 - acc: 0.844 - ETA: 3s - loss: 0.4363 - acc: 0.844 - ETA: 2s - loss: 0.4368 - acc: 0.843 - ETA: 2s - loss: 0.4363 - acc: 0.844 - ETA: 1s - loss: 0.4358 - acc: 0.844 - ETA: 1s - loss: 0.4367 - acc: 0.843 - ETA: 0s - loss: 0.4367 - acc: 0.843 - ETA: 0s - loss: 0.4362 - acc: 0.844 - 32s 9ms/step - loss: 0.4374 - acc: 0.8433 - val_loss: 0.4615 - val_acc: 0.8255\n",
      "Epoch 6/10\n",
      "3490/3490 [==============================] - ETA: 26s - loss: 0.3404 - acc: 0.90 - ETA: 26s - loss: 0.4005 - acc: 0.86 - ETA: 25s - loss: 0.3647 - acc: 0.89 - ETA: 25s - loss: 0.3886 - acc: 0.87 - ETA: 24s - loss: 0.3929 - acc: 0.87 - ETA: 24s - loss: 0.4072 - acc: 0.86 - ETA: 23s - loss: 0.4082 - acc: 0.86 - ETA: 23s - loss: 0.4173 - acc: 0.85 - ETA: 22s - loss: 0.4136 - acc: 0.85 - ETA: 22s - loss: 0.4157 - acc: 0.85 - ETA: 21s - loss: 0.4200 - acc: 0.85 - ETA: 21s - loss: 0.4191 - acc: 0.85 - ETA: 20s - loss: 0.4184 - acc: 0.85 - ETA: 20s - loss: 0.4212 - acc: 0.85 - ETA: 19s - loss: 0.4221 - acc: 0.85 - ETA: 19s - loss: 0.4230 - acc: 0.85 - ETA: 18s - loss: 0.4195 - acc: 0.85 - ETA: 18s - loss: 0.4284 - acc: 0.84 - ETA: 17s - loss: 0.4299 - acc: 0.84 - ETA: 17s - loss: 0.4290 - acc: 0.84 - ETA: 16s - loss: 0.4348 - acc: 0.84 - ETA: 16s - loss: 0.4349 - acc: 0.84 - ETA: 15s - loss: 0.4371 - acc: 0.84 - ETA: 15s - loss: 0.4370 - acc: 0.84 - ETA: 14s - loss: 0.4445 - acc: 0.83 - ETA: 14s - loss: 0.4434 - acc: 0.83 - ETA: 13s - loss: 0.4396 - acc: 0.84 - ETA: 13s - loss: 0.4419 - acc: 0.83 - ETA: 12s - loss: 0.4450 - acc: 0.83 - ETA: 12s - loss: 0.4414 - acc: 0.83 - ETA: 11s - loss: 0.4444 - acc: 0.83 - ETA: 11s - loss: 0.4404 - acc: 0.84 - ETA: 10s - loss: 0.4417 - acc: 0.83 - ETA: 10s - loss: 0.4408 - acc: 0.84 - ETA: 9s - loss: 0.4392 - acc: 0.8411 - ETA: 9s - loss: 0.4425 - acc: 0.839 - ETA: 8s - loss: 0.4416 - acc: 0.839 - ETA: 8s - loss: 0.4427 - acc: 0.838 - ETA: 7s - loss: 0.4407 - acc: 0.840 - ETA: 7s - loss: 0.4386 - acc: 0.841 - ETA: 6s - loss: 0.4391 - acc: 0.841 - ETA: 6s - loss: 0.4391 - acc: 0.841 - ETA: 5s - loss: 0.4373 - acc: 0.842 - ETA: 5s - loss: 0.4334 - acc: 0.844 - ETA: 4s - loss: 0.4340 - acc: 0.844 - ETA: 4s - loss: 0.4339 - acc: 0.844 - ETA: 3s - loss: 0.4313 - acc: 0.846 - ETA: 3s - loss: 0.4298 - acc: 0.847 - ETA: 2s - loss: 0.4299 - acc: 0.846 - ETA: 2s - loss: 0.4329 - acc: 0.845 - ETA: 1s - loss: 0.4344 - acc: 0.844 - ETA: 1s - loss: 0.4330 - acc: 0.845 - ETA: 0s - loss: 0.4354 - acc: 0.843 - ETA: 0s - loss: 0.4359 - acc: 0.843 - 32s 9ms/step - loss: 0.4358 - acc: 0.8433 - val_loss: 0.4613 - val_acc: 0.8255\n",
      "Epoch 7/10\n"
     ]
    },
    {
     "name": "stdout",
     "output_type": "stream",
     "text": [
      "3490/3490 [==============================] - ETA: 26s - loss: 0.4090 - acc: 0.85 - ETA: 26s - loss: 0.4113 - acc: 0.85 - ETA: 25s - loss: 0.4278 - acc: 0.84 - ETA: 25s - loss: 0.4178 - acc: 0.85 - ETA: 24s - loss: 0.4067 - acc: 0.86 - ETA: 24s - loss: 0.3988 - acc: 0.86 - ETA: 23s - loss: 0.4041 - acc: 0.86 - ETA: 23s - loss: 0.4016 - acc: 0.86 - ETA: 22s - loss: 0.4115 - acc: 0.85 - ETA: 22s - loss: 0.4212 - acc: 0.85 - ETA: 21s - loss: 0.4270 - acc: 0.84 - ETA: 21s - loss: 0.4322 - acc: 0.84 - ETA: 20s - loss: 0.4307 - acc: 0.84 - ETA: 20s - loss: 0.4255 - acc: 0.85 - ETA: 19s - loss: 0.4246 - acc: 0.85 - ETA: 19s - loss: 0.4204 - acc: 0.85 - ETA: 18s - loss: 0.4285 - acc: 0.84 - ETA: 18s - loss: 0.4203 - acc: 0.85 - ETA: 17s - loss: 0.4198 - acc: 0.85 - ETA: 17s - loss: 0.4179 - acc: 0.85 - ETA: 16s - loss: 0.4211 - acc: 0.85 - ETA: 16s - loss: 0.4228 - acc: 0.85 - ETA: 15s - loss: 0.4264 - acc: 0.84 - ETA: 15s - loss: 0.4268 - acc: 0.84 - ETA: 14s - loss: 0.4261 - acc: 0.84 - ETA: 14s - loss: 0.4255 - acc: 0.84 - ETA: 13s - loss: 0.4295 - acc: 0.84 - ETA: 13s - loss: 0.4296 - acc: 0.84 - ETA: 12s - loss: 0.4355 - acc: 0.84 - ETA: 12s - loss: 0.4355 - acc: 0.84 - ETA: 11s - loss: 0.4353 - acc: 0.84 - ETA: 11s - loss: 0.4338 - acc: 0.84 - ETA: 10s - loss: 0.4323 - acc: 0.84 - ETA: 10s - loss: 0.4344 - acc: 0.84 - ETA: 9s - loss: 0.4344 - acc: 0.8438 - ETA: 9s - loss: 0.4302 - acc: 0.846 - ETA: 8s - loss: 0.4289 - acc: 0.847 - ETA: 8s - loss: 0.4291 - acc: 0.847 - ETA: 7s - loss: 0.4279 - acc: 0.847 - ETA: 7s - loss: 0.4305 - acc: 0.846 - ETA: 6s - loss: 0.4319 - acc: 0.845 - ETA: 6s - loss: 0.4349 - acc: 0.843 - ETA: 5s - loss: 0.4344 - acc: 0.843 - ETA: 5s - loss: 0.4349 - acc: 0.843 - ETA: 4s - loss: 0.4372 - acc: 0.842 - ETA: 4s - loss: 0.4387 - acc: 0.841 - ETA: 3s - loss: 0.4375 - acc: 0.841 - ETA: 3s - loss: 0.4369 - acc: 0.842 - ETA: 2s - loss: 0.4374 - acc: 0.841 - ETA: 2s - loss: 0.4368 - acc: 0.842 - ETA: 1s - loss: 0.4353 - acc: 0.843 - ETA: 1s - loss: 0.4353 - acc: 0.843 - ETA: 0s - loss: 0.4353 - acc: 0.843 - ETA: 0s - loss: 0.4353 - acc: 0.843 - 32s 9ms/step - loss: 0.4351 - acc: 0.8433 - val_loss: 0.4615 - val_acc: 0.8255\n",
      "Epoch 8/10\n",
      "3490/3490 [==============================] - ETA: 32s - loss: 0.3830 - acc: 0.87 - ETA: 29s - loss: 0.4702 - acc: 0.82 - ETA: 27s - loss: 0.4579 - acc: 0.82 - ETA: 27s - loss: 0.4397 - acc: 0.83 - ETA: 27s - loss: 0.4488 - acc: 0.83 - ETA: 26s - loss: 0.4505 - acc: 0.83 - ETA: 25s - loss: 0.4556 - acc: 0.83 - ETA: 24s - loss: 0.4691 - acc: 0.82 - ETA: 24s - loss: 0.4709 - acc: 0.82 - ETA: 23s - loss: 0.4573 - acc: 0.82 - ETA: 22s - loss: 0.4413 - acc: 0.83 - ETA: 22s - loss: 0.4452 - acc: 0.83 - ETA: 21s - loss: 0.4480 - acc: 0.83 - ETA: 21s - loss: 0.4490 - acc: 0.83 - ETA: 20s - loss: 0.4498 - acc: 0.83 - ETA: 19s - loss: 0.4470 - acc: 0.83 - ETA: 19s - loss: 0.4420 - acc: 0.83 - ETA: 18s - loss: 0.4415 - acc: 0.83 - ETA: 18s - loss: 0.4411 - acc: 0.83 - ETA: 17s - loss: 0.4394 - acc: 0.84 - ETA: 17s - loss: 0.4355 - acc: 0.84 - ETA: 16s - loss: 0.4344 - acc: 0.84 - ETA: 16s - loss: 0.4312 - acc: 0.84 - ETA: 15s - loss: 0.4303 - acc: 0.84 - ETA: 15s - loss: 0.4264 - acc: 0.84 - ETA: 14s - loss: 0.4297 - acc: 0.84 - ETA: 14s - loss: 0.4298 - acc: 0.84 - ETA: 13s - loss: 0.4247 - acc: 0.84 - ETA: 13s - loss: 0.4259 - acc: 0.84 - ETA: 12s - loss: 0.4270 - acc: 0.84 - ETA: 11s - loss: 0.4264 - acc: 0.84 - ETA: 11s - loss: 0.4298 - acc: 0.84 - ETA: 10s - loss: 0.4307 - acc: 0.84 - ETA: 10s - loss: 0.4292 - acc: 0.84 - ETA: 9s - loss: 0.4300 - acc: 0.8464 - ETA: 9s - loss: 0.4294 - acc: 0.846 - ETA: 8s - loss: 0.4309 - acc: 0.845 - ETA: 8s - loss: 0.4302 - acc: 0.846 - ETA: 7s - loss: 0.4303 - acc: 0.846 - ETA: 7s - loss: 0.4292 - acc: 0.846 - ETA: 6s - loss: 0.4299 - acc: 0.846 - ETA: 6s - loss: 0.4306 - acc: 0.846 - ETA: 5s - loss: 0.4324 - acc: 0.844 - ETA: 5s - loss: 0.4342 - acc: 0.843 - ETA: 4s - loss: 0.4352 - acc: 0.843 - ETA: 4s - loss: 0.4357 - acc: 0.842 - ETA: 3s - loss: 0.4357 - acc: 0.842 - ETA: 3s - loss: 0.4345 - acc: 0.843 - ETA: 2s - loss: 0.4329 - acc: 0.844 - ETA: 2s - loss: 0.4345 - acc: 0.843 - ETA: 1s - loss: 0.4359 - acc: 0.842 - ETA: 1s - loss: 0.4359 - acc: 0.842 - ETA: 0s - loss: 0.4354 - acc: 0.842 - ETA: 0s - loss: 0.4349 - acc: 0.843 - 32s 9ms/step - loss: 0.4348 - acc: 0.8433 - val_loss: 0.4617 - val_acc: 0.8255\n",
      "Epoch 9/10\n",
      "3490/3490 [==============================] - ETA: 27s - loss: 0.4324 - acc: 0.84 - ETA: 26s - loss: 0.3950 - acc: 0.86 - ETA: 25s - loss: 0.4413 - acc: 0.83 - ETA: 25s - loss: 0.4269 - acc: 0.84 - ETA: 24s - loss: 0.4026 - acc: 0.86 - ETA: 24s - loss: 0.4075 - acc: 0.85 - ETA: 23s - loss: 0.3964 - acc: 0.86 - ETA: 23s - loss: 0.3882 - acc: 0.87 - ETA: 22s - loss: 0.4069 - acc: 0.85 - ETA: 22s - loss: 0.4151 - acc: 0.85 - ETA: 21s - loss: 0.4073 - acc: 0.85 - ETA: 21s - loss: 0.4051 - acc: 0.86 - ETA: 20s - loss: 0.4135 - acc: 0.85 - ETA: 20s - loss: 0.4261 - acc: 0.84 - ETA: 19s - loss: 0.4199 - acc: 0.85 - ETA: 19s - loss: 0.4289 - acc: 0.84 - ETA: 18s - loss: 0.4233 - acc: 0.85 - ETA: 18s - loss: 0.4281 - acc: 0.84 - ETA: 17s - loss: 0.4299 - acc: 0.84 - ETA: 17s - loss: 0.4301 - acc: 0.84 - ETA: 16s - loss: 0.4304 - acc: 0.84 - ETA: 16s - loss: 0.4305 - acc: 0.84 - ETA: 15s - loss: 0.4307 - acc: 0.84 - ETA: 15s - loss: 0.4363 - acc: 0.84 - ETA: 14s - loss: 0.4340 - acc: 0.84 - ETA: 14s - loss: 0.4399 - acc: 0.84 - ETA: 13s - loss: 0.4407 - acc: 0.83 - ETA: 13s - loss: 0.4422 - acc: 0.83 - ETA: 12s - loss: 0.4446 - acc: 0.83 - ETA: 12s - loss: 0.4466 - acc: 0.83 - ETA: 11s - loss: 0.4479 - acc: 0.83 - ETA: 11s - loss: 0.4507 - acc: 0.83 - ETA: 10s - loss: 0.4540 - acc: 0.83 - ETA: 10s - loss: 0.4519 - acc: 0.83 - ETA: 9s - loss: 0.4507 - acc: 0.8335 - ETA: 9s - loss: 0.4517 - acc: 0.832 - ETA: 8s - loss: 0.4498 - acc: 0.834 - ETA: 8s - loss: 0.4487 - acc: 0.834 - ETA: 7s - loss: 0.4477 - acc: 0.835 - ETA: 7s - loss: 0.4467 - acc: 0.835 - ETA: 6s - loss: 0.4438 - acc: 0.837 - ETA: 6s - loss: 0.4424 - acc: 0.838 - ETA: 5s - loss: 0.4399 - acc: 0.840 - ETA: 5s - loss: 0.4403 - acc: 0.839 - ETA: 4s - loss: 0.4373 - acc: 0.841 - ETA: 4s - loss: 0.4389 - acc: 0.840 - ETA: 3s - loss: 0.4393 - acc: 0.840 - ETA: 3s - loss: 0.4365 - acc: 0.842 - ETA: 2s - loss: 0.4359 - acc: 0.842 - ETA: 2s - loss: 0.4343 - acc: 0.843 - ETA: 1s - loss: 0.4353 - acc: 0.842 - ETA: 1s - loss: 0.4358 - acc: 0.842 - ETA: 0s - loss: 0.4338 - acc: 0.843 - ETA: 0s - loss: 0.4347 - acc: 0.843 - 32s 9ms/step - loss: 0.4346 - acc: 0.8433 - val_loss: 0.4619 - val_acc: 0.8255\n",
      "Epoch 10/10\n"
     ]
    },
    {
     "name": "stdout",
     "output_type": "stream",
     "text": [
      "3490/3490 [==============================] - ETA: 26s - loss: 0.4362 - acc: 0.84 - ETA: 26s - loss: 0.4487 - acc: 0.83 - ETA: 25s - loss: 0.4268 - acc: 0.84 - ETA: 25s - loss: 0.4468 - acc: 0.83 - ETA: 24s - loss: 0.4490 - acc: 0.83 - ETA: 24s - loss: 0.4460 - acc: 0.83 - ETA: 23s - loss: 0.4338 - acc: 0.84 - ETA: 23s - loss: 0.4307 - acc: 0.84 - ETA: 22s - loss: 0.4399 - acc: 0.84 - ETA: 22s - loss: 0.4390 - acc: 0.84 - ETA: 21s - loss: 0.4478 - acc: 0.83 - ETA: 21s - loss: 0.4445 - acc: 0.83 - ETA: 20s - loss: 0.4459 - acc: 0.83 - ETA: 20s - loss: 0.4468 - acc: 0.83 - ETA: 19s - loss: 0.4510 - acc: 0.83 - ETA: 19s - loss: 0.4564 - acc: 0.83 - ETA: 18s - loss: 0.4523 - acc: 0.83 - ETA: 18s - loss: 0.4513 - acc: 0.83 - ETA: 17s - loss: 0.4544 - acc: 0.83 - ETA: 17s - loss: 0.4506 - acc: 0.83 - ETA: 16s - loss: 0.4460 - acc: 0.83 - ETA: 16s - loss: 0.4359 - acc: 0.84 - ETA: 15s - loss: 0.4357 - acc: 0.84 - ETA: 15s - loss: 0.4367 - acc: 0.84 - ETA: 14s - loss: 0.4376 - acc: 0.84 - ETA: 14s - loss: 0.4355 - acc: 0.84 - ETA: 13s - loss: 0.4354 - acc: 0.84 - ETA: 13s - loss: 0.4288 - acc: 0.84 - ETA: 12s - loss: 0.4254 - acc: 0.84 - ETA: 12s - loss: 0.4343 - acc: 0.84 - ETA: 11s - loss: 0.4318 - acc: 0.84 - ETA: 11s - loss: 0.4303 - acc: 0.84 - ETA: 10s - loss: 0.4303 - acc: 0.84 - ETA: 10s - loss: 0.4289 - acc: 0.84 - ETA: 9s - loss: 0.4298 - acc: 0.8460 - ETA: 9s - loss: 0.4292 - acc: 0.846 - ETA: 8s - loss: 0.4314 - acc: 0.845 - ETA: 8s - loss: 0.4348 - acc: 0.842 - ETA: 7s - loss: 0.4315 - acc: 0.845 - ETA: 7s - loss: 0.4302 - acc: 0.845 - ETA: 6s - loss: 0.4327 - acc: 0.844 - ETA: 6s - loss: 0.4327 - acc: 0.844 - ETA: 5s - loss: 0.4346 - acc: 0.843 - ETA: 5s - loss: 0.4357 - acc: 0.842 - ETA: 4s - loss: 0.4346 - acc: 0.843 - ETA: 4s - loss: 0.4330 - acc: 0.844 - ETA: 3s - loss: 0.4319 - acc: 0.844 - ETA: 3s - loss: 0.4325 - acc: 0.844 - ETA: 2s - loss: 0.4331 - acc: 0.844 - ETA: 2s - loss: 0.4315 - acc: 0.845 - ETA: 1s - loss: 0.4326 - acc: 0.844 - ETA: 1s - loss: 0.4306 - acc: 0.845 - ETA: 0s - loss: 0.4307 - acc: 0.845 - ETA: 0s - loss: 0.4346 - acc: 0.843 - 32s 9ms/step - loss: 0.4344 - acc: 0.8433 - val_loss: 0.4621 - val_acc: 0.8255\n",
      "Accuracy: 82.55%\n"
     ]
    }
   ],
   "source": [
    "validation_data=(x_te, y_test)\n",
    "value_1 = model_2.fit(x_tr, y_train, nb_epoch=10, batch_size=64,verbose=1,validation_data=(x_te, y_test))\n",
    "# Final evaluation of the model\n",
    "scores = model_2.evaluate(x_te, y_test, verbose=0)\n",
    "print(\"Accuracy: %.2f%%\" % (scores[1]*100))"
   ]
  },
  {
   "cell_type": "code",
   "execution_count": 243,
   "metadata": {},
   "outputs": [
    {
     "name": "stdout",
     "output_type": "stream",
     "text": [
      "Accuracy: 82.55%\n"
     ]
    }
   ],
   "source": [
    "print(\"Accuracy: %.2f%%\" % (scores[1]*100))"
   ]
  },
  {
   "cell_type": "code",
   "execution_count": 246,
   "metadata": {},
   "outputs": [
    {
     "data": {
      "image/png": "[encoded data removed]",
      "text/plain": [
       "<Figure size 432x288 with 1 Axes>"
      ]
     },
     "metadata": {},
     "output_type": "display_data"
    }
   ],
   "source": [
    "plot_train_cv_loss(value_1, epochs = 10)"
   ]
  },
  {
   "cell_type": "markdown",
   "metadata": {},
   "source": [
    "### 4) 2-Layered LSTM + BatchNormalization +Dropouts + sigmoid + tanh + Adadelta"
   ]
  },
  {
   "cell_type": "code",
   "execution_count": 247,
   "metadata": {},
   "outputs": [
    {
     "name": "stdout",
     "output_type": "stream",
     "text": [
      "_________________________________________________________________\n",
      "Layer (type)                 Output Shape              Param #   \n",
      "=================================================================\n",
      "embedding_20 (Embedding)     (None, 100, 32)           64032     \n",
      "_________________________________________________________________\n",
      "lstm_34 (LSTM)               (None, 100, 40)           11680     \n",
      "_________________________________________________________________\n",
      "batch_normalization_23 (Batc (None, 100, 40)           160       \n",
      "_________________________________________________________________\n",
      "dense_29 (Dense)             (None, 100, 1)            41        \n",
      "_________________________________________________________________\n",
      "lstm_35 (LSTM)               (None, 20)                1760      \n",
      "_________________________________________________________________\n",
      "batch_normalization_24 (Batc (None, 20)                80        \n",
      "_________________________________________________________________\n",
      "dense_30 (Dense)             (None, 1)                 21        \n",
      "=================================================================\n",
      "Total params: 77,774\n",
      "Trainable params: 77,654\n",
      "Non-trainable params: 120\n",
      "_________________________________________________________________\n",
      "None\n"
     ]
    }
   ],
   "source": [
    "model_2 = Sequential()\n",
    "model_2.add(Embedding(top_words+1, embedding_vecor_length, input_length=max_review_length))\n",
    "model_2.add(LSTM(40, return_sequences = True))\n",
    "model_2.add(BatchNormalization())\n",
    "model.add(Dropout(0.4))\n",
    "model_2.add(Dense(1, activation='sigmoid'))\n",
    "model_2.add(LSTM(20))\n",
    "model_2.add(BatchNormalization())\n",
    "model.add(Dropout(0.4))\n",
    "model_2.add(Dense(1, activation = 'tanh'))\n",
    "model_2.compile(loss='binary_crossentropy', optimizer='Adadelta', metrics=['accuracy'])\n",
    "print(model_2.summary())"
   ]
  },
  {
   "cell_type": "code",
   "execution_count": 248,
   "metadata": {},
   "outputs": [
    {
     "name": "stdout",
     "output_type": "stream",
     "text": [
      "Train on 3490 samples, validate on 1496 samples\n",
      "Epoch 1/10\n",
      "3490/3490 [==============================] - ETA: 4:37 - loss: 7.3296 - acc: 0.406 - ETA: 2:29 - loss: 6.5565 - acc: 0.359 - ETA: 1:46 - loss: 7.0138 - acc: 0.349 - ETA: 1:24 - loss: 6.8558 - acc: 0.375 - ETA: 1:11 - loss: 6.8013 - acc: 0.371 - ETA: 1:02 - loss: 6.6132 - acc: 0.385 - ETA: 55s - loss: 6.6492 - acc: 0.390 - ETA: 50s - loss: 6.7283 - acc: 0.38 - ETA: 46s - loss: 6.5549 - acc: 0.38 - ETA: 43s - loss: 6.5449 - acc: 0.38 - ETA: 40s - loss: 6.4673 - acc: 0.38 - ETA: 38s - loss: 6.3692 - acc: 0.39 - ETA: 35s - loss: 6.3558 - acc: 0.39 - ETA: 34s - loss: 6.2638 - acc: 0.39 - ETA: 32s - loss: 6.2919 - acc: 0.39 - ETA: 30s - loss: 6.2739 - acc: 0.38 - ETA: 29s - loss: 6.2521 - acc: 0.39 - ETA: 28s - loss: 6.2674 - acc: 0.39 - ETA: 26s - loss: 6.1802 - acc: 0.39 - ETA: 25s - loss: 6.1797 - acc: 0.39 - ETA: 24s - loss: 6.1633 - acc: 0.39 - ETA: 23s - loss: 6.1940 - acc: 0.39 - ETA: 22s - loss: 6.1912 - acc: 0.39 - ETA: 21s - loss: 6.1667 - acc: 0.39 - ETA: 20s - loss: 6.1902 - acc: 0.39 - ETA: 19s - loss: 6.2101 - acc: 0.39 - ETA: 18s - loss: 6.2154 - acc: 0.39 - ETA: 17s - loss: 6.1583 - acc: 0.39 - ETA: 17s - loss: 6.1833 - acc: 0.39 - ETA: 16s - loss: 6.1782 - acc: 0.39 - ETA: 15s - loss: 6.1512 - acc: 0.39 - ETA: 14s - loss: 6.1237 - acc: 0.39 - ETA: 13s - loss: 6.1466 - acc: 0.39 - ETA: 13s - loss: 6.1416 - acc: 0.39 - ETA: 12s - loss: 6.1537 - acc: 0.39 - ETA: 11s - loss: 6.1244 - acc: 0.40 - ETA: 11s - loss: 6.1126 - acc: 0.40 - ETA: 10s - loss: 6.1116 - acc: 0.40 - ETA: 9s - loss: 6.1075 - acc: 0.4026 - ETA: 9s - loss: 6.0935 - acc: 0.402 - ETA: 8s - loss: 6.0388 - acc: 0.404 - ETA: 7s - loss: 6.0316 - acc: 0.407 - ETA: 7s - loss: 6.0165 - acc: 0.408 - ETA: 6s - loss: 5.9982 - acc: 0.409 - ETA: 5s - loss: 5.9853 - acc: 0.409 - ETA: 5s - loss: 5.9899 - acc: 0.411 - ETA: 4s - loss: 5.9674 - acc: 0.411 - ETA: 3s - loss: 5.9372 - acc: 0.413 - ETA: 3s - loss: 5.9229 - acc: 0.414 - ETA: 2s - loss: 5.9107 - acc: 0.416 - ETA: 2s - loss: 5.8968 - acc: 0.417 - ETA: 1s - loss: 5.8815 - acc: 0.418 - ETA: 0s - loss: 5.8530 - acc: 0.421 - ETA: 0s - loss: 5.8324 - acc: 0.421 - 37s 11ms/step - loss: 5.8260 - acc: 0.4229 - val_loss: 5.1098 - val_acc: 0.4258\n",
      "Epoch 2/10\n",
      "3490/3490 [==============================] - ETA: 27s - loss: 3.9521 - acc: 0.48 - ETA: 26s - loss: 4.1679 - acc: 0.51 - ETA: 26s - loss: 4.2972 - acc: 0.50 - ETA: 25s - loss: 4.6146 - acc: 0.50 - ETA: 25s - loss: 4.5722 - acc: 0.50 - ETA: 24s - loss: 4.6478 - acc: 0.50 - ETA: 24s - loss: 4.7631 - acc: 0.49 - ETA: 23s - loss: 4.9093 - acc: 0.49 - ETA: 23s - loss: 4.9395 - acc: 0.49 - ETA: 22s - loss: 4.9726 - acc: 0.48 - ETA: 22s - loss: 4.8762 - acc: 0.48 - ETA: 21s - loss: 4.8602 - acc: 0.48 - ETA: 21s - loss: 4.7350 - acc: 0.48 - ETA: 20s - loss: 4.7394 - acc: 0.49 - ETA: 20s - loss: 4.7193 - acc: 0.49 - ETA: 19s - loss: 4.7152 - acc: 0.49 - ETA: 18s - loss: 4.6618 - acc: 0.49 - ETA: 18s - loss: 4.6570 - acc: 0.49 - ETA: 18s - loss: 4.6910 - acc: 0.49 - ETA: 17s - loss: 4.7289 - acc: 0.49 - ETA: 17s - loss: 4.6892 - acc: 0.50 - ETA: 16s - loss: 4.6741 - acc: 0.50 - ETA: 16s - loss: 4.6670 - acc: 0.49 - ETA: 15s - loss: 4.6817 - acc: 0.49 - ETA: 15s - loss: 4.6510 - acc: 0.50 - ETA: 14s - loss: 4.6436 - acc: 0.50 - ETA: 14s - loss: 4.6075 - acc: 0.50 - ETA: 13s - loss: 4.5771 - acc: 0.50 - ETA: 13s - loss: 4.5863 - acc: 0.50 - ETA: 12s - loss: 4.5243 - acc: 0.50 - ETA: 11s - loss: 4.5389 - acc: 0.50 - ETA: 11s - loss: 4.5025 - acc: 0.51 - ETA: 10s - loss: 4.5098 - acc: 0.51 - ETA: 10s - loss: 4.4942 - acc: 0.51 - ETA: 9s - loss: 4.4987 - acc: 0.5098 - ETA: 9s - loss: 4.4826 - acc: 0.509 - ETA: 8s - loss: 4.5051 - acc: 0.508 - ETA: 8s - loss: 4.5110 - acc: 0.507 - ETA: 7s - loss: 4.5128 - acc: 0.506 - ETA: 7s - loss: 4.5179 - acc: 0.505 - ETA: 6s - loss: 4.4798 - acc: 0.508 - ETA: 6s - loss: 4.4680 - acc: 0.508 - ETA: 5s - loss: 4.4695 - acc: 0.506 - ETA: 5s - loss: 4.4675 - acc: 0.508 - ETA: 4s - loss: 4.4346 - acc: 0.508 - ETA: 4s - loss: 4.4227 - acc: 0.508 - ETA: 3s - loss: 4.4077 - acc: 0.510 - ETA: 3s - loss: 4.3956 - acc: 0.510 - ETA: 2s - loss: 4.3853 - acc: 0.511 - ETA: 2s - loss: 4.3572 - acc: 0.513 - ETA: 1s - loss: 4.3442 - acc: 0.514 - ETA: 1s - loss: 4.3319 - acc: 0.512 - ETA: 0s - loss: 4.3282 - acc: 0.512 - ETA: 0s - loss: 4.3065 - acc: 0.511 - 33s 9ms/step - loss: 4.3030 - acc: 0.5112 - val_loss: 11.7504 - val_acc: 0.0655\n",
      "Epoch 3/10\n",
      "3490/3490 [==============================] - ETA: 26s - loss: 3.5753 - acc: 0.51 - ETA: 26s - loss: 3.6710 - acc: 0.50 - ETA: 26s - loss: 3.4246 - acc: 0.48 - ETA: 25s - loss: 3.4206 - acc: 0.50 - ETA: 25s - loss: 3.5537 - acc: 0.51 - ETA: 24s - loss: 3.6270 - acc: 0.52 - ETA: 24s - loss: 3.5311 - acc: 0.52 - ETA: 23s - loss: 3.5079 - acc: 0.52 - ETA: 23s - loss: 3.5444 - acc: 0.53 - ETA: 22s - loss: 3.5480 - acc: 0.52 - ETA: 22s - loss: 3.5041 - acc: 0.53 - ETA: 21s - loss: 3.3915 - acc: 0.53 - ETA: 21s - loss: 3.4293 - acc: 0.54 - ETA: 20s - loss: 3.5207 - acc: 0.54 - ETA: 20s - loss: 3.5244 - acc: 0.54 - ETA: 19s - loss: 3.5378 - acc: 0.54 - ETA: 19s - loss: 3.5335 - acc: 0.55 - ETA: 18s - loss: 3.5259 - acc: 0.54 - ETA: 18s - loss: 3.5375 - acc: 0.55 - ETA: 17s - loss: 3.5724 - acc: 0.55 - ETA: 17s - loss: 3.5514 - acc: 0.54 - ETA: 16s - loss: 3.5349 - acc: 0.55 - ETA: 16s - loss: 3.5334 - acc: 0.55 - ETA: 15s - loss: 3.5020 - acc: 0.55 - ETA: 15s - loss: 3.4742 - acc: 0.55 - ETA: 14s - loss: 3.4386 - acc: 0.55 - ETA: 14s - loss: 3.4092 - acc: 0.55 - ETA: 13s - loss: 3.3993 - acc: 0.55 - ETA: 13s - loss: 3.3877 - acc: 0.55 - ETA: 12s - loss: 3.3851 - acc: 0.55 - ETA: 12s - loss: 3.3972 - acc: 0.55 - ETA: 11s - loss: 3.3840 - acc: 0.55 - ETA: 10s - loss: 3.3767 - acc: 0.55 - ETA: 10s - loss: 3.3442 - acc: 0.55 - ETA: 9s - loss: 3.3415 - acc: 0.5558 - ETA: 9s - loss: 3.3324 - acc: 0.557 - ETA: 8s - loss: 3.3146 - acc: 0.557 - ETA: 8s - loss: 3.3005 - acc: 0.559 - ETA: 7s - loss: 3.2608 - acc: 0.562 - ETA: 7s - loss: 3.2591 - acc: 0.564 - ETA: 6s - loss: 3.2557 - acc: 0.564 - ETA: 6s - loss: 3.2289 - acc: 0.566 - ETA: 5s - loss: 3.2190 - acc: 0.567 - ETA: 5s - loss: 3.2029 - acc: 0.566 - ETA: 4s - loss: 3.1912 - acc: 0.564 - ETA: 4s - loss: 3.1786 - acc: 0.564 - ETA: 3s - loss: 3.1817 - acc: 0.564 - ETA: 3s - loss: 3.1788 - acc: 0.565 - ETA: 2s - loss: 3.1752 - acc: 0.564 - ETA: 2s - loss: 3.1679 - acc: 0.565 - ETA: 1s - loss: 3.1386 - acc: 0.565 - ETA: 1s - loss: 3.1227 - acc: 0.565 - ETA: 0s - loss: 3.1052 - acc: 0.566 - ETA: 0s - loss: 3.0818 - acc: 0.567 - 32s 9ms/step - loss: 3.0804 - acc: 0.5673 - val_loss: 12.4030 - val_acc: 0.0722\n",
      "Epoch 4/10\n"
     ]
    },
    {
     "name": "stdout",
     "output_type": "stream",
     "text": [
      "3490/3490 [==============================] - ETA: 27s - loss: 2.3788 - acc: 0.57 - ETA: 27s - loss: 2.0195 - acc: 0.62 - ETA: 26s - loss: 1.9674 - acc: 0.60 - ETA: 26s - loss: 2.0789 - acc: 0.60 - ETA: 25s - loss: 2.0406 - acc: 0.59 - ETA: 24s - loss: 1.9055 - acc: 0.59 - ETA: 24s - loss: 1.8722 - acc: 0.59 - ETA: 23s - loss: 1.8246 - acc: 0.58 - ETA: 23s - loss: 1.8275 - acc: 0.58 - ETA: 22s - loss: 1.9732 - acc: 0.58 - ETA: 22s - loss: 1.8777 - acc: 0.58 - ETA: 21s - loss: 1.8256 - acc: 0.58 - ETA: 21s - loss: 1.8131 - acc: 0.58 - ETA: 20s - loss: 1.8089 - acc: 0.58 - ETA: 20s - loss: 1.8257 - acc: 0.58 - ETA: 19s - loss: 1.7709 - acc: 0.59 - ETA: 19s - loss: 1.7186 - acc: 0.59 - ETA: 18s - loss: 1.7275 - acc: 0.59 - ETA: 18s - loss: 1.7614 - acc: 0.59 - ETA: 17s - loss: 1.7611 - acc: 0.59 - ETA: 17s - loss: 1.7458 - acc: 0.59 - ETA: 16s - loss: 1.7548 - acc: 0.59 - ETA: 16s - loss: 1.7462 - acc: 0.59 - ETA: 15s - loss: 1.7594 - acc: 0.59 - ETA: 15s - loss: 1.7405 - acc: 0.59 - ETA: 14s - loss: 1.7230 - acc: 0.59 - ETA: 14s - loss: 1.6945 - acc: 0.59 - ETA: 13s - loss: 1.7179 - acc: 0.59 - ETA: 13s - loss: 1.7066 - acc: 0.59 - ETA: 12s - loss: 1.6964 - acc: 0.59 - ETA: 12s - loss: 1.6630 - acc: 0.59 - ETA: 11s - loss: 1.6424 - acc: 0.59 - ETA: 11s - loss: 1.6275 - acc: 0.59 - ETA: 10s - loss: 1.6058 - acc: 0.59 - ETA: 9s - loss: 1.5875 - acc: 0.6018 - ETA: 9s - loss: 1.5691 - acc: 0.602 - ETA: 8s - loss: 1.5518 - acc: 0.604 - ETA: 8s - loss: 1.5528 - acc: 0.605 - ETA: 7s - loss: 1.5391 - acc: 0.606 - ETA: 7s - loss: 1.5177 - acc: 0.605 - ETA: 6s - loss: 1.4982 - acc: 0.604 - ETA: 6s - loss: 1.4776 - acc: 0.605 - ETA: 5s - loss: 1.4594 - acc: 0.606 - ETA: 5s - loss: 1.4416 - acc: 0.608 - ETA: 4s - loss: 1.4295 - acc: 0.610 - ETA: 4s - loss: 1.4129 - acc: 0.611 - ETA: 3s - loss: 1.3968 - acc: 0.611 - ETA: 3s - loss: 1.3824 - acc: 0.611 - ETA: 2s - loss: 1.3728 - acc: 0.613 - ETA: 2s - loss: 1.3592 - acc: 0.612 - ETA: 1s - loss: 1.3453 - acc: 0.613 - ETA: 1s - loss: 1.3320 - acc: 0.613 - ETA: 0s - loss: 1.3193 - acc: 0.614 - ETA: 0s - loss: 1.3114 - acc: 0.613 - 32s 9ms/step - loss: 1.3058 - acc: 0.6140 - val_loss: 13.3060 - val_acc: 0.0067\n",
      "Epoch 5/10\n",
      "3490/3490 [==============================] - ETA: 27s - loss: 0.6871 - acc: 0.59 - ETA: 26s - loss: 0.6758 - acc: 0.62 - ETA: 25s - loss: 0.6920 - acc: 0.65 - ETA: 25s - loss: 0.6813 - acc: 0.64 - ETA: 24s - loss: 0.6777 - acc: 0.65 - ETA: 24s - loss: 0.6707 - acc: 0.65 - ETA: 23s - loss: 0.6708 - acc: 0.64 - ETA: 23s - loss: 0.6688 - acc: 0.65 - ETA: 22s - loss: 0.6928 - acc: 0.65 - ETA: 22s - loss: 0.6866 - acc: 0.66 - ETA: 21s - loss: 0.6808 - acc: 0.67 - ETA: 21s - loss: 0.7003 - acc: 0.67 - ETA: 20s - loss: 0.6944 - acc: 0.68 - ETA: 20s - loss: 0.6864 - acc: 0.68 - ETA: 19s - loss: 0.6829 - acc: 0.68 - ETA: 19s - loss: 0.6798 - acc: 0.68 - ETA: 18s - loss: 0.6935 - acc: 0.68 - ETA: 18s - loss: 0.6902 - acc: 0.68 - ETA: 17s - loss: 0.6876 - acc: 0.68 - ETA: 17s - loss: 0.6858 - acc: 0.68 - ETA: 16s - loss: 0.6811 - acc: 0.69 - ETA: 16s - loss: 0.6795 - acc: 0.69 - ETA: 15s - loss: 0.6784 - acc: 0.69 - ETA: 15s - loss: 0.6773 - acc: 0.69 - ETA: 14s - loss: 0.6747 - acc: 0.69 - ETA: 14s - loss: 0.6735 - acc: 0.69 - ETA: 13s - loss: 0.6722 - acc: 0.69 - ETA: 13s - loss: 0.6701 - acc: 0.69 - ETA: 12s - loss: 0.6678 - acc: 0.69 - ETA: 12s - loss: 0.6664 - acc: 0.70 - ETA: 11s - loss: 0.6641 - acc: 0.70 - ETA: 11s - loss: 0.6623 - acc: 0.70 - ETA: 10s - loss: 0.6601 - acc: 0.70 - ETA: 10s - loss: 0.6587 - acc: 0.70 - ETA: 9s - loss: 0.6579 - acc: 0.7094 - ETA: 9s - loss: 0.6623 - acc: 0.710 - ETA: 8s - loss: 0.6616 - acc: 0.710 - ETA: 8s - loss: 0.6600 - acc: 0.712 - ETA: 7s - loss: 0.6591 - acc: 0.713 - ETA: 7s - loss: 0.6582 - acc: 0.713 - ETA: 6s - loss: 0.6572 - acc: 0.714 - ETA: 6s - loss: 0.6557 - acc: 0.716 - ETA: 5s - loss: 0.6551 - acc: 0.715 - ETA: 5s - loss: 0.6531 - acc: 0.717 - ETA: 4s - loss: 0.6511 - acc: 0.719 - ETA: 4s - loss: 0.6499 - acc: 0.720 - ETA: 3s - loss: 0.6485 - acc: 0.722 - ETA: 3s - loss: 0.6482 - acc: 0.720 - ETA: 2s - loss: 0.6479 - acc: 0.722 - ETA: 2s - loss: 0.6463 - acc: 0.723 - ETA: 1s - loss: 0.6453 - acc: 0.723 - ETA: 1s - loss: 0.6443 - acc: 0.724 - ETA: 0s - loss: 0.6435 - acc: 0.724 - ETA: 0s - loss: 0.6428 - acc: 0.726 - 32s 9ms/step - loss: 0.6422 - acc: 0.7266 - val_loss: 11.1165 - val_acc: 0.1745\n",
      "Epoch 6/10\n",
      "3490/3490 [==============================] - ETA: 26s - loss: 0.5801 - acc: 0.82 - ETA: 26s - loss: 0.5830 - acc: 0.81 - ETA: 25s - loss: 0.5823 - acc: 0.79 - ETA: 25s - loss: 0.5809 - acc: 0.80 - ETA: 24s - loss: 0.5836 - acc: 0.79 - ETA: 24s - loss: 0.5788 - acc: 0.80 - ETA: 23s - loss: 0.5728 - acc: 0.81 - ETA: 23s - loss: 0.5753 - acc: 0.81 - ETA: 22s - loss: 0.5735 - acc: 0.81 - ETA: 22s - loss: 0.5734 - acc: 0.81 - ETA: 21s - loss: 0.5718 - acc: 0.80 - ETA: 21s - loss: 0.5686 - acc: 0.81 - ETA: 20s - loss: 0.5677 - acc: 0.81 - ETA: 20s - loss: 0.5666 - acc: 0.81 - ETA: 19s - loss: 0.5633 - acc: 0.82 - ETA: 19s - loss: 0.5645 - acc: 0.81 - ETA: 18s - loss: 0.5643 - acc: 0.81 - ETA: 18s - loss: 0.5643 - acc: 0.81 - ETA: 17s - loss: 0.5647 - acc: 0.81 - ETA: 17s - loss: 0.5652 - acc: 0.80 - ETA: 16s - loss: 0.5644 - acc: 0.81 - ETA: 16s - loss: 0.5634 - acc: 0.81 - ETA: 15s - loss: 0.5620 - acc: 0.81 - ETA: 15s - loss: 0.5603 - acc: 0.81 - ETA: 14s - loss: 0.5592 - acc: 0.81 - ETA: 14s - loss: 0.5571 - acc: 0.81 - ETA: 13s - loss: 0.5563 - acc: 0.81 - ETA: 13s - loss: 0.5546 - acc: 0.81 - ETA: 12s - loss: 0.5539 - acc: 0.81 - ETA: 12s - loss: 0.5522 - acc: 0.82 - ETA: 11s - loss: 0.5516 - acc: 0.81 - ETA: 11s - loss: 0.5496 - acc: 0.82 - ETA: 10s - loss: 0.5492 - acc: 0.82 - ETA: 10s - loss: 0.5486 - acc: 0.82 - ETA: 9s - loss: 0.5495 - acc: 0.8201 - ETA: 9s - loss: 0.5479 - acc: 0.821 - ETA: 8s - loss: 0.5473 - acc: 0.820 - ETA: 8s - loss: 0.5471 - acc: 0.820 - ETA: 7s - loss: 0.5460 - acc: 0.820 - ETA: 7s - loss: 0.5448 - acc: 0.821 - ETA: 6s - loss: 0.5432 - acc: 0.823 - ETA: 6s - loss: 0.5423 - acc: 0.823 - ETA: 5s - loss: 0.5408 - acc: 0.824 - ETA: 5s - loss: 0.5403 - acc: 0.824 - ETA: 4s - loss: 0.5387 - acc: 0.825 - ETA: 4s - loss: 0.5401 - acc: 0.823 - ETA: 3s - loss: 0.5386 - acc: 0.824 - ETA: 3s - loss: 0.5378 - acc: 0.824 - ETA: 2s - loss: 0.5386 - acc: 0.822 - ETA: 2s - loss: 0.5377 - acc: 0.821 - ETA: 1s - loss: 0.5373 - acc: 0.822 - ETA: 1s - loss: 0.5363 - acc: 0.823 - ETA: 0s - loss: 0.5352 - acc: 0.824 - ETA: 0s - loss: 0.5345 - acc: 0.823 - 32s 9ms/step - loss: 0.5341 - acc: 0.8238 - val_loss: 0.5063 - val_acc: 0.8222\n",
      "Epoch 7/10\n"
     ]
    },
    {
     "name": "stdout",
     "output_type": "stream",
     "text": [
      "3490/3490 [==============================] - ETA: 26s - loss: 0.4660 - acc: 0.89 - ETA: 26s - loss: 0.4918 - acc: 0.82 - ETA: 25s - loss: 0.4698 - acc: 0.86 - ETA: 25s - loss: 0.4772 - acc: 0.84 - ETA: 24s - loss: 0.4704 - acc: 0.85 - ETA: 24s - loss: 0.4706 - acc: 0.85 - ETA: 24s - loss: 0.4707 - acc: 0.85 - ETA: 23s - loss: 0.4676 - acc: 0.85 - ETA: 23s - loss: 0.4619 - acc: 0.86 - ETA: 22s - loss: 0.4584 - acc: 0.87 - ETA: 21s - loss: 0.4589 - acc: 0.87 - ETA: 21s - loss: 0.4616 - acc: 0.86 - ETA: 20s - loss: 0.4573 - acc: 0.86 - ETA: 20s - loss: 0.4582 - acc: 0.86 - ETA: 19s - loss: 0.4571 - acc: 0.86 - ETA: 19s - loss: 0.4567 - acc: 0.86 - ETA: 18s - loss: 0.4681 - acc: 0.86 - ETA: 18s - loss: 0.4654 - acc: 0.86 - ETA: 17s - loss: 0.4627 - acc: 0.86 - ETA: 17s - loss: 0.4604 - acc: 0.86 - ETA: 16s - loss: 0.4577 - acc: 0.86 - ETA: 16s - loss: 0.4652 - acc: 0.86 - ETA: 15s - loss: 0.4619 - acc: 0.86 - ETA: 15s - loss: 0.4605 - acc: 0.86 - ETA: 14s - loss: 0.4579 - acc: 0.86 - ETA: 14s - loss: 0.4654 - acc: 0.86 - ETA: 13s - loss: 0.4628 - acc: 0.86 - ETA: 13s - loss: 0.4599 - acc: 0.86 - ETA: 12s - loss: 0.4563 - acc: 0.86 - ETA: 12s - loss: 0.4531 - acc: 0.87 - ETA: 11s - loss: 0.4515 - acc: 0.87 - ETA: 11s - loss: 0.4495 - acc: 0.87 - ETA: 10s - loss: 0.4480 - acc: 0.87 - ETA: 10s - loss: 0.4477 - acc: 0.87 - ETA: 9s - loss: 0.4465 - acc: 0.8692 - ETA: 9s - loss: 0.4444 - acc: 0.870 - ETA: 8s - loss: 0.4439 - acc: 0.870 - ETA: 8s - loss: 0.4421 - acc: 0.869 - ETA: 7s - loss: 0.4402 - acc: 0.869 - ETA: 7s - loss: 0.4381 - acc: 0.870 - ETA: 6s - loss: 0.4367 - acc: 0.870 - ETA: 6s - loss: 0.4348 - acc: 0.870 - ETA: 5s - loss: 0.4323 - acc: 0.872 - ETA: 5s - loss: 0.4369 - acc: 0.871 - ETA: 4s - loss: 0.4373 - acc: 0.870 - ETA: 4s - loss: 0.4356 - acc: 0.870 - ETA: 3s - loss: 0.4338 - acc: 0.871 - ETA: 3s - loss: 0.4322 - acc: 0.872 - ETA: 2s - loss: 0.4308 - acc: 0.872 - ETA: 2s - loss: 0.4301 - acc: 0.872 - ETA: 1s - loss: 0.4280 - acc: 0.873 - ETA: 1s - loss: 0.4277 - acc: 0.873 - ETA: 0s - loss: 0.4271 - acc: 0.873 - ETA: 0s - loss: 0.4262 - acc: 0.873 - 32s 9ms/step - loss: 0.4256 - acc: 0.8734 - val_loss: 0.6035 - val_acc: 0.8255\n",
      "Epoch 8/10\n",
      "3490/3490 [==============================] - ETA: 26s - loss: 0.2797 - acc: 0.93 - ETA: 26s - loss: 0.3008 - acc: 0.91 - ETA: 26s - loss: 0.3250 - acc: 0.89 - ETA: 25s - loss: 0.3098 - acc: 0.89 - ETA: 25s - loss: 0.2972 - acc: 0.90 - ETA: 24s - loss: 0.2984 - acc: 0.89 - ETA: 24s - loss: 0.3065 - acc: 0.89 - ETA: 23s - loss: 0.3040 - acc: 0.89 - ETA: 23s - loss: 0.3158 - acc: 0.89 - ETA: 22s - loss: 0.3202 - acc: 0.89 - ETA: 22s - loss: 0.3194 - acc: 0.89 - ETA: 21s - loss: 0.3169 - acc: 0.89 - ETA: 21s - loss: 0.3192 - acc: 0.89 - ETA: 20s - loss: 0.3207 - acc: 0.88 - ETA: 20s - loss: 0.3234 - acc: 0.88 - ETA: 19s - loss: 0.3218 - acc: 0.88 - ETA: 19s - loss: 0.3229 - acc: 0.88 - ETA: 18s - loss: 0.3342 - acc: 0.88 - ETA: 18s - loss: 0.3324 - acc: 0.89 - ETA: 17s - loss: 0.3307 - acc: 0.89 - ETA: 16s - loss: 0.3310 - acc: 0.89 - ETA: 16s - loss: 0.3321 - acc: 0.89 - ETA: 15s - loss: 0.3301 - acc: 0.89 - ETA: 15s - loss: 0.3291 - acc: 0.89 - ETA: 14s - loss: 0.3268 - acc: 0.90 - ETA: 14s - loss: 0.3289 - acc: 0.89 - ETA: 13s - loss: 0.3282 - acc: 0.89 - ETA: 13s - loss: 0.3286 - acc: 0.90 - ETA: 12s - loss: 0.3276 - acc: 0.90 - ETA: 12s - loss: 0.3297 - acc: 0.89 - ETA: 11s - loss: 0.3291 - acc: 0.89 - ETA: 11s - loss: 0.3284 - acc: 0.89 - ETA: 10s - loss: 0.3287 - acc: 0.89 - ETA: 10s - loss: 0.3276 - acc: 0.90 - ETA: 9s - loss: 0.3270 - acc: 0.9004 - ETA: 9s - loss: 0.3265 - acc: 0.899 - ETA: 8s - loss: 0.3249 - acc: 0.900 - ETA: 8s - loss: 0.3235 - acc: 0.901 - ETA: 7s - loss: 0.3236 - acc: 0.901 - ETA: 7s - loss: 0.3227 - acc: 0.902 - ETA: 6s - loss: 0.3250 - acc: 0.900 - ETA: 6s - loss: 0.3254 - acc: 0.898 - ETA: 5s - loss: 0.3291 - acc: 0.899 - ETA: 5s - loss: 0.3279 - acc: 0.900 - ETA: 4s - loss: 0.3275 - acc: 0.900 - ETA: 4s - loss: 0.3251 - acc: 0.902 - ETA: 3s - loss: 0.3240 - acc: 0.903 - ETA: 3s - loss: 0.3236 - acc: 0.903 - ETA: 2s - loss: 0.3220 - acc: 0.904 - ETA: 2s - loss: 0.3221 - acc: 0.904 - ETA: 1s - loss: 0.3220 - acc: 0.904 - ETA: 1s - loss: 0.3231 - acc: 0.903 - ETA: 0s - loss: 0.3227 - acc: 0.903 - ETA: 0s - loss: 0.3221 - acc: 0.904 - 32s 9ms/step - loss: 0.3225 - acc: 0.9037 - val_loss: 0.4799 - val_acc: 0.8255\n",
      "Epoch 9/10\n",
      "3490/3490 [==============================] - ETA: 27s - loss: 0.2867 - acc: 0.87 - ETA: 27s - loss: 0.3789 - acc: 0.92 - ETA: 26s - loss: 0.3439 - acc: 0.92 - ETA: 25s - loss: 0.3267 - acc: 0.91 - ETA: 25s - loss: 0.3231 - acc: 0.91 - ETA: 24s - loss: 0.3145 - acc: 0.91 - ETA: 24s - loss: 0.3064 - acc: 0.91 - ETA: 23s - loss: 0.2990 - acc: 0.91 - ETA: 23s - loss: 0.2969 - acc: 0.92 - ETA: 22s - loss: 0.2980 - acc: 0.92 - ETA: 22s - loss: 0.2958 - acc: 0.92 - ETA: 21s - loss: 0.2957 - acc: 0.92 - ETA: 21s - loss: 0.2934 - acc: 0.92 - ETA: 20s - loss: 0.2907 - acc: 0.92 - ETA: 20s - loss: 0.2905 - acc: 0.92 - ETA: 19s - loss: 0.2886 - acc: 0.92 - ETA: 18s - loss: 0.2874 - acc: 0.92 - ETA: 18s - loss: 0.2858 - acc: 0.93 - ETA: 17s - loss: 0.2844 - acc: 0.93 - ETA: 17s - loss: 0.2833 - acc: 0.93 - ETA: 16s - loss: 0.2876 - acc: 0.92 - ETA: 16s - loss: 0.2842 - acc: 0.92 - ETA: 15s - loss: 0.2844 - acc: 0.92 - ETA: 15s - loss: 0.2838 - acc: 0.92 - ETA: 14s - loss: 0.2813 - acc: 0.92 - ETA: 14s - loss: 0.2819 - acc: 0.92 - ETA: 13s - loss: 0.2815 - acc: 0.92 - ETA: 13s - loss: 0.2794 - acc: 0.92 - ETA: 12s - loss: 0.2788 - acc: 0.92 - ETA: 12s - loss: 0.2780 - acc: 0.92 - ETA: 11s - loss: 0.2782 - acc: 0.92 - ETA: 11s - loss: 0.2772 - acc: 0.92 - ETA: 10s - loss: 0.2839 - acc: 0.92 - ETA: 10s - loss: 0.2834 - acc: 0.92 - ETA: 9s - loss: 0.2820 - acc: 0.9313 - ETA: 9s - loss: 0.2806 - acc: 0.931 - ETA: 8s - loss: 0.2799 - acc: 0.931 - ETA: 8s - loss: 0.2806 - acc: 0.930 - ETA: 7s - loss: 0.2797 - acc: 0.930 - ETA: 7s - loss: 0.2803 - acc: 0.929 - ETA: 6s - loss: 0.2809 - acc: 0.928 - ETA: 6s - loss: 0.2805 - acc: 0.927 - ETA: 5s - loss: 0.2791 - acc: 0.928 - ETA: 5s - loss: 0.2784 - acc: 0.927 - ETA: 4s - loss: 0.2786 - acc: 0.927 - ETA: 4s - loss: 0.2784 - acc: 0.927 - ETA: 3s - loss: 0.2773 - acc: 0.927 - ETA: 3s - loss: 0.2767 - acc: 0.928 - ETA: 2s - loss: 0.2808 - acc: 0.928 - ETA: 2s - loss: 0.2798 - acc: 0.928 - ETA: 1s - loss: 0.2788 - acc: 0.928 - ETA: 1s - loss: 0.2784 - acc: 0.927 - ETA: 0s - loss: 0.2784 - acc: 0.926 - ETA: 0s - loss: 0.2775 - acc: 0.927 - 32s 9ms/step - loss: 0.2768 - acc: 0.9275 - val_loss: 0.4610 - val_acc: 0.8329\n",
      "Epoch 10/10\n"
     ]
    },
    {
     "name": "stdout",
     "output_type": "stream",
     "text": [
      "3490/3490 [==============================] - ETA: 27s - loss: 0.2269 - acc: 0.92 - ETA: 26s - loss: 0.2259 - acc: 0.92 - ETA: 26s - loss: 0.2316 - acc: 0.93 - ETA: 25s - loss: 0.2184 - acc: 0.94 - ETA: 25s - loss: 0.2698 - acc: 0.93 - ETA: 24s - loss: 0.2664 - acc: 0.92 - ETA: 24s - loss: 0.2581 - acc: 0.92 - ETA: 23s - loss: 0.2449 - acc: 0.92 - ETA: 23s - loss: 0.2474 - acc: 0.92 - ETA: 22s - loss: 0.2440 - acc: 0.92 - ETA: 22s - loss: 0.2418 - acc: 0.93 - ETA: 21s - loss: 0.2391 - acc: 0.93 - ETA: 20s - loss: 0.2388 - acc: 0.93 - ETA: 20s - loss: 0.2387 - acc: 0.92 - ETA: 19s - loss: 0.2371 - acc: 0.92 - ETA: 19s - loss: 0.2350 - acc: 0.92 - ETA: 19s - loss: 0.2356 - acc: 0.93 - ETA: 18s - loss: 0.2359 - acc: 0.93 - ETA: 17s - loss: 0.2350 - acc: 0.93 - ETA: 17s - loss: 0.2327 - acc: 0.93 - ETA: 17s - loss: 0.2314 - acc: 0.93 - ETA: 16s - loss: 0.2308 - acc: 0.93 - ETA: 16s - loss: 0.2297 - acc: 0.93 - ETA: 15s - loss: 0.2309 - acc: 0.93 - ETA: 14s - loss: 0.2300 - acc: 0.93 - ETA: 14s - loss: 0.2401 - acc: 0.93 - ETA: 13s - loss: 0.2397 - acc: 0.93 - ETA: 13s - loss: 0.2371 - acc: 0.93 - ETA: 12s - loss: 0.2368 - acc: 0.93 - ETA: 12s - loss: 0.2362 - acc: 0.93 - ETA: 11s - loss: 0.2350 - acc: 0.93 - ETA: 11s - loss: 0.2336 - acc: 0.93 - ETA: 10s - loss: 0.2319 - acc: 0.93 - ETA: 10s - loss: 0.2311 - acc: 0.93 - ETA: 9s - loss: 0.2296 - acc: 0.9339 - ETA: 9s - loss: 0.2306 - acc: 0.931 - ETA: 8s - loss: 0.2293 - acc: 0.931 - ETA: 8s - loss: 0.2281 - acc: 0.931 - ETA: 7s - loss: 0.2290 - acc: 0.929 - ETA: 7s - loss: 0.2359 - acc: 0.928 - ETA: 6s - loss: 0.2357 - acc: 0.928 - ETA: 6s - loss: 0.2345 - acc: 0.927 - ETA: 5s - loss: 0.2333 - acc: 0.928 - ETA: 5s - loss: 0.2340 - acc: 0.927 - ETA: 4s - loss: 0.2328 - acc: 0.927 - ETA: 4s - loss: 0.2325 - acc: 0.927 - ETA: 3s - loss: 0.2326 - acc: 0.927 - ETA: 3s - loss: 0.2316 - acc: 0.928 - ETA: 2s - loss: 0.2305 - acc: 0.927 - ETA: 2s - loss: 0.2309 - acc: 0.927 - ETA: 1s - loss: 0.2307 - acc: 0.927 - ETA: 1s - loss: 0.2312 - acc: 0.927 - ETA: 0s - loss: 0.2319 - acc: 0.926 - ETA: 0s - loss: 0.2316 - acc: 0.927 - 32s 9ms/step - loss: 0.2311 - acc: 0.9264 - val_loss: 0.6055 - val_acc: 0.8262\n",
      "Accuracy: 82.62%\n"
     ]
    }
   ],
   "source": [
    "value_1 = model_2.fit(x_tr, y_train, nb_epoch=10, batch_size=64,verbose=1,validation_data=(x_te, y_test))\n",
    "# Final evaluation of the model\n",
    "scores = model_2.evaluate(x_te, y_test, verbose=0)\n",
    "print(\"Accuracy: %.2f%%\" % (scores[1]*100))"
   ]
  },
  {
   "cell_type": "code",
   "execution_count": 249,
   "metadata": {},
   "outputs": [
    {
     "name": "stdout",
     "output_type": "stream",
     "text": [
      "Accuracy: 82.62%\n"
     ]
    }
   ],
   "source": [
    "print(\"Accuracy: %.2f%%\" % (scores[1]*100))"
   ]
  },
  {
   "cell_type": "code",
   "execution_count": 250,
   "metadata": {},
   "outputs": [
    {
     "data": {
      "image/png": "[encoded data removed]",
      "text/plain": [
       "<Figure size 432x288 with 1 Axes>"
      ]
     },
     "metadata": {},
     "output_type": "display_data"
    }
   ],
   "source": [
    "plot_train_cv_loss(value_1, epochs = 10)"
   ]
  },
  {
   "cell_type": "markdown",
   "metadata": {},
   "source": [
    "### 5) 2-Layered LSTM + BatchNormalization + sigmoid + Adam"
   ]
  },
  {
   "cell_type": "code",
   "execution_count": 226,
   "metadata": {},
   "outputs": [
    {
     "name": "stdout",
     "output_type": "stream",
     "text": [
      "_________________________________________________________________\n",
      "Layer (type)                 Output Shape              Param #   \n",
      "=================================================================\n",
      "embedding_15 (Embedding)     (None, 100, 32)           64032     \n",
      "_________________________________________________________________\n",
      "lstm_15 (LSTM)               (None, 100, 20)           4240      \n",
      "_________________________________________________________________\n",
      "batch_normalization_6 (Batch (None, 100, 20)           80        \n",
      "_________________________________________________________________\n",
      "dense_16 (Dense)             (None, 100, 1)            21        \n",
      "_________________________________________________________________\n",
      "lstm_16 (LSTM)               (None, 50)                10400     \n",
      "_________________________________________________________________\n",
      "batch_normalization_7 (Batch (None, 50)                200       \n",
      "_________________________________________________________________\n",
      "dense_17 (Dense)             (None, 1)                 51        \n",
      "=================================================================\n",
      "Total params: 79,024\n",
      "Trainable params: 78,884\n",
      "Non-trainable params: 140\n",
      "_________________________________________________________________\n",
      "None\n"
     ]
    }
   ],
   "source": [
    "model_2 = Sequential()\n",
    "model_2.add(Embedding(top_words+1, embedding_vecor_length, input_length=max_review_length))\n",
    "model_2.add(LSTM(20, return_sequences = True))\n",
    "model_2.add(BatchNormalization())\n",
    "model_2.add(Dense(1, activation='sigmoid'))\n",
    "model_2.add(LSTM(50))\n",
    "model_2.add(BatchNormalization())\n",
    "model_2.add(Dense(1, activation = 'sigmoid'))\n",
    "model_2.compile(loss='binary_crossentropy', optimizer='adam', metrics=['accuracy'])\n",
    "print(model_2.summary())"
   ]
  },
  {
   "cell_type": "code",
   "execution_count": 227,
   "metadata": {},
   "outputs": [
    {
     "name": "stdout",
     "output_type": "stream",
     "text": [
      "Train on 3490 samples, validate on 1496 samples\n",
      "Epoch 1/10\n",
      "3490/3490 [==============================] - ETA: 3:12 - loss: 0.6962 - acc: 0.375 - ETA: 1:49 - loss: 0.6937 - acc: 0.476 - ETA: 1:23 - loss: 0.6921 - acc: 0.510 - ETA: 1:08 - loss: 0.6907 - acc: 0.523 - ETA: 1:00 - loss: 0.6890 - acc: 0.528 - ETA: 54s - loss: 0.6872 - acc: 0.549 - ETA: 50s - loss: 0.6853 - acc: 0.58 - ETA: 46s - loss: 0.6838 - acc: 0.60 - ETA: 45s - loss: 0.6815 - acc: 0.63 - ETA: 43s - loss: 0.6798 - acc: 0.64 - ETA: 40s - loss: 0.6780 - acc: 0.65 - ETA: 38s - loss: 0.6761 - acc: 0.65 - ETA: 36s - loss: 0.6744 - acc: 0.65 - ETA: 34s - loss: 0.6718 - acc: 0.65 - ETA: 32s - loss: 0.6696 - acc: 0.65 - ETA: 31s - loss: 0.6681 - acc: 0.65 - ETA: 29s - loss: 0.6652 - acc: 0.65 - ETA: 28s - loss: 0.6636 - acc: 0.65 - ETA: 27s - loss: 0.6614 - acc: 0.65 - ETA: 26s - loss: 0.6591 - acc: 0.66 - ETA: 25s - loss: 0.6569 - acc: 0.66 - ETA: 24s - loss: 0.6567 - acc: 0.66 - ETA: 23s - loss: 0.6545 - acc: 0.66 - ETA: 23s - loss: 0.6513 - acc: 0.66 - ETA: 22s - loss: 0.6497 - acc: 0.66 - ETA: 21s - loss: 0.6474 - acc: 0.66 - ETA: 20s - loss: 0.6447 - acc: 0.67 - ETA: 19s - loss: 0.6421 - acc: 0.67 - ETA: 18s - loss: 0.6401 - acc: 0.67 - ETA: 17s - loss: 0.6382 - acc: 0.67 - ETA: 16s - loss: 0.6357 - acc: 0.67 - ETA: 15s - loss: 0.6341 - acc: 0.67 - ETA: 14s - loss: 0.6313 - acc: 0.68 - ETA: 14s - loss: 0.6291 - acc: 0.68 - ETA: 13s - loss: 0.6263 - acc: 0.68 - ETA: 12s - loss: 0.6232 - acc: 0.69 - ETA: 12s - loss: 0.6213 - acc: 0.69 - ETA: 11s - loss: 0.6198 - acc: 0.69 - ETA: 10s - loss: 0.6168 - acc: 0.69 - ETA: 9s - loss: 0.6138 - acc: 0.7008 - ETA: 9s - loss: 0.6125 - acc: 0.702 - ETA: 8s - loss: 0.6096 - acc: 0.705 - ETA: 7s - loss: 0.6078 - acc: 0.706 - ETA: 7s - loss: 0.6062 - acc: 0.705 - ETA: 6s - loss: 0.6040 - acc: 0.707 - ETA: 5s - loss: 0.6015 - acc: 0.710 - ETA: 5s - loss: 0.5994 - acc: 0.712 - ETA: 4s - loss: 0.5975 - acc: 0.712 - ETA: 3s - loss: 0.5952 - acc: 0.714 - ETA: 3s - loss: 0.5930 - acc: 0.716 - ETA: 2s - loss: 0.5914 - acc: 0.719 - ETA: 1s - loss: 0.5897 - acc: 0.720 - ETA: 1s - loss: 0.5872 - acc: 0.723 - ETA: 0s - loss: 0.5844 - acc: 0.726 - 48s 14ms/step - loss: 0.5834 - acc: 0.7269 - val_loss: 0.9062 - val_acc: 0.8255\n",
      "Epoch 2/10\n",
      "3490/3490 [==============================] - ETA: 1:11 - loss: 0.4081 - acc: 0.890 - ETA: 1:00 - loss: 0.4309 - acc: 0.859 - ETA: 48s - loss: 0.4140 - acc: 0.875 - ETA: 47s - loss: 0.3994 - acc: 0.88 - ETA: 46s - loss: 0.3814 - acc: 0.90 - ETA: 45s - loss: 0.3670 - acc: 0.90 - ETA: 42s - loss: 0.3576 - acc: 0.90 - ETA: 39s - loss: 0.3623 - acc: 0.89 - ETA: 36s - loss: 0.3736 - acc: 0.88 - ETA: 36s - loss: 0.3626 - acc: 0.88 - ETA: 37s - loss: 0.3586 - acc: 0.88 - ETA: 36s - loss: 0.3542 - acc: 0.88 - ETA: 34s - loss: 0.3467 - acc: 0.88 - ETA: 32s - loss: 0.3570 - acc: 0.88 - ETA: 31s - loss: 0.3560 - acc: 0.88 - ETA: 30s - loss: 0.3533 - acc: 0.88 - ETA: 29s - loss: 0.3546 - acc: 0.87 - ETA: 29s - loss: 0.3512 - acc: 0.88 - ETA: 28s - loss: 0.3487 - acc: 0.88 - ETA: 28s - loss: 0.3467 - acc: 0.88 - ETA: 26s - loss: 0.3463 - acc: 0.88 - ETA: 25s - loss: 0.3468 - acc: 0.88 - ETA: 25s - loss: 0.3451 - acc: 0.88 - ETA: 24s - loss: 0.3453 - acc: 0.88 - ETA: 23s - loss: 0.3432 - acc: 0.89 - ETA: 22s - loss: 0.3432 - acc: 0.89 - ETA: 22s - loss: 0.3434 - acc: 0.89 - ETA: 20s - loss: 0.3427 - acc: 0.89 - ETA: 19s - loss: 0.3388 - acc: 0.89 - ETA: 18s - loss: 0.3370 - acc: 0.89 - ETA: 18s - loss: 0.3384 - acc: 0.89 - ETA: 17s - loss: 0.3377 - acc: 0.89 - ETA: 16s - loss: 0.3367 - acc: 0.89 - ETA: 15s - loss: 0.3361 - acc: 0.89 - ETA: 14s - loss: 0.3347 - acc: 0.89 - ETA: 13s - loss: 0.3346 - acc: 0.89 - ETA: 12s - loss: 0.3314 - acc: 0.90 - ETA: 11s - loss: 0.3285 - acc: 0.90 - ETA: 11s - loss: 0.3295 - acc: 0.90 - ETA: 10s - loss: 0.3315 - acc: 0.90 - ETA: 10s - loss: 0.3305 - acc: 0.90 - ETA: 9s - loss: 0.3299 - acc: 0.9007 - ETA: 8s - loss: 0.3283 - acc: 0.900 - ETA: 7s - loss: 0.3268 - acc: 0.901 - ETA: 7s - loss: 0.3263 - acc: 0.901 - ETA: 6s - loss: 0.3243 - acc: 0.901 - ETA: 5s - loss: 0.3228 - acc: 0.901 - ETA: 4s - loss: 0.3220 - acc: 0.902 - ETA: 4s - loss: 0.3208 - acc: 0.902 - ETA: 3s - loss: 0.3186 - acc: 0.903 - ETA: 2s - loss: 0.3185 - acc: 0.903 - ETA: 1s - loss: 0.3172 - acc: 0.904 - ETA: 1s - loss: 0.3161 - acc: 0.904 - ETA: 0s - loss: 0.3151 - acc: 0.904 - 47s 14ms/step - loss: 0.3157 - acc: 0.9037 - val_loss: 2.2308 - val_acc: 0.8255\n",
      "Epoch 3/10\n",
      "3490/3490 [==============================] - ETA: 33s - loss: 0.2604 - acc: 0.90 - ETA: 32s - loss: 0.2440 - acc: 0.91 - ETA: 30s - loss: 0.2183 - acc: 0.93 - ETA: 28s - loss: 0.2012 - acc: 0.94 - ETA: 27s - loss: 0.1988 - acc: 0.94 - ETA: 26s - loss: 0.1814 - acc: 0.95 - ETA: 26s - loss: 0.1794 - acc: 0.95 - ETA: 25s - loss: 0.1782 - acc: 0.95 - ETA: 25s - loss: 0.1688 - acc: 0.95 - ETA: 24s - loss: 0.1656 - acc: 0.95 - ETA: 24s - loss: 0.1583 - acc: 0.96 - ETA: 23s - loss: 0.1513 - acc: 0.96 - ETA: 22s - loss: 0.1485 - acc: 0.96 - ETA: 22s - loss: 0.1443 - acc: 0.96 - ETA: 21s - loss: 0.1439 - acc: 0.96 - ETA: 21s - loss: 0.1441 - acc: 0.96 - ETA: 20s - loss: 0.1419 - acc: 0.96 - ETA: 19s - loss: 0.1407 - acc: 0.96 - ETA: 19s - loss: 0.1374 - acc: 0.97 - ETA: 18s - loss: 0.1407 - acc: 0.96 - ETA: 18s - loss: 0.1406 - acc: 0.96 - ETA: 17s - loss: 0.1400 - acc: 0.96 - ETA: 17s - loss: 0.1388 - acc: 0.96 - ETA: 16s - loss: 0.1382 - acc: 0.96 - ETA: 16s - loss: 0.1353 - acc: 0.96 - ETA: 15s - loss: 0.1346 - acc: 0.96 - ETA: 15s - loss: 0.1351 - acc: 0.96 - ETA: 15s - loss: 0.1363 - acc: 0.96 - ETA: 15s - loss: 0.1326 - acc: 0.96 - ETA: 15s - loss: 0.1329 - acc: 0.96 - ETA: 15s - loss: 0.1320 - acc: 0.96 - ETA: 14s - loss: 0.1304 - acc: 0.96 - ETA: 13s - loss: 0.1290 - acc: 0.96 - ETA: 13s - loss: 0.1286 - acc: 0.96 - ETA: 12s - loss: 0.1277 - acc: 0.96 - ETA: 12s - loss: 0.1256 - acc: 0.97 - ETA: 11s - loss: 0.1269 - acc: 0.96 - ETA: 10s - loss: 0.1284 - acc: 0.96 - ETA: 10s - loss: 0.1317 - acc: 0.96 - ETA: 9s - loss: 0.1307 - acc: 0.9660 - ETA: 8s - loss: 0.1297 - acc: 0.966 - ETA: 8s - loss: 0.1299 - acc: 0.965 - ETA: 7s - loss: 0.1289 - acc: 0.965 - ETA: 7s - loss: 0.1292 - acc: 0.965 - ETA: 6s - loss: 0.1292 - acc: 0.966 - ETA: 5s - loss: 0.1315 - acc: 0.965 - ETA: 5s - loss: 0.1342 - acc: 0.963 - ETA: 4s - loss: 0.1377 - acc: 0.961 - ETA: 3s - loss: 0.1386 - acc: 0.961 - ETA: 3s - loss: 0.1400 - acc: 0.960 - ETA: 2s - loss: 0.1401 - acc: 0.960 - ETA: 1s - loss: 0.1416 - acc: 0.959 - ETA: 1s - loss: 0.1417 - acc: 0.959 - ETA: 0s - loss: 0.1415 - acc: 0.959 - 41s 12ms/step - loss: 0.1431 - acc: 0.9585 - val_loss: 2.0394 - val_acc: 0.8322\n",
      "Epoch 4/10\n"
     ]
    },
    {
     "name": "stdout",
     "output_type": "stream",
     "text": [
      "3490/3490 [==============================] - ETA: 28s - loss: 0.0909 - acc: 0.98 - ETA: 28s - loss: 0.0638 - acc: 0.99 - ETA: 27s - loss: 0.0564 - acc: 0.99 - ETA: 26s - loss: 0.0630 - acc: 0.99 - ETA: 27s - loss: 0.0673 - acc: 0.98 - ETA: 30s - loss: 0.0724 - acc: 0.98 - ETA: 29s - loss: 0.0711 - acc: 0.98 - ETA: 29s - loss: 0.0741 - acc: 0.98 - ETA: 28s - loss: 0.0759 - acc: 0.98 - ETA: 27s - loss: 0.0778 - acc: 0.98 - ETA: 26s - loss: 0.0738 - acc: 0.98 - ETA: 25s - loss: 0.0728 - acc: 0.98 - ETA: 24s - loss: 0.0703 - acc: 0.98 - ETA: 25s - loss: 0.0727 - acc: 0.98 - ETA: 25s - loss: 0.0716 - acc: 0.98 - ETA: 26s - loss: 0.0727 - acc: 0.98 - ETA: 25s - loss: 0.0759 - acc: 0.98 - ETA: 25s - loss: 0.0753 - acc: 0.98 - ETA: 24s - loss: 0.0738 - acc: 0.98 - ETA: 23s - loss: 0.0756 - acc: 0.98 - ETA: 22s - loss: 0.0783 - acc: 0.98 - ETA: 21s - loss: 0.0797 - acc: 0.98 - ETA: 21s - loss: 0.0784 - acc: 0.98 - ETA: 21s - loss: 0.0786 - acc: 0.98 - ETA: 20s - loss: 0.0793 - acc: 0.98 - ETA: 19s - loss: 0.0791 - acc: 0.98 - ETA: 19s - loss: 0.0801 - acc: 0.98 - ETA: 18s - loss: 0.0832 - acc: 0.97 - ETA: 18s - loss: 0.0858 - acc: 0.97 - ETA: 17s - loss: 0.0839 - acc: 0.97 - ETA: 16s - loss: 0.0860 - acc: 0.97 - ETA: 15s - loss: 0.0852 - acc: 0.97 - ETA: 15s - loss: 0.0851 - acc: 0.97 - ETA: 14s - loss: 0.0829 - acc: 0.97 - ETA: 13s - loss: 0.0835 - acc: 0.97 - ETA: 12s - loss: 0.0818 - acc: 0.97 - ETA: 12s - loss: 0.0831 - acc: 0.97 - ETA: 11s - loss: 0.0822 - acc: 0.97 - ETA: 10s - loss: 0.0839 - acc: 0.97 - ETA: 9s - loss: 0.0856 - acc: 0.9758 - ETA: 9s - loss: 0.0858 - acc: 0.975 - ETA: 8s - loss: 0.0853 - acc: 0.975 - ETA: 7s - loss: 0.0843 - acc: 0.976 - ETA: 7s - loss: 0.0857 - acc: 0.975 - ETA: 6s - loss: 0.0868 - acc: 0.975 - ETA: 5s - loss: 0.0867 - acc: 0.974 - ETA: 5s - loss: 0.0870 - acc: 0.974 - ETA: 4s - loss: 0.0877 - acc: 0.973 - ETA: 3s - loss: 0.0870 - acc: 0.973 - ETA: 3s - loss: 0.0861 - acc: 0.973 - ETA: 2s - loss: 0.0853 - acc: 0.973 - ETA: 1s - loss: 0.0913 - acc: 0.971 - ETA: 1s - loss: 0.0930 - acc: 0.970 - ETA: 0s - loss: 0.0932 - acc: 0.970 - 45s 13ms/step - loss: 0.0928 - acc: 0.9708 - val_loss: 1.8759 - val_acc: 0.8316\n",
      "Epoch 5/10\n",
      "3490/3490 [==============================] - ETA: 37s - loss: 0.0471 - acc: 1.00 - ETA: 34s - loss: 0.0731 - acc: 0.97 - ETA: 31s - loss: 0.0999 - acc: 0.96 - ETA: 29s - loss: 0.1025 - acc: 0.96 - ETA: 32s - loss: 0.1004 - acc: 0.96 - ETA: 35s - loss: 0.1104 - acc: 0.96 - ETA: 36s - loss: 0.1135 - acc: 0.95 - ETA: 35s - loss: 0.1025 - acc: 0.95 - ETA: 33s - loss: 0.0938 - acc: 0.96 - ETA: 32s - loss: 0.0935 - acc: 0.96 - ETA: 30s - loss: 0.0879 - acc: 0.96 - ETA: 29s - loss: 0.0839 - acc: 0.96 - ETA: 31s - loss: 0.0810 - acc: 0.97 - ETA: 30s - loss: 0.0819 - acc: 0.97 - ETA: 30s - loss: 0.0829 - acc: 0.97 - ETA: 29s - loss: 0.0789 - acc: 0.97 - ETA: 28s - loss: 0.0774 - acc: 0.97 - ETA: 28s - loss: 0.0745 - acc: 0.97 - ETA: 27s - loss: 0.0722 - acc: 0.97 - ETA: 26s - loss: 0.0741 - acc: 0.97 - ETA: 25s - loss: 0.0725 - acc: 0.97 - ETA: 24s - loss: 0.0705 - acc: 0.97 - ETA: 23s - loss: 0.0684 - acc: 0.97 - ETA: 22s - loss: 0.0713 - acc: 0.97 - ETA: 22s - loss: 0.0745 - acc: 0.97 - ETA: 21s - loss: 0.0721 - acc: 0.97 - ETA: 21s - loss: 0.0714 - acc: 0.97 - ETA: 20s - loss: 0.0721 - acc: 0.97 - ETA: 19s - loss: 0.0719 - acc: 0.97 - ETA: 19s - loss: 0.0725 - acc: 0.97 - ETA: 18s - loss: 0.0713 - acc: 0.97 - ETA: 18s - loss: 0.0699 - acc: 0.97 - ETA: 17s - loss: 0.0703 - acc: 0.97 - ETA: 16s - loss: 0.0704 - acc: 0.97 - ETA: 15s - loss: 0.0698 - acc: 0.97 - ETA: 14s - loss: 0.0724 - acc: 0.97 - ETA: 13s - loss: 0.0714 - acc: 0.97 - ETA: 13s - loss: 0.0718 - acc: 0.97 - ETA: 12s - loss: 0.0737 - acc: 0.97 - ETA: 11s - loss: 0.0724 - acc: 0.97 - ETA: 10s - loss: 0.0711 - acc: 0.97 - ETA: 9s - loss: 0.0706 - acc: 0.9769 - ETA: 8s - loss: 0.0709 - acc: 0.976 - ETA: 8s - loss: 0.0726 - acc: 0.976 - ETA: 7s - loss: 0.0717 - acc: 0.977 - ETA: 6s - loss: 0.0728 - acc: 0.976 - ETA: 5s - loss: 0.0722 - acc: 0.977 - ETA: 4s - loss: 0.0716 - acc: 0.977 - ETA: 4s - loss: 0.0706 - acc: 0.977 - ETA: 3s - loss: 0.0708 - acc: 0.977 - ETA: 2s - loss: 0.0703 - acc: 0.977 - ETA: 1s - loss: 0.0698 - acc: 0.978 - ETA: 1s - loss: 0.0691 - acc: 0.978 - ETA: 0s - loss: 0.0684 - acc: 0.978 - 45s 13ms/step - loss: 0.0680 - acc: 0.9788 - val_loss: 1.0792 - val_acc: 0.8636\n",
      "Epoch 6/10\n",
      "3490/3490 [==============================] - ETA: 28s - loss: 0.1028 - acc: 0.96 - ETA: 50s - loss: 0.0677 - acc: 0.98 - ETA: 44s - loss: 0.0538 - acc: 0.98 - ETA: 40s - loss: 0.0412 - acc: 0.99 - ETA: 38s - loss: 0.0363 - acc: 0.99 - ETA: 36s - loss: 0.0314 - acc: 0.99 - ETA: 35s - loss: 0.0399 - acc: 0.99 - ETA: 33s - loss: 0.0361 - acc: 0.99 - ETA: 33s - loss: 0.0327 - acc: 0.99 - ETA: 32s - loss: 0.0335 - acc: 0.99 - ETA: 33s - loss: 0.0320 - acc: 0.99 - ETA: 32s - loss: 0.0297 - acc: 0.99 - ETA: 31s - loss: 0.0294 - acc: 0.99 - ETA: 32s - loss: 0.0281 - acc: 0.99 - ETA: 32s - loss: 0.0268 - acc: 0.99 - ETA: 32s - loss: 0.0271 - acc: 0.99 - ETA: 31s - loss: 0.0257 - acc: 0.99 - ETA: 31s - loss: 0.0250 - acc: 0.99 - ETA: 30s - loss: 0.0246 - acc: 0.99 - ETA: 29s - loss: 0.0238 - acc: 0.99 - ETA: 28s - loss: 0.0233 - acc: 0.99 - ETA: 27s - loss: 0.0232 - acc: 0.99 - ETA: 26s - loss: 0.0234 - acc: 0.99 - ETA: 24s - loss: 0.0231 - acc: 0.99 - ETA: 24s - loss: 0.0232 - acc: 0.99 - ETA: 23s - loss: 0.0259 - acc: 0.99 - ETA: 22s - loss: 0.0252 - acc: 0.99 - ETA: 21s - loss: 0.0254 - acc: 0.99 - ETA: 20s - loss: 0.0246 - acc: 0.99 - ETA: 20s - loss: 0.0240 - acc: 0.99 - ETA: 19s - loss: 0.0235 - acc: 0.99 - ETA: 18s - loss: 0.0232 - acc: 0.99 - ETA: 17s - loss: 0.0239 - acc: 0.99 - ETA: 16s - loss: 0.0251 - acc: 0.99 - ETA: 15s - loss: 0.0246 - acc: 0.99 - ETA: 14s - loss: 0.0285 - acc: 0.99 - ETA: 13s - loss: 0.0317 - acc: 0.99 - ETA: 12s - loss: 0.0314 - acc: 0.99 - ETA: 12s - loss: 0.0332 - acc: 0.99 - ETA: 11s - loss: 0.0338 - acc: 0.99 - ETA: 11s - loss: 0.0341 - acc: 0.99 - ETA: 10s - loss: 0.0335 - acc: 0.99 - ETA: 9s - loss: 0.0340 - acc: 0.9920 - ETA: 8s - loss: 0.0334 - acc: 0.992 - ETA: 7s - loss: 0.0333 - acc: 0.992 - ETA: 7s - loss: 0.0328 - acc: 0.992 - ETA: 6s - loss: 0.0326 - acc: 0.992 - ETA: 5s - loss: 0.0322 - acc: 0.992 - ETA: 4s - loss: 0.0317 - acc: 0.992 - ETA: 3s - loss: 0.0315 - acc: 0.992 - ETA: 2s - loss: 0.0314 - acc: 0.993 - ETA: 2s - loss: 0.0311 - acc: 0.993 - ETA: 1s - loss: 0.0315 - acc: 0.992 - ETA: 0s - loss: 0.0321 - acc: 0.992 - 50s 14ms/step - loss: 0.0320 - acc: 0.9928 - val_loss: 0.8971 - val_acc: 0.8663\n",
      "Epoch 7/10\n"
     ]
    },
    {
     "name": "stdout",
     "output_type": "stream",
     "text": [
      "3490/3490 [==============================] - ETA: 28s - loss: 0.0111 - acc: 1.00 - ETA: 27s - loss: 0.0091 - acc: 1.00 - ETA: 27s - loss: 0.0082 - acc: 1.00 - ETA: 26s - loss: 0.0096 - acc: 1.00 - ETA: 26s - loss: 0.0101 - acc: 1.00 - ETA: 25s - loss: 0.0101 - acc: 1.00 - ETA: 25s - loss: 0.0101 - acc: 1.00 - ETA: 24s - loss: 0.0094 - acc: 1.00 - ETA: 25s - loss: 0.0107 - acc: 1.00 - ETA: 26s - loss: 0.0108 - acc: 1.00 - ETA: 26s - loss: 0.0113 - acc: 1.00 - ETA: 27s - loss: 0.0108 - acc: 1.00 - ETA: 27s - loss: 0.0103 - acc: 1.00 - ETA: 28s - loss: 0.0099 - acc: 1.00 - ETA: 28s - loss: 0.0095 - acc: 1.00 - ETA: 28s - loss: 0.0095 - acc: 1.00 - ETA: 28s - loss: 0.0095 - acc: 1.00 - ETA: 28s - loss: 0.0093 - acc: 1.00 - ETA: 27s - loss: 0.0090 - acc: 1.00 - ETA: 27s - loss: 0.0090 - acc: 1.00 - ETA: 26s - loss: 0.0088 - acc: 1.00 - ETA: 25s - loss: 0.0091 - acc: 1.00 - ETA: 24s - loss: 0.0088 - acc: 1.00 - ETA: 24s - loss: 0.0097 - acc: 0.99 - ETA: 22s - loss: 0.0095 - acc: 0.99 - ETA: 21s - loss: 0.0093 - acc: 0.99 - ETA: 20s - loss: 0.0091 - acc: 0.99 - ETA: 20s - loss: 0.0097 - acc: 0.99 - ETA: 19s - loss: 0.0125 - acc: 0.99 - ETA: 18s - loss: 0.0126 - acc: 0.99 - ETA: 18s - loss: 0.0124 - acc: 0.99 - ETA: 17s - loss: 0.0122 - acc: 0.99 - ETA: 16s - loss: 0.0119 - acc: 0.99 - ETA: 15s - loss: 0.0120 - acc: 0.99 - ETA: 15s - loss: 0.0118 - acc: 0.99 - ETA: 14s - loss: 0.0115 - acc: 0.99 - ETA: 13s - loss: 0.0118 - acc: 0.99 - ETA: 12s - loss: 0.0115 - acc: 0.99 - ETA: 11s - loss: 0.0113 - acc: 0.99 - ETA: 11s - loss: 0.0111 - acc: 0.99 - ETA: 10s - loss: 0.0110 - acc: 0.99 - ETA: 9s - loss: 0.0109 - acc: 0.9989 - ETA: 8s - loss: 0.0116 - acc: 0.998 - ETA: 8s - loss: 0.0116 - acc: 0.998 - ETA: 7s - loss: 0.0114 - acc: 0.998 - ETA: 6s - loss: 0.0112 - acc: 0.998 - ETA: 5s - loss: 0.0110 - acc: 0.998 - ETA: 5s - loss: 0.0131 - acc: 0.998 - ETA: 4s - loss: 0.0128 - acc: 0.998 - ETA: 3s - loss: 0.0127 - acc: 0.998 - ETA: 2s - loss: 0.0125 - acc: 0.998 - ETA: 1s - loss: 0.0123 - acc: 0.998 - ETA: 1s - loss: 0.0125 - acc: 0.998 - ETA: 0s - loss: 0.0126 - acc: 0.998 - 52s 15ms/step - loss: 0.0125 - acc: 0.9983 - val_loss: 1.0425 - val_acc: 0.8650\n",
      "Epoch 8/10\n",
      "3490/3490 [==============================] - ETA: 46s - loss: 0.0017 - acc: 1.00 - ETA: 51s - loss: 0.0029 - acc: 1.00 - ETA: 45s - loss: 0.0030 - acc: 1.00 - ETA: 44s - loss: 0.0034 - acc: 1.00 - ETA: 42s - loss: 0.0039 - acc: 1.00 - ETA: 39s - loss: 0.0035 - acc: 1.00 - ETA: 37s - loss: 0.0047 - acc: 1.00 - ETA: 39s - loss: 0.0044 - acc: 1.00 - ETA: 39s - loss: 0.0040 - acc: 1.00 - ETA: 40s - loss: 0.0038 - acc: 1.00 - ETA: 41s - loss: 0.0038 - acc: 1.00 - ETA: 40s - loss: 0.0042 - acc: 1.00 - ETA: 40s - loss: 0.0043 - acc: 1.00 - ETA: 39s - loss: 0.0041 - acc: 1.00 - ETA: 38s - loss: 0.0109 - acc: 0.99 - ETA: 38s - loss: 0.0117 - acc: 0.99 - ETA: 37s - loss: 0.0148 - acc: 0.99 - ETA: 35s - loss: 0.0149 - acc: 0.99 - ETA: 34s - loss: 0.0145 - acc: 0.99 - ETA: 32s - loss: 0.0140 - acc: 0.99 - ETA: 30s - loss: 0.0136 - acc: 0.99 - ETA: 29s - loss: 0.0131 - acc: 0.99 - ETA: 28s - loss: 0.0126 - acc: 0.99 - ETA: 26s - loss: 0.0123 - acc: 0.99 - ETA: 25s - loss: 0.0120 - acc: 0.99 - ETA: 24s - loss: 0.0117 - acc: 0.99 - ETA: 23s - loss: 0.0116 - acc: 0.99 - ETA: 22s - loss: 0.0113 - acc: 0.99 - ETA: 21s - loss: 0.0113 - acc: 0.99 - ETA: 20s - loss: 0.0110 - acc: 0.99 - ETA: 19s - loss: 0.0107 - acc: 0.99 - ETA: 18s - loss: 0.0106 - acc: 0.99 - ETA: 17s - loss: 0.0105 - acc: 0.99 - ETA: 16s - loss: 0.0104 - acc: 0.99 - ETA: 15s - loss: 0.0102 - acc: 0.99 - ETA: 15s - loss: 0.0100 - acc: 0.99 - ETA: 14s - loss: 0.0098 - acc: 0.99 - ETA: 13s - loss: 0.0096 - acc: 0.99 - ETA: 12s - loss: 0.0097 - acc: 0.99 - ETA: 11s - loss: 0.0095 - acc: 0.99 - ETA: 10s - loss: 0.0093 - acc: 0.99 - ETA: 10s - loss: 0.0091 - acc: 0.99 - ETA: 9s - loss: 0.0090 - acc: 0.9993 - ETA: 8s - loss: 0.0088 - acc: 0.999 - ETA: 7s - loss: 0.0086 - acc: 0.999 - ETA: 6s - loss: 0.0090 - acc: 0.999 - ETA: 6s - loss: 0.0092 - acc: 0.999 - ETA: 5s - loss: 0.0091 - acc: 0.999 - ETA: 4s - loss: 0.0089 - acc: 0.999 - ETA: 3s - loss: 0.0088 - acc: 0.999 - ETA: 2s - loss: 0.0087 - acc: 0.999 - ETA: 2s - loss: 0.0086 - acc: 0.999 - ETA: 1s - loss: 0.0085 - acc: 0.999 - ETA: 0s - loss: 0.0085 - acc: 0.999 - 57s 16ms/step - loss: 0.0084 - acc: 0.9991 - val_loss: 1.0056 - val_acc: 0.8650\n",
      "Epoch 9/10\n",
      "3490/3490 [==============================] - ETA: 54s - loss: 0.0023 - acc: 1.00 - ETA: 43s - loss: 0.0102 - acc: 1.00 - ETA: 45s - loss: 0.0077 - acc: 1.00 - ETA: 41s - loss: 0.0059 - acc: 1.00 - ETA: 38s - loss: 0.0049 - acc: 1.00 - ETA: 36s - loss: 0.0049 - acc: 1.00 - ETA: 35s - loss: 0.0043 - acc: 1.00 - ETA: 33s - loss: 0.0041 - acc: 1.00 - ETA: 32s - loss: 0.0037 - acc: 1.00 - ETA: 30s - loss: 0.0035 - acc: 1.00 - ETA: 30s - loss: 0.0033 - acc: 1.00 - ETA: 30s - loss: 0.0034 - acc: 1.00 - ETA: 29s - loss: 0.0033 - acc: 1.00 - ETA: 28s - loss: 0.0042 - acc: 1.00 - ETA: 28s - loss: 0.0113 - acc: 0.99 - ETA: 28s - loss: 0.0107 - acc: 0.99 - ETA: 26s - loss: 0.0106 - acc: 0.99 - ETA: 25s - loss: 0.0103 - acc: 0.99 - ETA: 24s - loss: 0.0099 - acc: 0.99 - ETA: 23s - loss: 0.0095 - acc: 0.99 - ETA: 23s - loss: 0.0097 - acc: 0.99 - ETA: 23s - loss: 0.0093 - acc: 0.99 - ETA: 22s - loss: 0.0091 - acc: 0.99 - ETA: 22s - loss: 0.0088 - acc: 0.99 - ETA: 22s - loss: 0.0085 - acc: 0.99 - ETA: 21s - loss: 0.0083 - acc: 0.99 - ETA: 20s - loss: 0.0080 - acc: 0.99 - ETA: 19s - loss: 0.0080 - acc: 0.99 - ETA: 18s - loss: 0.0104 - acc: 0.99 - ETA: 18s - loss: 0.0101 - acc: 0.99 - ETA: 17s - loss: 0.0099 - acc: 0.99 - ETA: 16s - loss: 0.0098 - acc: 0.99 - ETA: 16s - loss: 0.0096 - acc: 0.99 - ETA: 15s - loss: 0.0093 - acc: 0.99 - ETA: 14s - loss: 0.0097 - acc: 0.99 - ETA: 13s - loss: 0.0096 - acc: 0.99 - ETA: 13s - loss: 0.0094 - acc: 0.99 - ETA: 12s - loss: 0.0092 - acc: 0.99 - ETA: 11s - loss: 0.0097 - acc: 0.99 - ETA: 10s - loss: 0.0096 - acc: 0.99 - ETA: 9s - loss: 0.0094 - acc: 0.9989 - ETA: 9s - loss: 0.0092 - acc: 0.998 - ETA: 8s - loss: 0.0097 - acc: 0.998 - ETA: 7s - loss: 0.0096 - acc: 0.998 - ETA: 6s - loss: 0.0095 - acc: 0.999 - ETA: 6s - loss: 0.0094 - acc: 0.999 - ETA: 5s - loss: 0.0092 - acc: 0.999 - ETA: 4s - loss: 0.0090 - acc: 0.999 - ETA: 3s - loss: 0.0089 - acc: 0.999 - ETA: 3s - loss: 0.0087 - acc: 0.999 - ETA: 2s - loss: 0.0086 - acc: 0.999 - ETA: 1s - loss: 0.0084 - acc: 0.999 - ETA: 1s - loss: 0.0083 - acc: 0.999 - ETA: 0s - loss: 0.0082 - acc: 0.999 - 44s 12ms/step - loss: 0.0081 - acc: 0.9991 - val_loss: 1.0713 - val_acc: 0.8630\n",
      "Epoch 10/10\n"
     ]
    },
    {
     "name": "stdout",
     "output_type": "stream",
     "text": [
      "3490/3490 [==============================] - ETA: 27s - loss: 0.0037 - acc: 1.00 - ETA: 27s - loss: 0.0030 - acc: 1.00 - ETA: 35s - loss: 0.0023 - acc: 1.00 - ETA: 41s - loss: 0.0020 - acc: 1.00 - ETA: 38s - loss: 0.0024 - acc: 1.00 - ETA: 39s - loss: 0.0021 - acc: 1.00 - ETA: 36s - loss: 0.0018 - acc: 1.00 - ETA: 34s - loss: 0.0017 - acc: 1.00 - ETA: 32s - loss: 0.0016 - acc: 1.00 - ETA: 31s - loss: 0.0016 - acc: 1.00 - ETA: 31s - loss: 0.0040 - acc: 0.99 - ETA: 30s - loss: 0.0037 - acc: 0.99 - ETA: 30s - loss: 0.0036 - acc: 0.99 - ETA: 29s - loss: 0.0034 - acc: 0.99 - ETA: 29s - loss: 0.0034 - acc: 0.99 - ETA: 28s - loss: 0.0033 - acc: 0.99 - ETA: 27s - loss: 0.0031 - acc: 0.99 - ETA: 27s - loss: 0.0031 - acc: 0.99 - ETA: 27s - loss: 0.0030 - acc: 0.99 - ETA: 25s - loss: 0.0029 - acc: 0.99 - ETA: 24s - loss: 0.0029 - acc: 0.99 - ETA: 23s - loss: 0.0029 - acc: 0.99 - ETA: 22s - loss: 0.0029 - acc: 0.99 - ETA: 21s - loss: 0.0029 - acc: 0.99 - ETA: 20s - loss: 0.0028 - acc: 0.99 - ETA: 19s - loss: 0.0027 - acc: 0.99 - ETA: 19s - loss: 0.0027 - acc: 0.99 - ETA: 18s - loss: 0.0026 - acc: 0.99 - ETA: 17s - loss: 0.0025 - acc: 0.99 - ETA: 17s - loss: 0.0025 - acc: 0.99 - ETA: 16s - loss: 0.0028 - acc: 0.99 - ETA: 15s - loss: 0.0028 - acc: 0.99 - ETA: 15s - loss: 0.0027 - acc: 0.99 - ETA: 14s - loss: 0.0026 - acc: 0.99 - ETA: 13s - loss: 0.0026 - acc: 0.99 - ETA: 13s - loss: 0.0064 - acc: 0.99 - ETA: 12s - loss: 0.0062 - acc: 0.99 - ETA: 11s - loss: 0.0061 - acc: 0.99 - ETA: 11s - loss: 0.0060 - acc: 0.99 - ETA: 10s - loss: 0.0059 - acc: 0.99 - ETA: 10s - loss: 0.0059 - acc: 0.99 - ETA: 9s - loss: 0.0058 - acc: 0.9993 - ETA: 8s - loss: 0.0058 - acc: 0.999 - ETA: 7s - loss: 0.0060 - acc: 0.999 - ETA: 7s - loss: 0.0058 - acc: 0.999 - ETA: 6s - loss: 0.0058 - acc: 0.999 - ETA: 5s - loss: 0.0057 - acc: 0.999 - ETA: 4s - loss: 0.0057 - acc: 0.999 - ETA: 4s - loss: 0.0056 - acc: 0.999 - ETA: 3s - loss: 0.0055 - acc: 0.999 - ETA: 2s - loss: 0.0054 - acc: 0.999 - ETA: 1s - loss: 0.0054 - acc: 0.999 - ETA: 1s - loss: 0.0053 - acc: 0.999 - ETA: 0s - loss: 0.0053 - acc: 0.999 - 55s 16ms/step - loss: 0.0052 - acc: 0.9994 - val_loss: 1.1435 - val_acc: 0.8570\n",
      "Accuracy: 85.70%\n"
     ]
    }
   ],
   "source": [
    "test = model_2.fit(x_tr, y_train, nb_epoch=10, batch_size=64,verbose=1,validation_data=(x_te, y_test))\n",
    "# Final evaluation of the model\n",
    "scores = model_2.evaluate(x_te, y_test, verbose=0)\n",
    "print(\"Accuracy: %.2f%%\" % (scores[1]*100))"
   ]
  },
  {
   "cell_type": "code",
   "execution_count": 228,
   "metadata": {},
   "outputs": [
    {
     "name": "stdout",
     "output_type": "stream",
     "text": [
      "Accuracy: 85.70%\n"
     ]
    }
   ],
   "source": [
    "print(\"Accuracy: %.2f%%\" % (scores[1]*100))"
   ]
  },
  {
   "cell_type": "code",
   "execution_count": 229,
   "metadata": {},
   "outputs": [
    {
     "data": {
      "image/png": "[encoded data removed]",
      "text/plain": [
       "<Figure size 432x288 with 1 Axes>"
      ]
     },
     "metadata": {},
     "output_type": "display_data"
    }
   ],
   "source": [
    "plot_train_cv_loss(test, epochs = 10)"
   ]
  },
  {
   "cell_type": "markdown",
   "metadata": {},
   "source": [
    "### 6) 5-Layered LSTM + BatchNormalization + tanh + sigmoid + SGD"
   ]
  },
  {
   "cell_type": "code",
   "execution_count": 230,
   "metadata": {},
   "outputs": [
    {
     "name": "stdout",
     "output_type": "stream",
     "text": [
      "_________________________________________________________________\n",
      "Layer (type)                 Output Shape              Param #   \n",
      "=================================================================\n",
      "embedding_16 (Embedding)     (None, 100, 32)           64032     \n",
      "_________________________________________________________________\n",
      "lstm_17 (LSTM)               (None, 100, 20)           4240      \n",
      "_________________________________________________________________\n",
      "batch_normalization_8 (Batch (None, 100, 20)           80        \n",
      "_________________________________________________________________\n",
      "dense_18 (Dense)             (None, 100, 1)            21        \n",
      "_________________________________________________________________\n",
      "lstm_18 (LSTM)               (None, 100, 50)           10400     \n",
      "_________________________________________________________________\n",
      "batch_normalization_9 (Batch (None, 100, 50)           200       \n",
      "_________________________________________________________________\n",
      "dense_19 (Dense)             (None, 100, 1)            51        \n",
      "_________________________________________________________________\n",
      "lstm_19 (LSTM)               (None, 100, 10)           480       \n",
      "_________________________________________________________________\n",
      "batch_normalization_10 (Batc (None, 100, 10)           40        \n",
      "_________________________________________________________________\n",
      "lstm_20 (LSTM)               (None, 100, 50)           12200     \n",
      "_________________________________________________________________\n",
      "batch_normalization_11 (Batc (None, 100, 50)           200       \n",
      "_________________________________________________________________\n",
      "lstm_21 (LSTM)               (None, 10)                2440      \n",
      "_________________________________________________________________\n",
      "batch_normalization_12 (Batc (None, 10)                40        \n",
      "_________________________________________________________________\n",
      "dense_20 (Dense)             (None, 1)                 11        \n",
      "=================================================================\n",
      "Total params: 94,435\n",
      "Trainable params: 94,155\n",
      "Non-trainable params: 280\n",
      "_________________________________________________________________\n",
      "None\n"
     ]
    }
   ],
   "source": [
    "model_3 = Sequential()\n",
    "model_3.add(Embedding(top_words+1, embedding_vecor_length, input_length=max_review_length))\n",
    "model_3.add(LSTM(20, return_sequences = True))\n",
    "model_3.add(BatchNormalization())\n",
    "model_3.add(Dense(1, activation='tanh'))\n",
    "model_3.add(LSTM(50,return_sequences = True))\n",
    "model_3.add(BatchNormalization())\n",
    "model_3.add(Dense(1, activation = 'sigmoid'))\n",
    "model_3.add(LSTM(10,return_sequences = True))\n",
    "model_3.add(BatchNormalization())\n",
    "model_3.add(LSTM(50,return_sequences = True))\n",
    "model_3.add(BatchNormalization())\n",
    "model_3.add(LSTM(10))\n",
    "model_3.add(BatchNormalization())\n",
    "model_3.add(Dense(1, activation = 'sigmoid'))\n",
    "model_3.compile(loss='binary_crossentropy', optimizer='SGD', metrics=['accuracy'])\n",
    "print(model_3.summary())"
   ]
  },
  {
   "cell_type": "code",
   "execution_count": 231,
   "metadata": {},
   "outputs": [
    {
     "name": "stdout",
     "output_type": "stream",
     "text": [
      "Train on 3490 samples, validate on 1496 samples\n",
      "Epoch 1/10\n",
      "3490/3490 [==============================] - ETA: 7:29 - loss: 0.7516 - acc: 0.750 - ETA: 4:29 - loss: 0.7691 - acc: 0.664 - ETA: 3:24 - loss: 0.7774 - acc: 0.640 - ETA: 2:49 - loss: 0.7608 - acc: 0.640 - ETA: 2:25 - loss: 0.7483 - acc: 0.637 - ETA: 2:09 - loss: 0.7428 - acc: 0.651 - ETA: 1:57 - loss: 0.7372 - acc: 0.633 - ETA: 1:51 - loss: 0.7284 - acc: 0.646 - ETA: 1:46 - loss: 0.7240 - acc: 0.638 - ETA: 1:39 - loss: 0.7226 - acc: 0.654 - ETA: 1:33 - loss: 0.7181 - acc: 0.656 - ETA: 1:31 - loss: 0.7137 - acc: 0.666 - ETA: 1:28 - loss: 0.7099 - acc: 0.676 - ETA: 1:28 - loss: 0.7065 - acc: 0.683 - ETA: 1:26 - loss: 0.7052 - acc: 0.676 - ETA: 1:24 - loss: 0.7029 - acc: 0.680 - ETA: 1:22 - loss: 0.7004 - acc: 0.688 - ETA: 1:18 - loss: 0.6974 - acc: 0.695 - ETA: 1:14 - loss: 0.6947 - acc: 0.698 - ETA: 1:11 - loss: 0.6920 - acc: 0.703 - ETA: 1:09 - loss: 0.6891 - acc: 0.712 - ETA: 1:06 - loss: 0.6875 - acc: 0.707 - ETA: 1:03 - loss: 0.6854 - acc: 0.709 - ETA: 1:00 - loss: 0.6835 - acc: 0.714 - ETA: 57s - loss: 0.6817 - acc: 0.719 - ETA: 55s - loss: 0.6805 - acc: 0.71 - ETA: 53s - loss: 0.6792 - acc: 0.72 - ETA: 52s - loss: 0.6768 - acc: 0.72 - ETA: 50s - loss: 0.6750 - acc: 0.72 - ETA: 48s - loss: 0.6732 - acc: 0.73 - ETA: 46s - loss: 0.6717 - acc: 0.73 - ETA: 45s - loss: 0.6701 - acc: 0.73 - ETA: 43s - loss: 0.6682 - acc: 0.74 - ETA: 41s - loss: 0.6669 - acc: 0.74 - ETA: 40s - loss: 0.6657 - acc: 0.74 - ETA: 38s - loss: 0.6636 - acc: 0.75 - ETA: 35s - loss: 0.6621 - acc: 0.75 - ETA: 33s - loss: 0.6608 - acc: 0.75 - ETA: 31s - loss: 0.6594 - acc: 0.75 - ETA: 28s - loss: 0.6582 - acc: 0.75 - ETA: 27s - loss: 0.6575 - acc: 0.75 - ETA: 24s - loss: 0.6567 - acc: 0.75 - ETA: 22s - loss: 0.6554 - acc: 0.76 - ETA: 20s - loss: 0.6538 - acc: 0.76 - ETA: 18s - loss: 0.6525 - acc: 0.76 - ETA: 16s - loss: 0.6513 - acc: 0.76 - ETA: 14s - loss: 0.6506 - acc: 0.76 - ETA: 12s - loss: 0.6495 - acc: 0.76 - ETA: 10s - loss: 0.6479 - acc: 0.77 - ETA: 8s - loss: 0.6463 - acc: 0.7741 - ETA: 6s - loss: 0.6450 - acc: 0.775 - ETA: 4s - loss: 0.6435 - acc: 0.777 - ETA: 2s - loss: 0.6416 - acc: 0.781 - ETA: 1s - loss: 0.6411 - acc: 0.781 - 124s 35ms/step - loss: 0.6412 - acc: 0.7802 - val_loss: 0.6517 - val_acc: 0.7360\n",
      "Epoch 2/10\n",
      "3490/3490 [==============================] - ETA: 1:16 - loss: 0.6086 - acc: 0.796 - ETA: 1:17 - loss: 0.6005 - acc: 0.804 - ETA: 1:12 - loss: 0.6012 - acc: 0.802 - ETA: 1:09 - loss: 0.5922 - acc: 0.824 - ETA: 1:13 - loss: 0.5908 - acc: 0.825 - ETA: 1:18 - loss: 0.5890 - acc: 0.828 - ETA: 1:15 - loss: 0.5856 - acc: 0.834 - ETA: 1:12 - loss: 0.5805 - acc: 0.839 - ETA: 1:09 - loss: 0.5839 - acc: 0.828 - ETA: 1:06 - loss: 0.5816 - acc: 0.834 - ETA: 1:04 - loss: 0.5780 - acc: 0.839 - ETA: 1:03 - loss: 0.5753 - acc: 0.841 - ETA: 1:05 - loss: 0.5769 - acc: 0.837 - ETA: 1:04 - loss: 0.5810 - acc: 0.830 - ETA: 1:01 - loss: 0.5793 - acc: 0.831 - ETA: 59s - loss: 0.5769 - acc: 0.834 - ETA: 57s - loss: 0.5755 - acc: 0.83 - ETA: 55s - loss: 0.5759 - acc: 0.83 - ETA: 53s - loss: 0.5731 - acc: 0.83 - ETA: 52s - loss: 0.5725 - acc: 0.83 - ETA: 52s - loss: 0.5702 - acc: 0.83 - ETA: 52s - loss: 0.5695 - acc: 0.83 - ETA: 49s - loss: 0.5685 - acc: 0.83 - ETA: 48s - loss: 0.5687 - acc: 0.83 - ETA: 46s - loss: 0.5676 - acc: 0.83 - ETA: 44s - loss: 0.5665 - acc: 0.83 - ETA: 42s - loss: 0.5648 - acc: 0.83 - ETA: 40s - loss: 0.5646 - acc: 0.83 - ETA: 39s - loss: 0.5642 - acc: 0.83 - ETA: 37s - loss: 0.5629 - acc: 0.83 - ETA: 36s - loss: 0.5608 - acc: 0.84 - ETA: 34s - loss: 0.5611 - acc: 0.83 - ETA: 33s - loss: 0.5612 - acc: 0.83 - ETA: 32s - loss: 0.5615 - acc: 0.83 - ETA: 30s - loss: 0.5598 - acc: 0.83 - ETA: 29s - loss: 0.5594 - acc: 0.83 - ETA: 27s - loss: 0.5583 - acc: 0.83 - ETA: 25s - loss: 0.5575 - acc: 0.83 - ETA: 24s - loss: 0.5583 - acc: 0.83 - ETA: 22s - loss: 0.5577 - acc: 0.83 - ETA: 21s - loss: 0.5577 - acc: 0.83 - ETA: 19s - loss: 0.5576 - acc: 0.83 - ETA: 18s - loss: 0.5558 - acc: 0.83 - ETA: 16s - loss: 0.5555 - acc: 0.83 - ETA: 15s - loss: 0.5546 - acc: 0.83 - ETA: 13s - loss: 0.5549 - acc: 0.83 - ETA: 12s - loss: 0.5541 - acc: 0.83 - ETA: 10s - loss: 0.5529 - acc: 0.83 - ETA: 9s - loss: 0.5524 - acc: 0.8371 - ETA: 7s - loss: 0.5513 - acc: 0.837 - ETA: 5s - loss: 0.5496 - acc: 0.839 - ETA: 4s - loss: 0.5493 - acc: 0.838 - ETA: 2s - loss: 0.5488 - acc: 0.838 - ETA: 0s - loss: 0.5475 - acc: 0.839 - 124s 35ms/step - loss: 0.5470 - acc: 0.8398 - val_loss: 0.5415 - val_acc: 0.8175\n",
      "Epoch 3/10\n",
      "3490/3490 [==============================] - ETA: 2:30 - loss: 0.6144 - acc: 0.765 - ETA: 2:08 - loss: 0.5712 - acc: 0.796 - ETA: 2:02 - loss: 0.5646 - acc: 0.786 - ETA: 2:04 - loss: 0.5456 - acc: 0.808 - ETA: 2:00 - loss: 0.5404 - acc: 0.812 - ETA: 1:55 - loss: 0.5398 - acc: 0.812 - ETA: 1:50 - loss: 0.5362 - acc: 0.817 - ETA: 1:41 - loss: 0.5293 - acc: 0.824 - ETA: 1:35 - loss: 0.5308 - acc: 0.822 - ETA: 1:29 - loss: 0.5251 - acc: 0.826 - ETA: 1:25 - loss: 0.5225 - acc: 0.828 - ETA: 1:25 - loss: 0.5170 - acc: 0.835 - ETA: 1:23 - loss: 0.5111 - acc: 0.842 - ETA: 1:24 - loss: 0.5107 - acc: 0.842 - ETA: 1:21 - loss: 0.5138 - acc: 0.838 - ETA: 1:19 - loss: 0.5157 - acc: 0.835 - ETA: 1:16 - loss: 0.5138 - acc: 0.836 - ETA: 1:13 - loss: 0.5140 - acc: 0.835 - ETA: 1:11 - loss: 0.5125 - acc: 0.838 - ETA: 1:09 - loss: 0.5108 - acc: 0.839 - ETA: 1:07 - loss: 0.5095 - acc: 0.840 - ETA: 1:05 - loss: 0.5122 - acc: 0.835 - ETA: 1:03 - loss: 0.5108 - acc: 0.837 - ETA: 1:01 - loss: 0.5105 - acc: 0.836 - ETA: 58s - loss: 0.5105 - acc: 0.835 - ETA: 55s - loss: 0.5127 - acc: 0.83 - ETA: 54s - loss: 0.5131 - acc: 0.83 - ETA: 52s - loss: 0.5125 - acc: 0.83 - ETA: 50s - loss: 0.5122 - acc: 0.83 - ETA: 48s - loss: 0.5109 - acc: 0.83 - ETA: 45s - loss: 0.5106 - acc: 0.83 - ETA: 43s - loss: 0.5101 - acc: 0.83 - ETA: 41s - loss: 0.5122 - acc: 0.83 - ETA: 40s - loss: 0.5115 - acc: 0.83 - ETA: 38s - loss: 0.5126 - acc: 0.82 - ETA: 36s - loss: 0.5110 - acc: 0.83 - ETA: 34s - loss: 0.5095 - acc: 0.83 - ETA: 31s - loss: 0.5080 - acc: 0.83 - ETA: 30s - loss: 0.5049 - acc: 0.83 - ETA: 28s - loss: 0.5046 - acc: 0.83 - ETA: 26s - loss: 0.5043 - acc: 0.83 - ETA: 23s - loss: 0.5036 - acc: 0.83 - ETA: 22s - loss: 0.5034 - acc: 0.83 - ETA: 20s - loss: 0.5024 - acc: 0.83 - ETA: 18s - loss: 0.5014 - acc: 0.84 - ETA: 16s - loss: 0.5005 - acc: 0.84 - ETA: 14s - loss: 0.5011 - acc: 0.84 - ETA: 12s - loss: 0.5025 - acc: 0.83 - ETA: 10s - loss: 0.5025 - acc: 0.83 - ETA: 8s - loss: 0.5015 - acc: 0.8384 - ETA: 6s - loss: 0.5005 - acc: 0.839 - ETA: 4s - loss: 0.4982 - acc: 0.841 - ETA: 2s - loss: 0.4976 - acc: 0.842 - ETA: 1s - loss: 0.4973 - acc: 0.841 - 131s 37ms/step - loss: 0.4974 - acc: 0.8413 - val_loss: 0.5657 - val_acc: 0.8061\n",
      "Epoch 4/10\n"
     ]
    },
    {
     "name": "stdout",
     "output_type": "stream",
     "text": [
      "3490/3490 [==============================] - ETA: 2:11 - loss: 0.5117 - acc: 0.828 - ETA: 1:55 - loss: 0.4950 - acc: 0.835 - ETA: 1:55 - loss: 0.4709 - acc: 0.859 - ETA: 1:41 - loss: 0.4654 - acc: 0.863 - ETA: 1:32 - loss: 0.4549 - acc: 0.871 - ETA: 1:28 - loss: 0.4497 - acc: 0.880 - ETA: 1:27 - loss: 0.4651 - acc: 0.859 - ETA: 1:25 - loss: 0.4772 - acc: 0.845 - ETA: 1:27 - loss: 0.4812 - acc: 0.842 - ETA: 1:25 - loss: 0.4816 - acc: 0.839 - ETA: 1:22 - loss: 0.4848 - acc: 0.835 - ETA: 1:21 - loss: 0.4788 - acc: 0.839 - ETA: 1:19 - loss: 0.4773 - acc: 0.841 - ETA: 1:17 - loss: 0.4797 - acc: 0.838 - ETA: 1:17 - loss: 0.4853 - acc: 0.831 - ETA: 1:15 - loss: 0.4866 - acc: 0.831 - ETA: 1:14 - loss: 0.4902 - acc: 0.826 - ETA: 1:12 - loss: 0.4854 - acc: 0.831 - ETA: 1:10 - loss: 0.4855 - acc: 0.831 - ETA: 1:08 - loss: 0.4853 - acc: 0.830 - ETA: 1:06 - loss: 0.4846 - acc: 0.831 - ETA: 1:03 - loss: 0.4826 - acc: 0.833 - ETA: 1:00 - loss: 0.4832 - acc: 0.832 - ETA: 57s - loss: 0.4845 - acc: 0.831 - ETA: 56s - loss: 0.4797 - acc: 0.83 - ETA: 54s - loss: 0.4778 - acc: 0.83 - ETA: 52s - loss: 0.4760 - acc: 0.83 - ETA: 51s - loss: 0.4773 - acc: 0.83 - ETA: 49s - loss: 0.4765 - acc: 0.83 - ETA: 48s - loss: 0.4757 - acc: 0.83 - ETA: 46s - loss: 0.4761 - acc: 0.83 - ETA: 43s - loss: 0.4750 - acc: 0.83 - ETA: 41s - loss: 0.4727 - acc: 0.84 - ETA: 39s - loss: 0.4719 - acc: 0.84 - ETA: 37s - loss: 0.4701 - acc: 0.84 - ETA: 35s - loss: 0.4702 - acc: 0.84 - ETA: 33s - loss: 0.4708 - acc: 0.84 - ETA: 31s - loss: 0.4716 - acc: 0.84 - ETA: 29s - loss: 0.4707 - acc: 0.84 - ETA: 27s - loss: 0.4711 - acc: 0.84 - ETA: 25s - loss: 0.4715 - acc: 0.84 - ETA: 23s - loss: 0.4716 - acc: 0.84 - ETA: 21s - loss: 0.4715 - acc: 0.84 - ETA: 19s - loss: 0.4723 - acc: 0.84 - ETA: 17s - loss: 0.4712 - acc: 0.84 - ETA: 15s - loss: 0.4705 - acc: 0.84 - ETA: 13s - loss: 0.4713 - acc: 0.84 - ETA: 11s - loss: 0.4716 - acc: 0.84 - ETA: 10s - loss: 0.4704 - acc: 0.84 - ETA: 8s - loss: 0.4703 - acc: 0.8425 - ETA: 6s - loss: 0.4694 - acc: 0.842 - ETA: 4s - loss: 0.4699 - acc: 0.841 - ETA: 2s - loss: 0.4689 - acc: 0.842 - ETA: 0s - loss: 0.4682 - acc: 0.843 - 112s 32ms/step - loss: 0.4683 - acc: 0.8430 - val_loss: 0.4824 - val_acc: 0.8255\n",
      "Epoch 5/10\n",
      "3490/3490 [==============================] - ETA: 1:10 - loss: 0.4924 - acc: 0.812 - ETA: 1:08 - loss: 0.4247 - acc: 0.867 - ETA: 1:06 - loss: 0.4350 - acc: 0.854 - ETA: 1:05 - loss: 0.4640 - acc: 0.832 - ETA: 1:13 - loss: 0.4622 - acc: 0.834 - ETA: 1:13 - loss: 0.4627 - acc: 0.833 - ETA: 1:10 - loss: 0.4634 - acc: 0.830 - ETA: 1:08 - loss: 0.4571 - acc: 0.839 - ETA: 1:05 - loss: 0.4570 - acc: 0.838 - ETA: 1:07 - loss: 0.4658 - acc: 0.831 - ETA: 1:06 - loss: 0.4657 - acc: 0.832 - ETA: 1:04 - loss: 0.4605 - acc: 0.837 - ETA: 1:02 - loss: 0.4601 - acc: 0.837 - ETA: 1:00 - loss: 0.4599 - acc: 0.838 - ETA: 58s - loss: 0.4604 - acc: 0.837 - ETA: 56s - loss: 0.4584 - acc: 0.83 - ETA: 54s - loss: 0.4575 - acc: 0.84 - ETA: 52s - loss: 0.4571 - acc: 0.83 - ETA: 50s - loss: 0.4570 - acc: 0.84 - ETA: 49s - loss: 0.4573 - acc: 0.83 - ETA: 49s - loss: 0.4573 - acc: 0.84 - ETA: 49s - loss: 0.4535 - acc: 0.84 - ETA: 49s - loss: 0.4526 - acc: 0.84 - ETA: 49s - loss: 0.4529 - acc: 0.84 - ETA: 47s - loss: 0.4521 - acc: 0.84 - ETA: 45s - loss: 0.4521 - acc: 0.84 - ETA: 43s - loss: 0.4526 - acc: 0.84 - ETA: 41s - loss: 0.4525 - acc: 0.84 - ETA: 39s - loss: 0.4516 - acc: 0.84 - ETA: 38s - loss: 0.4525 - acc: 0.84 - ETA: 36s - loss: 0.4506 - acc: 0.84 - ETA: 35s - loss: 0.4530 - acc: 0.84 - ETA: 33s - loss: 0.4511 - acc: 0.84 - ETA: 32s - loss: 0.4502 - acc: 0.84 - ETA: 31s - loss: 0.4507 - acc: 0.84 - ETA: 29s - loss: 0.4519 - acc: 0.84 - ETA: 28s - loss: 0.4513 - acc: 0.84 - ETA: 26s - loss: 0.4520 - acc: 0.84 - ETA: 25s - loss: 0.4500 - acc: 0.84 - ETA: 23s - loss: 0.4490 - acc: 0.84 - ETA: 22s - loss: 0.4483 - acc: 0.84 - ETA: 20s - loss: 0.4503 - acc: 0.84 - ETA: 18s - loss: 0.4501 - acc: 0.84 - ETA: 17s - loss: 0.4508 - acc: 0.84 - ETA: 15s - loss: 0.4508 - acc: 0.84 - ETA: 14s - loss: 0.4512 - acc: 0.84 - ETA: 12s - loss: 0.4511 - acc: 0.84 - ETA: 11s - loss: 0.4533 - acc: 0.84 - ETA: 9s - loss: 0.4529 - acc: 0.8412 - ETA: 7s - loss: 0.4534 - acc: 0.840 - ETA: 6s - loss: 0.4529 - acc: 0.841 - ETA: 4s - loss: 0.4535 - acc: 0.841 - ETA: 2s - loss: 0.4518 - acc: 0.842 - ETA: 0s - loss: 0.4519 - acc: 0.842 - 105s 30ms/step - loss: 0.4517 - acc: 0.8427 - val_loss: 0.5230 - val_acc: 0.8249\n",
      "Epoch 6/10\n",
      "3490/3490 [==============================] - ETA: 1:08 - loss: 0.4849 - acc: 0.812 - ETA: 1:19 - loss: 0.4238 - acc: 0.867 - ETA: 1:21 - loss: 0.4361 - acc: 0.854 - ETA: 1:34 - loss: 0.4478 - acc: 0.847 - ETA: 1:27 - loss: 0.4461 - acc: 0.846 - ETA: 1:30 - loss: 0.4572 - acc: 0.838 - ETA: 1:30 - loss: 0.4578 - acc: 0.839 - ETA: 1:31 - loss: 0.4538 - acc: 0.841 - ETA: 1:26 - loss: 0.4488 - acc: 0.845 - ETA: 1:21 - loss: 0.4366 - acc: 0.854 - ETA: 1:17 - loss: 0.4365 - acc: 0.855 - ETA: 1:13 - loss: 0.4305 - acc: 0.859 - ETA: 1:10 - loss: 0.4337 - acc: 0.855 - ETA: 1:09 - loss: 0.4277 - acc: 0.860 - ETA: 1:08 - loss: 0.4236 - acc: 0.863 - ETA: 1:06 - loss: 0.4279 - acc: 0.860 - ETA: 1:05 - loss: 0.4284 - acc: 0.859 - ETA: 1:04 - loss: 0.4311 - acc: 0.856 - ETA: 1:04 - loss: 0.4349 - acc: 0.852 - ETA: 1:03 - loss: 0.4407 - acc: 0.849 - ETA: 1:02 - loss: 0.4439 - acc: 0.846 - ETA: 1:00 - loss: 0.4452 - acc: 0.845 - ETA: 58s - loss: 0.4472 - acc: 0.843 - ETA: 56s - loss: 0.4495 - acc: 0.84 - ETA: 54s - loss: 0.4499 - acc: 0.84 - ETA: 52s - loss: 0.4484 - acc: 0.84 - ETA: 49s - loss: 0.4466 - acc: 0.84 - ETA: 47s - loss: 0.4466 - acc: 0.84 - ETA: 45s - loss: 0.4487 - acc: 0.84 - ETA: 43s - loss: 0.4500 - acc: 0.84 - ETA: 41s - loss: 0.4489 - acc: 0.84 - ETA: 40s - loss: 0.4468 - acc: 0.84 - ETA: 39s - loss: 0.4492 - acc: 0.84 - ETA: 37s - loss: 0.4501 - acc: 0.83 - ETA: 35s - loss: 0.4495 - acc: 0.84 - ETA: 34s - loss: 0.4491 - acc: 0.84 - ETA: 32s - loss: 0.4487 - acc: 0.84 - ETA: 30s - loss: 0.4481 - acc: 0.84 - ETA: 28s - loss: 0.4485 - acc: 0.84 - ETA: 26s - loss: 0.4481 - acc: 0.84 - ETA: 24s - loss: 0.4473 - acc: 0.84 - ETA: 22s - loss: 0.4435 - acc: 0.84 - ETA: 21s - loss: 0.4451 - acc: 0.84 - ETA: 19s - loss: 0.4477 - acc: 0.84 - ETA: 17s - loss: 0.4483 - acc: 0.83 - ETA: 15s - loss: 0.4481 - acc: 0.84 - ETA: 13s - loss: 0.4477 - acc: 0.83 - ETA: 11s - loss: 0.4465 - acc: 0.84 - ETA: 10s - loss: 0.4461 - acc: 0.84 - ETA: 8s - loss: 0.4446 - acc: 0.8419 - ETA: 6s - loss: 0.4441 - acc: 0.841 - ETA: 4s - loss: 0.4439 - acc: 0.842 - ETA: 2s - loss: 0.4426 - acc: 0.843 - ETA: 0s - loss: 0.4423 - acc: 0.842 - 129s 37ms/step - loss: 0.4413 - acc: 0.8436 - val_loss: 0.4556 - val_acc: 0.8249\n",
      "Epoch 7/10\n"
     ]
    },
    {
     "name": "stdout",
     "output_type": "stream",
     "text": [
      "3490/3490 [==============================] - ETA: 1:51 - loss: 0.4989 - acc: 0.796 - ETA: 1:43 - loss: 0.4846 - acc: 0.804 - ETA: 1:30 - loss: 0.4762 - acc: 0.817 - ETA: 1:22 - loss: 0.4681 - acc: 0.824 - ETA: 1:17 - loss: 0.4675 - acc: 0.825 - ETA: 1:14 - loss: 0.4698 - acc: 0.825 - ETA: 1:18 - loss: 0.4692 - acc: 0.823 - ETA: 1:20 - loss: 0.4700 - acc: 0.820 - ETA: 1:16 - loss: 0.4649 - acc: 0.822 - ETA: 1:12 - loss: 0.4550 - acc: 0.829 - ETA: 1:11 - loss: 0.4650 - acc: 0.821 - ETA: 1:11 - loss: 0.4656 - acc: 0.822 - ETA: 1:10 - loss: 0.4642 - acc: 0.823 - ETA: 1:11 - loss: 0.4634 - acc: 0.824 - ETA: 1:10 - loss: 0.4590 - acc: 0.827 - ETA: 1:08 - loss: 0.4524 - acc: 0.832 - ETA: 1:08 - loss: 0.4499 - acc: 0.834 - ETA: 1:06 - loss: 0.4460 - acc: 0.837 - ETA: 1:06 - loss: 0.4483 - acc: 0.835 - ETA: 1:03 - loss: 0.4477 - acc: 0.835 - ETA: 1:00 - loss: 0.4435 - acc: 0.838 - ETA: 58s - loss: 0.4403 - acc: 0.840 - ETA: 55s - loss: 0.4445 - acc: 0.83 - ETA: 53s - loss: 0.4458 - acc: 0.83 - ETA: 50s - loss: 0.4462 - acc: 0.83 - ETA: 48s - loss: 0.4444 - acc: 0.83 - ETA: 46s - loss: 0.4424 - acc: 0.83 - ETA: 44s - loss: 0.4421 - acc: 0.83 - ETA: 42s - loss: 0.4396 - acc: 0.84 - ETA: 41s - loss: 0.4389 - acc: 0.84 - ETA: 39s - loss: 0.4375 - acc: 0.84 - ETA: 38s - loss: 0.4373 - acc: 0.84 - ETA: 36s - loss: 0.4378 - acc: 0.84 - ETA: 34s - loss: 0.4407 - acc: 0.84 - ETA: 32s - loss: 0.4403 - acc: 0.84 - ETA: 30s - loss: 0.4372 - acc: 0.84 - ETA: 28s - loss: 0.4404 - acc: 0.83 - ETA: 26s - loss: 0.4393 - acc: 0.84 - ETA: 25s - loss: 0.4406 - acc: 0.83 - ETA: 23s - loss: 0.4411 - acc: 0.83 - ETA: 22s - loss: 0.4426 - acc: 0.83 - ETA: 20s - loss: 0.4418 - acc: 0.83 - ETA: 19s - loss: 0.4377 - acc: 0.84 - ETA: 17s - loss: 0.4379 - acc: 0.84 - ETA: 16s - loss: 0.4384 - acc: 0.83 - ETA: 14s - loss: 0.4405 - acc: 0.83 - ETA: 12s - loss: 0.4394 - acc: 0.83 - ETA: 11s - loss: 0.4377 - acc: 0.84 - ETA: 9s - loss: 0.4357 - acc: 0.8422 - ETA: 7s - loss: 0.4363 - acc: 0.841 - ETA: 5s - loss: 0.4353 - acc: 0.842 - ETA: 4s - loss: 0.4348 - acc: 0.843 - ETA: 2s - loss: 0.4331 - acc: 0.844 - ETA: 0s - loss: 0.4349 - acc: 0.843 - 119s 34ms/step - loss: 0.4348 - acc: 0.8430 - val_loss: 0.4727 - val_acc: 0.8255\n",
      "Epoch 8/10\n",
      "3490/3490 [==============================] - ETA: 2:08 - loss: 0.3609 - acc: 0.890 - ETA: 1:37 - loss: 0.4188 - acc: 0.835 - ETA: 1:25 - loss: 0.4302 - acc: 0.833 - ETA: 1:19 - loss: 0.4519 - acc: 0.820 - ETA: 1:21 - loss: 0.4425 - acc: 0.831 - ETA: 1:22 - loss: 0.4449 - acc: 0.828 - ETA: 1:29 - loss: 0.4414 - acc: 0.830 - ETA: 1:23 - loss: 0.4514 - acc: 0.824 - ETA: 1:19 - loss: 0.4545 - acc: 0.821 - ETA: 1:15 - loss: 0.4441 - acc: 0.829 - ETA: 1:11 - loss: 0.4411 - acc: 0.832 - ETA: 1:08 - loss: 0.4397 - acc: 0.833 - ETA: 1:05 - loss: 0.4405 - acc: 0.834 - ETA: 1:03 - loss: 0.4396 - acc: 0.834 - ETA: 1:00 - loss: 0.4347 - acc: 0.838 - ETA: 58s - loss: 0.4307 - acc: 0.840 - ETA: 56s - loss: 0.4360 - acc: 0.83 - ETA: 54s - loss: 0.4336 - acc: 0.83 - ETA: 52s - loss: 0.4406 - acc: 0.83 - ETA: 50s - loss: 0.4437 - acc: 0.83 - ETA: 48s - loss: 0.4411 - acc: 0.83 - ETA: 46s - loss: 0.4369 - acc: 0.83 - ETA: 45s - loss: 0.4358 - acc: 0.83 - ETA: 43s - loss: 0.4317 - acc: 0.83 - ETA: 41s - loss: 0.4321 - acc: 0.83 - ETA: 40s - loss: 0.4340 - acc: 0.83 - ETA: 38s - loss: 0.4321 - acc: 0.83 - ETA: 36s - loss: 0.4281 - acc: 0.84 - ETA: 35s - loss: 0.4297 - acc: 0.84 - ETA: 33s - loss: 0.4306 - acc: 0.84 - ETA: 32s - loss: 0.4286 - acc: 0.84 - ETA: 30s - loss: 0.4258 - acc: 0.84 - ETA: 29s - loss: 0.4248 - acc: 0.84 - ETA: 27s - loss: 0.4260 - acc: 0.84 - ETA: 26s - loss: 0.4249 - acc: 0.84 - ETA: 25s - loss: 0.4275 - acc: 0.84 - ETA: 23s - loss: 0.4270 - acc: 0.84 - ETA: 22s - loss: 0.4314 - acc: 0.84 - ETA: 20s - loss: 0.4349 - acc: 0.83 - ETA: 19s - loss: 0.4340 - acc: 0.83 - ETA: 18s - loss: 0.4323 - acc: 0.83 - ETA: 16s - loss: 0.4319 - acc: 0.83 - ETA: 15s - loss: 0.4306 - acc: 0.84 - ETA: 14s - loss: 0.4306 - acc: 0.84 - ETA: 12s - loss: 0.4320 - acc: 0.83 - ETA: 11s - loss: 0.4306 - acc: 0.84 - ETA: 9s - loss: 0.4302 - acc: 0.8408 - ETA: 8s - loss: 0.4293 - acc: 0.841 - ETA: 7s - loss: 0.4284 - acc: 0.842 - ETA: 5s - loss: 0.4283 - acc: 0.842 - ETA: 4s - loss: 0.4280 - acc: 0.843 - ETA: 3s - loss: 0.4280 - acc: 0.843 - ETA: 2s - loss: 0.4286 - acc: 0.842 - ETA: 0s - loss: 0.4271 - acc: 0.844 - 83s 24ms/step - loss: 0.4275 - acc: 0.8438 - val_loss: 0.4936 - val_acc: 0.8182\n",
      "Epoch 9/10\n",
      "3490/3490 [==============================] - ETA: 1:05 - loss: 0.4748 - acc: 0.812 - ETA: 1:04 - loss: 0.4662 - acc: 0.820 - ETA: 1:03 - loss: 0.5016 - acc: 0.796 - ETA: 1:02 - loss: 0.4975 - acc: 0.796 - ETA: 1:00 - loss: 0.4660 - acc: 0.818 - ETA: 59s - loss: 0.4596 - acc: 0.822 - ETA: 58s - loss: 0.4664 - acc: 0.81 - ETA: 57s - loss: 0.4611 - acc: 0.82 - ETA: 56s - loss: 0.4594 - acc: 0.82 - ETA: 54s - loss: 0.4491 - acc: 0.82 - ETA: 53s - loss: 0.4406 - acc: 0.82 - ETA: 52s - loss: 0.4318 - acc: 0.83 - ETA: 51s - loss: 0.4209 - acc: 0.84 - ETA: 49s - loss: 0.4262 - acc: 0.83 - ETA: 48s - loss: 0.4305 - acc: 0.83 - ETA: 47s - loss: 0.4309 - acc: 0.83 - ETA: 46s - loss: 0.4303 - acc: 0.83 - ETA: 45s - loss: 0.4272 - acc: 0.83 - ETA: 43s - loss: 0.4255 - acc: 0.84 - ETA: 42s - loss: 0.4246 - acc: 0.84 - ETA: 41s - loss: 0.4231 - acc: 0.84 - ETA: 40s - loss: 0.4192 - acc: 0.84 - ETA: 38s - loss: 0.4196 - acc: 0.84 - ETA: 37s - loss: 0.4243 - acc: 0.83 - ETA: 36s - loss: 0.4232 - acc: 0.84 - ETA: 35s - loss: 0.4233 - acc: 0.83 - ETA: 33s - loss: 0.4248 - acc: 0.83 - ETA: 32s - loss: 0.4206 - acc: 0.84 - ETA: 31s - loss: 0.4202 - acc: 0.84 - ETA: 30s - loss: 0.4174 - acc: 0.84 - ETA: 28s - loss: 0.4189 - acc: 0.84 - ETA: 27s - loss: 0.4213 - acc: 0.83 - ETA: 26s - loss: 0.4224 - acc: 0.83 - ETA: 25s - loss: 0.4207 - acc: 0.83 - ETA: 24s - loss: 0.4223 - acc: 0.83 - ETA: 22s - loss: 0.4213 - acc: 0.83 - ETA: 21s - loss: 0.4207 - acc: 0.83 - ETA: 20s - loss: 0.4205 - acc: 0.83 - ETA: 19s - loss: 0.4217 - acc: 0.83 - ETA: 17s - loss: 0.4236 - acc: 0.83 - ETA: 16s - loss: 0.4238 - acc: 0.83 - ETA: 15s - loss: 0.4243 - acc: 0.83 - ETA: 14s - loss: 0.4240 - acc: 0.83 - ETA: 12s - loss: 0.4212 - acc: 0.83 - ETA: 11s - loss: 0.4194 - acc: 0.84 - ETA: 10s - loss: 0.4182 - acc: 0.84 - ETA: 9s - loss: 0.4167 - acc: 0.8428 - ETA: 8s - loss: 0.4147 - acc: 0.843 - ETA: 6s - loss: 0.4157 - acc: 0.843 - ETA: 5s - loss: 0.4138 - acc: 0.844 - ETA: 4s - loss: 0.4164 - acc: 0.842 - ETA: 3s - loss: 0.4155 - acc: 0.843 - ETA: 1s - loss: 0.4162 - acc: 0.843 - ETA: 0s - loss: 0.4156 - acc: 0.842 - 79s 23ms/step - loss: 0.4157 - acc: 0.8427 - val_loss: 0.4847 - val_acc: 0.8061\n",
      "Epoch 10/10\n"
     ]
    },
    {
     "name": "stdout",
     "output_type": "stream",
     "text": [
      "3490/3490 [==============================] - ETA: 1:06 - loss: 0.3155 - acc: 0.921 - ETA: 1:04 - loss: 0.3511 - acc: 0.898 - ETA: 1:03 - loss: 0.3532 - acc: 0.895 - ETA: 1:02 - loss: 0.3930 - acc: 0.867 - ETA: 1:00 - loss: 0.3889 - acc: 0.865 - ETA: 59s - loss: 0.3966 - acc: 0.856 - ETA: 58s - loss: 0.4070 - acc: 0.84 - ETA: 57s - loss: 0.3994 - acc: 0.85 - ETA: 55s - loss: 0.3878 - acc: 0.85 - ETA: 54s - loss: 0.3808 - acc: 0.86 - ETA: 53s - loss: 0.3812 - acc: 0.86 - ETA: 52s - loss: 0.3861 - acc: 0.85 - ETA: 50s - loss: 0.3942 - acc: 0.85 - ETA: 49s - loss: 0.3914 - acc: 0.85 - ETA: 48s - loss: 0.3939 - acc: 0.85 - ETA: 47s - loss: 0.3962 - acc: 0.85 - ETA: 45s - loss: 0.3998 - acc: 0.85 - ETA: 44s - loss: 0.4052 - acc: 0.84 - ETA: 43s - loss: 0.4043 - acc: 0.84 - ETA: 42s - loss: 0.3982 - acc: 0.85 - ETA: 41s - loss: 0.4053 - acc: 0.84 - ETA: 39s - loss: 0.4057 - acc: 0.84 - ETA: 38s - loss: 0.4008 - acc: 0.84 - ETA: 37s - loss: 0.4018 - acc: 0.84 - ETA: 36s - loss: 0.4001 - acc: 0.84 - ETA: 34s - loss: 0.3971 - acc: 0.84 - ETA: 33s - loss: 0.3996 - acc: 0.84 - ETA: 32s - loss: 0.4016 - acc: 0.84 - ETA: 31s - loss: 0.4047 - acc: 0.84 - ETA: 30s - loss: 0.4050 - acc: 0.84 - ETA: 28s - loss: 0.4032 - acc: 0.84 - ETA: 27s - loss: 0.4016 - acc: 0.84 - ETA: 26s - loss: 0.4034 - acc: 0.84 - ETA: 25s - loss: 0.4031 - acc: 0.84 - ETA: 23s - loss: 0.4016 - acc: 0.84 - ETA: 22s - loss: 0.4047 - acc: 0.84 - ETA: 21s - loss: 0.4055 - acc: 0.84 - ETA: 20s - loss: 0.4065 - acc: 0.84 - ETA: 19s - loss: 0.4045 - acc: 0.84 - ETA: 17s - loss: 0.4051 - acc: 0.84 - ETA: 16s - loss: 0.4067 - acc: 0.84 - ETA: 15s - loss: 0.4048 - acc: 0.84 - ETA: 14s - loss: 0.4051 - acc: 0.84 - ETA: 12s - loss: 0.4069 - acc: 0.84 - ETA: 11s - loss: 0.4068 - acc: 0.84 - ETA: 10s - loss: 0.4057 - acc: 0.84 - ETA: 9s - loss: 0.4062 - acc: 0.8431 - ETA: 8s - loss: 0.4068 - acc: 0.843 - ETA: 6s - loss: 0.4064 - acc: 0.842 - ETA: 5s - loss: 0.4069 - acc: 0.842 - ETA: 4s - loss: 0.4047 - acc: 0.844 - ETA: 3s - loss: 0.4062 - acc: 0.842 - ETA: 1s - loss: 0.4051 - acc: 0.843 - ETA: 0s - loss: 0.4070 - acc: 0.841 - 79s 22ms/step - loss: 0.4070 - acc: 0.8413 - val_loss: 0.4736 - val_acc: 0.8255\n",
      "Accuracy: 82.55%\n"
     ]
    }
   ],
   "source": [
    "output = model_3.fit(x_tr, y_train, nb_epoch=10, batch_size=64,verbose=1,validation_data=(x_te, y_test))\n",
    "# Final evaluation of the model\n",
    "scores = model_3.evaluate(x_te, y_test, verbose=0)\n",
    "print(\"Accuracy: %.2f%%\" % (scores[1]*100))"
   ]
  },
  {
   "cell_type": "code",
   "execution_count": 232,
   "metadata": {},
   "outputs": [
    {
     "name": "stdout",
     "output_type": "stream",
     "text": [
      "Accuracy: 82.55%\n"
     ]
    }
   ],
   "source": [
    "print(\"Accuracy: %.2f%%\" % (scores[1]*100))"
   ]
  },
  {
   "cell_type": "code",
   "execution_count": 233,
   "metadata": {},
   "outputs": [
    {
     "data": {
      "image/png": "[encoded data removed]",
      "text/plain": [
       "<Figure size 432x288 with 1 Axes>"
      ]
     },
     "metadata": {},
     "output_type": "display_data"
    }
   ],
   "source": [
    "plot_train_cv_loss(output, epochs = 10)"
   ]
  },
  {
   "cell_type": "markdown",
   "metadata": {},
   "source": [
    "### 7) 5-Layered LSTM + Dropouts  + sigmoid + Adagrad"
   ]
  },
  {
   "cell_type": "code",
   "execution_count": 234,
   "metadata": {},
   "outputs": [
    {
     "name": "stdout",
     "output_type": "stream",
     "text": [
      "_________________________________________________________________\n",
      "Layer (type)                 Output Shape              Param #   \n",
      "=================================================================\n",
      "embedding_17 (Embedding)     (None, 100, 32)           64032     \n",
      "_________________________________________________________________\n",
      "lstm_22 (LSTM)               (None, 100, 5)            760       \n",
      "_________________________________________________________________\n",
      "dense_21 (Dense)             (None, 100, 1)            6         \n",
      "_________________________________________________________________\n",
      "lstm_23 (LSTM)               (None, 100, 10)           480       \n",
      "_________________________________________________________________\n",
      "batch_normalization_13 (Batc (None, 100, 10)           40        \n",
      "_________________________________________________________________\n",
      "dense_22 (Dense)             (None, 100, 1)            11        \n",
      "_________________________________________________________________\n",
      "lstm_24 (LSTM)               (None, 100, 15)           1020      \n",
      "_________________________________________________________________\n",
      "batch_normalization_14 (Batc (None, 100, 15)           60        \n",
      "_________________________________________________________________\n",
      "lstm_25 (LSTM)               (None, 100, 20)           2880      \n",
      "_________________________________________________________________\n",
      "batch_normalization_15 (Batc (None, 100, 20)           80        \n",
      "_________________________________________________________________\n",
      "lstm_26 (LSTM)               (None, 30)                6120      \n",
      "_________________________________________________________________\n",
      "batch_normalization_16 (Batc (None, 30)                120       \n",
      "_________________________________________________________________\n",
      "dense_23 (Dense)             (None, 1)                 31        \n",
      "=================================================================\n",
      "Total params: 75,640\n",
      "Trainable params: 75,490\n",
      "Non-trainable params: 150\n",
      "_________________________________________________________________\n",
      "None\n"
     ]
    }
   ],
   "source": [
    "model_3 = Sequential()\n",
    "model_3.add(Embedding(top_words+1, embedding_vecor_length, input_length=max_review_length))\n",
    "model_3.add(LSTM(5, return_sequences = True))\n",
    "model.add(Dropout(0.4))\n",
    "model_3.add(Dense(1, activation='sigmoid'))\n",
    "model_3.add(LSTM(10,return_sequences = True))\n",
    "model.add(Dropout(0.7))\n",
    "model_3.add(BatchNormalization())\n",
    "model_3.add(Dense(1, activation = 'sigmoid'))\n",
    "model_3.add(LSTM(15,return_sequences = True))\n",
    "model_3.add(BatchNormalization())\n",
    "model_3.add(LSTM(20,return_sequences = True))\n",
    "model.add(Dropout(0.3))\n",
    "model_3.add(BatchNormalization())\n",
    "model_3.add(LSTM(30))\n",
    "model_3.add(BatchNormalization())\n",
    "model_3.add(Dense(1, activation = 'sigmoid'))\n",
    "model_3.compile(loss='binary_crossentropy', optimizer='Adagrad', metrics=['accuracy'])\n",
    "print(model_3.summary())"
   ]
  },
  {
   "cell_type": "code",
   "execution_count": 235,
   "metadata": {
    "scrolled": true
   },
   "outputs": [
    {
     "name": "stdout",
     "output_type": "stream",
     "text": [
      "Train on 3490 samples, validate on 1496 samples\n",
      "Epoch 1/10\n",
      "3490/3490 [==============================] - ETA: 5:50 - loss: 0.8558 - acc: 0.515 - ETA: 3:25 - loss: 0.8108 - acc: 0.476 - ETA: 2:35 - loss: 0.8107 - acc: 0.463 - ETA: 2:09 - loss: 0.7852 - acc: 0.511 - ETA: 1:53 - loss: 0.7699 - acc: 0.521 - ETA: 1:43 - loss: 0.7652 - acc: 0.513 - ETA: 1:34 - loss: 0.7434 - acc: 0.542 - ETA: 1:28 - loss: 0.7289 - acc: 0.562 - ETA: 1:23 - loss: 0.7179 - acc: 0.578 - ETA: 1:19 - loss: 0.7114 - acc: 0.585 - ETA: 1:15 - loss: 0.6982 - acc: 0.605 - ETA: 1:11 - loss: 0.6898 - acc: 0.615 - ETA: 1:08 - loss: 0.6817 - acc: 0.628 - ETA: 1:05 - loss: 0.6740 - acc: 0.641 - ETA: 1:03 - loss: 0.6664 - acc: 0.651 - ETA: 1:00 - loss: 0.6601 - acc: 0.663 - ETA: 58s - loss: 0.6564 - acc: 0.667 - ETA: 56s - loss: 0.6495 - acc: 0.67 - ETA: 54s - loss: 0.6442 - acc: 0.68 - ETA: 52s - loss: 0.6397 - acc: 0.69 - ETA: 50s - loss: 0.6353 - acc: 0.70 - ETA: 48s - loss: 0.6304 - acc: 0.71 - ETA: 46s - loss: 0.6262 - acc: 0.71 - ETA: 44s - loss: 0.6215 - acc: 0.72 - ETA: 43s - loss: 0.6183 - acc: 0.72 - ETA: 41s - loss: 0.6163 - acc: 0.72 - ETA: 39s - loss: 0.6141 - acc: 0.72 - ETA: 38s - loss: 0.6109 - acc: 0.73 - ETA: 36s - loss: 0.6072 - acc: 0.73 - ETA: 34s - loss: 0.6045 - acc: 0.74 - ETA: 33s - loss: 0.6025 - acc: 0.74 - ETA: 31s - loss: 0.5995 - acc: 0.74 - ETA: 30s - loss: 0.5976 - acc: 0.74 - ETA: 28s - loss: 0.5942 - acc: 0.75 - ETA: 27s - loss: 0.5914 - acc: 0.75 - ETA: 25s - loss: 0.5897 - acc: 0.75 - ETA: 24s - loss: 0.5874 - acc: 0.75 - ETA: 22s - loss: 0.5851 - acc: 0.75 - ETA: 21s - loss: 0.5833 - acc: 0.75 - ETA: 20s - loss: 0.5808 - acc: 0.76 - ETA: 18s - loss: 0.5797 - acc: 0.76 - ETA: 17s - loss: 0.5782 - acc: 0.76 - ETA: 15s - loss: 0.5758 - acc: 0.76 - ETA: 14s - loss: 0.5738 - acc: 0.76 - ETA: 12s - loss: 0.5723 - acc: 0.76 - ETA: 11s - loss: 0.5702 - acc: 0.77 - ETA: 10s - loss: 0.5685 - acc: 0.77 - ETA: 8s - loss: 0.5667 - acc: 0.7721 - ETA: 7s - loss: 0.5640 - acc: 0.774 - ETA: 6s - loss: 0.5630 - acc: 0.775 - ETA: 4s - loss: 0.5603 - acc: 0.775 - ETA: 3s - loss: 0.5585 - acc: 0.775 - ETA: 2s - loss: 0.5567 - acc: 0.778 - ETA: 0s - loss: 0.5538 - acc: 0.779 - 85s 24ms/step - loss: 0.5531 - acc: 0.7799 - val_loss: 0.6673 - val_acc: 0.5949\n",
      "Epoch 2/10\n",
      "3490/3490 [==============================] - ETA: 1:07 - loss: 0.4204 - acc: 0.906 - ETA: 1:05 - loss: 0.4354 - acc: 0.882 - ETA: 1:04 - loss: 0.4442 - acc: 0.849 - ETA: 1:02 - loss: 0.4186 - acc: 0.867 - ETA: 1:01 - loss: 0.4223 - acc: 0.865 - ETA: 1:00 - loss: 0.4277 - acc: 0.859 - ETA: 58s - loss: 0.4297 - acc: 0.859 - ETA: 57s - loss: 0.4281 - acc: 0.85 - ETA: 56s - loss: 0.4212 - acc: 0.86 - ETA: 55s - loss: 0.4172 - acc: 0.86 - ETA: 53s - loss: 0.4113 - acc: 0.87 - ETA: 52s - loss: 0.4100 - acc: 0.86 - ETA: 51s - loss: 0.4084 - acc: 0.86 - ETA: 50s - loss: 0.4064 - acc: 0.86 - ETA: 48s - loss: 0.4038 - acc: 0.86 - ETA: 47s - loss: 0.4006 - acc: 0.87 - ETA: 46s - loss: 0.4063 - acc: 0.86 - ETA: 45s - loss: 0.4024 - acc: 0.86 - ETA: 44s - loss: 0.4005 - acc: 0.87 - ETA: 42s - loss: 0.4021 - acc: 0.86 - ETA: 41s - loss: 0.4002 - acc: 0.86 - ETA: 40s - loss: 0.3998 - acc: 0.86 - ETA: 39s - loss: 0.3969 - acc: 0.87 - ETA: 37s - loss: 0.3942 - acc: 0.87 - ETA: 36s - loss: 0.3940 - acc: 0.87 - ETA: 35s - loss: 0.3913 - acc: 0.87 - ETA: 34s - loss: 0.3897 - acc: 0.87 - ETA: 32s - loss: 0.3873 - acc: 0.87 - ETA: 31s - loss: 0.3863 - acc: 0.87 - ETA: 30s - loss: 0.3875 - acc: 0.86 - ETA: 29s - loss: 0.3880 - acc: 0.86 - ETA: 27s - loss: 0.3857 - acc: 0.86 - ETA: 26s - loss: 0.3835 - acc: 0.86 - ETA: 25s - loss: 0.3849 - acc: 0.86 - ETA: 24s - loss: 0.3837 - acc: 0.86 - ETA: 23s - loss: 0.3815 - acc: 0.87 - ETA: 21s - loss: 0.3787 - acc: 0.87 - ETA: 20s - loss: 0.3782 - acc: 0.87 - ETA: 19s - loss: 0.3765 - acc: 0.87 - ETA: 18s - loss: 0.3773 - acc: 0.87 - ETA: 16s - loss: 0.3765 - acc: 0.87 - ETA: 15s - loss: 0.3778 - acc: 0.87 - ETA: 14s - loss: 0.3762 - acc: 0.87 - ETA: 13s - loss: 0.3758 - acc: 0.87 - ETA: 11s - loss: 0.3753 - acc: 0.87 - ETA: 10s - loss: 0.3730 - acc: 0.87 - ETA: 9s - loss: 0.3717 - acc: 0.8750 - ETA: 8s - loss: 0.3690 - acc: 0.876 - ETA: 6s - loss: 0.3673 - acc: 0.876 - ETA: 5s - loss: 0.3654 - acc: 0.878 - ETA: 4s - loss: 0.3630 - acc: 0.879 - ETA: 3s - loss: 0.3641 - acc: 0.878 - ETA: 1s - loss: 0.3624 - acc: 0.878 - ETA: 0s - loss: 0.3633 - acc: 0.877 - 79s 23ms/step - loss: 0.3631 - acc: 0.8771 - val_loss: 2.8149 - val_acc: 0.2600\n",
      "Epoch 3/10\n",
      "3490/3490 [==============================] - ETA: 1:06 - loss: 0.2703 - acc: 0.937 - ETA: 1:05 - loss: 0.2380 - acc: 0.945 - ETA: 1:03 - loss: 0.2365 - acc: 0.937 - ETA: 1:02 - loss: 0.2283 - acc: 0.941 - ETA: 1:01 - loss: 0.2345 - acc: 0.943 - ETA: 1:00 - loss: 0.2394 - acc: 0.934 - ETA: 58s - loss: 0.2257 - acc: 0.944 - ETA: 57s - loss: 0.2355 - acc: 0.93 - ETA: 56s - loss: 0.2323 - acc: 0.93 - ETA: 55s - loss: 0.2425 - acc: 0.92 - ETA: 54s - loss: 0.2432 - acc: 0.92 - ETA: 52s - loss: 0.2460 - acc: 0.92 - ETA: 51s - loss: 0.2427 - acc: 0.92 - ETA: 50s - loss: 0.2385 - acc: 0.92 - ETA: 49s - loss: 0.2412 - acc: 0.92 - ETA: 47s - loss: 0.2403 - acc: 0.92 - ETA: 46s - loss: 0.2380 - acc: 0.93 - ETA: 45s - loss: 0.2356 - acc: 0.93 - ETA: 44s - loss: 0.2401 - acc: 0.93 - ETA: 42s - loss: 0.2368 - acc: 0.93 - ETA: 41s - loss: 0.2345 - acc: 0.93 - ETA: 40s - loss: 0.2321 - acc: 0.93 - ETA: 39s - loss: 0.2309 - acc: 0.93 - ETA: 38s - loss: 0.2354 - acc: 0.93 - ETA: 36s - loss: 0.2322 - acc: 0.93 - ETA: 35s - loss: 0.2299 - acc: 0.93 - ETA: 34s - loss: 0.2287 - acc: 0.93 - ETA: 33s - loss: 0.2260 - acc: 0.93 - ETA: 31s - loss: 0.2272 - acc: 0.93 - ETA: 30s - loss: 0.2267 - acc: 0.93 - ETA: 29s - loss: 0.2296 - acc: 0.93 - ETA: 28s - loss: 0.2336 - acc: 0.93 - ETA: 26s - loss: 0.2372 - acc: 0.93 - ETA: 25s - loss: 0.2351 - acc: 0.93 - ETA: 24s - loss: 0.2336 - acc: 0.93 - ETA: 23s - loss: 0.2332 - acc: 0.93 - ETA: 21s - loss: 0.2339 - acc: 0.93 - ETA: 20s - loss: 0.2323 - acc: 0.93 - ETA: 19s - loss: 0.2335 - acc: 0.93 - ETA: 18s - loss: 0.2327 - acc: 0.93 - ETA: 16s - loss: 0.2323 - acc: 0.93 - ETA: 15s - loss: 0.2307 - acc: 0.93 - ETA: 14s - loss: 0.2294 - acc: 0.93 - ETA: 13s - loss: 0.2285 - acc: 0.93 - ETA: 11s - loss: 0.2282 - acc: 0.93 - ETA: 10s - loss: 0.2261 - acc: 0.93 - ETA: 9s - loss: 0.2257 - acc: 0.9385 - ETA: 8s - loss: 0.2277 - acc: 0.937 - ETA: 6s - loss: 0.2281 - acc: 0.937 - ETA: 5s - loss: 0.2292 - acc: 0.936 - ETA: 4s - loss: 0.2296 - acc: 0.936 - ETA: 3s - loss: 0.2290 - acc: 0.936 - ETA: 1s - loss: 0.2313 - acc: 0.935 - ETA: 0s - loss: 0.2330 - acc: 0.934 - 79s 23ms/step - loss: 0.2320 - acc: 0.9344 - val_loss: 10.0002 - val_acc: 0.1745\n",
      "Epoch 4/10\n"
     ]
    },
    {
     "name": "stdout",
     "output_type": "stream",
     "text": [
      "3490/3490 [==============================] - ETA: 1:07 - loss: 0.2013 - acc: 0.937 - ETA: 1:05 - loss: 0.1770 - acc: 0.953 - ETA: 1:04 - loss: 0.1577 - acc: 0.963 - ETA: 1:03 - loss: 0.1698 - acc: 0.960 - ETA: 1:02 - loss: 0.1739 - acc: 0.956 - ETA: 1:00 - loss: 0.1688 - acc: 0.955 - ETA: 59s - loss: 0.1755 - acc: 0.946 - ETA: 58s - loss: 0.1720 - acc: 0.94 - ETA: 56s - loss: 0.1689 - acc: 0.95 - ETA: 55s - loss: 0.1668 - acc: 0.95 - ETA: 54s - loss: 0.1673 - acc: 0.95 - ETA: 53s - loss: 0.1638 - acc: 0.95 - ETA: 51s - loss: 0.1633 - acc: 0.95 - ETA: 50s - loss: 0.1653 - acc: 0.95 - ETA: 49s - loss: 0.1698 - acc: 0.95 - ETA: 48s - loss: 0.1649 - acc: 0.95 - ETA: 46s - loss: 0.1672 - acc: 0.95 - ETA: 45s - loss: 0.1646 - acc: 0.95 - ETA: 44s - loss: 0.1613 - acc: 0.95 - ETA: 43s - loss: 0.1605 - acc: 0.95 - ETA: 41s - loss: 0.1590 - acc: 0.95 - ETA: 40s - loss: 0.1589 - acc: 0.96 - ETA: 39s - loss: 0.1579 - acc: 0.96 - ETA: 38s - loss: 0.1566 - acc: 0.96 - ETA: 36s - loss: 0.1573 - acc: 0.96 - ETA: 35s - loss: 0.1586 - acc: 0.95 - ETA: 34s - loss: 0.1592 - acc: 0.95 - ETA: 33s - loss: 0.1593 - acc: 0.95 - ETA: 31s - loss: 0.1603 - acc: 0.95 - ETA: 30s - loss: 0.1605 - acc: 0.95 - ETA: 29s - loss: 0.1602 - acc: 0.95 - ETA: 28s - loss: 0.1580 - acc: 0.95 - ETA: 26s - loss: 0.1622 - acc: 0.95 - ETA: 25s - loss: 0.1715 - acc: 0.94 - ETA: 24s - loss: 0.1705 - acc: 0.95 - ETA: 23s - loss: 0.1704 - acc: 0.95 - ETA: 21s - loss: 0.1705 - acc: 0.95 - ETA: 20s - loss: 0.1686 - acc: 0.95 - ETA: 19s - loss: 0.1698 - acc: 0.95 - ETA: 18s - loss: 0.1684 - acc: 0.95 - ETA: 16s - loss: 0.1686 - acc: 0.95 - ETA: 15s - loss: 0.1705 - acc: 0.95 - ETA: 14s - loss: 0.1696 - acc: 0.95 - ETA: 13s - loss: 0.1678 - acc: 0.95 - ETA: 11s - loss: 0.1668 - acc: 0.95 - ETA: 10s - loss: 0.1655 - acc: 0.95 - ETA: 9s - loss: 0.1643 - acc: 0.9538 - ETA: 8s - loss: 0.1657 - acc: 0.952 - ETA: 6s - loss: 0.1658 - acc: 0.952 - ETA: 5s - loss: 0.1649 - acc: 0.953 - ETA: 4s - loss: 0.1648 - acc: 0.953 - ETA: 3s - loss: 0.1639 - acc: 0.953 - ETA: 1s - loss: 0.1640 - acc: 0.953 - ETA: 0s - loss: 0.1630 - acc: 0.954 - 79s 23ms/step - loss: 0.1629 - acc: 0.9542 - val_loss: 2.7495 - val_acc: 0.4672\n",
      "Epoch 5/10\n",
      "3490/3490 [==============================] - ETA: 1:06 - loss: 0.1746 - acc: 0.953 - ETA: 1:05 - loss: 0.1428 - acc: 0.968 - ETA: 1:04 - loss: 0.1445 - acc: 0.968 - ETA: 1:03 - loss: 0.1332 - acc: 0.968 - ETA: 1:01 - loss: 0.1393 - acc: 0.962 - ETA: 1:00 - loss: 0.1401 - acc: 0.960 - ETA: 58s - loss: 0.1313 - acc: 0.964 - ETA: 57s - loss: 0.1266 - acc: 0.96 - ETA: 56s - loss: 0.1313 - acc: 0.96 - ETA: 55s - loss: 0.1263 - acc: 0.96 - ETA: 53s - loss: 0.1206 - acc: 0.97 - ETA: 52s - loss: 0.1157 - acc: 0.97 - ETA: 51s - loss: 0.1136 - acc: 0.97 - ETA: 50s - loss: 0.1116 - acc: 0.97 - ETA: 48s - loss: 0.1111 - acc: 0.97 - ETA: 47s - loss: 0.1159 - acc: 0.97 - ETA: 46s - loss: 0.1177 - acc: 0.97 - ETA: 45s - loss: 0.1189 - acc: 0.97 - ETA: 44s - loss: 0.1177 - acc: 0.97 - ETA: 42s - loss: 0.1157 - acc: 0.97 - ETA: 41s - loss: 0.1140 - acc: 0.97 - ETA: 40s - loss: 0.1115 - acc: 0.97 - ETA: 39s - loss: 0.1136 - acc: 0.97 - ETA: 37s - loss: 0.1134 - acc: 0.97 - ETA: 36s - loss: 0.1124 - acc: 0.97 - ETA: 35s - loss: 0.1142 - acc: 0.97 - ETA: 34s - loss: 0.1140 - acc: 0.97 - ETA: 32s - loss: 0.1142 - acc: 0.97 - ETA: 31s - loss: 0.1124 - acc: 0.97 - ETA: 30s - loss: 0.1106 - acc: 0.97 - ETA: 29s - loss: 0.1107 - acc: 0.97 - ETA: 27s - loss: 0.1097 - acc: 0.97 - ETA: 26s - loss: 0.1126 - acc: 0.97 - ETA: 25s - loss: 0.1141 - acc: 0.97 - ETA: 24s - loss: 0.1129 - acc: 0.97 - ETA: 23s - loss: 0.1112 - acc: 0.97 - ETA: 21s - loss: 0.1102 - acc: 0.97 - ETA: 20s - loss: 0.1115 - acc: 0.97 - ETA: 19s - loss: 0.1130 - acc: 0.97 - ETA: 18s - loss: 0.1152 - acc: 0.97 - ETA: 16s - loss: 0.1134 - acc: 0.97 - ETA: 15s - loss: 0.1130 - acc: 0.97 - ETA: 14s - loss: 0.1131 - acc: 0.97 - ETA: 13s - loss: 0.1122 - acc: 0.97 - ETA: 11s - loss: 0.1110 - acc: 0.97 - ETA: 10s - loss: 0.1132 - acc: 0.97 - ETA: 9s - loss: 0.1138 - acc: 0.9717 - ETA: 8s - loss: 0.1134 - acc: 0.972 - ETA: 6s - loss: 0.1133 - acc: 0.972 - ETA: 5s - loss: 0.1132 - acc: 0.972 - ETA: 4s - loss: 0.1123 - acc: 0.972 - ETA: 3s - loss: 0.1118 - acc: 0.972 - ETA: 1s - loss: 0.1129 - acc: 0.972 - ETA: 0s - loss: 0.1123 - acc: 0.971 - 79s 23ms/step - loss: 0.1142 - acc: 0.9713 - val_loss: 1.9941 - val_acc: 0.5615\n",
      "Epoch 6/10\n",
      "3490/3490 [==============================] - ETA: 1:05 - loss: 0.1977 - acc: 0.968 - ETA: 1:04 - loss: 0.2119 - acc: 0.945 - ETA: 1:03 - loss: 0.1559 - acc: 0.963 - ETA: 1:02 - loss: 0.1528 - acc: 0.968 - ETA: 1:01 - loss: 0.1365 - acc: 0.971 - ETA: 1:00 - loss: 0.1239 - acc: 0.976 - ETA: 59s - loss: 0.1126 - acc: 0.977 - ETA: 57s - loss: 0.1131 - acc: 0.97 - ETA: 56s - loss: 0.1151 - acc: 0.97 - ETA: 55s - loss: 0.1079 - acc: 0.97 - ETA: 53s - loss: 0.1041 - acc: 0.97 - ETA: 52s - loss: 0.1022 - acc: 0.97 - ETA: 51s - loss: 0.0976 - acc: 0.98 - ETA: 50s - loss: 0.0969 - acc: 0.98 - ETA: 49s - loss: 0.0965 - acc: 0.98 - ETA: 47s - loss: 0.0947 - acc: 0.97 - ETA: 46s - loss: 0.0940 - acc: 0.97 - ETA: 45s - loss: 0.0935 - acc: 0.98 - ETA: 44s - loss: 0.0903 - acc: 0.98 - ETA: 42s - loss: 0.0887 - acc: 0.98 - ETA: 41s - loss: 0.0857 - acc: 0.98 - ETA: 40s - loss: 0.0876 - acc: 0.98 - ETA: 39s - loss: 0.0879 - acc: 0.98 - ETA: 37s - loss: 0.0870 - acc: 0.98 - ETA: 36s - loss: 0.0918 - acc: 0.97 - ETA: 35s - loss: 0.0895 - acc: 0.97 - ETA: 34s - loss: 0.0908 - acc: 0.97 - ETA: 33s - loss: 0.0913 - acc: 0.97 - ETA: 31s - loss: 0.0903 - acc: 0.97 - ETA: 30s - loss: 0.0918 - acc: 0.97 - ETA: 29s - loss: 0.0917 - acc: 0.97 - ETA: 28s - loss: 0.0898 - acc: 0.97 - ETA: 26s - loss: 0.0884 - acc: 0.97 - ETA: 25s - loss: 0.0887 - acc: 0.97 - ETA: 24s - loss: 0.0877 - acc: 0.97 - ETA: 23s - loss: 0.0860 - acc: 0.97 - ETA: 21s - loss: 0.0874 - acc: 0.97 - ETA: 20s - loss: 0.0870 - acc: 0.97 - ETA: 19s - loss: 0.0856 - acc: 0.97 - ETA: 18s - loss: 0.0859 - acc: 0.97 - ETA: 16s - loss: 0.0873 - acc: 0.97 - ETA: 15s - loss: 0.0870 - acc: 0.97 - ETA: 14s - loss: 0.0891 - acc: 0.97 - ETA: 13s - loss: 0.0897 - acc: 0.97 - ETA: 11s - loss: 0.0891 - acc: 0.97 - ETA: 10s - loss: 0.0889 - acc: 0.97 - ETA: 9s - loss: 0.0895 - acc: 0.9784 - ETA: 8s - loss: 0.0883 - acc: 0.978 - ETA: 6s - loss: 0.0892 - acc: 0.978 - ETA: 5s - loss: 0.0901 - acc: 0.978 - ETA: 4s - loss: 0.0902 - acc: 0.978 - ETA: 3s - loss: 0.0900 - acc: 0.978 - ETA: 1s - loss: 0.0891 - acc: 0.978 - ETA: 0s - loss: 0.0890 - acc: 0.978 - 79s 23ms/step - loss: 0.0884 - acc: 0.9791 - val_loss: 7.4099 - val_acc: 0.2854\n",
      "Epoch 7/10\n"
     ]
    },
    {
     "name": "stdout",
     "output_type": "stream",
     "text": [
      "3490/3490 [==============================] - ETA: 1:07 - loss: 0.0264 - acc: 1.000 - ETA: 1:05 - loss: 0.0244 - acc: 1.000 - ETA: 1:04 - loss: 0.0271 - acc: 1.000 - ETA: 1:02 - loss: 0.0483 - acc: 0.996 - ETA: 1:01 - loss: 0.0430 - acc: 0.996 - ETA: 1:00 - loss: 0.0503 - acc: 0.994 - ETA: 58s - loss: 0.0568 - acc: 0.993 - ETA: 57s - loss: 0.0530 - acc: 0.99 - ETA: 56s - loss: 0.0520 - acc: 0.99 - ETA: 55s - loss: 0.0494 - acc: 0.99 - ETA: 54s - loss: 0.0509 - acc: 0.99 - ETA: 52s - loss: 0.0485 - acc: 0.99 - ETA: 51s - loss: 0.0537 - acc: 0.99 - ETA: 50s - loss: 0.0518 - acc: 0.99 - ETA: 49s - loss: 0.0535 - acc: 0.99 - ETA: 47s - loss: 0.0517 - acc: 0.99 - ETA: 46s - loss: 0.0507 - acc: 0.99 - ETA: 45s - loss: 0.0535 - acc: 0.99 - ETA: 44s - loss: 0.0518 - acc: 0.99 - ETA: 42s - loss: 0.0532 - acc: 0.99 - ETA: 41s - loss: 0.0521 - acc: 0.99 - ETA: 40s - loss: 0.0507 - acc: 0.99 - ETA: 39s - loss: 0.0493 - acc: 0.99 - ETA: 37s - loss: 0.0518 - acc: 0.99 - ETA: 36s - loss: 0.0508 - acc: 0.99 - ETA: 35s - loss: 0.0520 - acc: 0.99 - ETA: 34s - loss: 0.0513 - acc: 0.99 - ETA: 32s - loss: 0.0545 - acc: 0.99 - ETA: 31s - loss: 0.0535 - acc: 0.99 - ETA: 30s - loss: 0.0559 - acc: 0.98 - ETA: 29s - loss: 0.0579 - acc: 0.98 - ETA: 27s - loss: 0.0571 - acc: 0.98 - ETA: 26s - loss: 0.0559 - acc: 0.98 - ETA: 25s - loss: 0.0557 - acc: 0.98 - ETA: 24s - loss: 0.0556 - acc: 0.98 - ETA: 23s - loss: 0.0545 - acc: 0.98 - ETA: 21s - loss: 0.0537 - acc: 0.98 - ETA: 20s - loss: 0.0529 - acc: 0.99 - ETA: 19s - loss: 0.0536 - acc: 0.98 - ETA: 18s - loss: 0.0551 - acc: 0.98 - ETA: 16s - loss: 0.0573 - acc: 0.98 - ETA: 15s - loss: 0.0568 - acc: 0.98 - ETA: 14s - loss: 0.0610 - acc: 0.98 - ETA: 13s - loss: 0.0624 - acc: 0.98 - ETA: 11s - loss: 0.0625 - acc: 0.98 - ETA: 10s - loss: 0.0618 - acc: 0.98 - ETA: 9s - loss: 0.0626 - acc: 0.9860 - ETA: 8s - loss: 0.0653 - acc: 0.985 - ETA: 6s - loss: 0.0649 - acc: 0.985 - ETA: 5s - loss: 0.0663 - acc: 0.984 - ETA: 4s - loss: 0.0668 - acc: 0.984 - ETA: 3s - loss: 0.0671 - acc: 0.984 - ETA: 1s - loss: 0.0674 - acc: 0.983 - ETA: 0s - loss: 0.0693 - acc: 0.982 - 79s 23ms/step - loss: 0.0692 - acc: 0.9831 - val_loss: 0.5538 - val_acc: 0.8463\n",
      "Epoch 8/10\n",
      "3490/3490 [==============================] - ETA: 1:07 - loss: 0.0365 - acc: 0.984 - ETA: 1:05 - loss: 0.0419 - acc: 0.976 - ETA: 1:03 - loss: 0.0320 - acc: 0.984 - ETA: 1:02 - loss: 0.0374 - acc: 0.988 - ETA: 1:01 - loss: 0.0479 - acc: 0.987 - ETA: 1:00 - loss: 0.0567 - acc: 0.987 - ETA: 59s - loss: 0.0555 - acc: 0.986 - ETA: 57s - loss: 0.0534 - acc: 0.98 - ETA: 56s - loss: 0.0580 - acc: 0.98 - ETA: 55s - loss: 0.0544 - acc: 0.98 - ETA: 54s - loss: 0.0586 - acc: 0.98 - ETA: 52s - loss: 0.0610 - acc: 0.98 - ETA: 51s - loss: 0.0574 - acc: 0.98 - ETA: 50s - loss: 0.0624 - acc: 0.98 - ETA: 49s - loss: 0.0611 - acc: 0.98 - ETA: 47s - loss: 0.0630 - acc: 0.98 - ETA: 46s - loss: 0.0634 - acc: 0.98 - ETA: 45s - loss: 0.0609 - acc: 0.98 - ETA: 44s - loss: 0.0586 - acc: 0.98 - ETA: 42s - loss: 0.0574 - acc: 0.98 - ETA: 41s - loss: 0.0589 - acc: 0.98 - ETA: 40s - loss: 0.0571 - acc: 0.98 - ETA: 39s - loss: 0.0618 - acc: 0.98 - ETA: 37s - loss: 0.0643 - acc: 0.98 - ETA: 36s - loss: 0.0636 - acc: 0.98 - ETA: 35s - loss: 0.0641 - acc: 0.98 - ETA: 34s - loss: 0.0621 - acc: 0.98 - ETA: 32s - loss: 0.0617 - acc: 0.98 - ETA: 31s - loss: 0.0624 - acc: 0.98 - ETA: 30s - loss: 0.0614 - acc: 0.98 - ETA: 29s - loss: 0.0624 - acc: 0.98 - ETA: 28s - loss: 0.0614 - acc: 0.98 - ETA: 26s - loss: 0.0601 - acc: 0.98 - ETA: 25s - loss: 0.0612 - acc: 0.98 - ETA: 24s - loss: 0.0605 - acc: 0.98 - ETA: 23s - loss: 0.0594 - acc: 0.98 - ETA: 21s - loss: 0.0584 - acc: 0.98 - ETA: 20s - loss: 0.0585 - acc: 0.98 - ETA: 19s - loss: 0.0606 - acc: 0.98 - ETA: 18s - loss: 0.0607 - acc: 0.98 - ETA: 16s - loss: 0.0608 - acc: 0.98 - ETA: 15s - loss: 0.0617 - acc: 0.98 - ETA: 14s - loss: 0.0628 - acc: 0.98 - ETA: 13s - loss: 0.0622 - acc: 0.98 - ETA: 11s - loss: 0.0614 - acc: 0.98 - ETA: 10s - loss: 0.0605 - acc: 0.98 - ETA: 9s - loss: 0.0603 - acc: 0.9860 - ETA: 8s - loss: 0.0613 - acc: 0.985 - ETA: 6s - loss: 0.0610 - acc: 0.986 - ETA: 5s - loss: 0.0615 - acc: 0.985 - ETA: 4s - loss: 0.0606 - acc: 0.986 - ETA: 3s - loss: 0.0610 - acc: 0.986 - ETA: 1s - loss: 0.0604 - acc: 0.986 - ETA: 0s - loss: 0.0599 - acc: 0.986 - 79s 23ms/step - loss: 0.0596 - acc: 0.9868 - val_loss: 1.1328 - val_acc: 0.7914\n",
      "Epoch 9/10\n",
      "3490/3490 [==============================] - ETA: 1:05 - loss: 0.0235 - acc: 1.000 - ETA: 1:04 - loss: 0.0495 - acc: 0.992 - ETA: 1:03 - loss: 0.0386 - acc: 0.994 - ETA: 1:02 - loss: 0.0670 - acc: 0.988 - ETA: 1:01 - loss: 0.0610 - acc: 0.990 - ETA: 59s - loss: 0.0544 - acc: 0.992 - ETA: 58s - loss: 0.0567 - acc: 0.99 - ETA: 57s - loss: 0.0596 - acc: 0.99 - ETA: 56s - loss: 0.0553 - acc: 0.99 - ETA: 55s - loss: 0.0589 - acc: 0.99 - ETA: 53s - loss: 0.0548 - acc: 0.99 - ETA: 52s - loss: 0.0515 - acc: 0.99 - ETA: 51s - loss: 0.0486 - acc: 0.99 - ETA: 50s - loss: 0.0469 - acc: 0.99 - ETA: 48s - loss: 0.0503 - acc: 0.99 - ETA: 47s - loss: 0.0519 - acc: 0.99 - ETA: 46s - loss: 0.0498 - acc: 0.99 - ETA: 45s - loss: 0.0518 - acc: 0.99 - ETA: 43s - loss: 0.0540 - acc: 0.99 - ETA: 42s - loss: 0.0546 - acc: 0.99 - ETA: 41s - loss: 0.0530 - acc: 0.99 - ETA: 40s - loss: 0.0541 - acc: 0.99 - ETA: 38s - loss: 0.0526 - acc: 0.99 - ETA: 37s - loss: 0.0517 - acc: 0.99 - ETA: 36s - loss: 0.0526 - acc: 0.99 - ETA: 35s - loss: 0.0512 - acc: 0.99 - ETA: 34s - loss: 0.0500 - acc: 0.99 - ETA: 32s - loss: 0.0513 - acc: 0.99 - ETA: 31s - loss: 0.0509 - acc: 0.99 - ETA: 30s - loss: 0.0505 - acc: 0.99 - ETA: 29s - loss: 0.0553 - acc: 0.98 - ETA: 28s - loss: 0.0554 - acc: 0.98 - ETA: 26s - loss: 0.0585 - acc: 0.98 - ETA: 25s - loss: 0.0583 - acc: 0.98 - ETA: 24s - loss: 0.0585 - acc: 0.98 - ETA: 23s - loss: 0.0574 - acc: 0.98 - ETA: 21s - loss: 0.0583 - acc: 0.98 - ETA: 20s - loss: 0.0575 - acc: 0.98 - ETA: 19s - loss: 0.0564 - acc: 0.98 - ETA: 18s - loss: 0.0555 - acc: 0.98 - ETA: 16s - loss: 0.0550 - acc: 0.98 - ETA: 15s - loss: 0.0545 - acc: 0.98 - ETA: 14s - loss: 0.0538 - acc: 0.98 - ETA: 13s - loss: 0.0539 - acc: 0.98 - ETA: 11s - loss: 0.0545 - acc: 0.98 - ETA: 10s - loss: 0.0537 - acc: 0.98 - ETA: 9s - loss: 0.0531 - acc: 0.9887 - ETA: 8s - loss: 0.0522 - acc: 0.988 - ETA: 6s - loss: 0.0550 - acc: 0.988 - ETA: 5s - loss: 0.0543 - acc: 0.988 - ETA: 4s - loss: 0.0553 - acc: 0.988 - ETA: 3s - loss: 0.0560 - acc: 0.988 - ETA: 1s - loss: 0.0552 - acc: 0.988 - ETA: 0s - loss: 0.0545 - acc: 0.988 - 79s 23ms/step - loss: 0.0541 - acc: 0.9885 - val_loss: 0.6524 - val_acc: 0.8456\n",
      "Epoch 10/10\n"
     ]
    },
    {
     "name": "stdout",
     "output_type": "stream",
     "text": [
      "3490/3490 [==============================] - ETA: 1:06 - loss: 0.0166 - acc: 1.000 - ETA: 1:05 - loss: 0.0141 - acc: 1.000 - ETA: 1:04 - loss: 0.0146 - acc: 1.000 - ETA: 1:02 - loss: 0.0143 - acc: 1.000 - ETA: 1:01 - loss: 0.0249 - acc: 0.996 - ETA: 59s - loss: 0.0365 - acc: 0.994 - ETA: 58s - loss: 0.0341 - acc: 0.99 - ETA: 57s - loss: 0.0450 - acc: 0.99 - ETA: 56s - loss: 0.0475 - acc: 0.99 - ETA: 55s - loss: 0.0455 - acc: 0.99 - ETA: 53s - loss: 0.0529 - acc: 0.99 - ETA: 52s - loss: 0.0549 - acc: 0.98 - ETA: 51s - loss: 0.0515 - acc: 0.99 - ETA: 50s - loss: 0.0488 - acc: 0.99 - ETA: 48s - loss: 0.0471 - acc: 0.99 - ETA: 47s - loss: 0.0531 - acc: 0.99 - ETA: 46s - loss: 0.0509 - acc: 0.99 - ETA: 45s - loss: 0.0509 - acc: 0.99 - ETA: 43s - loss: 0.0498 - acc: 0.99 - ETA: 42s - loss: 0.0513 - acc: 0.99 - ETA: 41s - loss: 0.0497 - acc: 0.99 - ETA: 40s - loss: 0.0489 - acc: 0.99 - ETA: 39s - loss: 0.0505 - acc: 0.99 - ETA: 37s - loss: 0.0490 - acc: 0.99 - ETA: 36s - loss: 0.0503 - acc: 0.99 - ETA: 35s - loss: 0.0490 - acc: 0.99 - ETA: 34s - loss: 0.0479 - acc: 0.99 - ETA: 32s - loss: 0.0491 - acc: 0.99 - ETA: 31s - loss: 0.0480 - acc: 0.99 - ETA: 30s - loss: 0.0488 - acc: 0.99 - ETA: 29s - loss: 0.0500 - acc: 0.99 - ETA: 27s - loss: 0.0510 - acc: 0.98 - ETA: 26s - loss: 0.0526 - acc: 0.98 - ETA: 25s - loss: 0.0515 - acc: 0.98 - ETA: 24s - loss: 0.0525 - acc: 0.98 - ETA: 22s - loss: 0.0514 - acc: 0.98 - ETA: 21s - loss: 0.0504 - acc: 0.98 - ETA: 20s - loss: 0.0512 - acc: 0.98 - ETA: 19s - loss: 0.0510 - acc: 0.98 - ETA: 17s - loss: 0.0500 - acc: 0.98 - ETA: 16s - loss: 0.0498 - acc: 0.98 - ETA: 15s - loss: 0.0520 - acc: 0.98 - ETA: 14s - loss: 0.0512 - acc: 0.98 - ETA: 13s - loss: 0.0518 - acc: 0.98 - ETA: 11s - loss: 0.0509 - acc: 0.98 - ETA: 10s - loss: 0.0501 - acc: 0.98 - ETA: 9s - loss: 0.0493 - acc: 0.9900 - ETA: 8s - loss: 0.0492 - acc: 0.989 - ETA: 6s - loss: 0.0484 - acc: 0.990 - ETA: 5s - loss: 0.0477 - acc: 0.990 - ETA: 4s - loss: 0.0470 - acc: 0.990 - ETA: 3s - loss: 0.0463 - acc: 0.990 - ETA: 1s - loss: 0.0470 - acc: 0.990 - ETA: 0s - loss: 0.0464 - acc: 0.990 - 79s 23ms/step - loss: 0.0461 - acc: 0.9908 - val_loss: 2.7750 - val_acc: 0.6150\n",
      "Accuracy: 61.50%\n"
     ]
    }
   ],
   "source": [
    "output_1 = model_3.fit(x_tr, y_train, nb_epoch=10, batch_size=64,verbose=1,validation_data=(x_te, y_test))\n",
    "# Final evaluation of the model\n",
    "scores = model_3.evaluate(x_te, y_test, verbose=0)\n",
    "print(\"Accuracy: %.2f%%\" % (scores[1]*100))"
   ]
  },
  {
   "cell_type": "code",
   "execution_count": 236,
   "metadata": {},
   "outputs": [
    {
     "data": {
      "image/png": "[encoded data removed]",
      "text/plain": [
       "<Figure size 432x288 with 1 Axes>"
      ]
     },
     "metadata": {},
     "output_type": "display_data"
    }
   ],
   "source": [
    "plot_train_cv_loss(output_1, epochs = 10)"
   ]
  },
  {
   "cell_type": "markdown",
   "metadata": {},
   "source": [
    "### 8) 5-Layered LSTM + BatchNormalization + sigmoid + Adam"
   ]
  },
  {
   "cell_type": "code",
   "execution_count": 237,
   "metadata": {},
   "outputs": [
    {
     "name": "stdout",
     "output_type": "stream",
     "text": [
      "_________________________________________________________________\n",
      "Layer (type)                 Output Shape              Param #   \n",
      "=================================================================\n",
      "embedding_18 (Embedding)     (None, 100, 32)           64032     \n",
      "_________________________________________________________________\n",
      "lstm_27 (LSTM)               (None, 100, 50)           16600     \n",
      "_________________________________________________________________\n",
      "batch_normalization_17 (Batc (None, 100, 50)           200       \n",
      "_________________________________________________________________\n",
      "dense_24 (Dense)             (None, 100, 1)            51        \n",
      "_________________________________________________________________\n",
      "lstm_28 (LSTM)               (None, 100, 40)           6720      \n",
      "_________________________________________________________________\n",
      "batch_normalization_18 (Batc (None, 100, 40)           160       \n",
      "_________________________________________________________________\n",
      "dense_25 (Dense)             (None, 100, 1)            41        \n",
      "_________________________________________________________________\n",
      "lstm_29 (LSTM)               (None, 100, 30)           3840      \n",
      "_________________________________________________________________\n",
      "batch_normalization_19 (Batc (None, 100, 30)           120       \n",
      "_________________________________________________________________\n",
      "lstm_30 (LSTM)               (None, 100, 20)           4080      \n",
      "_________________________________________________________________\n",
      "batch_normalization_20 (Batc (None, 100, 20)           80        \n",
      "_________________________________________________________________\n",
      "lstm_31 (LSTM)               (None, 10)                1240      \n",
      "_________________________________________________________________\n",
      "batch_normalization_21 (Batc (None, 10)                40        \n",
      "_________________________________________________________________\n",
      "dense_26 (Dense)             (None, 1)                 11        \n",
      "=================================================================\n",
      "Total params: 97,215\n",
      "Trainable params: 96,915\n",
      "Non-trainable params: 300\n",
      "_________________________________________________________________\n",
      "None\n"
     ]
    }
   ],
   "source": [
    "model_3 = Sequential()\n",
    "model_3.add(Embedding(top_words+1, embedding_vecor_length, input_length=max_review_length))\n",
    "model_3.add(LSTM(50, return_sequences = True))\n",
    "model_3.add(BatchNormalization())\n",
    "model_3.add(Dense(1, activation='sigmoid'))\n",
    "model_3.add(LSTM(40,return_sequences = True))\n",
    "model_3.add(BatchNormalization())\n",
    "model_3.add(Dense(1, activation = 'sigmoid'))\n",
    "model_3.add(LSTM(30,return_sequences = True))\n",
    "model_3.add(BatchNormalization())\n",
    "model_3.add(LSTM(20,return_sequences = True))\n",
    "model_3.add(BatchNormalization())\n",
    "model_3.add(LSTM(10))\n",
    "model_3.add(BatchNormalization())\n",
    "model_3.add(Dense(1, activation = 'sigmoid'))\n",
    "model_3.compile(loss='binary_crossentropy', optimizer='adam', metrics=['accuracy'])\n",
    "print(model_3.summary())"
   ]
  },
  {
   "cell_type": "code",
   "execution_count": 238,
   "metadata": {},
   "outputs": [
    {
     "name": "stdout",
     "output_type": "stream",
     "text": [
      "Train on 3490 samples, validate on 1496 samples\n",
      "Epoch 1/10\n",
      "3490/3490 [==============================] - ETA: 6:50 - loss: 0.9135 - acc: 0.421 - ETA: 3:54 - loss: 0.8351 - acc: 0.421 - ETA: 2:54 - loss: 0.7957 - acc: 0.442 - ETA: 2:24 - loss: 0.7775 - acc: 0.492 - ETA: 2:05 - loss: 0.7675 - acc: 0.509 - ETA: 1:53 - loss: 0.7648 - acc: 0.513 - ETA: 1:46 - loss: 0.7588 - acc: 0.497 - ETA: 1:39 - loss: 0.7509 - acc: 0.507 - ETA: 1:33 - loss: 0.7490 - acc: 0.506 - ETA: 1:28 - loss: 0.7457 - acc: 0.514 - ETA: 1:23 - loss: 0.7403 - acc: 0.531 - ETA: 1:19 - loss: 0.7372 - acc: 0.537 - ETA: 1:15 - loss: 0.7317 - acc: 0.549 - ETA: 1:12 - loss: 0.7266 - acc: 0.558 - ETA: 1:09 - loss: 0.7218 - acc: 0.561 - ETA: 1:06 - loss: 0.7181 - acc: 0.567 - ETA: 1:03 - loss: 0.7141 - acc: 0.572 - ETA: 1:01 - loss: 0.7105 - acc: 0.572 - ETA: 58s - loss: 0.7079 - acc: 0.572 - ETA: 56s - loss: 0.7045 - acc: 0.57 - ETA: 54s - loss: 0.7020 - acc: 0.57 - ETA: 52s - loss: 0.6992 - acc: 0.57 - ETA: 50s - loss: 0.6964 - acc: 0.57 - ETA: 48s - loss: 0.6944 - acc: 0.57 - ETA: 46s - loss: 0.6926 - acc: 0.57 - ETA: 44s - loss: 0.6904 - acc: 0.58 - ETA: 42s - loss: 0.6895 - acc: 0.57 - ETA: 40s - loss: 0.6871 - acc: 0.58 - ETA: 38s - loss: 0.6849 - acc: 0.58 - ETA: 37s - loss: 0.6835 - acc: 0.58 - ETA: 35s - loss: 0.6809 - acc: 0.59 - ETA: 33s - loss: 0.6797 - acc: 0.59 - ETA: 32s - loss: 0.6778 - acc: 0.59 - ETA: 30s - loss: 0.6770 - acc: 0.60 - ETA: 28s - loss: 0.6748 - acc: 0.60 - ETA: 27s - loss: 0.6733 - acc: 0.60 - ETA: 25s - loss: 0.6708 - acc: 0.60 - ETA: 24s - loss: 0.6689 - acc: 0.61 - ETA: 22s - loss: 0.6670 - acc: 0.61 - ETA: 21s - loss: 0.6654 - acc: 0.61 - ETA: 19s - loss: 0.6639 - acc: 0.61 - ETA: 18s - loss: 0.6629 - acc: 0.61 - ETA: 16s - loss: 0.6610 - acc: 0.62 - ETA: 15s - loss: 0.6600 - acc: 0.62 - ETA: 13s - loss: 0.6596 - acc: 0.62 - ETA: 12s - loss: 0.6573 - acc: 0.63 - ETA: 10s - loss: 0.6557 - acc: 0.63 - ETA: 9s - loss: 0.6550 - acc: 0.6364 - ETA: 7s - loss: 0.6537 - acc: 0.639 - ETA: 6s - loss: 0.6519 - acc: 0.642 - ETA: 4s - loss: 0.6505 - acc: 0.644 - ETA: 3s - loss: 0.6491 - acc: 0.646 - ETA: 2s - loss: 0.6476 - acc: 0.648 - ETA: 0s - loss: 0.6466 - acc: 0.650 - 89s 25ms/step - loss: 0.6460 - acc: 0.6521 - val_loss: 0.4383 - val_acc: 0.8329\n",
      "Epoch 2/10\n",
      "3490/3490 [==============================] - ETA: 1:09 - loss: 0.5472 - acc: 0.828 - ETA: 1:07 - loss: 0.5427 - acc: 0.851 - ETA: 1:05 - loss: 0.5436 - acc: 0.843 - ETA: 1:05 - loss: 0.5317 - acc: 0.859 - ETA: 1:04 - loss: 0.5271 - acc: 0.859 - ETA: 1:02 - loss: 0.5180 - acc: 0.862 - ETA: 1:01 - loss: 0.5171 - acc: 0.857 - ETA: 59s - loss: 0.5106 - acc: 0.859 - ETA: 58s - loss: 0.5058 - acc: 0.85 - ETA: 57s - loss: 0.5030 - acc: 0.85 - ETA: 55s - loss: 0.4996 - acc: 0.85 - ETA: 54s - loss: 0.4966 - acc: 0.85 - ETA: 53s - loss: 0.4923 - acc: 0.85 - ETA: 52s - loss: 0.4875 - acc: 0.85 - ETA: 51s - loss: 0.4882 - acc: 0.85 - ETA: 49s - loss: 0.4910 - acc: 0.85 - ETA: 48s - loss: 0.4921 - acc: 0.85 - ETA: 47s - loss: 0.4864 - acc: 0.85 - ETA: 46s - loss: 0.4816 - acc: 0.85 - ETA: 44s - loss: 0.4823 - acc: 0.85 - ETA: 43s - loss: 0.4834 - acc: 0.85 - ETA: 42s - loss: 0.4821 - acc: 0.86 - ETA: 41s - loss: 0.4790 - acc: 0.86 - ETA: 39s - loss: 0.4747 - acc: 0.86 - ETA: 38s - loss: 0.4732 - acc: 0.86 - ETA: 37s - loss: 0.4720 - acc: 0.86 - ETA: 35s - loss: 0.4734 - acc: 0.86 - ETA: 34s - loss: 0.4724 - acc: 0.86 - ETA: 33s - loss: 0.4708 - acc: 0.86 - ETA: 31s - loss: 0.4674 - acc: 0.86 - ETA: 30s - loss: 0.4653 - acc: 0.86 - ETA: 29s - loss: 0.4642 - acc: 0.86 - ETA: 27s - loss: 0.4667 - acc: 0.86 - ETA: 26s - loss: 0.4661 - acc: 0.86 - ETA: 25s - loss: 0.4635 - acc: 0.86 - ETA: 24s - loss: 0.4643 - acc: 0.86 - ETA: 22s - loss: 0.4649 - acc: 0.86 - ETA: 21s - loss: 0.4667 - acc: 0.86 - ETA: 20s - loss: 0.4647 - acc: 0.86 - ETA: 18s - loss: 0.4636 - acc: 0.86 - ETA: 17s - loss: 0.4634 - acc: 0.86 - ETA: 16s - loss: 0.4609 - acc: 0.86 - ETA: 14s - loss: 0.4581 - acc: 0.86 - ETA: 13s - loss: 0.4558 - acc: 0.86 - ETA: 12s - loss: 0.4572 - acc: 0.86 - ETA: 11s - loss: 0.4576 - acc: 0.86 - ETA: 9s - loss: 0.4544 - acc: 0.8670 - ETA: 8s - loss: 0.4518 - acc: 0.868 - ETA: 7s - loss: 0.4496 - acc: 0.868 - ETA: 5s - loss: 0.4495 - acc: 0.867 - ETA: 4s - loss: 0.4494 - acc: 0.866 - ETA: 3s - loss: 0.4471 - acc: 0.867 - ETA: 2s - loss: 0.4474 - acc: 0.865 - ETA: 0s - loss: 0.4461 - acc: 0.867 - 83s 24ms/step - loss: 0.4452 - acc: 0.8679 - val_loss: 1.0230 - val_acc: 0.1738\n",
      "Epoch 3/10\n",
      "3490/3490 [==============================] - ETA: 1:10 - loss: 0.3089 - acc: 0.953 - ETA: 1:10 - loss: 0.3201 - acc: 0.960 - ETA: 1:08 - loss: 0.3057 - acc: 0.958 - ETA: 1:07 - loss: 0.3133 - acc: 0.957 - ETA: 1:05 - loss: 0.3164 - acc: 0.950 - ETA: 1:04 - loss: 0.3146 - acc: 0.945 - ETA: 1:03 - loss: 0.3110 - acc: 0.944 - ETA: 1:01 - loss: 0.3027 - acc: 0.943 - ETA: 1:00 - loss: 0.3047 - acc: 0.941 - ETA: 59s - loss: 0.3009 - acc: 0.942 - ETA: 57s - loss: 0.2989 - acc: 0.94 - ETA: 57s - loss: 0.2941 - acc: 0.94 - ETA: 55s - loss: 0.2957 - acc: 0.93 - ETA: 54s - loss: 0.2909 - acc: 0.93 - ETA: 52s - loss: 0.2968 - acc: 0.93 - ETA: 51s - loss: 0.2983 - acc: 0.93 - ETA: 50s - loss: 0.2976 - acc: 0.93 - ETA: 49s - loss: 0.3017 - acc: 0.93 - ETA: 47s - loss: 0.3022 - acc: 0.93 - ETA: 46s - loss: 0.3055 - acc: 0.92 - ETA: 45s - loss: 0.3056 - acc: 0.92 - ETA: 43s - loss: 0.3035 - acc: 0.92 - ETA: 42s - loss: 0.3018 - acc: 0.92 - ETA: 41s - loss: 0.3006 - acc: 0.93 - ETA: 39s - loss: 0.2988 - acc: 0.93 - ETA: 38s - loss: 0.2983 - acc: 0.93 - ETA: 37s - loss: 0.3030 - acc: 0.93 - ETA: 35s - loss: 0.3004 - acc: 0.93 - ETA: 34s - loss: 0.2991 - acc: 0.93 - ETA: 32s - loss: 0.2980 - acc: 0.93 - ETA: 31s - loss: 0.2972 - acc: 0.93 - ETA: 30s - loss: 0.3002 - acc: 0.93 - ETA: 28s - loss: 0.2988 - acc: 0.93 - ETA: 27s - loss: 0.2983 - acc: 0.93 - ETA: 25s - loss: 0.2979 - acc: 0.92 - ETA: 24s - loss: 0.2971 - acc: 0.93 - ETA: 23s - loss: 0.2941 - acc: 0.93 - ETA: 21s - loss: 0.2935 - acc: 0.93 - ETA: 20s - loss: 0.2956 - acc: 0.92 - ETA: 19s - loss: 0.2940 - acc: 0.93 - ETA: 17s - loss: 0.2924 - acc: 0.93 - ETA: 16s - loss: 0.2905 - acc: 0.93 - ETA: 15s - loss: 0.2908 - acc: 0.93 - ETA: 13s - loss: 0.2904 - acc: 0.93 - ETA: 12s - loss: 0.2895 - acc: 0.93 - ETA: 11s - loss: 0.2880 - acc: 0.93 - ETA: 9s - loss: 0.2856 - acc: 0.9315 - ETA: 8s - loss: 0.2855 - acc: 0.931 - ETA: 7s - loss: 0.2840 - acc: 0.931 - ETA: 5s - loss: 0.2828 - acc: 0.931 - ETA: 4s - loss: 0.2838 - acc: 0.931 - ETA: 3s - loss: 0.2826 - acc: 0.931 - ETA: 2s - loss: 0.2829 - acc: 0.930 - ETA: 0s - loss: 0.2824 - acc: 0.930 - 83s 24ms/step - loss: 0.2834 - acc: 0.9301 - val_loss: 0.9834 - val_acc: 0.8255\n",
      "Epoch 4/10\n"
     ]
    },
    {
     "name": "stdout",
     "output_type": "stream",
     "text": [
      "3490/3490 [==============================] - ETA: 1:07 - loss: 0.2139 - acc: 0.937 - ETA: 1:05 - loss: 0.2040 - acc: 0.945 - ETA: 1:04 - loss: 0.1988 - acc: 0.937 - ETA: 1:03 - loss: 0.2074 - acc: 0.941 - ETA: 1:01 - loss: 0.2139 - acc: 0.940 - ETA: 1:00 - loss: 0.2139 - acc: 0.942 - ETA: 59s - loss: 0.2012 - acc: 0.948 - ETA: 57s - loss: 0.2009 - acc: 0.94 - ETA: 56s - loss: 0.2023 - acc: 0.94 - ETA: 55s - loss: 0.2057 - acc: 0.94 - ETA: 54s - loss: 0.2030 - acc: 0.95 - ETA: 53s - loss: 0.2036 - acc: 0.95 - ETA: 51s - loss: 0.2123 - acc: 0.94 - ETA: 50s - loss: 0.2096 - acc: 0.94 - ETA: 49s - loss: 0.2119 - acc: 0.94 - ETA: 48s - loss: 0.2081 - acc: 0.95 - ETA: 46s - loss: 0.2068 - acc: 0.95 - ETA: 45s - loss: 0.2038 - acc: 0.95 - ETA: 44s - loss: 0.1997 - acc: 0.95 - ETA: 43s - loss: 0.1986 - acc: 0.95 - ETA: 41s - loss: 0.1931 - acc: 0.95 - ETA: 40s - loss: 0.1899 - acc: 0.95 - ETA: 39s - loss: 0.1864 - acc: 0.95 - ETA: 38s - loss: 0.1827 - acc: 0.95 - ETA: 36s - loss: 0.1913 - acc: 0.95 - ETA: 35s - loss: 0.1881 - acc: 0.95 - ETA: 34s - loss: 0.1868 - acc: 0.95 - ETA: 33s - loss: 0.1849 - acc: 0.95 - ETA: 31s - loss: 0.1850 - acc: 0.95 - ETA: 30s - loss: 0.1816 - acc: 0.95 - ETA: 29s - loss: 0.1830 - acc: 0.95 - ETA: 28s - loss: 0.1840 - acc: 0.95 - ETA: 26s - loss: 0.1837 - acc: 0.96 - ETA: 25s - loss: 0.1831 - acc: 0.96 - ETA: 24s - loss: 0.1824 - acc: 0.96 - ETA: 23s - loss: 0.1805 - acc: 0.96 - ETA: 21s - loss: 0.1822 - acc: 0.96 - ETA: 20s - loss: 0.1818 - acc: 0.95 - ETA: 19s - loss: 0.1821 - acc: 0.95 - ETA: 18s - loss: 0.1825 - acc: 0.95 - ETA: 16s - loss: 0.1810 - acc: 0.95 - ETA: 15s - loss: 0.1833 - acc: 0.95 - ETA: 14s - loss: 0.1847 - acc: 0.95 - ETA: 13s - loss: 0.1849 - acc: 0.95 - ETA: 11s - loss: 0.1844 - acc: 0.95 - ETA: 10s - loss: 0.1831 - acc: 0.95 - ETA: 9s - loss: 0.1833 - acc: 0.9581 - ETA: 8s - loss: 0.1830 - acc: 0.958 - ETA: 6s - loss: 0.1807 - acc: 0.959 - ETA: 5s - loss: 0.1819 - acc: 0.958 - ETA: 4s - loss: 0.1814 - acc: 0.958 - ETA: 3s - loss: 0.1800 - acc: 0.958 - ETA: 1s - loss: 0.1792 - acc: 0.958 - ETA: 0s - loss: 0.1790 - acc: 0.958 - 80s 23ms/step - loss: 0.1787 - acc: 0.9585 - val_loss: 0.6889 - val_acc: 0.7774\n",
      "Epoch 5/10\n",
      "3490/3490 [==============================] - ETA: 1:07 - loss: 0.1115 - acc: 0.984 - ETA: 1:05 - loss: 0.1383 - acc: 0.976 - ETA: 1:04 - loss: 0.1315 - acc: 0.979 - ETA: 1:02 - loss: 0.1361 - acc: 0.976 - ETA: 1:01 - loss: 0.1360 - acc: 0.975 - ETA: 1:00 - loss: 0.1346 - acc: 0.976 - ETA: 58s - loss: 0.1287 - acc: 0.977 - ETA: 57s - loss: 0.1275 - acc: 0.97 - ETA: 56s - loss: 0.1242 - acc: 0.97 - ETA: 55s - loss: 0.1302 - acc: 0.97 - ETA: 54s - loss: 0.1292 - acc: 0.97 - ETA: 52s - loss: 0.1276 - acc: 0.97 - ETA: 51s - loss: 0.1240 - acc: 0.97 - ETA: 50s - loss: 0.1209 - acc: 0.97 - ETA: 49s - loss: 0.1216 - acc: 0.97 - ETA: 47s - loss: 0.1215 - acc: 0.97 - ETA: 46s - loss: 0.1181 - acc: 0.97 - ETA: 45s - loss: 0.1172 - acc: 0.97 - ETA: 44s - loss: 0.1198 - acc: 0.97 - ETA: 42s - loss: 0.1183 - acc: 0.97 - ETA: 41s - loss: 0.1188 - acc: 0.97 - ETA: 40s - loss: 0.1161 - acc: 0.97 - ETA: 39s - loss: 0.1142 - acc: 0.97 - ETA: 37s - loss: 0.1153 - acc: 0.97 - ETA: 36s - loss: 0.1153 - acc: 0.97 - ETA: 35s - loss: 0.1164 - acc: 0.97 - ETA: 34s - loss: 0.1143 - acc: 0.97 - ETA: 32s - loss: 0.1158 - acc: 0.97 - ETA: 31s - loss: 0.1174 - acc: 0.97 - ETA: 30s - loss: 0.1185 - acc: 0.97 - ETA: 29s - loss: 0.1181 - acc: 0.97 - ETA: 27s - loss: 0.1221 - acc: 0.97 - ETA: 26s - loss: 0.1224 - acc: 0.97 - ETA: 25s - loss: 0.1224 - acc: 0.97 - ETA: 24s - loss: 0.1213 - acc: 0.97 - ETA: 23s - loss: 0.1218 - acc: 0.97 - ETA: 21s - loss: 0.1242 - acc: 0.97 - ETA: 20s - loss: 0.1232 - acc: 0.97 - ETA: 19s - loss: 0.1273 - acc: 0.96 - ETA: 18s - loss: 0.1288 - acc: 0.96 - ETA: 16s - loss: 0.1293 - acc: 0.96 - ETA: 15s - loss: 0.1292 - acc: 0.96 - ETA: 14s - loss: 0.1294 - acc: 0.96 - ETA: 13s - loss: 0.1285 - acc: 0.96 - ETA: 11s - loss: 0.1290 - acc: 0.96 - ETA: 10s - loss: 0.1293 - acc: 0.96 - ETA: 9s - loss: 0.1277 - acc: 0.9684 - ETA: 8s - loss: 0.1270 - acc: 0.968 - ETA: 6s - loss: 0.1252 - acc: 0.969 - ETA: 5s - loss: 0.1271 - acc: 0.968 - ETA: 4s - loss: 0.1288 - acc: 0.967 - ETA: 3s - loss: 0.1300 - acc: 0.966 - ETA: 1s - loss: 0.1285 - acc: 0.967 - ETA: 0s - loss: 0.1308 - acc: 0.966 - 79s 23ms/step - loss: 0.1323 - acc: 0.9662 - val_loss: 0.5829 - val_acc: 0.8275\n",
      "Epoch 6/10\n",
      "3490/3490 [==============================] - ETA: 1:06 - loss: 0.1405 - acc: 0.953 - ETA: 1:04 - loss: 0.1258 - acc: 0.960 - ETA: 1:03 - loss: 0.1305 - acc: 0.953 - ETA: 1:02 - loss: 0.1371 - acc: 0.953 - ETA: 1:01 - loss: 0.1326 - acc: 0.956 - ETA: 1:00 - loss: 0.1222 - acc: 0.963 - ETA: 58s - loss: 0.1248 - acc: 0.964 - ETA: 57s - loss: 0.1207 - acc: 0.96 - ETA: 56s - loss: 0.1389 - acc: 0.96 - ETA: 55s - loss: 0.1360 - acc: 0.96 - ETA: 54s - loss: 0.1301 - acc: 0.96 - ETA: 53s - loss: 0.1360 - acc: 0.96 - ETA: 51s - loss: 0.1310 - acc: 0.96 - ETA: 50s - loss: 0.1264 - acc: 0.96 - ETA: 49s - loss: 0.1276 - acc: 0.96 - ETA: 48s - loss: 0.1250 - acc: 0.96 - ETA: 46s - loss: 0.1225 - acc: 0.96 - ETA: 45s - loss: 0.1195 - acc: 0.96 - ETA: 44s - loss: 0.1177 - acc: 0.96 - ETA: 43s - loss: 0.1195 - acc: 0.96 - ETA: 41s - loss: 0.1282 - acc: 0.96 - ETA: 40s - loss: 0.1273 - acc: 0.96 - ETA: 39s - loss: 0.1305 - acc: 0.96 - ETA: 38s - loss: 0.1295 - acc: 0.96 - ETA: 36s - loss: 0.1285 - acc: 0.96 - ETA: 35s - loss: 0.1289 - acc: 0.96 - ETA: 34s - loss: 0.1271 - acc: 0.96 - ETA: 33s - loss: 0.1262 - acc: 0.96 - ETA: 31s - loss: 0.1266 - acc: 0.96 - ETA: 30s - loss: 0.1243 - acc: 0.96 - ETA: 29s - loss: 0.1283 - acc: 0.96 - ETA: 28s - loss: 0.1301 - acc: 0.96 - ETA: 26s - loss: 0.1275 - acc: 0.96 - ETA: 25s - loss: 0.1260 - acc: 0.96 - ETA: 24s - loss: 0.1285 - acc: 0.96 - ETA: 23s - loss: 0.1262 - acc: 0.96 - ETA: 21s - loss: 0.1248 - acc: 0.96 - ETA: 20s - loss: 0.1304 - acc: 0.96 - ETA: 19s - loss: 0.1293 - acc: 0.96 - ETA: 18s - loss: 0.1291 - acc: 0.96 - ETA: 16s - loss: 0.1287 - acc: 0.96 - ETA: 15s - loss: 0.1332 - acc: 0.96 - ETA: 14s - loss: 0.1318 - acc: 0.96 - ETA: 13s - loss: 0.1310 - acc: 0.96 - ETA: 11s - loss: 0.1304 - acc: 0.96 - ETA: 10s - loss: 0.1290 - acc: 0.96 - ETA: 9s - loss: 0.1285 - acc: 0.9668 - ETA: 8s - loss: 0.1290 - acc: 0.966 - ETA: 6s - loss: 0.1295 - acc: 0.966 - ETA: 5s - loss: 0.1301 - acc: 0.965 - ETA: 4s - loss: 0.1289 - acc: 0.966 - ETA: 3s - loss: 0.1269 - acc: 0.966 - ETA: 1s - loss: 0.1262 - acc: 0.967 - ETA: 0s - loss: 0.1249 - acc: 0.967 - 79s 23ms/step - loss: 0.1284 - acc: 0.9676 - val_loss: 0.6759 - val_acc: 0.8422\n",
      "Epoch 7/10\n"
     ]
    },
    {
     "name": "stdout",
     "output_type": "stream",
     "text": [
      "3490/3490 [==============================] - ETA: 1:06 - loss: 0.0730 - acc: 0.984 - ETA: 1:05 - loss: 0.0470 - acc: 0.992 - ETA: 1:04 - loss: 0.0545 - acc: 0.989 - ETA: 1:02 - loss: 0.0535 - acc: 0.992 - ETA: 1:01 - loss: 0.0601 - acc: 0.987 - ETA: 1:00 - loss: 0.0753 - acc: 0.984 - ETA: 58s - loss: 0.0757 - acc: 0.982 - ETA: 57s - loss: 0.0793 - acc: 0.98 - ETA: 56s - loss: 0.0931 - acc: 0.97 - ETA: 55s - loss: 0.0918 - acc: 0.97 - ETA: 54s - loss: 0.0922 - acc: 0.98 - ETA: 52s - loss: 0.0962 - acc: 0.97 - ETA: 51s - loss: 0.0932 - acc: 0.97 - ETA: 50s - loss: 0.0894 - acc: 0.97 - ETA: 48s - loss: 0.0864 - acc: 0.98 - ETA: 47s - loss: 0.0882 - acc: 0.97 - ETA: 46s - loss: 0.0849 - acc: 0.98 - ETA: 45s - loss: 0.0846 - acc: 0.98 - ETA: 44s - loss: 0.0815 - acc: 0.98 - ETA: 42s - loss: 0.0831 - acc: 0.98 - ETA: 41s - loss: 0.0839 - acc: 0.98 - ETA: 40s - loss: 0.0837 - acc: 0.98 - ETA: 39s - loss: 0.0861 - acc: 0.97 - ETA: 37s - loss: 0.0845 - acc: 0.97 - ETA: 36s - loss: 0.0821 - acc: 0.98 - ETA: 35s - loss: 0.0809 - acc: 0.98 - ETA: 34s - loss: 0.0818 - acc: 0.98 - ETA: 32s - loss: 0.0814 - acc: 0.98 - ETA: 31s - loss: 0.0803 - acc: 0.98 - ETA: 30s - loss: 0.0782 - acc: 0.98 - ETA: 29s - loss: 0.0768 - acc: 0.98 - ETA: 28s - loss: 0.0849 - acc: 0.98 - ETA: 26s - loss: 0.0851 - acc: 0.98 - ETA: 25s - loss: 0.0896 - acc: 0.98 - ETA: 24s - loss: 0.0929 - acc: 0.97 - ETA: 23s - loss: 0.0954 - acc: 0.97 - ETA: 21s - loss: 0.0954 - acc: 0.97 - ETA: 20s - loss: 0.0946 - acc: 0.97 - ETA: 19s - loss: 0.0965 - acc: 0.97 - ETA: 18s - loss: 0.0981 - acc: 0.97 - ETA: 16s - loss: 0.0974 - acc: 0.97 - ETA: 15s - loss: 0.0974 - acc: 0.97 - ETA: 14s - loss: 0.0958 - acc: 0.97 - ETA: 13s - loss: 0.0953 - acc: 0.97 - ETA: 11s - loss: 0.0956 - acc: 0.97 - ETA: 10s - loss: 0.0963 - acc: 0.97 - ETA: 9s - loss: 0.0957 - acc: 0.9767 - ETA: 8s - loss: 0.0970 - acc: 0.976 - ETA: 7s - loss: 0.0993 - acc: 0.975 - ETA: 5s - loss: 0.0983 - acc: 0.975 - ETA: 4s - loss: 0.0991 - acc: 0.975 - ETA: 3s - loss: 0.0982 - acc: 0.975 - ETA: 1s - loss: 0.0999 - acc: 0.975 - ETA: 0s - loss: 0.0992 - acc: 0.976 - 81s 23ms/step - loss: 0.0989 - acc: 0.9765 - val_loss: 0.4704 - val_acc: 0.8349\n",
      "Epoch 8/10\n",
      "3490/3490 [==============================] - ETA: 1:08 - loss: 0.1808 - acc: 0.921 - ETA: 1:08 - loss: 0.1268 - acc: 0.960 - ETA: 1:06 - loss: 0.1074 - acc: 0.968 - ETA: 1:05 - loss: 0.0943 - acc: 0.976 - ETA: 1:03 - loss: 0.1265 - acc: 0.965 - ETA: 1:02 - loss: 0.1149 - acc: 0.968 - ETA: 1:00 - loss: 0.1138 - acc: 0.971 - ETA: 59s - loss: 0.1089 - acc: 0.970 - ETA: 57s - loss: 0.1102 - acc: 0.96 - ETA: 56s - loss: 0.1012 - acc: 0.97 - ETA: 55s - loss: 0.1003 - acc: 0.97 - ETA: 53s - loss: 0.0995 - acc: 0.97 - ETA: 52s - loss: 0.0952 - acc: 0.97 - ETA: 51s - loss: 0.0974 - acc: 0.97 - ETA: 49s - loss: 0.1039 - acc: 0.97 - ETA: 48s - loss: 0.1028 - acc: 0.97 - ETA: 47s - loss: 0.0983 - acc: 0.97 - ETA: 46s - loss: 0.0950 - acc: 0.97 - ETA: 44s - loss: 0.0974 - acc: 0.97 - ETA: 43s - loss: 0.0974 - acc: 0.97 - ETA: 42s - loss: 0.0954 - acc: 0.97 - ETA: 41s - loss: 0.0929 - acc: 0.97 - ETA: 40s - loss: 0.0932 - acc: 0.97 - ETA: 38s - loss: 0.0907 - acc: 0.97 - ETA: 37s - loss: 0.0906 - acc: 0.97 - ETA: 36s - loss: 0.0883 - acc: 0.97 - ETA: 34s - loss: 0.0882 - acc: 0.97 - ETA: 33s - loss: 0.0868 - acc: 0.97 - ETA: 32s - loss: 0.0861 - acc: 0.98 - ETA: 31s - loss: 0.0846 - acc: 0.98 - ETA: 29s - loss: 0.0829 - acc: 0.98 - ETA: 28s - loss: 0.0812 - acc: 0.98 - ETA: 27s - loss: 0.0803 - acc: 0.98 - ETA: 26s - loss: 0.0791 - acc: 0.98 - ETA: 24s - loss: 0.0774 - acc: 0.98 - ETA: 23s - loss: 0.0766 - acc: 0.98 - ETA: 22s - loss: 0.0755 - acc: 0.98 - ETA: 20s - loss: 0.0766 - acc: 0.98 - ETA: 19s - loss: 0.0752 - acc: 0.98 - ETA: 18s - loss: 0.0746 - acc: 0.98 - ETA: 17s - loss: 0.0748 - acc: 0.98 - ETA: 15s - loss: 0.0775 - acc: 0.98 - ETA: 14s - loss: 0.0770 - acc: 0.98 - ETA: 13s - loss: 0.0761 - acc: 0.98 - ETA: 12s - loss: 0.0751 - acc: 0.98 - ETA: 10s - loss: 0.0737 - acc: 0.98 - ETA: 9s - loss: 0.0748 - acc: 0.9837 - ETA: 8s - loss: 0.0739 - acc: 0.984 - ETA: 7s - loss: 0.0742 - acc: 0.984 - ETA: 5s - loss: 0.0760 - acc: 0.983 - ETA: 4s - loss: 0.0752 - acc: 0.983 - ETA: 3s - loss: 0.0743 - acc: 0.983 - ETA: 1s - loss: 0.0756 - acc: 0.983 - ETA: 0s - loss: 0.0765 - acc: 0.982 - 81s 23ms/step - loss: 0.0770 - acc: 0.9828 - val_loss: 2.2194 - val_acc: 0.7039\n",
      "Epoch 9/10\n",
      "3490/3490 [==============================] - ETA: 1:08 - loss: 0.0227 - acc: 1.000 - ETA: 1:06 - loss: 0.0268 - acc: 1.000 - ETA: 1:04 - loss: 0.0668 - acc: 0.979 - ETA: 1:03 - loss: 0.0985 - acc: 0.972 - ETA: 1:02 - loss: 0.0916 - acc: 0.978 - ETA: 1:00 - loss: 0.0882 - acc: 0.976 - ETA: 59s - loss: 0.0921 - acc: 0.975 - ETA: 58s - loss: 0.0872 - acc: 0.97 - ETA: 56s - loss: 0.0815 - acc: 0.97 - ETA: 55s - loss: 0.0751 - acc: 0.97 - ETA: 54s - loss: 0.0812 - acc: 0.97 - ETA: 53s - loss: 0.0777 - acc: 0.97 - ETA: 51s - loss: 0.0738 - acc: 0.98 - ETA: 50s - loss: 0.0712 - acc: 0.98 - ETA: 49s - loss: 0.0676 - acc: 0.98 - ETA: 48s - loss: 0.0652 - acc: 0.98 - ETA: 46s - loss: 0.0622 - acc: 0.98 - ETA: 45s - loss: 0.0598 - acc: 0.98 - ETA: 44s - loss: 0.0583 - acc: 0.98 - ETA: 43s - loss: 0.0591 - acc: 0.98 - ETA: 41s - loss: 0.0571 - acc: 0.98 - ETA: 40s - loss: 0.0614 - acc: 0.98 - ETA: 39s - loss: 0.0667 - acc: 0.98 - ETA: 38s - loss: 0.0676 - acc: 0.98 - ETA: 36s - loss: 0.0665 - acc: 0.98 - ETA: 35s - loss: 0.0668 - acc: 0.98 - ETA: 34s - loss: 0.0652 - acc: 0.98 - ETA: 33s - loss: 0.0659 - acc: 0.98 - ETA: 31s - loss: 0.0645 - acc: 0.98 - ETA: 30s - loss: 0.0667 - acc: 0.98 - ETA: 29s - loss: 0.0655 - acc: 0.98 - ETA: 28s - loss: 0.0652 - acc: 0.98 - ETA: 26s - loss: 0.0644 - acc: 0.98 - ETA: 25s - loss: 0.0673 - acc: 0.98 - ETA: 24s - loss: 0.0662 - acc: 0.98 - ETA: 23s - loss: 0.0650 - acc: 0.98 - ETA: 21s - loss: 0.0644 - acc: 0.98 - ETA: 20s - loss: 0.0634 - acc: 0.98 - ETA: 19s - loss: 0.0624 - acc: 0.98 - ETA: 18s - loss: 0.0630 - acc: 0.98 - ETA: 16s - loss: 0.0619 - acc: 0.98 - ETA: 15s - loss: 0.0610 - acc: 0.98 - ETA: 14s - loss: 0.0631 - acc: 0.98 - ETA: 13s - loss: 0.0623 - acc: 0.98 - ETA: 11s - loss: 0.0621 - acc: 0.98 - ETA: 10s - loss: 0.0614 - acc: 0.98 - ETA: 9s - loss: 0.0607 - acc: 0.9860 - ETA: 8s - loss: 0.0596 - acc: 0.986 - ETA: 6s - loss: 0.0588 - acc: 0.986 - ETA: 5s - loss: 0.0581 - acc: 0.986 - ETA: 4s - loss: 0.0586 - acc: 0.986 - ETA: 3s - loss: 0.0595 - acc: 0.986 - ETA: 1s - loss: 0.0587 - acc: 0.986 - ETA: 0s - loss: 0.0584 - acc: 0.986 - 80s 23ms/step - loss: 0.0581 - acc: 0.9865 - val_loss: 0.7544 - val_acc: 0.8556\n",
      "Epoch 10/10\n"
     ]
    },
    {
     "name": "stdout",
     "output_type": "stream",
     "text": [
      "3490/3490 [==============================] - ETA: 1:07 - loss: 0.0204 - acc: 1.000 - ETA: 1:05 - loss: 0.0275 - acc: 1.000 - ETA: 1:04 - loss: 0.0244 - acc: 1.000 - ETA: 1:03 - loss: 0.0341 - acc: 0.996 - ETA: 1:02 - loss: 0.0293 - acc: 0.996 - ETA: 1:01 - loss: 0.0292 - acc: 0.994 - ETA: 59s - loss: 0.0278 - acc: 0.995 - ETA: 58s - loss: 0.0263 - acc: 0.99 - ETA: 57s - loss: 0.0408 - acc: 0.99 - ETA: 55s - loss: 0.0382 - acc: 0.99 - ETA: 54s - loss: 0.0417 - acc: 0.99 - ETA: 53s - loss: 0.0388 - acc: 0.99 - ETA: 52s - loss: 0.0367 - acc: 0.99 - ETA: 50s - loss: 0.0375 - acc: 0.99 - ETA: 49s - loss: 0.0402 - acc: 0.99 - ETA: 48s - loss: 0.0419 - acc: 0.99 - ETA: 46s - loss: 0.0444 - acc: 0.99 - ETA: 45s - loss: 0.0451 - acc: 0.99 - ETA: 44s - loss: 0.0432 - acc: 0.99 - ETA: 43s - loss: 0.0420 - acc: 0.99 - ETA: 41s - loss: 0.0452 - acc: 0.99 - ETA: 40s - loss: 0.0439 - acc: 0.99 - ETA: 39s - loss: 0.0480 - acc: 0.99 - ETA: 38s - loss: 0.0472 - acc: 0.99 - ETA: 36s - loss: 0.0483 - acc: 0.99 - ETA: 35s - loss: 0.0474 - acc: 0.99 - ETA: 34s - loss: 0.0507 - acc: 0.99 - ETA: 33s - loss: 0.0520 - acc: 0.99 - ETA: 31s - loss: 0.0527 - acc: 0.99 - ETA: 30s - loss: 0.0520 - acc: 0.99 - ETA: 29s - loss: 0.0510 - acc: 0.99 - ETA: 28s - loss: 0.0500 - acc: 0.99 - ETA: 26s - loss: 0.0499 - acc: 0.99 - ETA: 25s - loss: 0.0491 - acc: 0.99 - ETA: 24s - loss: 0.0485 - acc: 0.99 - ETA: 23s - loss: 0.0487 - acc: 0.99 - ETA: 21s - loss: 0.0479 - acc: 0.99 - ETA: 20s - loss: 0.0469 - acc: 0.99 - ETA: 19s - loss: 0.0462 - acc: 0.99 - ETA: 18s - loss: 0.0456 - acc: 0.99 - ETA: 16s - loss: 0.0467 - acc: 0.99 - ETA: 15s - loss: 0.0460 - acc: 0.99 - ETA: 14s - loss: 0.0455 - acc: 0.99 - ETA: 13s - loss: 0.0448 - acc: 0.99 - ETA: 11s - loss: 0.0442 - acc: 0.99 - ETA: 10s - loss: 0.0439 - acc: 0.99 - ETA: 9s - loss: 0.0444 - acc: 0.9927 - ETA: 8s - loss: 0.0442 - acc: 0.992 - ETA: 6s - loss: 0.0438 - acc: 0.993 - ETA: 5s - loss: 0.0432 - acc: 0.993 - ETA: 4s - loss: 0.0427 - acc: 0.993 - ETA: 3s - loss: 0.0427 - acc: 0.993 - ETA: 1s - loss: 0.0423 - acc: 0.993 - ETA: 0s - loss: 0.0423 - acc: 0.993 - 80s 23ms/step - loss: 0.0420 - acc: 0.9934 - val_loss: 0.9234 - val_acc: 0.8469\n",
      "Accuracy: 84.69%\n"
     ]
    }
   ],
   "source": [
    "output_2 = model_3.fit(x_tr, y_train, nb_epoch=10, batch_size=64,verbose=1,validation_data=(x_te, y_test))\n",
    "# Final evaluation of the model\n",
    "scores = model_3.evaluate(x_te, y_test, verbose=0)\n",
    "print(\"Accuracy: %.2f%%\" % (scores[1]*100))"
   ]
  },
  {
   "cell_type": "code",
   "execution_count": 239,
   "metadata": {},
   "outputs": [
    {
     "name": "stdout",
     "output_type": "stream",
     "text": [
      "Accuracy: 84.69%\n"
     ]
    }
   ],
   "source": [
    "print(\"Accuracy: %.2f%%\" % (scores[1]*100))"
   ]
  },
  {
   "cell_type": "code",
   "execution_count": 240,
   "metadata": {},
   "outputs": [
    {
     "data": {
      "image/png": "[encoded data removed]",
      "text/plain": [
       "<Figure size 432x288 with 1 Axes>"
      ]
     },
     "metadata": {},
     "output_type": "display_data"
    }
   ],
   "source": [
    "plot_train_cv_loss(output_2, epochs = 10)"
   ]
  },
  {
   "cell_type": "markdown",
   "metadata": {},
   "source": [
    "## Conclustion"
   ]
  },
  {
   "attachments": {
    "image.png": {
     "image/png": "[encoded data removed]"
    }
   },
   "cell_type": "markdown",
   "metadata": {},
   "source": [
    "![image.png](attachment:image.png)"
   ]
  },
  {
   "cell_type": "markdown",
   "metadata": {},
   "source": [
    "1) From the above tabel we got one layered LSTM with adam optimizer of accuracy 85.9%\n",
    "\n",
    "2) we just took 5k reviews, if we took more data points the accuracy will be increased, due to less computational resources we limited our study to 5k data points\n",
    "\n",
    "3) By appling the Batchnormalization and dropouts the generalization error is less"
   ]
  },
  {
   "cell_type": "code",
   "execution_count": null,
   "metadata": {},
   "outputs": [],
   "source": []
  }
 ],
 "metadata": {
  "colab": {
   "name": "11 Amazon Fine Food Reviews Analysis_Truncated SVD.ipynb",
   "provenance": [],
   "version": "0.3.2"
  },
  "kernelspec": {
   "display_name": "Python 3",
   "language": "python",
   "name": "python3"
  },
  "language_info": {
   "codemirror_mode": {
    "name": "ipython",
    "version": 3
   },
   "file_extension": ".py",
   "mimetype": "text/x-python",
   "name": "python",
   "nbconvert_exporter": "python",
   "pygments_lexer": "ipython3",
   "version": "3.6.5"
  }
 },
 "nbformat": 4,
 "nbformat_minor": 1
}
