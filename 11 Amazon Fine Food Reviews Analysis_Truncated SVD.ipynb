{
 "cells": [
  {
   "cell_type": "markdown",
   "metadata": {
    "colab_type": "text",
    "id": "jNC8HEoBChWf"
   },
   "source": [
    "# Amazon Fine Food Reviews Analysis\n",
    "\n",
    "\n",
    "Data Source: https://www.kaggle.com/snap/amazon-fine-food-reviews <br>\n",
    "\n",
    "EDA: https://nycdatascience.com/blog/student-works/amazon-fine-foods-visualization/\n",
    "\n",
    "\n",
    "The Amazon Fine Food Reviews dataset consists of reviews of fine foods from Amazon.<br>\n",
    "\n",
    "Number of reviews: 568,454<br>\n",
    "Number of users: 256,059<br>\n",
    "Number of products: 74,258<br>\n",
    "Timespan: Oct 1999 - Oct 2012<br>\n",
    "Number of Attributes/Columns in data: 10 \n",
    "\n",
    "Attribute Information:\n",
    "\n",
    "1. Id\n",
    "2. ProductId - unique identifier for the product\n",
    "3. UserId - unqiue identifier for the user\n",
    "4. ProfileName\n",
    "5. HelpfulnessNumerator - number of users who found the review helpful\n",
    "6. HelpfulnessDenominator - number of users who indicated whether they found the review helpful or not\n",
    "7. Score - rating between 1 and 5\n",
    "8. Time - timestamp for the review\n",
    "9. Summary - brief summary of the review\n",
    "10. Text - text of the review\n",
    "\n",
    "\n",
    "#### Objective:\n",
    "Given a review, determine whether the review is positive (rating of 4 or 5) or negative (rating of 1 or 2).\n",
    "\n",
    "<br>\n",
    "[Q] How to determine if a review is positive or negative?<br>\n",
    "<br> \n",
    "[Ans] We could use Score/Rating. A rating of 4 or 5 can be cosnidered as a positive review. A rating of 1 or 2 can be considered as negative one. A review of rating 3 is considered nuetral and such reviews are ignored from our analysis. This is an approximate and proxy way of determining the polarity (positivity/negativity) of a review.\n",
    "\n",
    "\n"
   ]
  },
  {
   "cell_type": "markdown",
   "metadata": {
    "colab_type": "text",
    "id": "8wugXnjtChWj"
   },
   "source": [
    "# [1]. Reading Data"
   ]
  },
  {
   "cell_type": "markdown",
   "metadata": {
    "colab_type": "text",
    "id": "YmKFSMRoChWm"
   },
   "source": [
    "## [1.1] Loading the data\n",
    "\n",
    "The dataset is available in two forms\n",
    "1. .csv file\n",
    "2. SQLite Database\n",
    "\n",
    "In order to load the data, We have used the SQLITE dataset as it is easier to query the data and visualise the data efficiently.\n",
    "<br> \n",
    "\n",
    "Here as we only want to get the global sentiment of the recommendations (positive or negative), we will purposefully ignore all Scores equal to 3. If the score is above 3, then the recommendation wil be set to \"positive\". Otherwise, it will be set to \"negative\"."
   ]
  },
  {
   "cell_type": "code",
   "execution_count": 1,
   "metadata": {
    "colab": {},
    "colab_type": "code",
    "id": "Q_rK3P8xChWq"
   },
   "outputs": [
    {
     "name": "stderr",
     "output_type": "stream",
     "text": [
      "C:\\ProgramData\\Anaconda3\\lib\\site-packages\\gensim\\utils.py:1197: UserWarning: detected Windows; aliasing chunkize to chunkize_serial\n",
      "  warnings.warn(\"detected Windows; aliasing chunkize to chunkize_serial\")\n"
     ]
    }
   ],
   "source": [
    "%matplotlib inline\n",
    "import warnings\n",
    "warnings.filterwarnings(\"ignore\")\n",
    "\n",
    "\n",
    "import sqlite3\n",
    "import pandas as pd\n",
    "import numpy as np\n",
    "import nltk\n",
    "import string\n",
    "import matplotlib.pyplot as plt\n",
    "import seaborn as sns\n",
    "from sklearn.feature_extraction.text import TfidfTransformer\n",
    "from sklearn.feature_extraction.text import TfidfVectorizer\n",
    "\n",
    "from sklearn.feature_extraction.text import CountVectorizer\n",
    "from sklearn.metrics import confusion_matrix\n",
    "from sklearn import metrics\n",
    "from sklearn.metrics import roc_curve, auc\n",
    "from nltk.stem.porter import PorterStemmer\n",
    "\n",
    "import re\n",
    "# Tutorial about Python regular expressions: https://pymotw.com/2/re/\n",
    "import string\n",
    "from nltk.corpus import stopwords\n",
    "from nltk.stem import PorterStemmer\n",
    "from nltk.stem.wordnet import WordNetLemmatizer\n",
    "\n",
    "from gensim.models import Word2Vec\n",
    "from gensim.models import KeyedVectors\n",
    "import pickle\n",
    "\n",
    "from tqdm import tqdm\n",
    "import os"
   ]
  },
  {
   "cell_type": "code",
   "execution_count": 2,
   "metadata": {
    "colab": {},
    "colab_type": "code",
    "id": "qGFlKpmUChWz",
    "outputId": "4167ec47-1fc5-47b4-e342-84eb83b1353c"
   },
   "outputs": [
    {
     "name": "stdout",
     "output_type": "stream",
     "text": [
      "Number of data points in our data (100000, 10)\n"
     ]
    },
    {
     "data": {
      "text/html": [
       "<div>\n",
       "<style scoped>\n",
       "    .dataframe tbody tr th:only-of-type {\n",
       "        vertical-align: middle;\n",
       "    }\n",
       "\n",
       "    .dataframe tbody tr th {\n",
       "        vertical-align: top;\n",
       "    }\n",
       "\n",
       "    .dataframe thead th {\n",
       "        text-align: right;\n",
       "    }\n",
       "</style>\n",
       "<table border=\"1\" class=\"dataframe\">\n",
       "  <thead>\n",
       "    <tr style=\"text-align: right;\">\n",
       "      <th></th>\n",
       "      <th>Id</th>\n",
       "      <th>ProductId</th>\n",
       "      <th>UserId</th>\n",
       "      <th>ProfileName</th>\n",
       "      <th>HelpfulnessNumerator</th>\n",
       "      <th>HelpfulnessDenominator</th>\n",
       "      <th>Score</th>\n",
       "      <th>Time</th>\n",
       "      <th>Summary</th>\n",
       "      <th>Text</th>\n",
       "    </tr>\n",
       "  </thead>\n",
       "  <tbody>\n",
       "    <tr>\n",
       "      <th>0</th>\n",
       "      <td>1</td>\n",
       "      <td>B001E4KFG0</td>\n",
       "      <td>A3SGXH7AUHU8GW</td>\n",
       "      <td>delmartian</td>\n",
       "      <td>1</td>\n",
       "      <td>1</td>\n",
       "      <td>1</td>\n",
       "      <td>1303862400</td>\n",
       "      <td>Good Quality Dog Food</td>\n",
       "      <td>I have bought several of the Vitality canned d...</td>\n",
       "    </tr>\n",
       "    <tr>\n",
       "      <th>1</th>\n",
       "      <td>2</td>\n",
       "      <td>B00813GRG4</td>\n",
       "      <td>A1D87F6ZCVE5NK</td>\n",
       "      <td>dll pa</td>\n",
       "      <td>0</td>\n",
       "      <td>0</td>\n",
       "      <td>0</td>\n",
       "      <td>1346976000</td>\n",
       "      <td>Not as Advertised</td>\n",
       "      <td>Product arrived labeled as Jumbo Salted Peanut...</td>\n",
       "    </tr>\n",
       "    <tr>\n",
       "      <th>2</th>\n",
       "      <td>3</td>\n",
       "      <td>B000LQOCH0</td>\n",
       "      <td>ABXLMWJIXXAIN</td>\n",
       "      <td>Natalia Corres \"Natalia Corres\"</td>\n",
       "      <td>1</td>\n",
       "      <td>1</td>\n",
       "      <td>1</td>\n",
       "      <td>1219017600</td>\n",
       "      <td>\"Delight\" says it all</td>\n",
       "      <td>This is a confection that has been around a fe...</td>\n",
       "    </tr>\n",
       "  </tbody>\n",
       "</table>\n",
       "</div>"
      ],
      "text/plain": [
       "   Id   ProductId          UserId                      ProfileName  \\\n",
       "0   1  B001E4KFG0  A3SGXH7AUHU8GW                       delmartian   \n",
       "1   2  B00813GRG4  A1D87F6ZCVE5NK                           dll pa   \n",
       "2   3  B000LQOCH0   ABXLMWJIXXAIN  Natalia Corres \"Natalia Corres\"   \n",
       "\n",
       "   HelpfulnessNumerator  HelpfulnessDenominator  Score        Time  \\\n",
       "0                     1                       1      1  1303862400   \n",
       "1                     0                       0      0  1346976000   \n",
       "2                     1                       1      1  1219017600   \n",
       "\n",
       "                 Summary                                               Text  \n",
       "0  Good Quality Dog Food  I have bought several of the Vitality canned d...  \n",
       "1      Not as Advertised  Product arrived labeled as Jumbo Salted Peanut...  \n",
       "2  \"Delight\" says it all  This is a confection that has been around a fe...  "
      ]
     },
     "execution_count": 2,
     "metadata": {},
     "output_type": "execute_result"
    }
   ],
   "source": [
    "# using SQLite Table to read data.\n",
    "con = sqlite3.connect('database.sqlite') \n",
    "\n",
    "# filtering only positive and negative reviews i.e. \n",
    "# not taking into consideration those reviews with Score=3\n",
    "# SELECT * FROM Reviews WHERE Score != 3 LIMIT 500000, will give top 500000 data points\n",
    "# you can change the number to any other number based on your computing power\n",
    "\n",
    "# filtered_data = pd.read_sql_query(\"\"\" SELECT * FROM Reviews WHERE Score != 3 LIMIT 500000\"\"\", con) \n",
    "# for tsne assignment you can take 5k data points\n",
    "\n",
    "filtered_data = pd.read_sql_query(\"\"\" SELECT * FROM Reviews WHERE Score != 3 LIMIT 100000\"\"\", con) \n",
    "\n",
    "# Give reviews with Score>3 a positive rating(1), and reviews with a score<3 a negative rating(0).\n",
    "def partition(x):\n",
    "    if x < 3:\n",
    "        return 0\n",
    "    return 1\n",
    "\n",
    "#changing reviews with score less than 3 to be positive and vice-versa\n",
    "actualScore = filtered_data['Score']\n",
    "positiveNegative = actualScore.map(partition) \n",
    "filtered_data['Score'] = positiveNegative\n",
    "print(\"Number of data points in our data\", filtered_data.shape)\n",
    "filtered_data.head(3)"
   ]
  },
  {
   "cell_type": "code",
   "execution_count": 3,
   "metadata": {
    "colab": {},
    "colab_type": "code",
    "id": "Oy6FbbqIChW9"
   },
   "outputs": [],
   "source": [
    "display = pd.read_sql_query(\"\"\"\n",
    "SELECT UserId, ProductId, ProfileName, Time, Score, Text, COUNT(*)\n",
    "FROM Reviews\n",
    "GROUP BY UserId\n",
    "HAVING COUNT(*)>1\n",
    "\"\"\", con)"
   ]
  },
  {
   "cell_type": "code",
   "execution_count": 4,
   "metadata": {
    "colab": {},
    "colab_type": "code",
    "id": "VxmpGW-WChXD",
    "outputId": "a58c60e5-15d8-41f7-de60-5ad8396ce0bf",
    "scrolled": true
   },
   "outputs": [
    {
     "name": "stdout",
     "output_type": "stream",
     "text": [
      "(80668, 7)\n"
     ]
    },
    {
     "data": {
      "text/html": [
       "<div>\n",
       "<style scoped>\n",
       "    .dataframe tbody tr th:only-of-type {\n",
       "        vertical-align: middle;\n",
       "    }\n",
       "\n",
       "    .dataframe tbody tr th {\n",
       "        vertical-align: top;\n",
       "    }\n",
       "\n",
       "    .dataframe thead th {\n",
       "        text-align: right;\n",
       "    }\n",
       "</style>\n",
       "<table border=\"1\" class=\"dataframe\">\n",
       "  <thead>\n",
       "    <tr style=\"text-align: right;\">\n",
       "      <th></th>\n",
       "      <th>UserId</th>\n",
       "      <th>ProductId</th>\n",
       "      <th>ProfileName</th>\n",
       "      <th>Time</th>\n",
       "      <th>Score</th>\n",
       "      <th>Text</th>\n",
       "      <th>COUNT(*)</th>\n",
       "    </tr>\n",
       "  </thead>\n",
       "  <tbody>\n",
       "    <tr>\n",
       "      <th>0</th>\n",
       "      <td>#oc-R115TNMSPFT9I7</td>\n",
       "      <td>B007Y59HVM</td>\n",
       "      <td>Breyton</td>\n",
       "      <td>1331510400</td>\n",
       "      <td>2</td>\n",
       "      <td>Overall its just OK when considering the price...</td>\n",
       "      <td>2</td>\n",
       "    </tr>\n",
       "    <tr>\n",
       "      <th>1</th>\n",
       "      <td>#oc-R11D9D7SHXIJB9</td>\n",
       "      <td>B005HG9ET0</td>\n",
       "      <td>Louis E. Emory \"hoppy\"</td>\n",
       "      <td>1342396800</td>\n",
       "      <td>5</td>\n",
       "      <td>My wife has recurring extreme muscle spasms, u...</td>\n",
       "      <td>3</td>\n",
       "    </tr>\n",
       "    <tr>\n",
       "      <th>2</th>\n",
       "      <td>#oc-R11DNU2NBKQ23Z</td>\n",
       "      <td>B007Y59HVM</td>\n",
       "      <td>Kim Cieszykowski</td>\n",
       "      <td>1348531200</td>\n",
       "      <td>1</td>\n",
       "      <td>This coffee is horrible and unfortunately not ...</td>\n",
       "      <td>2</td>\n",
       "    </tr>\n",
       "    <tr>\n",
       "      <th>3</th>\n",
       "      <td>#oc-R11O5J5ZVQE25C</td>\n",
       "      <td>B005HG9ET0</td>\n",
       "      <td>Penguin Chick</td>\n",
       "      <td>1346889600</td>\n",
       "      <td>5</td>\n",
       "      <td>This will be the bottle that you grab from the...</td>\n",
       "      <td>3</td>\n",
       "    </tr>\n",
       "    <tr>\n",
       "      <th>4</th>\n",
       "      <td>#oc-R12KPBODL2B5ZD</td>\n",
       "      <td>B007OSBE1U</td>\n",
       "      <td>Christopher P. Presta</td>\n",
       "      <td>1348617600</td>\n",
       "      <td>1</td>\n",
       "      <td>I didnt like this coffee. Instead of telling y...</td>\n",
       "      <td>2</td>\n",
       "    </tr>\n",
       "  </tbody>\n",
       "</table>\n",
       "</div>"
      ],
      "text/plain": [
       "               UserId   ProductId             ProfileName        Time  Score  \\\n",
       "0  #oc-R115TNMSPFT9I7  B007Y59HVM                 Breyton  1331510400      2   \n",
       "1  #oc-R11D9D7SHXIJB9  B005HG9ET0  Louis E. Emory \"hoppy\"  1342396800      5   \n",
       "2  #oc-R11DNU2NBKQ23Z  B007Y59HVM        Kim Cieszykowski  1348531200      1   \n",
       "3  #oc-R11O5J5ZVQE25C  B005HG9ET0           Penguin Chick  1346889600      5   \n",
       "4  #oc-R12KPBODL2B5ZD  B007OSBE1U   Christopher P. Presta  1348617600      1   \n",
       "\n",
       "                                                Text  COUNT(*)  \n",
       "0  Overall its just OK when considering the price...         2  \n",
       "1  My wife has recurring extreme muscle spasms, u...         3  \n",
       "2  This coffee is horrible and unfortunately not ...         2  \n",
       "3  This will be the bottle that you grab from the...         3  \n",
       "4  I didnt like this coffee. Instead of telling y...         2  "
      ]
     },
     "execution_count": 4,
     "metadata": {},
     "output_type": "execute_result"
    }
   ],
   "source": [
    "print(display.shape)\n",
    "display.head()"
   ]
  },
  {
   "cell_type": "code",
   "execution_count": 5,
   "metadata": {
    "colab": {},
    "colab_type": "code",
    "id": "qVYRWe1nChXK",
    "outputId": "c2da252a-b5b2-4d00-f066-5025a507dab0"
   },
   "outputs": [
    {
     "data": {
      "text/html": [
       "<div>\n",
       "<style scoped>\n",
       "    .dataframe tbody tr th:only-of-type {\n",
       "        vertical-align: middle;\n",
       "    }\n",
       "\n",
       "    .dataframe tbody tr th {\n",
       "        vertical-align: top;\n",
       "    }\n",
       "\n",
       "    .dataframe thead th {\n",
       "        text-align: right;\n",
       "    }\n",
       "</style>\n",
       "<table border=\"1\" class=\"dataframe\">\n",
       "  <thead>\n",
       "    <tr style=\"text-align: right;\">\n",
       "      <th></th>\n",
       "      <th>UserId</th>\n",
       "      <th>ProductId</th>\n",
       "      <th>ProfileName</th>\n",
       "      <th>Time</th>\n",
       "      <th>Score</th>\n",
       "      <th>Text</th>\n",
       "      <th>COUNT(*)</th>\n",
       "    </tr>\n",
       "  </thead>\n",
       "  <tbody>\n",
       "    <tr>\n",
       "      <th>80638</th>\n",
       "      <td>AZY10LLTJ71NX</td>\n",
       "      <td>B006P7E5ZI</td>\n",
       "      <td>undertheshrine \"undertheshrine\"</td>\n",
       "      <td>1334707200</td>\n",
       "      <td>5</td>\n",
       "      <td>I was recommended to try green tea extract to ...</td>\n",
       "      <td>5</td>\n",
       "    </tr>\n",
       "  </tbody>\n",
       "</table>\n",
       "</div>"
      ],
      "text/plain": [
       "              UserId   ProductId                      ProfileName        Time  \\\n",
       "80638  AZY10LLTJ71NX  B006P7E5ZI  undertheshrine \"undertheshrine\"  1334707200   \n",
       "\n",
       "       Score                                               Text  COUNT(*)  \n",
       "80638      5  I was recommended to try green tea extract to ...         5  "
      ]
     },
     "execution_count": 5,
     "metadata": {},
     "output_type": "execute_result"
    }
   ],
   "source": [
    "display[display['UserId']=='AZY10LLTJ71NX']"
   ]
  },
  {
   "cell_type": "code",
   "execution_count": 6,
   "metadata": {
    "colab": {},
    "colab_type": "code",
    "id": "bk3oC9YoChXQ",
    "outputId": "a3445fc5-e58e-48c2-bd80-c8bf3c100a96"
   },
   "outputs": [
    {
     "data": {
      "text/plain": [
       "393063"
      ]
     },
     "execution_count": 6,
     "metadata": {},
     "output_type": "execute_result"
    }
   ],
   "source": [
    "display['COUNT(*)'].sum()"
   ]
  },
  {
   "cell_type": "markdown",
   "metadata": {
    "colab_type": "text",
    "id": "tUdW-oABChXZ"
   },
   "source": [
    "#  [2] Exploratory Data Analysis"
   ]
  },
  {
   "cell_type": "markdown",
   "metadata": {
    "colab_type": "text",
    "id": "1lWaQ1eFChXb"
   },
   "source": [
    "## [2.1] Data Cleaning: Deduplication\n",
    "\n",
    "It is observed (as shown in the table below) that the reviews data had many duplicate entries. Hence it was necessary to remove duplicates in order to get unbiased results for the analysis of the data.  Following is an example:"
   ]
  },
  {
   "cell_type": "code",
   "execution_count": 7,
   "metadata": {
    "colab": {},
    "colab_type": "code",
    "id": "0scKI9A4ChXd",
    "outputId": "64eefd15-d63e-4742-a669-6ab413c64157",
    "scrolled": false
   },
   "outputs": [
    {
     "data": {
      "text/html": [
       "<div>\n",
       "<style scoped>\n",
       "    .dataframe tbody tr th:only-of-type {\n",
       "        vertical-align: middle;\n",
       "    }\n",
       "\n",
       "    .dataframe tbody tr th {\n",
       "        vertical-align: top;\n",
       "    }\n",
       "\n",
       "    .dataframe thead th {\n",
       "        text-align: right;\n",
       "    }\n",
       "</style>\n",
       "<table border=\"1\" class=\"dataframe\">\n",
       "  <thead>\n",
       "    <tr style=\"text-align: right;\">\n",
       "      <th></th>\n",
       "      <th>Id</th>\n",
       "      <th>ProductId</th>\n",
       "      <th>UserId</th>\n",
       "      <th>ProfileName</th>\n",
       "      <th>HelpfulnessNumerator</th>\n",
       "      <th>HelpfulnessDenominator</th>\n",
       "      <th>Score</th>\n",
       "      <th>Time</th>\n",
       "      <th>Summary</th>\n",
       "      <th>Text</th>\n",
       "    </tr>\n",
       "  </thead>\n",
       "  <tbody>\n",
       "    <tr>\n",
       "      <th>0</th>\n",
       "      <td>78445</td>\n",
       "      <td>B000HDL1RQ</td>\n",
       "      <td>AR5J8UI46CURR</td>\n",
       "      <td>Geetha Krishnan</td>\n",
       "      <td>2</td>\n",
       "      <td>2</td>\n",
       "      <td>5</td>\n",
       "      <td>1199577600</td>\n",
       "      <td>LOACKER QUADRATINI VANILLA WAFERS</td>\n",
       "      <td>DELICIOUS WAFERS. I FIND THAT EUROPEAN WAFERS ...</td>\n",
       "    </tr>\n",
       "    <tr>\n",
       "      <th>1</th>\n",
       "      <td>138317</td>\n",
       "      <td>B000HDOPYC</td>\n",
       "      <td>AR5J8UI46CURR</td>\n",
       "      <td>Geetha Krishnan</td>\n",
       "      <td>2</td>\n",
       "      <td>2</td>\n",
       "      <td>5</td>\n",
       "      <td>1199577600</td>\n",
       "      <td>LOACKER QUADRATINI VANILLA WAFERS</td>\n",
       "      <td>DELICIOUS WAFERS. I FIND THAT EUROPEAN WAFERS ...</td>\n",
       "    </tr>\n",
       "    <tr>\n",
       "      <th>2</th>\n",
       "      <td>138277</td>\n",
       "      <td>B000HDOPYM</td>\n",
       "      <td>AR5J8UI46CURR</td>\n",
       "      <td>Geetha Krishnan</td>\n",
       "      <td>2</td>\n",
       "      <td>2</td>\n",
       "      <td>5</td>\n",
       "      <td>1199577600</td>\n",
       "      <td>LOACKER QUADRATINI VANILLA WAFERS</td>\n",
       "      <td>DELICIOUS WAFERS. I FIND THAT EUROPEAN WAFERS ...</td>\n",
       "    </tr>\n",
       "    <tr>\n",
       "      <th>3</th>\n",
       "      <td>73791</td>\n",
       "      <td>B000HDOPZG</td>\n",
       "      <td>AR5J8UI46CURR</td>\n",
       "      <td>Geetha Krishnan</td>\n",
       "      <td>2</td>\n",
       "      <td>2</td>\n",
       "      <td>5</td>\n",
       "      <td>1199577600</td>\n",
       "      <td>LOACKER QUADRATINI VANILLA WAFERS</td>\n",
       "      <td>DELICIOUS WAFERS. I FIND THAT EUROPEAN WAFERS ...</td>\n",
       "    </tr>\n",
       "    <tr>\n",
       "      <th>4</th>\n",
       "      <td>155049</td>\n",
       "      <td>B000PAQ75C</td>\n",
       "      <td>AR5J8UI46CURR</td>\n",
       "      <td>Geetha Krishnan</td>\n",
       "      <td>2</td>\n",
       "      <td>2</td>\n",
       "      <td>5</td>\n",
       "      <td>1199577600</td>\n",
       "      <td>LOACKER QUADRATINI VANILLA WAFERS</td>\n",
       "      <td>DELICIOUS WAFERS. I FIND THAT EUROPEAN WAFERS ...</td>\n",
       "    </tr>\n",
       "  </tbody>\n",
       "</table>\n",
       "</div>"
      ],
      "text/plain": [
       "       Id   ProductId         UserId      ProfileName  HelpfulnessNumerator  \\\n",
       "0   78445  B000HDL1RQ  AR5J8UI46CURR  Geetha Krishnan                     2   \n",
       "1  138317  B000HDOPYC  AR5J8UI46CURR  Geetha Krishnan                     2   \n",
       "2  138277  B000HDOPYM  AR5J8UI46CURR  Geetha Krishnan                     2   \n",
       "3   73791  B000HDOPZG  AR5J8UI46CURR  Geetha Krishnan                     2   \n",
       "4  155049  B000PAQ75C  AR5J8UI46CURR  Geetha Krishnan                     2   \n",
       "\n",
       "   HelpfulnessDenominator  Score        Time  \\\n",
       "0                       2      5  1199577600   \n",
       "1                       2      5  1199577600   \n",
       "2                       2      5  1199577600   \n",
       "3                       2      5  1199577600   \n",
       "4                       2      5  1199577600   \n",
       "\n",
       "                             Summary  \\\n",
       "0  LOACKER QUADRATINI VANILLA WAFERS   \n",
       "1  LOACKER QUADRATINI VANILLA WAFERS   \n",
       "2  LOACKER QUADRATINI VANILLA WAFERS   \n",
       "3  LOACKER QUADRATINI VANILLA WAFERS   \n",
       "4  LOACKER QUADRATINI VANILLA WAFERS   \n",
       "\n",
       "                                                Text  \n",
       "0  DELICIOUS WAFERS. I FIND THAT EUROPEAN WAFERS ...  \n",
       "1  DELICIOUS WAFERS. I FIND THAT EUROPEAN WAFERS ...  \n",
       "2  DELICIOUS WAFERS. I FIND THAT EUROPEAN WAFERS ...  \n",
       "3  DELICIOUS WAFERS. I FIND THAT EUROPEAN WAFERS ...  \n",
       "4  DELICIOUS WAFERS. I FIND THAT EUROPEAN WAFERS ...  "
      ]
     },
     "execution_count": 7,
     "metadata": {},
     "output_type": "execute_result"
    }
   ],
   "source": [
    "display= pd.read_sql_query(\"\"\"\n",
    "SELECT *\n",
    "FROM Reviews\n",
    "WHERE Score != 3 AND UserId=\"AR5J8UI46CURR\"\n",
    "ORDER BY ProductID\n",
    "\"\"\", con)\n",
    "display.head()"
   ]
  },
  {
   "cell_type": "markdown",
   "metadata": {
    "colab_type": "text",
    "id": "ORBstW7kChXk"
   },
   "source": [
    "As it can be seen above that same user has multiple reviews with same values for HelpfulnessNumerator, HelpfulnessDenominator, Score, Time, Summary and Text and on doing analysis it was found that <br>\n",
    "<br> \n",
    "ProductId=B000HDOPZG was Loacker Quadratini Vanilla Wafer Cookies, 8.82-Ounce Packages (Pack of 8)<br>\n",
    "<br> \n",
    "ProductId=B000HDL1RQ was Loacker Quadratini Lemon Wafer Cookies, 8.82-Ounce Packages (Pack of 8) and so on<br>\n",
    "\n",
    "It was inferred after analysis that reviews with same parameters other than ProductId belonged to the same product just having different flavour or quantity. Hence in order to reduce redundancy it was decided to eliminate the rows having same parameters.<br>\n",
    "\n",
    "The method used for the same was that we first sort the data according to ProductId and then just keep the first similar product review and delelte the others. for eg. in the above just the review for ProductId=B000HDL1RQ remains. This method ensures that there is only one representative for each product and deduplication without sorting would lead to possibility of different representatives still existing for the same product."
   ]
  },
  {
   "cell_type": "code",
   "execution_count": 8,
   "metadata": {
    "colab": {},
    "colab_type": "code",
    "id": "QjqRsNlrChXn"
   },
   "outputs": [],
   "source": [
    "#Sorting data according to ProductId in ascending order\n",
    "sorted_data=filtered_data.sort_values('ProductId', axis=0, ascending=True, inplace=False, kind='quicksort', na_position='last')"
   ]
  },
  {
   "cell_type": "code",
   "execution_count": 9,
   "metadata": {
    "colab": {},
    "colab_type": "code",
    "id": "5f7tJRTNChXr",
    "outputId": "8b6147b9-2eb1-4af5-facc-9bcf1302969d"
   },
   "outputs": [
    {
     "data": {
      "text/plain": [
       "(87775, 10)"
      ]
     },
     "execution_count": 9,
     "metadata": {},
     "output_type": "execute_result"
    }
   ],
   "source": [
    "#Deduplication of entries\n",
    "final=sorted_data.drop_duplicates(subset={\"UserId\",\"ProfileName\",\"Time\",\"Text\"}, keep='first', inplace=False)\n",
    "final.shape"
   ]
  },
  {
   "cell_type": "code",
   "execution_count": 10,
   "metadata": {
    "colab": {},
    "colab_type": "code",
    "id": "OkMII7G4ChXx",
    "outputId": "8c9c181d-fbb6-4a8c-b552-07a62d762fdd"
   },
   "outputs": [
    {
     "data": {
      "text/plain": [
       "87.775"
      ]
     },
     "execution_count": 10,
     "metadata": {},
     "output_type": "execute_result"
    }
   ],
   "source": [
    "#Checking to see how much % of data still remains\n",
    "(final['Id'].size*1.0)/(filtered_data['Id'].size*1.0)*100"
   ]
  },
  {
   "cell_type": "markdown",
   "metadata": {
    "colab_type": "text",
    "id": "GqWw3R5rChX6"
   },
   "source": [
    "<b>Observation:-</b> It was also seen that in two rows given below the value of HelpfulnessNumerator is greater than HelpfulnessDenominator which is not practically possible hence these two rows too are removed from calcualtions"
   ]
  },
  {
   "cell_type": "code",
   "execution_count": 11,
   "metadata": {
    "colab": {},
    "colab_type": "code",
    "id": "D04AzcxlChX-",
    "outputId": "1cedb765-4633-40e8-cd26-5e9ea9112807"
   },
   "outputs": [
    {
     "data": {
      "text/html": [
       "<div>\n",
       "<style scoped>\n",
       "    .dataframe tbody tr th:only-of-type {\n",
       "        vertical-align: middle;\n",
       "    }\n",
       "\n",
       "    .dataframe tbody tr th {\n",
       "        vertical-align: top;\n",
       "    }\n",
       "\n",
       "    .dataframe thead th {\n",
       "        text-align: right;\n",
       "    }\n",
       "</style>\n",
       "<table border=\"1\" class=\"dataframe\">\n",
       "  <thead>\n",
       "    <tr style=\"text-align: right;\">\n",
       "      <th></th>\n",
       "      <th>Id</th>\n",
       "      <th>ProductId</th>\n",
       "      <th>UserId</th>\n",
       "      <th>ProfileName</th>\n",
       "      <th>HelpfulnessNumerator</th>\n",
       "      <th>HelpfulnessDenominator</th>\n",
       "      <th>Score</th>\n",
       "      <th>Time</th>\n",
       "      <th>Summary</th>\n",
       "      <th>Text</th>\n",
       "    </tr>\n",
       "  </thead>\n",
       "  <tbody>\n",
       "    <tr>\n",
       "      <th>0</th>\n",
       "      <td>64422</td>\n",
       "      <td>B000MIDROQ</td>\n",
       "      <td>A161DK06JJMCYF</td>\n",
       "      <td>J. E. Stephens \"Jeanne\"</td>\n",
       "      <td>3</td>\n",
       "      <td>1</td>\n",
       "      <td>5</td>\n",
       "      <td>1224892800</td>\n",
       "      <td>Bought This for My Son at College</td>\n",
       "      <td>My son loves spaghetti so I didn't hesitate or...</td>\n",
       "    </tr>\n",
       "    <tr>\n",
       "      <th>1</th>\n",
       "      <td>44737</td>\n",
       "      <td>B001EQ55RW</td>\n",
       "      <td>A2V0I904FH7ABY</td>\n",
       "      <td>Ram</td>\n",
       "      <td>3</td>\n",
       "      <td>2</td>\n",
       "      <td>4</td>\n",
       "      <td>1212883200</td>\n",
       "      <td>Pure cocoa taste with crunchy almonds inside</td>\n",
       "      <td>It was almost a 'love at first bite' - the per...</td>\n",
       "    </tr>\n",
       "  </tbody>\n",
       "</table>\n",
       "</div>"
      ],
      "text/plain": [
       "      Id   ProductId          UserId              ProfileName  \\\n",
       "0  64422  B000MIDROQ  A161DK06JJMCYF  J. E. Stephens \"Jeanne\"   \n",
       "1  44737  B001EQ55RW  A2V0I904FH7ABY                      Ram   \n",
       "\n",
       "   HelpfulnessNumerator  HelpfulnessDenominator  Score        Time  \\\n",
       "0                     3                       1      5  1224892800   \n",
       "1                     3                       2      4  1212883200   \n",
       "\n",
       "                                        Summary  \\\n",
       "0             Bought This for My Son at College   \n",
       "1  Pure cocoa taste with crunchy almonds inside   \n",
       "\n",
       "                                                Text  \n",
       "0  My son loves spaghetti so I didn't hesitate or...  \n",
       "1  It was almost a 'love at first bite' - the per...  "
      ]
     },
     "execution_count": 11,
     "metadata": {},
     "output_type": "execute_result"
    }
   ],
   "source": [
    "display= pd.read_sql_query(\"\"\"\n",
    "SELECT *\n",
    "FROM Reviews\n",
    "WHERE Score != 3 AND Id=44737 OR Id=64422\n",
    "ORDER BY ProductID\n",
    "\"\"\", con)\n",
    "\n",
    "display.head()"
   ]
  },
  {
   "cell_type": "code",
   "execution_count": 12,
   "metadata": {
    "colab": {},
    "colab_type": "code",
    "id": "jgXX4VgCChYG"
   },
   "outputs": [],
   "source": [
    "final=final[final.HelpfulnessNumerator<=final.HelpfulnessDenominator]"
   ]
  },
  {
   "cell_type": "code",
   "execution_count": 13,
   "metadata": {
    "colab": {},
    "colab_type": "code",
    "id": "ItoTBxEAChYN",
    "outputId": "689f9954-0e4b-4be8-d865-342b6686144c"
   },
   "outputs": [
    {
     "name": "stdout",
     "output_type": "stream",
     "text": [
      "(87773, 10)\n"
     ]
    },
    {
     "data": {
      "text/plain": [
       "1    73592\n",
       "0    14181\n",
       "Name: Score, dtype: int64"
      ]
     },
     "execution_count": 13,
     "metadata": {},
     "output_type": "execute_result"
    }
   ],
   "source": [
    "#Before starting the next phase of preprocessing lets see the number of entries left\n",
    "print(final.shape)\n",
    "\n",
    "#How many positive and negative reviews are present in our dataset?\n",
    "final['Score'].value_counts()"
   ]
  },
  {
   "cell_type": "markdown",
   "metadata": {
    "colab_type": "text",
    "id": "fu12_ACbChYY"
   },
   "source": [
    "#  [3] Preprocessing"
   ]
  },
  {
   "cell_type": "markdown",
   "metadata": {
    "colab_type": "text",
    "id": "3pg73rLEChYa"
   },
   "source": [
    "## [3.1].  Preprocessing Review Text\n",
    "\n",
    "Now that we have finished deduplication our data requires some preprocessing before we go on further with analysis and making the prediction model.\n",
    "\n",
    "Hence in the Preprocessing phase we do the following in the order below:-\n",
    "\n",
    "1. Begin by removing the html tags\n",
    "2. Remove any punctuations or limited set of special characters like , or . or # etc.\n",
    "3. Check if the word is made up of english letters and is not alpha-numeric\n",
    "4. Check to see if the length of the word is greater than 2 (as it was researched that there is no adjective in 2-letters)\n",
    "5. Convert the word to lowercase\n",
    "6. Remove Stopwords\n",
    "7. Finally Snowball Stemming the word (it was obsereved to be better than Porter Stemming)<br>\n",
    "\n",
    "After which we collect the words used to describe positive and negative reviews"
   ]
  },
  {
   "cell_type": "code",
   "execution_count": 14,
   "metadata": {
    "colab": {},
    "colab_type": "code",
    "id": "BZpKtJnDChYc",
    "outputId": "08059845-51a0-4085-d119-77bb766d535a"
   },
   "outputs": [
    {
     "name": "stdout",
     "output_type": "stream",
     "text": [
      "My dogs loves this chicken but its a product from China, so we wont be buying it anymore.  Its very hard to find any chicken products made in the USA but they are out there, but this one isnt.  Its too bad too because its a good product but I wont take any chances till they know what is going on with the china imports.\n",
      "==================================================\n",
      "The Candy Blocks were a nice visual for the Lego Birthday party but the candy has little taste to it.  Very little of the 2 lbs that I bought were eaten and I threw the rest away.  I would not buy the candy again.\n",
      "==================================================\n",
      "was way to hot for my blood, took a bite and did a jig  lol\n",
      "==================================================\n",
      "My dog LOVES these treats. They tend to have a very strong fish oil smell. So if you are afraid of the fishy smell, don't get it. But I think my dog likes it because of the smell. These treats are really small in size. They are great for training. You can give your dog several of these without worrying about him over eating. Amazon's price was much more reasonable than any other retailer. You can buy a 1 pound bag on Amazon for almost the same price as a 6 ounce bag at other retailers. It's definitely worth it to buy a big bag if your dog eats them a lot.\n",
      "==================================================\n"
     ]
    }
   ],
   "source": [
    "# printing some random reviews\n",
    "sent_0 = final['Text'].values[0]\n",
    "print(sent_0)\n",
    "print(\"=\"*50)\n",
    "\n",
    "sent_1000 = final['Text'].values[1000]\n",
    "print(sent_1000)\n",
    "print(\"=\"*50)\n",
    "\n",
    "sent_1500 = final['Text'].values[1500]\n",
    "print(sent_1500)\n",
    "print(\"=\"*50)\n",
    "\n",
    "sent_4900 = final['Text'].values[4900]\n",
    "print(sent_4900)\n",
    "print(\"=\"*50)"
   ]
  },
  {
   "cell_type": "code",
   "execution_count": 15,
   "metadata": {
    "colab": {},
    "colab_type": "code",
    "id": "tpufjpl_ChYm",
    "outputId": "261a8bc7-cfd5-4b7f-fa96-959ca8aacd57"
   },
   "outputs": [
    {
     "name": "stdout",
     "output_type": "stream",
     "text": [
      "My dogs loves this chicken but its a product from China, so we wont be buying it anymore.  Its very hard to find any chicken products made in the USA but they are out there, but this one isnt.  Its too bad too because its a good product but I wont take any chances till they know what is going on with the china imports.\n"
     ]
    }
   ],
   "source": [
    "# remove urls from text python: https://stackoverflow.com/a/40823105/4084039\n",
    "sent_0 = re.sub(r\"http\\S+\", \"\", sent_0)\n",
    "sent_1000 = re.sub(r\"http\\S+\", \"\", sent_1000)\n",
    "sent_150 = re.sub(r\"http\\S+\", \"\", sent_1500)\n",
    "sent_4900 = re.sub(r\"http\\S+\", \"\", sent_4900)\n",
    "\n",
    "print(sent_0)"
   ]
  },
  {
   "cell_type": "code",
   "execution_count": 16,
   "metadata": {
    "colab": {},
    "colab_type": "code",
    "id": "giHr0E8zChYv",
    "outputId": "524fc738-3646-486d-b670-e33a2e5d0cd2"
   },
   "outputs": [
    {
     "name": "stdout",
     "output_type": "stream",
     "text": [
      "My dogs loves this chicken but its a product from China, so we wont be buying it anymore.  Its very hard to find any chicken products made in the USA but they are out there, but this one isnt.  Its too bad too because its a good product but I wont take any chances till they know what is going on with the china imports.\n",
      "==================================================\n",
      "The Candy Blocks were a nice visual for the Lego Birthday party but the candy has little taste to it.  Very little of the 2 lbs that I bought were eaten and I threw the rest away.  I would not buy the candy again.\n",
      "==================================================\n",
      "was way to hot for my blood, took a bite and did a jig  lol\n",
      "==================================================\n",
      "My dog LOVES these treats. They tend to have a very strong fish oil smell. So if you are afraid of the fishy smell, don't get it. But I think my dog likes it because of the smell. These treats are really small in size. They are great for training. You can give your dog several of these without worrying about him over eating. Amazon's price was much more reasonable than any other retailer. You can buy a 1 pound bag on Amazon for almost the same price as a 6 ounce bag at other retailers. It's definitely worth it to buy a big bag if your dog eats them a lot.\n"
     ]
    }
   ],
   "source": [
    "# https://stackoverflow.com/questions/16206380/python-beautifulsoup-how-to-remove-all-tags-from-an-element\n",
    "from bs4 import BeautifulSoup\n",
    "\n",
    "soup = BeautifulSoup(sent_0, 'lxml')\n",
    "text = soup.get_text()\n",
    "print(text)\n",
    "print(\"=\"*50)\n",
    "\n",
    "soup = BeautifulSoup(sent_1000, 'lxml')\n",
    "text = soup.get_text()\n",
    "print(text)\n",
    "print(\"=\"*50)\n",
    "\n",
    "soup = BeautifulSoup(sent_1500, 'lxml')\n",
    "text = soup.get_text()\n",
    "print(text)\n",
    "print(\"=\"*50)\n",
    "\n",
    "soup = BeautifulSoup(sent_4900, 'lxml')\n",
    "text = soup.get_text()\n",
    "print(text)"
   ]
  },
  {
   "cell_type": "code",
   "execution_count": 17,
   "metadata": {
    "colab": {},
    "colab_type": "code",
    "id": "HdhtRruPChY3"
   },
   "outputs": [],
   "source": [
    "# https://stackoverflow.com/a/47091490/4084039\n",
    "import re\n",
    "\n",
    "def decontracted(phrase):\n",
    "    # specific\n",
    "    phrase = re.sub(r\"won't\", \"will not\", phrase)\n",
    "    phrase = re.sub(r\"can\\'t\", \"can not\", phrase)\n",
    "\n",
    "    # general\n",
    "    phrase = re.sub(r\"n\\'t\", \" not\", phrase)\n",
    "    phrase = re.sub(r\"\\'re\", \" are\", phrase)\n",
    "    phrase = re.sub(r\"\\'s\", \" is\", phrase)\n",
    "    phrase = re.sub(r\"\\'d\", \" would\", phrase)\n",
    "    phrase = re.sub(r\"\\'ll\", \" will\", phrase)\n",
    "    phrase = re.sub(r\"\\'t\", \" not\", phrase)\n",
    "    phrase = re.sub(r\"\\'ve\", \" have\", phrase)\n",
    "    phrase = re.sub(r\"\\'m\", \" am\", phrase)\n",
    "    return phrase"
   ]
  },
  {
   "cell_type": "code",
   "execution_count": 18,
   "metadata": {
    "colab": {},
    "colab_type": "code",
    "id": "S8yht6Y7ChY7",
    "outputId": "716f4785-e4d7-40e4-addb-cf9b065a2f9d"
   },
   "outputs": [
    {
     "name": "stdout",
     "output_type": "stream",
     "text": [
      "was way to hot for my blood, took a bite and did a jig  lol\n",
      "==================================================\n"
     ]
    }
   ],
   "source": [
    "sent_1500 = decontracted(sent_1500)\n",
    "print(sent_1500)\n",
    "print(\"=\"*50)"
   ]
  },
  {
   "cell_type": "code",
   "execution_count": 19,
   "metadata": {
    "colab": {},
    "colab_type": "code",
    "id": "zJU8V8P4ChZE",
    "outputId": "0aa7cd16-c67f-41d7-843e-d1166399817a"
   },
   "outputs": [
    {
     "name": "stdout",
     "output_type": "stream",
     "text": [
      "My dogs loves this chicken but its a product from China, so we wont be buying it anymore.  Its very hard to find any chicken products made in the USA but they are out there, but this one isnt.  Its too bad too because its a good product but I wont take any chances till they know what is going on with the china imports.\n"
     ]
    }
   ],
   "source": [
    "#remove words with numbers python: https://stackoverflow.com/a/18082370/4084039\n",
    "sent_0 = re.sub(\"\\S*\\d\\S*\", \"\", sent_0).strip()\n",
    "print(sent_0)"
   ]
  },
  {
   "cell_type": "code",
   "execution_count": 20,
   "metadata": {
    "colab": {},
    "colab_type": "code",
    "id": "zUDg3iWhChZL",
    "outputId": "4d26aaf6-d00d-4506-8ba5-514ead41aaa3"
   },
   "outputs": [
    {
     "name": "stdout",
     "output_type": "stream",
     "text": [
      "was way to hot for my blood took a bite and did a jig lol\n"
     ]
    }
   ],
   "source": [
    "#remove spacial character: https://stackoverflow.com/a/5843547/4084039\n",
    "sent_1500 = re.sub('[^A-Za-z0-9]+', ' ', sent_1500)\n",
    "print(sent_1500)"
   ]
  },
  {
   "cell_type": "code",
   "execution_count": 21,
   "metadata": {
    "colab": {},
    "colab_type": "code",
    "id": "q2QebhvKChZR"
   },
   "outputs": [],
   "source": [
    "# https://gist.github.com/sebleier/554280\n",
    "# we are removing the words from the stop words list: 'no', 'nor', 'not'\n",
    "# <br /><br /> ==> after the above steps, we are getting \"br br\"\n",
    "# we are including them into stop words list\n",
    "# instead of <br /> if we have <br/> these tags would have revmoved in the 1st step\n",
    "\n",
    "stopwords= set(['br', 'the', 'i', 'me', 'my', 'myself', 'we', 'our', 'ours', 'ourselves', 'you', \"you're\", \"you've\",\\\n",
    "            \"you'll\", \"you'd\", 'your', 'yours', 'yourself', 'yourselves', 'he', 'him', 'his', 'himself', \\\n",
    "            'she', \"she's\", 'her', 'hers', 'herself', 'it', \"it's\", 'its', 'itself', 'they', 'them', 'their',\\\n",
    "            'theirs', 'themselves', 'what', 'which', 'who', 'whom', 'this', 'that', \"that'll\", 'these', 'those', \\\n",
    "            'am', 'is', 'are', 'was', 'were', 'be', 'been', 'being', 'have', 'has', 'had', 'having', 'do', 'does', \\\n",
    "            'did', 'doing', 'a', 'an', 'the', 'and', 'but', 'if', 'or', 'because', 'as', 'until', 'while', 'of', \\\n",
    "            'at', 'by', 'for', 'with', 'about', 'against', 'between', 'into', 'through', 'during', 'before', 'after',\\\n",
    "            'above', 'below', 'to', 'from', 'up', 'down', 'in', 'out', 'on', 'off', 'over', 'under', 'again', 'further',\\\n",
    "            'then', 'once', 'here', 'there', 'when', 'where', 'why', 'how', 'all', 'any', 'both', 'each', 'few', 'more',\\\n",
    "            'most', 'other', 'some', 'such', 'only', 'own', 'same', 'so', 'than', 'too', 'very', \\\n",
    "            's', 't', 'can', 'will', 'just', 'don', \"don't\", 'should', \"should've\", 'now', 'd', 'll', 'm', 'o', 're', \\\n",
    "            've', 'y', 'ain', 'aren', \"aren't\", 'couldn', \"couldn't\", 'didn', \"didn't\", 'doesn', \"doesn't\", 'hadn',\\\n",
    "            \"hadn't\", 'hasn', \"hasn't\", 'haven', \"haven't\", 'isn', \"isn't\", 'ma', 'mightn', \"mightn't\", 'mustn',\\\n",
    "            \"mustn't\", 'needn', \"needn't\", 'shan', \"shan't\", 'shouldn', \"shouldn't\", 'wasn', \"wasn't\", 'weren', \"weren't\", \\\n",
    "            'won', \"won't\", 'wouldn', \"wouldn't\"])"
   ]
  },
  {
   "cell_type": "code",
   "execution_count": 22,
   "metadata": {
    "colab": {},
    "colab_type": "code",
    "id": "SxOsbLMyChZV",
    "outputId": "3e64146f-e471-4236-8ec2-1f47e066c03e"
   },
   "outputs": [
    {
     "name": "stderr",
     "output_type": "stream",
     "text": [
      "100%|██████████████████████████████████| 87773/87773 [00:31<00:00, 2796.91it/s]\n"
     ]
    }
   ],
   "source": [
    "# Combining all the above stundents \n",
    "from tqdm import tqdm\n",
    "preprocessed_reviews = []\n",
    "# tqdm is for printing the status bar\n",
    "for sentance in tqdm(final['Text'].values):\n",
    "    sentance = re.sub(r\"http\\S+\", \"\", sentance)\n",
    "    sentance = BeautifulSoup(sentance, 'lxml').get_text()\n",
    "    sentance = decontracted(sentance)\n",
    "    sentance = re.sub(\"\\S*\\d\\S*\", \"\", sentance).strip()\n",
    "    sentance = re.sub('[^A-Za-z]+', ' ', sentance)\n",
    "    # https://gist.github.com/sebleier/554280\n",
    "    sentance = ' '.join(e.lower() for e in sentance.split() if e.lower() not in stopwords)\n",
    "    preprocessed_reviews.append(sentance.strip())"
   ]
  },
  {
   "cell_type": "code",
   "execution_count": 23,
   "metadata": {
    "colab": {},
    "colab_type": "code",
    "id": "QqPomIjSChZa",
    "outputId": "d7beb0f0-fac5-46b7-c3a8-b52e47097cc7"
   },
   "outputs": [
    {
     "data": {
      "text/plain": [
       "'way hot blood took bite jig lol'"
      ]
     },
     "execution_count": 23,
     "metadata": {},
     "output_type": "execute_result"
    }
   ],
   "source": [
    "preprocessed_reviews[1500]"
   ]
  },
  {
   "cell_type": "markdown",
   "metadata": {
    "colab_type": "text",
    "id": "N317lr0XChZk"
   },
   "source": [
    "# [4] Featurization"
   ]
  },
  {
   "cell_type": "markdown",
   "metadata": {
    "colab_type": "text",
    "id": "iqSqKjvwChZy"
   },
   "source": [
    "## [4.3] TF-IDF"
   ]
  },
  {
   "cell_type": "code",
   "execution_count": 24,
   "metadata": {
    "colab": {},
    "colab_type": "code",
    "id": "bNhxI57eChZz",
    "outputId": "f1cee421-33b7-42e2-85cb-eff35527f539"
   },
   "outputs": [
    {
     "name": "stdout",
     "output_type": "stream",
     "text": [
      "some sample features(unique words in the corpus) ['aa', 'aafco', 'aback', 'abandon', 'abandoned', 'abdominal', 'ability', 'able', 'abroad', 'absence']\n",
      "==================================================\n",
      "the type of count vectorizer  <class 'scipy.sparse.csr.csr_matrix'>\n",
      "the shape of out text TFIDF vectorizer  (87773, 11524)\n",
      "the number of unique words including both unigrams and bigrams  11524\n"
     ]
    }
   ],
   "source": [
    "tf_idf_vect = TfidfVectorizer(ngram_range=(1,1), min_df=10)\n",
    "tf_idf_vect.fit(preprocessed_reviews)\n",
    "print(\"some sample features(unique words in the corpus)\",tf_idf_vect.get_feature_names()[0:10])\n",
    "print('='*50)\n",
    "\n",
    "final_tf_idf = tf_idf_vect.transform(preprocessed_reviews)\n",
    "print(\"the type of count vectorizer \",type(final_tf_idf))\n",
    "print(\"the shape of out text TFIDF vectorizer \",final_tf_idf.get_shape())\n",
    "print(\"the number of unique words including both unigrams and bigrams \", final_tf_idf.get_shape()[1])"
   ]
  },
  {
   "cell_type": "markdown",
   "metadata": {
    "colab_type": "text",
    "id": "rt5Z8K0NCha9"
   },
   "source": [
    "# [5] Assignment 11: Truncated SVD"
   ]
  },
  {
   "cell_type": "markdown",
   "metadata": {
    "colab_type": "text",
    "id": "B6Ssh6vvCha9"
   },
   "source": [
    "<ol>\n",
    "    <li><strong>Apply Truncated-SVD on only this feature set:</strong>\n",
    "        <ul>\n",
    "            <li><font color='red'>SET 2:</font>Review text, preprocessed one converted into vectors using (TFIDF)</li>\n",
    "    <br>\n",
    "    <li><strong>Procedure:</strong>\n",
    "        <ul>\n",
    "    <li>Take top 2000 or 3000 features from tf-idf vectorizers using idf_ score.</li>\n",
    "    <li>You need to calculate the co-occurrence matrix with the selected features (Note: X.X^T\n",
    "doesn’t give the co-occurrence matrix, it returns the covariance matrix, check these\n",
    "        bolgs <a href='https://medium.com/data-science-group-iitr/word-embedding-2d05d270b285'>blog-1,</a> <a href='https://www.analyticsvidhya.com/blog/2017/06/word-embeddings-count-word2veec/'>blog-2 </a>for more information)</li>\n",
    "            <li>You should choose the n_components in truncated svd, with maximum explained\n",
    "variance. Please search on how to choose that and implement them. (hint: plot of\n",
    "cumulative explained variance ratio)</li>\n",
    "            <li>After you are done with the truncated svd, you can apply K-Means clustering and choose\n",
    "the best number of clusters based on elbow method.</li>\n",
    "            <li> Print out wordclouds for each cluster, similar to that in previous assignment. </li>\n",
    "            <li>You need to write a function that takes a word and returns the most similar words using\n",
    "cosine similarity between the vectors(vector: a row in the matrix after truncatedSVD)</li>\n",
    "        </ul>\n",
    "    </li>\n",
    "    <br>\n",
    "    \n",
    "</ol>"
   ]
  },
  {
   "cell_type": "markdown",
   "metadata": {
    "colab_type": "text",
    "id": "9J6ObJ9dCha_"
   },
   "source": [
    "## Truncated-SVD"
   ]
  },
  {
   "cell_type": "markdown",
   "metadata": {
    "colab_type": "text",
    "id": "MkBTVWfDChbA"
   },
   "source": [
    "### [5.1] Taking top features from TFIDF"
   ]
  },
  {
   "cell_type": "code",
   "execution_count": 25,
   "metadata": {},
   "outputs": [],
   "source": [
    "idf = tf_idf_vect.idf_\n",
    "feature_names  = tf_idf_vect.get_feature_names()"
   ]
  },
  {
   "cell_type": "code",
   "execution_count": 26,
   "metadata": {},
   "outputs": [],
   "source": [
    "idf_fea = zip(idf,feature_names)\n",
    "idf_sorted =sorted(idf_fea)\n",
    "top_2k = idf_sorted[:-(2000 + 1):-1]"
   ]
  },
  {
   "cell_type": "code",
   "execution_count": 27,
   "metadata": {},
   "outputs": [
    {
     "name": "stdout",
     "output_type": "stream",
     "text": [
      "Printing few top features of TFIDF vectorizer\n",
      "['yucca', 'yougurt', 'yell', 'yeasty', 'yamamotoyama', 'writeup', 'wondeful', 'witch', 'wiser', 'winn', 'wildlife', 'wil', 'wheats', 'werther', 'weber', 'wattage', 'washable', 'waring', 'walmarts', 'walgreen', 'waft', 'vue', 'viewed', 'veges', 'veal', 'vanillin', 'valve', 'vain', 'uplifting', 'unsweet', 'unsatisfying', 'uninterested', 'unilever', 'understands', 'uncommon', 'ultramix', 'uber', 'tweaking', 'turducken', 'turbinado', 'trusting', 'troops', 'trifle', 'transplant', 'traits', 'tout', 'tongues', 'tomatoe', 'tires', 'tinker']\n"
     ]
    }
   ],
   "source": [
    "top_2kf = [] \n",
    "for i in range(len(top_2k)):\n",
    "    top_2kf.append(top_2k[i][1])\n",
    "\n",
    "print(\"Printing few top features of TFIDF vectorizer\")\n",
    "print(top_2kf[:50])"
   ]
  },
  {
   "cell_type": "markdown",
   "metadata": {
    "colab_type": "text",
    "id": "PiC8j4H4ChbF"
   },
   "source": [
    "### [5.2] Calulation of Co-occurrence matrix"
   ]
  },
  {
   "cell_type": "code",
   "execution_count": 28,
   "metadata": {},
   "outputs": [
    {
     "name": "stderr",
     "output_type": "stream",
     "text": [
      "100%|████████████████████████████████████████████████████| 3/3 [00:00<?, ?it/s]\n"
     ]
    }
   ],
   "source": [
    "import pandas as pd\n",
    "import numpy as np\n",
    "st = \"abc def ijk pqr\",\"pqr klm opq\",\"lmn pqr xyz abc def pqr abc\"\n",
    "wrd = \"abc\",\"def\",\"ijk\",\"pqr\",\"klm\",\"opq\",\"lmn\",\"xyz\"\n",
    "zero = np.zeros((len(wrd), len(wrd)))\n",
    "df_zero = pd.DataFrame(zero, index = wrd, columns = wrd)\n",
    "context_window = 2\n",
    "# Code reference = https://medium.com/swlh/truncated-singular-value-decomposition-svd-using-amazon-food-reviews-891d97af5d8d\n",
    "for sent in tqdm(st): # obtaining each sentence of review\n",
    "    words_sent = sent.split(\" \") # obtaining each word of a sent\n",
    "    for index,word in enumerate(words_sent): # obtaining the index of each word from sentence\n",
    "        if word in wrd: # checking whether the word is present in Top 6000\n",
    "            for j in range(max(index - context_window,0),min(index + context_window , len(words_sent) -1) + 1):\n",
    "                if words_sent[j] in wrd:\n",
    "                    if words_sent[j] != word:\n",
    "                        zero[wrd.index(words_sent[j]), wrd.index(word)] += 1  \n",
    "                    else:\n",
    "                        pass\n",
    "                else:\n",
    "                    pass\n",
    "        else:\n",
    "            pass\n"
   ]
  },
  {
   "cell_type": "code",
   "execution_count": 29,
   "metadata": {},
   "outputs": [
    {
     "name": "stdout",
     "output_type": "stream",
     "text": [
      "     abc  def  ijk  pqr  klm  opq  lmn  xyz\n",
      "abc  0.0  3.0  1.0  3.0  0.0  0.0  0.0  1.0\n",
      "def  3.0  0.0  1.0  2.0  0.0  0.0  0.0  1.0\n",
      "ijk  1.0  1.0  0.0  1.0  0.0  0.0  0.0  0.0\n",
      "pqr  3.0  2.0  1.0  0.0  1.0  1.0  1.0  1.0\n",
      "klm  0.0  0.0  0.0  1.0  0.0  1.0  0.0  0.0\n",
      "opq  0.0  0.0  0.0  1.0  1.0  0.0  0.0  0.0\n",
      "lmn  0.0  0.0  0.0  1.0  0.0  0.0  0.0  1.0\n",
      "xyz  1.0  1.0  0.0  1.0  0.0  0.0  1.0  0.0\n"
     ]
    }
   ],
   "source": [
    "zero\n",
    "df_zero = pd.DataFrame(zero, index = wrd, columns = wrd)\n",
    "print(df_zero)"
   ]
  },
  {
   "cell_type": "code",
   "execution_count": 76,
   "metadata": {},
   "outputs": [
    {
     "name": "stderr",
     "output_type": "stream",
     "text": [
      "100%|██████████████████████████████████████████| 3/3 [00:00<00:00, 3000.22it/s]\n"
     ]
    }
   ],
   "source": [
    "sr = \"abc def ijk pqr\", \"pqr klm opq\", \"lmn pqr xyz abc def pqr abc\"\n",
    "wd = \"abc\", \"pqr\", \"def\"\n",
    "zero_1 = np.zeros((len(wd), len(wd)))\n",
    "context_window = 2\n",
    "# Code reference = https://medium.com/swlh/truncated-singular-value-decomposition-svd-using-amazon-food-reviews-891d97af5d8d\n",
    "for sent in tqdm(sr): # obtaining each sentence of review\n",
    "    words_sent = sent.split(\" \") # obtaining each word of a sent\n",
    "    for index,word in enumerate(words_sent): # obtaining the index of each word from sentence\n",
    "        if word in wd: # checking whether the word is present in Top 2000\n",
    "            for j in range(max(index - context_window,0),min(index + context_window , len(words_sent) -1) + 1):\n",
    "                if words_sent[j] in wd:\n",
    "                    if words_sent[j] == word:\n",
    "                        zero_1[wd.index(words_sent[j]), wd.index(word)] += 1  \n",
    "                    else:\n",
    "                        zero_1[wd.index(words_sent[j]), wd.index(word)] += 1\n",
    "                else:\n",
    "                    pass\n",
    "        else:\n",
    "            pass\n"
   ]
  },
  {
   "cell_type": "code",
   "execution_count": 77,
   "metadata": {},
   "outputs": [
    {
     "name": "stdout",
     "output_type": "stream",
     "text": [
      "     abc  pqr  def\n",
      "abc  3.0  3.0  3.0\n",
      "pqr  3.0  4.0  2.0\n",
      "def  3.0  2.0  2.0\n"
     ]
    }
   ],
   "source": [
    "zero_1\n",
    "df_zero_1 = pd.DataFrame(zero_1, index = wd, columns = wd)\n",
    "print(df_zero_1)"
   ]
  },
  {
   "cell_type": "code",
   "execution_count": 57,
   "metadata": {},
   "outputs": [],
   "source": [
    "cooccurrenceMatrix = np.zeros((2000,2000)) # co-occurance matrix\n",
    "context_window = 4\n"
   ]
  },
  {
   "cell_type": "code",
   "execution_count": 58,
   "metadata": {},
   "outputs": [
    {
     "name": "stderr",
     "output_type": "stream",
     "text": [
      "100%|███████████████████████████████████| 87773/87773 [01:46<00:00, 822.48it/s]\n"
     ]
    },
    {
     "name": "stdout",
     "output_type": "stream",
     "text": [
      "[[10.  0.  0. ...  0.  0.  0.]\n",
      " [ 0. 18.  0. ...  0.  0.  0.]\n",
      " [ 0.  0. 10. ...  0.  0.  0.]\n",
      " ...\n",
      " [ 0.  0.  0. ... 19.  0.  0.]\n",
      " [ 0.  0.  0. ...  0. 17.  0.]\n",
      " [ 0.  0.  0. ...  0.  0. 14.]]\n"
     ]
    }
   ],
   "source": [
    "# Code reference = https://medium.com/swlh/truncated-singular-value-decomposition-svd-using-amazon-food-reviews-891d97af5d8d\n",
    "for sent in tqdm(preprocessed_reviews): # obtaining each sentence of review\n",
    "    words_sent = sent.split() # obtaining each word of a sent\n",
    "    for index,word in enumerate(words_sent): # obtaining the index of each word from sentence\n",
    "        if word in top_2kf: # checking whether the word is present in Top 6000\n",
    "            for j in range(max(index - context_window,0),min(index + context_window , len(words_sent) -1) + 1):\n",
    "                if words_sent[j] in top_2kf:\n",
    "                    if words_sent[j] != word:\n",
    "                        cooccurrenceMatrix[top_2kf.index(words_sent[j]), top_2kf.index(word)] += 1    \n",
    "                    else:\n",
    "                        cooccurrenceMatrix[top_2kf.index(words_sent[j]), top_2kf.index(word)] += 1\n",
    "                else:\n",
    "                    pass\n",
    "        else:\n",
    "            pass\n",
    "        \n",
    "print(cooccurrenceMatrix)"
   ]
  },
  {
   "cell_type": "code",
   "execution_count": 59,
   "metadata": {
    "scrolled": false
   },
   "outputs": [
    {
     "name": "stdout",
     "output_type": "stream",
     "text": [
      "              yucca  yougurt  yell  yeasty  yamamotoyama  writeup  wondeful  \\\n",
      "yucca          10.0      0.0   0.0     0.0           0.0      0.0       0.0   \n",
      "yougurt         0.0     18.0   0.0     0.0           0.0      0.0       0.0   \n",
      "yell            0.0      0.0  10.0     0.0           0.0      0.0       0.0   \n",
      "yeasty          0.0      0.0   0.0    10.0           0.0      0.0       0.0   \n",
      "yamamotoyama    0.0      0.0   0.0     0.0          13.0      0.0       0.0   \n",
      "writeup         0.0      0.0   0.0     0.0           0.0     10.0       0.0   \n",
      "wondeful        0.0      0.0   0.0     0.0           0.0      0.0      10.0   \n",
      "witch           0.0      0.0   0.0     0.0           0.0      0.0       0.0   \n",
      "wiser           0.0      0.0   0.0     0.0           0.0      0.0       0.0   \n",
      "winn            0.0      0.0   0.0     0.0           0.0      0.0       0.0   \n",
      "\n",
      "              witch  wiser  winn  ...    missouri  minicongo  millstone  \\\n",
      "yucca           0.0    0.0   0.0  ...         0.0        0.0        0.0   \n",
      "yougurt         0.0    0.0   0.0  ...         0.0        0.0        0.0   \n",
      "yell            0.0    0.0   0.0  ...         0.0        0.0        0.0   \n",
      "yeasty          0.0    0.0   0.0  ...         0.0        0.0        0.0   \n",
      "yamamotoyama    0.0    0.0   0.0  ...         0.0        0.0        0.0   \n",
      "writeup         0.0    0.0   0.0  ...         0.0        0.0        0.0   \n",
      "wondeful        0.0    0.0   0.0  ...         0.0        0.0        0.0   \n",
      "witch          11.0    0.0   0.0  ...         0.0        0.0        0.0   \n",
      "wiser           0.0   11.0   0.0  ...         0.0        0.0        0.0   \n",
      "winn            0.0    0.0  11.0  ...         0.0        0.0        0.0   \n",
      "\n",
      "              milkbone  mex  mberry  marshmellows  marie  maraschino  manly  \n",
      "yucca              0.0  0.0     0.0           0.0    0.0         0.0    0.0  \n",
      "yougurt            0.0  0.0     0.0           0.0    0.0         0.0    0.0  \n",
      "yell               0.0  0.0     0.0           0.0    0.0         0.0    0.0  \n",
      "yeasty             0.0  0.0     0.0           0.0    0.0         0.0    0.0  \n",
      "yamamotoyama       0.0  0.0     0.0           0.0    0.0         0.0    0.0  \n",
      "writeup            0.0  0.0     0.0           0.0    0.0         0.0    0.0  \n",
      "wondeful           0.0  0.0     0.0           0.0    0.0         0.0    0.0  \n",
      "witch              0.0  0.0     0.0           0.0    0.0         0.0    0.0  \n",
      "wiser              0.0  0.0     0.0           0.0    0.0         0.0    0.0  \n",
      "winn               0.0  0.0     0.0           0.0    0.0         0.0    0.0  \n",
      "\n",
      "[10 rows x 2000 columns]\n"
     ]
    }
   ],
   "source": [
    "df = pd.DataFrame(cooccurrenceMatrix, index = top_2kf, columns = top_2kf)\n",
    "print(df.head(10))"
   ]
  },
  {
   "cell_type": "code",
   "execution_count": 61,
   "metadata": {},
   "outputs": [
    {
     "data": {
      "image/png": "[encoded data removed]",
      "text/plain": [
       "<Figure size 432x288 with 1 Axes>"
      ]
     },
     "metadata": {},
     "output_type": "display_data"
    }
   ],
   "source": [
    "from sklearn.decomposition import TruncatedSVD\n",
    "ts = TruncatedSVD(n_components = 1999)\n",
    "ts_data = ts.fit_transform(df)\n",
    "\n",
    "percentage_var_explained = ts.explained_variance_ / np.sum(ts.explained_variance_)\n",
    "\n",
    "cum_var_explained = np.cumsum(percentage_var_explained)\n",
    "\n",
    "\n",
    "plt.figure(1, figsize=(6, 4))\n",
    "\n",
    "plt.clf()\n",
    "plt.plot(cum_var_explained, linewidth = 2)\n",
    "plt.axis('tight')\n",
    "plt.grid()\n",
    "plt.xlabel('n_components')\n",
    "plt.ylabel('Cumulative_explained_variance')\n",
    "plt.show()"
   ]
  },
  {
   "cell_type": "markdown",
   "metadata": {
    "colab_type": "text",
    "id": "4kRIoxNBChbJ"
   },
   "source": [
    "### [5.3] Finding optimal value for number of components (n) to be retained."
   ]
  },
  {
   "cell_type": "code",
   "execution_count": 54,
   "metadata": {},
   "outputs": [],
   "source": [
    "# From the above plot we can say that by taking 1000 features, the maximum varience is explained"
   ]
  },
  {
   "cell_type": "code",
   "execution_count": 63,
   "metadata": {
    "colab": {},
    "colab_type": "code",
    "id": "oeWt8Zj0ChbK"
   },
   "outputs": [
    {
     "data": {
      "text/plain": [
       "(2000, 1999)"
      ]
     },
     "execution_count": 63,
     "metadata": {},
     "output_type": "execute_result"
    }
   ],
   "source": [
    "# Please write all the code with proper documentation\n",
    "from sklearn.decomposition import TruncatedSVD\n",
    "ta = TruncatedSVD(n_components = 1999)\n",
    "da = ta.fit_transform(df)\n",
    "da.shape\n"
   ]
  },
  {
   "cell_type": "markdown",
   "metadata": {
    "colab_type": "text",
    "id": "CjqXnEtoChbl"
   },
   "source": [
    "### [5.4] Applying k-means clustering"
   ]
  },
  {
   "cell_type": "code",
   "execution_count": 64,
   "metadata": {
    "colab": {},
    "colab_type": "code",
    "id": "Tfpn89DQChbn"
   },
   "outputs": [
    {
     "data": {
      "image/png": "[encoded data removed]",
      "text/plain": [
       "<Figure size 432x288 with 1 Axes>"
      ]
     },
     "metadata": {},
     "output_type": "display_data"
    }
   ],
   "source": [
    "# Please write all the code with proper documentation\n",
    "from sklearn.cluster import KMeans\n",
    "error = []\n",
    "k = list(range(2,15,2))\n",
    "for i in k:\n",
    "    kclust = KMeans(n_clusters=i,init='k-means++')\n",
    "    kclust.fit(da)\n",
    "    error.append(kclust.inertia_)\n",
    "plt.plot(k,error,\"-o\")\n",
    "plt.xlabel(\"No of clusters\")\n",
    "plt.ylabel(\"error\")\n",
    "plt.title(\"k-clusters errors\")\n",
    "plt.show()"
   ]
  },
  {
   "cell_type": "code",
   "execution_count": 57,
   "metadata": {},
   "outputs": [],
   "source": [
    "# from the K-cluster errors plot there is a constant decrease in the error until 10.\n",
    "#So we choose the optimal no of clusters as 10"
   ]
  },
  {
   "cell_type": "code",
   "execution_count": 65,
   "metadata": {},
   "outputs": [
    {
     "name": "stdout",
     "output_type": "stream",
     "text": [
      "              0             1             2             3             4     \\\n",
      "0     3.509336e-03 -4.831307e-14  6.870122e-16  2.700707e-14  2.279599e+00   \n",
      "1    -2.374204e-14  3.222209e-14  9.460107e-15 -1.548258e-14 -9.187817e-15   \n",
      "2    -9.335819e-15  2.884274e-14 -6.466846e-14  2.717491e-16 -7.202432e-16   \n",
      "3     2.884031e-16 -1.058331e-14  6.793884e-15 -2.273724e-14 -3.528120e-15   \n",
      "4    -2.099865e-15 -6.655047e-15  6.087589e-17 -9.586702e-15  9.925631e-16   \n",
      "5     2.154918e-15 -3.560591e-15  3.570322e-15 -3.907922e-15  4.142477e-15   \n",
      "6     2.665254e-15  3.253853e-12  6.929186e-10  3.149090e-15  1.135160e-15   \n",
      "7     7.288434e-16  5.778602e-16  1.362199e-15  1.635125e-15 -2.310188e-15   \n",
      "8    -2.466272e-15  3.195843e-16 -1.192602e-15 -1.160875e-15  1.493335e-15   \n",
      "9     7.369921e-16 -1.546348e-15  1.837036e-15  1.038556e-15  6.310294e-16   \n",
      "10   -4.702083e-15 -1.551179e-15 -4.175753e-16  1.147981e-15  1.453422e-15   \n",
      "11   -6.482775e-15 -1.635152e-15  1.011189e-15  3.611453e-16 -1.881740e-15   \n",
      "12    1.442141e-15  1.410536e-15  2.796781e-15  1.609613e-15  1.858868e-16   \n",
      "13    8.285558e-16  1.011375e-15  1.391179e-15  1.370459e-15 -1.141521e-15   \n",
      "14    1.108333e-14 -8.155727e-16  7.619709e-15 -3.926721e-15 -1.780707e-15   \n",
      "15    3.560611e-16  2.463022e-16  2.992675e-15 -1.951920e-16  1.892616e-15   \n",
      "16   -1.049583e-15 -4.253493e-16  8.674449e-16 -1.708900e-15 -7.387992e-16   \n",
      "17   -4.106298e-16  4.205446e-16  1.033333e-14  2.773141e-16 -9.652674e-16   \n",
      "18    1.830040e-16 -3.043591e-16 -5.457346e-16 -5.974008e-15 -2.520436e-17   \n",
      "19   -6.074379e-16 -2.779863e-15 -3.576333e-16 -2.964250e-15  3.484771e-18   \n",
      "20   -1.186463e-15  3.426985e-16  4.208309e-16 -5.091637e-16  9.965151e-16   \n",
      "21   -4.517997e-16  4.431708e-15  1.910597e-15 -5.607689e-16 -3.109809e-16   \n",
      "22    6.004976e-16 -8.364965e-16 -2.449033e-15  3.283316e-16  1.790778e-15   \n",
      "23   -4.725100e-16 -8.053044e-16 -1.627193e-15 -1.274036e-15  2.333623e-16   \n",
      "24   -1.900428e-16  1.156326e-15 -5.224185e-16  2.640964e-15 -1.037017e-15   \n",
      "25   -1.561113e-15 -1.989065e-16 -1.279443e-15 -1.416510e-16  2.125933e-16   \n",
      "26    1.857446e-10  2.089125e-14  5.710535e-12  2.491189e-16 -9.722440e-12   \n",
      "27    1.824696e-15 -9.095008e-16  4.667003e-15  1.187188e-15 -2.643201e-16   \n",
      "28    2.562533e-15  2.271293e-15  2.356927e-15  1.619657e-15  3.238849e-15   \n",
      "29   -1.608166e-15 -4.148829e-16 -1.679179e-15 -5.154164e-16  3.342469e-16   \n",
      "...            ...           ...           ...           ...           ...   \n",
      "1970  9.772798e-16 -6.573868e-16 -9.848691e-17  3.163060e-16  1.998079e-16   \n",
      "1971  1.154179e-15  2.445909e-15  1.018336e-16 -6.131623e-16 -2.749042e-16   \n",
      "1972 -1.332339e-15 -8.742311e-16 -2.683537e-16  4.108916e-16 -5.202795e-16   \n",
      "1973  4.263148e-16 -3.771096e-15 -6.166112e-16 -3.989871e-16 -8.309011e-16   \n",
      "1974  1.526951e-15 -1.442467e-16 -2.243522e-16 -1.418571e-15 -1.054553e-15   \n",
      "1975  7.866607e-16  9.449440e-16 -7.130682e-17 -5.777300e-16 -1.015974e-17   \n",
      "1976  1.487612e-15  4.837821e-17 -1.825516e-15  1.869913e-16 -6.579138e-17   \n",
      "1977 -1.125396e-15  2.139546e-16  1.379119e-15 -2.895871e-16 -2.833884e-16   \n",
      "1978  1.518027e-15  5.985599e-16  1.802188e-16 -4.166552e-16 -1.296717e-15   \n",
      "1979  3.785168e-12 -1.709680e-15 -2.509788e-17  4.871129e-16 -3.659462e-13   \n",
      "1980 -3.743104e-16 -6.686343e-16 -1.831328e-15  9.862202e-16  2.813010e-16   \n",
      "1981  1.320749e-15 -1.631318e-15 -2.881912e-17  1.314773e-15  4.852018e-16   \n",
      "1982  5.605957e-16  2.694669e-15  2.153564e-15 -3.041129e-15  8.790648e-12   \n",
      "1983  4.926488e-16 -1.197503e-16 -2.838755e-16  2.509354e-17 -8.581230e-16   \n",
      "1984  1.245681e-15  1.306466e-15  1.324537e-15 -1.045804e-15 -5.705609e-16   \n",
      "1985 -2.352167e-16  1.453792e-15  2.455544e-16  1.146845e-15  4.208625e-16   \n",
      "1986  9.132817e-16  2.377753e-15 -6.364914e-16 -1.046493e-15 -2.221634e-16   \n",
      "1987 -2.012112e-15 -2.610191e-15 -1.909025e-16  9.770052e-17 -3.120030e-16   \n",
      "1988  9.094717e-16  2.542752e-15 -3.758268e-16 -2.595053e-17 -2.891794e-16   \n",
      "1989  1.501596e-15 -3.066172e-15 -2.295814e-15  4.816502e-16 -4.212606e-16   \n",
      "1990 -7.187522e-16  4.026975e-16 -1.129289e-15  1.418411e-15 -4.183500e-16   \n",
      "1991  3.970850e-16 -2.072775e-15 -6.903037e-16  8.998428e-18  4.723992e-16   \n",
      "1992 -2.084375e-15 -5.549397e-16  5.246329e-16  7.922963e-16 -3.790037e-16   \n",
      "1993 -3.930903e-16 -5.943130e-16  9.341779e-16  8.363622e-16  9.259630e-16   \n",
      "1994  3.619609e-17 -6.107465e-17 -1.407254e-15 -2.340188e-15 -4.572373e-17   \n",
      "1995  3.421336e-16 -8.372421e-16 -1.021737e-15  6.633749e-16 -4.414981e-16   \n",
      "1996 -7.003410e-16  7.242345e-16 -1.035575e-15  8.066699e-16 -5.391841e-16   \n",
      "1997  8.185139e-16 -3.730044e-15 -1.514654e-14  1.475811e+00  3.913394e-16   \n",
      "1998  3.467677e-12 -9.566858e-15 -2.320682e-15  2.406464e-15 -3.124549e-13   \n",
      "1999 -1.398580e-15  5.562436e-16  1.083068e-15  3.970482e-16  1.315595e-16   \n",
      "\n",
      "              5             6             7             8             9     \\\n",
      "0     1.706972e-14  1.462744e-13  5.194118e-16  6.293717e-15 -4.388495e-15   \n",
      "1     1.139780e-14 -2.352471e-15 -1.604528e-15  4.881399e-15 -1.849972e-15   \n",
      "2     6.184531e-15  1.826531e-15  5.430315e-16 -9.347092e-16  8.350494e-16   \n",
      "3    -1.098593e-15  1.867310e-15 -6.730703e-16  9.065530e-16  5.402228e-16   \n",
      "4     2.013825e-14 -1.589341e-15  5.495099e-16 -2.608826e-16 -4.828175e-16   \n",
      "5     7.925559e-15  3.831032e-16 -3.681122e-16  2.620149e-15 -4.053234e-16   \n",
      "6     6.079832e-12  6.493386e-02 -6.082071e-15  4.449549e-15 -5.175025e-15   \n",
      "7     1.050998e-16  5.723189e-15 -1.103015e-14  1.136087e-14 -1.721960e-15   \n",
      "8     5.550905e-16 -5.182476e-15 -2.045506e-15 -3.438816e-15  6.804855e-15   \n",
      "9    -1.754788e-15 -1.464093e-15 -5.824566e-15 -5.763662e-15  3.690848e-15   \n",
      "10    7.152944e-16 -2.353788e-15 -1.769599e-15  1.825707e-15 -6.003992e-16   \n",
      "11   -9.731298e-17  1.731061e-16 -1.620000e-15  6.747617e-15  2.518829e-15   \n",
      "12   -2.360340e-15 -1.403507e-15 -4.857319e-15 -2.858645e-15  4.039229e-15   \n",
      "13   -3.861388e-17  7.439538e-16  3.133753e-15  6.828357e-17 -3.370710e-15   \n",
      "14    4.720914e-07  6.161731e-08  1.501362e-15 -1.821480e-16 -1.736281e-15   \n",
      "15    1.272488e-10  1.489508e-12 -1.423844e-15  1.419467e-16  1.219492e-15   \n",
      "16   -3.930909e-15  4.273090e-15 -1.388263e-15 -2.933517e-15 -1.305547e-15   \n",
      "17    1.543550e-16  2.608829e-06  4.694083e-15 -2.702282e-15 -2.413573e-15   \n",
      "18   -4.040475e-15  1.932692e-15  2.547691e-16 -1.872921e-15  2.211949e-16   \n",
      "19   -3.636846e-15  1.435973e-15 -2.410107e-15  6.849127e-16  3.907930e-15   \n",
      "20    1.107122e-16 -7.795615e-16  5.841468e-15 -1.185138e-15 -2.562292e-15   \n",
      "21   -1.469229e-16 -6.525979e-16 -1.586667e-16  5.164197e-15  5.609202e-15   \n",
      "22   -2.615115e-16 -4.603556e-16  1.559079e-15 -2.974094e-15 -1.017488e-15   \n",
      "23   -2.114721e-16  3.722121e-16 -4.772146e-17  2.574582e-15  1.697920e-15   \n",
      "24   -7.526672e-16  8.200694e-16  1.975570e-15  5.298147e-15  4.179197e-15   \n",
      "25    8.392264e-16  3.132882e-16  2.625643e-16  9.220896e-17 -3.114126e-15   \n",
      "26    2.605811e-07  4.957569e-01  1.506504e-15 -3.917167e-15  1.191167e-16   \n",
      "27    6.179222e-14  4.715362e-15  6.417810e-15 -8.444868e-16  5.815612e-16   \n",
      "28    2.310247e-11  7.865587e-13  4.040756e-16 -1.979598e-15 -2.205934e-15   \n",
      "29    8.062176e-16 -1.556930e-15  8.017786e-16  6.971537e-16 -2.558659e-15   \n",
      "...            ...           ...           ...           ...           ...   \n",
      "1970 -2.311825e-16 -1.921022e-15  6.052285e-16 -6.291274e-16  1.980946e-15   \n",
      "1971 -2.735685e-16 -3.268115e-16 -8.758761e-17 -4.504923e-16 -4.545239e-16   \n",
      "1972 -7.176258e-16  3.269886e-16  9.221808e-16  7.680384e-16  6.999863e-17   \n",
      "1973  8.814682e-16  1.732808e-16  4.892830e-17  6.174028e-16 -1.201402e-15   \n",
      "1974 -6.782857e-16 -8.513933e-16 -4.449248e-16 -2.149419e-17  6.997226e-17   \n",
      "1975 -6.015537e-17  1.558295e-16  6.235169e-16 -9.271075e-16 -4.676824e-16   \n",
      "1976 -7.922254e-16  1.112641e-15 -1.087213e-15 -7.825213e-16  7.676362e-16   \n",
      "1977  1.836689e-13  3.349879e-12  1.596492e-15  1.131913e-15  3.617022e-16   \n",
      "1978  1.077011e-09  4.034300e-10 -5.891752e-15  1.011181e-14 -2.293100e-13   \n",
      "1979  1.126609e-05  5.070866e-05  8.795229e-15  5.414899e-16  2.198348e-15   \n",
      "1980 -1.143897e-16  5.402685e-17  3.623711e-16  4.114496e-16  1.598647e-17   \n",
      "1981 -8.324493e-16 -5.726335e-16 -1.452933e-15 -1.345716e-15 -2.633485e-16   \n",
      "1982  2.437113e-15 -1.632716e-15  1.757050e-14  5.819712e-16 -1.882628e-15   \n",
      "1983  4.772729e-16  1.186196e-15  2.772227e-16  3.280948e-16 -1.093394e-16   \n",
      "1984  3.667936e-16 -6.458695e-16  4.579436e-16  3.047386e-16  5.053691e-17   \n",
      "1985 -1.680954e-15 -7.514279e-17 -6.620057e-16 -7.693607e-16 -4.247246e-16   \n",
      "1986 -5.020378e-16  3.738595e-16  1.366515e-15  2.547212e-17 -9.972330e-16   \n",
      "1987  6.991654e-16  2.007497e-15  4.598393e-16 -9.523545e-16  1.160810e-15   \n",
      "1988  6.939648e-16 -6.732240e-16 -5.926087e-16  1.358456e-15  6.453048e-16   \n",
      "1989  9.692473e-13  6.666679e-13 -5.839174e-16 -5.565862e-16 -9.923696e-16   \n",
      "1990  3.946695e-16  4.808279e-16 -1.384152e-15 -1.327113e-15  2.478718e-16   \n",
      "1991  2.739095e-10  2.991843e-09  2.521314e-16 -2.260598e-15 -4.421928e-16   \n",
      "1992 -1.293014e-15  5.455123e-16 -3.230696e-17 -2.818164e-16  1.207418e-15   \n",
      "1993 -5.183421e-16 -9.068479e-16 -1.021953e-15  2.768954e-16  5.941463e-16   \n",
      "1994  9.790916e-16  2.924448e-15  1.460547e-15 -5.592077e-17 -1.217940e-15   \n",
      "1995  8.830644e-16 -6.303107e-16  2.228645e-15 -1.388848e-16  5.564275e-16   \n",
      "1996  5.839943e-16  1.160015e-15  2.285388e-16 -6.301525e-16  2.021924e-16   \n",
      "1997  3.231650e-15 -3.122775e-18  2.053242e-15 -6.083612e-16 -1.411909e-15   \n",
      "1998  8.047307e-16  6.172268e-12 -8.349625e-16  1.208830e-15 -1.059153e-15   \n",
      "1999  7.580522e-16 -4.878134e-16 -6.736117e-16 -8.537287e-16 -7.208477e-16   \n",
      "\n",
      "          ...               1989          1990          1991          1992  \\\n",
      "0         ...      -1.574991e-13 -1.729743e-15  1.034675e-16 -4.897552e-17   \n",
      "1         ...       2.877202e-17  1.010404e-17 -2.026308e-16 -2.702295e-16   \n",
      "2         ...       2.039110e-16  1.681284e-17  1.348567e-16 -2.379031e-16   \n",
      "3         ...      -9.235747e-17  2.224842e-17 -9.945400e-17  2.052252e-17   \n",
      "4         ...       2.314184e-17 -1.285756e-16  8.286518e-17 -1.923189e-17   \n",
      "5         ...      -1.847677e-16 -1.146707e-16 -6.660502e-17  1.387768e-17   \n",
      "6         ...      -1.066649e-09  8.879662e-17 -1.776555e-16  3.060899e-17   \n",
      "7         ...      -3.340044e-17  5.685242e-17 -2.276429e-16 -9.024853e-17   \n",
      "8         ...      -2.460990e-17 -8.723102e-18  7.146735e-17  6.203093e-17   \n",
      "9         ...       3.241869e-17 -2.839271e-18 -2.210110e-16 -1.921656e-17   \n",
      "10        ...       2.248668e-16 -1.167981e-16 -2.991884e-16 -1.206856e-16   \n",
      "11        ...       4.931013e-17 -6.789855e-17 -1.793491e-17 -4.119705e-17   \n",
      "12        ...       3.969770e-17  9.151039e-17 -1.935122e-17 -1.671012e-17   \n",
      "13        ...       6.807127e-17  3.762929e-17 -2.071992e-17  4.557759e-17   \n",
      "14        ...      -2.181374e-05 -2.211980e-16 -3.020805e-16  5.896935e-17   \n",
      "15        ...      -4.635210e-07 -2.423631e-17  3.897737e-17  2.885380e-17   \n",
      "16        ...       3.034806e-17 -8.463867e-17  1.115134e-16 -2.185926e-16   \n",
      "17        ...       2.501464e-12 -2.529474e-16  3.438567e-16 -4.562758e-17   \n",
      "18        ...      -2.017267e-16 -2.390958e-17 -1.095680e-17  3.492208e-17   \n",
      "19        ...       7.307245e-17 -1.089026e-16  7.248120e-17  8.463091e-17   \n",
      "20        ...       1.878197e-17 -9.317671e-17  6.676175e-17 -2.238907e-17   \n",
      "21        ...       2.368613e-17 -7.132480e-18  2.944034e-16 -1.282027e-16   \n",
      "22        ...      -4.509424e-16  5.428088e-17 -2.902007e-16  3.580967e-17   \n",
      "23        ...       5.187619e-16  8.590515e-17  9.423465e-17 -5.817094e-17   \n",
      "24        ...      -1.268096e-16  1.078360e-16  9.036718e-17 -1.263821e-16   \n",
      "25        ...      -4.344724e-16  5.851890e-17 -6.945823e-18 -3.372380e-17   \n",
      "26        ...      -8.670591e-06  8.887760e-18 -2.326210e-17  3.371782e-16   \n",
      "27        ...       2.484949e-10 -2.547914e-16 -1.114358e-16 -1.825063e-16   \n",
      "28        ...       1.905604e-08 -4.188958e-17 -7.262202e-18 -6.219964e-17   \n",
      "29        ...      -6.316126e-17  6.757568e-17 -1.466111e-16 -1.546988e-17   \n",
      "...       ...                ...           ...           ...           ...   \n",
      "1970      ...       7.720422e-17 -4.851999e-17  1.899034e-16  7.193269e-17   \n",
      "1971      ...       2.557101e-17  5.687455e-17 -4.162994e-17 -1.909817e-17   \n",
      "1972      ...      -2.480890e-17 -9.852456e-18  7.992173e-18  4.047991e-17   \n",
      "1973      ...      -6.067774e-17 -1.289837e-16  6.400589e-17  6.184980e-18   \n",
      "1974      ...       6.983083e-18 -4.466036e-18 -1.330656e-17  1.618874e-17   \n",
      "1975      ...       8.656535e-17  8.439493e-17 -6.170239e-18 -4.461350e-17   \n",
      "1976      ...       3.609565e-17  3.273090e-17  2.977735e-17  1.298663e-17   \n",
      "1977      ...      -8.427747e-10 -1.923676e-17  2.045506e-17 -1.774382e-17   \n",
      "1978      ...      -1.919502e-07  4.009363e-17 -1.924369e-16 -7.469879e-18   \n",
      "1979      ...       6.046680e-05  1.080003e-17  2.306309e-17 -2.293177e-17   \n",
      "1980      ...      -2.952669e-18 -6.269116e-17  6.698634e-17 -1.384172e-17   \n",
      "1981      ...       1.024749e-16  2.040800e-17  9.739536e-18  1.558982e-16   \n",
      "1982      ...       1.483073e-12  2.587762e-17  9.903011e-17  7.699850e-18   \n",
      "1983      ...      -8.509945e-17 -3.001875e-17 -5.674765e-17 -7.304208e-17   \n",
      "1984      ...       1.349636e-17 -3.456385e-17 -1.893468e-17 -1.531342e-17   \n",
      "1985      ...       6.531223e-17  1.001438e-16  3.529556e-17 -2.395498e-16   \n",
      "1986      ...       6.313581e-16  1.374915e-16 -8.044709e-17  1.609001e-16   \n",
      "1987      ...      -2.369442e-18 -1.714489e-16 -3.617238e-16  7.508408e-17   \n",
      "1988      ...       7.765791e-19 -2.923477e-17  1.058300e-16  9.373184e-18   \n",
      "1989      ...      -1.271780e-09  2.382910e-16  3.598592e-17 -2.597372e-17   \n",
      "1990      ...       7.487434e-17 -2.739972e-17 -9.350979e-17 -7.939194e-17   \n",
      "1991      ...      -5.189161e-08  1.342568e-15 -1.333923e-17 -5.275985e-16   \n",
      "1992      ...       6.950430e-17 -2.887963e-16 -1.900973e-16  2.661695e-17   \n",
      "1993      ...       7.864870e-14  1.990953e-16 -1.790964e-17  3.548981e-16   \n",
      "1994      ...       3.259751e-16 -3.013481e-16 -2.853156e-16  1.976802e-16   \n",
      "1995      ...      -1.434297e-17 -1.962127e-16 -2.327541e-17 -2.127739e-16   \n",
      "1996      ...       2.605632e-18 -6.777456e-17 -1.809934e-17 -5.983580e-18   \n",
      "1997      ...       2.263520e-16 -7.141626e-18  4.737339e-17  1.039877e-16   \n",
      "1998      ...      -1.286095e-11  1.269821e-16 -1.490257e-16 -1.619113e-16   \n",
      "1999      ...      -2.842726e-18 -5.637005e-17 -1.088650e-16  2.621590e-18   \n",
      "\n",
      "              1993          1994          1995          1996          1997  \\\n",
      "0    -8.155401e-16  7.220223e-16 -1.349988e-01 -1.436124e-17  4.762440e-17   \n",
      "1     3.038875e-17  7.375726e-17  7.550020e-16  1.562806e-17 -4.619111e-19   \n",
      "2    -8.110200e-18  1.222454e-16  1.654491e-16 -8.115613e-18  1.192421e-17   \n",
      "3    -3.750964e-17  1.056394e-18  6.035475e-16  4.263356e-18 -2.874447e-17   \n",
      "4    -1.129853e-17  1.567589e-17 -3.341981e-16 -3.938622e-18 -4.579202e-18   \n",
      "5    -5.740965e-17  6.130687e-17  4.246542e-16  1.232474e-17  1.469718e-17   \n",
      "6     1.575192e-16 -5.722022e-17  9.270471e-16  1.065087e-17 -2.644092e-17   \n",
      "7     8.388906e-17 -4.498872e-17  2.702114e-16  1.142128e-18 -4.238518e-17   \n",
      "8     2.259534e-17  1.511772e-17 -2.398220e-16  5.330220e-18 -8.711064e-18   \n",
      "9     4.280668e-17  3.781425e-17 -5.443804e-17  9.239536e-18 -3.125875e-17   \n",
      "10    7.991547e-17 -6.866295e-17 -2.820013e-17 -1.061584e-17  7.379385e-18   \n",
      "11    4.484104e-17 -8.946231e-17 -1.351299e-18 -3.271503e-17 -1.655862e-17   \n",
      "12    4.852126e-18  3.144761e-18  1.540621e-17 -2.923524e-17 -2.672724e-17   \n",
      "13   -1.187584e-16  8.928363e-18 -8.017075e-18 -2.797881e-17  7.167734e-17   \n",
      "14    1.478736e-16  4.114330e-17 -2.792019e-14  8.187045e-17  6.678089e-20   \n",
      "15    1.802316e-18  5.612822e-17  3.349224e-17  6.325827e-18  1.150630e-18   \n",
      "16   -9.961509e-17  2.010973e-16 -1.381052e-17  1.820740e-18  4.627333e-17   \n",
      "17    1.523318e-16  4.567747e-17 -2.204633e-17 -2.880571e-18  1.740396e-17   \n",
      "18    1.662214e-17 -5.078987e-17 -4.168176e-18 -6.312854e-18 -1.625232e-18   \n",
      "19    1.101791e-16 -8.140116e-17 -8.140846e-18 -2.278144e-17 -2.645119e-17   \n",
      "20    4.511165e-17 -1.537214e-16 -6.608570e-18 -4.039603e-18  1.169848e-18   \n",
      "21   -1.828430e-17 -9.309775e-18  1.328783e-18  2.447325e-17  1.347131e-17   \n",
      "22    7.794744e-17 -1.878428e-16 -9.381407e-18 -3.121493e-17 -1.456298e-17   \n",
      "23   -5.685615e-17  9.605617e-18  5.280295e-18  1.003544e-18  1.486442e-17   \n",
      "24   -5.932976e-17  3.835943e-17  3.911456e-18  1.124259e-17  2.708134e-17   \n",
      "25   -7.923638e-17  3.389677e-17  1.838525e-18 -8.657700e-18  3.068869e-17   \n",
      "26   -1.428218e-16 -9.970533e-17  1.655732e-11 -1.913687e-17  3.615029e-17   \n",
      "27    8.226373e-17  7.856771e-17  2.784513e-17 -2.373487e-17 -1.095217e-17   \n",
      "28   -1.608031e-17 -3.016271e-17 -1.344105e-17 -2.793423e-17  2.382623e-18   \n",
      "29    1.578554e-17 -4.385765e-17 -1.768719e-17  6.412097e-18 -5.594355e-18   \n",
      "...            ...           ...           ...           ...           ...   \n",
      "1970 -2.382404e-16  2.379114e-17  1.034624e-17  7.534609e-18  2.155286e-17   \n",
      "1971 -2.462381e-17 -3.978544e-17 -5.679186e-18 -1.642977e-17 -3.871579e-18   \n",
      "1972  6.115901e-18 -9.839693e-18 -1.048605e-17  1.245781e-17  4.753919e-18   \n",
      "1973 -8.874775e-17 -4.136979e-17 -3.084572e-17  2.494294e-16  3.620549e-17   \n",
      "1974  1.502838e-17  1.084389e-17  5.150725e-18  1.741299e-18  3.811040e-18   \n",
      "1975  3.899259e-17 -1.811120e-17  1.775266e-17  6.309558e-19 -1.386441e-17   \n",
      "1976  5.251277e-17  1.367127e-17  5.308421e-18  7.503078e-18 -5.549186e-18   \n",
      "1977 -3.688174e-17 -3.760746e-17  1.194249e-17 -7.451155e-18  1.158324e-17   \n",
      "1978 -2.221439e-17 -1.305963e-18 -1.197776e-14 -4.820086e-18 -5.391532e-18   \n",
      "1979 -3.235893e-16 -7.230031e-17 -7.668795e-13 -1.105877e-17  4.923328e-17   \n",
      "1980 -2.925994e-17  1.139349e-17  2.822375e-18 -1.791433e-18 -1.285322e-18   \n",
      "1981 -4.777812e-17  1.527947e-17  4.322401e-18  1.286175e-18 -1.645013e-17   \n",
      "1982 -1.403143e-17 -2.223570e-18 -2.400369e-11 -1.320652e-17  2.887887e-18   \n",
      "1983 -2.588778e-17  3.517393e-17  7.342625e-18  2.661170e-19 -7.175509e-18   \n",
      "1984 -9.221343e-19  2.289004e-17 -1.741523e-17 -9.387624e-18  5.378333e-18   \n",
      "1985  2.554540e-17  1.421408e-16  5.734049e-17  6.177232e-17 -6.997374e-17   \n",
      "1986  1.890760e-16 -4.503221e-16  3.884666e-18 -1.347730e-17 -1.527662e-17   \n",
      "1987 -4.358653e-17 -1.006514e-16  2.772431e-17  9.418185e-18 -1.876357e-17   \n",
      "1988 -1.810758e-18 -1.822102e-17 -1.811753e-17  2.023043e-17  1.971338e-17   \n",
      "1989  3.314840e-17 -5.723031e-18  1.933691e-14  6.287558e-17  7.441665e-18   \n",
      "1990  5.587130e-17 -2.375577e-18 -3.465094e-17 -5.897276e-18  2.638206e-18   \n",
      "1991 -2.408898e-16 -1.379873e-16  3.866681e-16 -2.967359e-16 -1.528618e-17   \n",
      "1992 -2.009354e-16 -1.764411e-16 -1.787616e-17  1.531756e-16 -5.700827e-17   \n",
      "1993 -4.531605e-16 -2.869564e-16 -6.031716e-19  5.941260e-17 -2.914423e-17   \n",
      "1994  9.201123e-16  7.868229e-17 -5.226185e-16  3.669257e-15 -6.533555e-01   \n",
      "1995  2.627520e-16  1.553089e-16  3.444139e-17  5.432021e-17  4.551393e-17   \n",
      "1996  1.830737e-17 -4.526870e-17 -5.872778e-18  2.796670e-17 -9.526906e-18   \n",
      "1997 -4.885077e-17  4.482410e-17 -4.555410e-18 -3.168410e-17 -5.427778e-17   \n",
      "1998 -4.671489e-17  4.459674e-17 -9.412559e-13 -1.975577e-17 -3.608577e-17   \n",
      "1999  3.005472e-17 -1.600901e-17  5.677708e-18 -2.531567e-18 -2.545048e-17   \n",
      "\n",
      "              1998  \n",
      "0     2.567694e-18  \n",
      "1     1.321206e-17  \n",
      "2    -1.444744e-17  \n",
      "3    -1.997712e-18  \n",
      "4    -1.268026e-18  \n",
      "5    -2.240180e-18  \n",
      "6     6.430670e-18  \n",
      "7     4.316203e-18  \n",
      "8    -8.481123e-18  \n",
      "9    -1.046956e-17  \n",
      "10   -3.111469e-18  \n",
      "11    9.194887e-19  \n",
      "12    8.770017e-20  \n",
      "13   -3.617969e-18  \n",
      "14    2.716679e-17  \n",
      "15    2.235570e-18  \n",
      "16   -2.513625e-17  \n",
      "17   -2.321780e-17  \n",
      "18    6.316839e-18  \n",
      "19    1.382008e-17  \n",
      "20    1.652754e-18  \n",
      "21    6.562567e-18  \n",
      "22   -2.577451e-17  \n",
      "23   -4.195926e-18  \n",
      "24    7.630436e-18  \n",
      "25    5.937652e-18  \n",
      "26   -6.456325e-17  \n",
      "27    9.807679e-18  \n",
      "28   -1.958156e-18  \n",
      "29   -1.346787e-17  \n",
      "...            ...  \n",
      "1970 -2.274251e-17  \n",
      "1971  1.552117e-17  \n",
      "1972  9.226433e-18  \n",
      "1973 -1.299768e-17  \n",
      "1974  3.360982e-18  \n",
      "1975 -2.978901e-18  \n",
      "1976  9.134131e-19  \n",
      "1977  1.071988e-17  \n",
      "1978  2.032829e-17  \n",
      "1979 -4.268472e-18  \n",
      "1980  8.545826e-18  \n",
      "1981  3.333597e-18  \n",
      "1982  1.163647e-18  \n",
      "1983 -5.283530e-18  \n",
      "1984  2.267155e-18  \n",
      "1985 -1.794082e-17  \n",
      "1986 -1.767914e-16  \n",
      "1987  2.126443e-18  \n",
      "1988 -4.172496e-18  \n",
      "1989  1.653525e-17  \n",
      "1990 -4.551971e-18  \n",
      "1991  9.390406e-17  \n",
      "1992  2.314386e-17  \n",
      "1993  5.753771e-17  \n",
      "1994  1.008520e-16  \n",
      "1995  5.578248e-17  \n",
      "1996 -4.261339e-18  \n",
      "1997 -5.797008e-17  \n",
      "1998 -2.077110e-18  \n",
      "1999 -5.680572e-18  \n",
      "\n"
     ]
    },
    {
     "name": "stdout",
     "output_type": "stream",
     "text": [
      "[2000 rows x 1999 columns]\n",
      "The shape of the Data : (2000, 2001)\n"
     ]
    },
    {
     "data": {
      "text/html": [
       "<div>\n",
       "<style scoped>\n",
       "    .dataframe tbody tr th:only-of-type {\n",
       "        vertical-align: middle;\n",
       "    }\n",
       "\n",
       "    .dataframe tbody tr th {\n",
       "        vertical-align: top;\n",
       "    }\n",
       "\n",
       "    .dataframe thead th {\n",
       "        text-align: right;\n",
       "    }\n",
       "</style>\n",
       "<table border=\"1\" class=\"dataframe\">\n",
       "  <thead>\n",
       "    <tr style=\"text-align: right;\">\n",
       "      <th></th>\n",
       "      <th>0</th>\n",
       "      <th>1</th>\n",
       "      <th>2</th>\n",
       "      <th>3</th>\n",
       "      <th>4</th>\n",
       "      <th>5</th>\n",
       "      <th>6</th>\n",
       "      <th>7</th>\n",
       "      <th>8</th>\n",
       "      <th>9</th>\n",
       "      <th>...</th>\n",
       "      <th>1991</th>\n",
       "      <th>1992</th>\n",
       "      <th>1993</th>\n",
       "      <th>1994</th>\n",
       "      <th>1995</th>\n",
       "      <th>1996</th>\n",
       "      <th>1997</th>\n",
       "      <th>1998</th>\n",
       "      <th>clusters</th>\n",
       "      <th>Features</th>\n",
       "    </tr>\n",
       "  </thead>\n",
       "  <tbody>\n",
       "    <tr>\n",
       "      <th>0</th>\n",
       "      <td>3.509336e-03</td>\n",
       "      <td>-4.831307e-14</td>\n",
       "      <td>6.870122e-16</td>\n",
       "      <td>2.700707e-14</td>\n",
       "      <td>2.279599e+00</td>\n",
       "      <td>1.706972e-14</td>\n",
       "      <td>1.462744e-13</td>\n",
       "      <td>5.194118e-16</td>\n",
       "      <td>6.293717e-15</td>\n",
       "      <td>-4.388495e-15</td>\n",
       "      <td>...</td>\n",
       "      <td>1.034675e-16</td>\n",
       "      <td>-4.897552e-17</td>\n",
       "      <td>-8.155401e-16</td>\n",
       "      <td>7.220223e-16</td>\n",
       "      <td>-1.349988e-01</td>\n",
       "      <td>-1.436124e-17</td>\n",
       "      <td>4.762440e-17</td>\n",
       "      <td>2.567694e-18</td>\n",
       "      <td>4</td>\n",
       "      <td>yucca</td>\n",
       "    </tr>\n",
       "    <tr>\n",
       "      <th>1</th>\n",
       "      <td>-2.374204e-14</td>\n",
       "      <td>3.222209e-14</td>\n",
       "      <td>9.460107e-15</td>\n",
       "      <td>-1.548258e-14</td>\n",
       "      <td>-9.187817e-15</td>\n",
       "      <td>1.139780e-14</td>\n",
       "      <td>-2.352471e-15</td>\n",
       "      <td>-1.604528e-15</td>\n",
       "      <td>4.881399e-15</td>\n",
       "      <td>-1.849972e-15</td>\n",
       "      <td>...</td>\n",
       "      <td>-2.026308e-16</td>\n",
       "      <td>-2.702295e-16</td>\n",
       "      <td>3.038875e-17</td>\n",
       "      <td>7.375726e-17</td>\n",
       "      <td>7.550020e-16</td>\n",
       "      <td>1.562806e-17</td>\n",
       "      <td>-4.619111e-19</td>\n",
       "      <td>1.321206e-17</td>\n",
       "      <td>5</td>\n",
       "      <td>yougurt</td>\n",
       "    </tr>\n",
       "    <tr>\n",
       "      <th>2</th>\n",
       "      <td>-9.335819e-15</td>\n",
       "      <td>2.884274e-14</td>\n",
       "      <td>-6.466846e-14</td>\n",
       "      <td>2.717491e-16</td>\n",
       "      <td>-7.202432e-16</td>\n",
       "      <td>6.184531e-15</td>\n",
       "      <td>1.826531e-15</td>\n",
       "      <td>5.430315e-16</td>\n",
       "      <td>-9.347092e-16</td>\n",
       "      <td>8.350494e-16</td>\n",
       "      <td>...</td>\n",
       "      <td>1.348567e-16</td>\n",
       "      <td>-2.379031e-16</td>\n",
       "      <td>-8.110200e-18</td>\n",
       "      <td>1.222454e-16</td>\n",
       "      <td>1.654491e-16</td>\n",
       "      <td>-8.115613e-18</td>\n",
       "      <td>1.192421e-17</td>\n",
       "      <td>-1.444744e-17</td>\n",
       "      <td>4</td>\n",
       "      <td>yell</td>\n",
       "    </tr>\n",
       "    <tr>\n",
       "      <th>3</th>\n",
       "      <td>2.884031e-16</td>\n",
       "      <td>-1.058331e-14</td>\n",
       "      <td>6.793884e-15</td>\n",
       "      <td>-2.273724e-14</td>\n",
       "      <td>-3.528120e-15</td>\n",
       "      <td>-1.098593e-15</td>\n",
       "      <td>1.867310e-15</td>\n",
       "      <td>-6.730703e-16</td>\n",
       "      <td>9.065530e-16</td>\n",
       "      <td>5.402228e-16</td>\n",
       "      <td>...</td>\n",
       "      <td>-9.945400e-17</td>\n",
       "      <td>2.052252e-17</td>\n",
       "      <td>-3.750964e-17</td>\n",
       "      <td>1.056394e-18</td>\n",
       "      <td>6.035475e-16</td>\n",
       "      <td>4.263356e-18</td>\n",
       "      <td>-2.874447e-17</td>\n",
       "      <td>-1.997712e-18</td>\n",
       "      <td>4</td>\n",
       "      <td>yeasty</td>\n",
       "    </tr>\n",
       "    <tr>\n",
       "      <th>4</th>\n",
       "      <td>-2.099865e-15</td>\n",
       "      <td>-6.655047e-15</td>\n",
       "      <td>6.087589e-17</td>\n",
       "      <td>-9.586702e-15</td>\n",
       "      <td>9.925631e-16</td>\n",
       "      <td>2.013825e-14</td>\n",
       "      <td>-1.589341e-15</td>\n",
       "      <td>5.495099e-16</td>\n",
       "      <td>-2.608826e-16</td>\n",
       "      <td>-4.828175e-16</td>\n",
       "      <td>...</td>\n",
       "      <td>8.286518e-17</td>\n",
       "      <td>-1.923189e-17</td>\n",
       "      <td>-1.129853e-17</td>\n",
       "      <td>1.567589e-17</td>\n",
       "      <td>-3.341981e-16</td>\n",
       "      <td>-3.938622e-18</td>\n",
       "      <td>-4.579202e-18</td>\n",
       "      <td>-1.268026e-18</td>\n",
       "      <td>4</td>\n",
       "      <td>yamamotoyama</td>\n",
       "    </tr>\n",
       "  </tbody>\n",
       "</table>\n",
       "<p>5 rows × 2001 columns</p>\n",
       "</div>"
      ],
      "text/plain": [
       "              0             1             2             3             4  \\\n",
       "0  3.509336e-03 -4.831307e-14  6.870122e-16  2.700707e-14  2.279599e+00   \n",
       "1 -2.374204e-14  3.222209e-14  9.460107e-15 -1.548258e-14 -9.187817e-15   \n",
       "2 -9.335819e-15  2.884274e-14 -6.466846e-14  2.717491e-16 -7.202432e-16   \n",
       "3  2.884031e-16 -1.058331e-14  6.793884e-15 -2.273724e-14 -3.528120e-15   \n",
       "4 -2.099865e-15 -6.655047e-15  6.087589e-17 -9.586702e-15  9.925631e-16   \n",
       "\n",
       "              5             6             7             8             9  \\\n",
       "0  1.706972e-14  1.462744e-13  5.194118e-16  6.293717e-15 -4.388495e-15   \n",
       "1  1.139780e-14 -2.352471e-15 -1.604528e-15  4.881399e-15 -1.849972e-15   \n",
       "2  6.184531e-15  1.826531e-15  5.430315e-16 -9.347092e-16  8.350494e-16   \n",
       "3 -1.098593e-15  1.867310e-15 -6.730703e-16  9.065530e-16  5.402228e-16   \n",
       "4  2.013825e-14 -1.589341e-15  5.495099e-16 -2.608826e-16 -4.828175e-16   \n",
       "\n",
       "       ...               1991          1992          1993          1994  \\\n",
       "0      ...       1.034675e-16 -4.897552e-17 -8.155401e-16  7.220223e-16   \n",
       "1      ...      -2.026308e-16 -2.702295e-16  3.038875e-17  7.375726e-17   \n",
       "2      ...       1.348567e-16 -2.379031e-16 -8.110200e-18  1.222454e-16   \n",
       "3      ...      -9.945400e-17  2.052252e-17 -3.750964e-17  1.056394e-18   \n",
       "4      ...       8.286518e-17 -1.923189e-17 -1.129853e-17  1.567589e-17   \n",
       "\n",
       "           1995          1996          1997          1998  clusters  \\\n",
       "0 -1.349988e-01 -1.436124e-17  4.762440e-17  2.567694e-18         4   \n",
       "1  7.550020e-16  1.562806e-17 -4.619111e-19  1.321206e-17         5   \n",
       "2  1.654491e-16 -8.115613e-18  1.192421e-17 -1.444744e-17         4   \n",
       "3  6.035475e-16  4.263356e-18 -2.874447e-17 -1.997712e-18         4   \n",
       "4 -3.341981e-16 -3.938622e-18 -4.579202e-18 -1.268026e-18         4   \n",
       "\n",
       "       Features  \n",
       "0         yucca  \n",
       "1       yougurt  \n",
       "2          yell  \n",
       "3        yeasty  \n",
       "4  yamamotoyama  \n",
       "\n",
       "[5 rows x 2001 columns]"
      ]
     },
     "execution_count": 65,
     "metadata": {},
     "output_type": "execute_result"
    }
   ],
   "source": [
    "kclusters = KMeans(n_clusters=10,init='k-means++')\n",
    "kclusters.fit(da)\n",
    "kclusters.labels_\n",
    "data = pd.DataFrame(da)\n",
    "print(data)\n",
    "data['clusters'] = kclusters.labels_\n",
    "data['Features'] = top_2kf\n",
    "print(\"The shape of the Data :\",data.shape)\n",
    "data.head(5)"
   ]
  },
  {
   "cell_type": "markdown",
   "metadata": {
    "colab_type": "text",
    "id": "U4Gb79QfChbu"
   },
   "source": [
    "### [5.5] Wordclouds of clusters obtained in the above section"
   ]
  },
  {
   "cell_type": "code",
   "execution_count": 66,
   "metadata": {},
   "outputs": [],
   "source": [
    "# https://stackoverflow.com/questions/16645799/how-to-create-a-word-cloud-from-a-corpus-in-python\n",
    "from wordcloud import WordCloud, STOPWORDS\n",
    "def show_wordcloud(data, title = None):\n",
    "    wordcloud = WordCloud(\n",
    "        background_color='white',\n",
    "        stopwords=stopwords,\n",
    "        max_words=200,\n",
    "        max_font_size=40,\n",
    "        scale=3,\n",
    "        random_state=1 # chosen at random by flipping a coin; it was heads\n",
    "    ).generate(str(data))\n",
    "\n",
    "    fig = plt.figure(1, figsize=(12, 12))\n",
    "    plt.axis('off')\n",
    "    if title: \n",
    "        fig.suptitle(title, fontsize=20)\n",
    "        fig.subplots_adjust(top=2.3)\n",
    "\n",
    "    plt.imshow(wordcloud)\n",
    "    plt.show()"
   ]
  },
  {
   "cell_type": "code",
   "execution_count": 67,
   "metadata": {
    "scrolled": false
   },
   "outputs": [
    {
     "name": "stdout",
     "output_type": "stream",
     "text": [
      "total number of word in cluster 0 is 2\n"
     ]
    },
    {
     "data": {
      "image/png": "[encoded data removed]",
      "text/plain": [
       "<Figure size 864x864 with 1 Axes>"
      ]
     },
     "metadata": {},
     "output_type": "display_data"
    },
    {
     "name": "stdout",
     "output_type": "stream",
     "text": [
      "total number of word in cluster 1 is 3\n"
     ]
    },
    {
     "data": {
      "image/png": "[encoded data removed]",
      "text/plain": [
       "<Figure size 864x864 with 1 Axes>"
      ]
     },
     "metadata": {},
     "output_type": "display_data"
    },
    {
     "name": "stdout",
     "output_type": "stream",
     "text": [
      "total number of word in cluster 2 is 1\n"
     ]
    },
    {
     "data": {
      "image/png": "[encoded data removed]",
      "text/plain": [
       "<Figure size 864x864 with 1 Axes>"
      ]
     },
     "metadata": {},
     "output_type": "display_data"
    },
    {
     "name": "stdout",
     "output_type": "stream",
     "text": [
      "total number of word in cluster 3 is 1\n"
     ]
    },
    {
     "data": {
      "image/png": "[encoded data removed]",
      "text/plain": [
       "<Figure size 864x864 with 1 Axes>"
      ]
     },
     "metadata": {},
     "output_type": "display_data"
    },
    {
     "name": "stdout",
     "output_type": "stream",
     "text": [
      "total number of word in cluster 4 is 1987\n"
     ]
    },
    {
     "data": {
      "image/png": "[encoded data removed]",
      "text/plain": [
       "<Figure size 864x864 with 1 Axes>"
      ]
     },
     "metadata": {},
     "output_type": "display_data"
    },
    {
     "name": "stdout",
     "output_type": "stream",
     "text": [
      "total number of word in cluster 5 is 1\n"
     ]
    },
    {
     "data": {
      "image/png": "[encoded data removed]",
      "text/plain": [
       "<Figure size 864x864 with 1 Axes>"
      ]
     },
     "metadata": {},
     "output_type": "display_data"
    },
    {
     "name": "stdout",
     "output_type": "stream",
     "text": [
      "total number of word in cluster 6 is 1\n"
     ]
    },
    {
     "data": {
      "image/png": "[encoded data removed]",
      "text/plain": [
       "<Figure size 864x864 with 1 Axes>"
      ]
     },
     "metadata": {},
     "output_type": "display_data"
    },
    {
     "name": "stdout",
     "output_type": "stream",
     "text": [
      "total number of word in cluster 7 is 2\n"
     ]
    },
    {
     "data": {
      "image/png": "[encoded data removed]",
      "text/plain": [
       "<Figure size 864x864 with 1 Axes>"
      ]
     },
     "metadata": {},
     "output_type": "display_data"
    },
    {
     "name": "stdout",
     "output_type": "stream",
     "text": [
      "total number of word in cluster 8 is 1\n"
     ]
    },
    {
     "data": {
      "image/png": "[encoded data removed]",
      "text/plain": [
       "<Figure size 864x864 with 1 Axes>"
      ]
     },
     "metadata": {},
     "output_type": "display_data"
    },
    {
     "name": "stdout",
     "output_type": "stream",
     "text": [
      "total number of word in cluster 9 is 1\n"
     ]
    },
    {
     "data": {
      "image/png": "[encoded data removed]",
      "text/plain": [
       "<Figure size 864x864 with 1 Axes>"
      ]
     },
     "metadata": {},
     "output_type": "display_data"
    }
   ],
   "source": [
    "# print word cloud of each cluster\n",
    "for i in range(kclusters.n_clusters):\n",
    "    l = list()\n",
    "    # Groups each label\n",
    "    label = data.groupby([\"clusters\"]).groups[i]\n",
    "    # store each word from a particular label in a list and pass it word cloud method\n",
    "    for j in range(len(label)):\n",
    "        l.append(data.loc[label[j]][\"Features\"])\n",
    "    print(\"total number of word in cluster {} is {}\".format(i, len(label)))    \n",
    "    show_wordcloud(l)"
   ]
  },
  {
   "cell_type": "markdown",
   "metadata": {
    "colab_type": "text",
    "id": "jXT2kiRgChb0"
   },
   "source": [
    "### [5.6] Function that returns most similar words for a given word."
   ]
  },
  {
   "cell_type": "code",
   "execution_count": 70,
   "metadata": {},
   "outputs": [],
   "source": [
    "#Obtaining the cosine similarity\n",
    "# Code reference = https://medium.com/swlh/truncated-singular-value-decomposition-svd-using-amazon-food-reviews-891d97af5d8d\n",
    "from sklearn.metrics.pairwise import cosine_similarity\n",
    "def similarWords(word,number = 20):\n",
    "    simi = cosine_similarity(da) # similarity matrix using cosine similarity\n",
    "    try:\n",
    "        word_vec = simi[top_2kf.index(word)] # vector for the given word\n",
    "        index = np.argsort(word_vec, axis= -1) # index of top words similar to the given word\n",
    "        similar_words_ = [] # list containing the top similar words\n",
    "        for x in index[:number]:\n",
    "            similar_words_.append(top_2kf[x])\n",
    "        print(\"%r most similar words to %r are given below\"%(number,word))\n",
    "        print(similar_words_)\n",
    "    except:\n",
    "        print(\"Please provide a different word.\")"
   ]
  },
  {
   "cell_type": "code",
   "execution_count": 71,
   "metadata": {},
   "outputs": [
    {
     "name": "stdout",
     "output_type": "stream",
     "text": [
      "10 most similar words to 'yell' are given below\n",
      "['echinacea', 'respected', 'purported', 'proteinate', 'martin', 'regiment', 'traits', 'ferrous', 'microscopic', 'reporting']\n"
     ]
    }
   ],
   "source": [
    "similarWords('yell',10)"
   ]
  },
  {
   "cell_type": "code",
   "execution_count": 75,
   "metadata": {},
   "outputs": [
    {
     "name": "stdout",
     "output_type": "stream",
     "text": [
      "10 most similar words to 'whisky' are given below\n",
      "['comprised', 'jalepeno', 'rejects', 'connecticut', 'saucer', 'tasters', 'pralines', 'cities', 'bha', 'refridgerator']\n"
     ]
    }
   ],
   "source": [
    "similarWords('whisky',10)"
   ]
  },
  {
   "cell_type": "code",
   "execution_count": 74,
   "metadata": {},
   "outputs": [
    {
     "name": "stdout",
     "output_type": "stream",
     "text": [
      "10 most similar words to 'kung' are given below\n",
      "['tunnel', 'witch', 'synthesis', 'wondeful', 'lysine', 'paella', 'knead', 'winn', 'activate', 'guayaki']\n"
     ]
    }
   ],
   "source": [
    "similarWords('kung',10)"
   ]
  },
  {
   "cell_type": "markdown",
   "metadata": {
    "colab_type": "text",
    "id": "jRkMCPCyChb6"
   },
   "source": [
    "# [6] Conclusions"
   ]
  },
  {
   "cell_type": "markdown",
   "metadata": {},
   "source": [
    "1) From the 2000 words we considered 1985 words formed as one cluster and other clusters are formed with just one or two words\n",
    "\n",
    "2) The results obtained from the similarWords for the word \"whisky\" are not from its cluster\n",
    "\n",
    "3) The optimal number of the components that explaine the maximum varience are 1000 components\n",
    "\n",
    "4) We used K-mean clustering to cluster the words. The optimal number of clusters to be formed is 10\n",
    "\n",
    "5) we might get better clustring results if we use TF-idf W2VEC and DBSCANE as the clustering methods"
   ]
  },
  {
   "cell_type": "code",
   "execution_count": null,
   "metadata": {},
   "outputs": [],
   "source": []
  }
 ],
 "metadata": {
  "colab": {
   "name": "11 Amazon Fine Food Reviews Analysis_Truncated SVD.ipynb",
   "provenance": [],
   "version": "0.3.2"
  },
  "kernelspec": {
   "display_name": "Python 3",
   "language": "python",
   "name": "python3"
  },
  "language_info": {
   "codemirror_mode": {
    "name": "ipython",
    "version": 3
   },
   "file_extension": ".py",
   "mimetype": "text/x-python",
   "name": "python",
   "nbconvert_exporter": "python",
   "pygments_lexer": "ipython3",
   "version": "3.6.5"
  }
 },
 "nbformat": 4,
 "nbformat_minor": 1
}
